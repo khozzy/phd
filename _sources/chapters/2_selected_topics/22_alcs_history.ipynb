{
 "cells": [
  {
   "cell_type": "code",
   "execution_count": 15,
   "metadata": {
    "pycharm": {
     "name": "#%%\n"
    },
    "tags": [
     "hide-input"
    ]
   },
   "outputs": [],
   "source": [
    "import gym\n",
    "import gym_maze  # noqa: F401\n",
    "import numpy as np\n",
    "import matplotlib.pyplot as plt\n",
    "\n",
    "import pathlib\n",
    "import random\n",
    "from itertools import groupby\n",
    "\n",
    "from myst_nb import glue\n",
    "from tabulate import tabulate\n",
    "from IPython.display import display, HTML\n",
    "\n",
    "from src.decorators import get_from_cache_or_run\n",
    "from lcs import Perception\n",
    "\n",
    "from src.visualization import PLOT_DPI\n",
    "from src.utils import build_plots_dir_path, build_cache_dir_path\n",
    "\n",
    "root_dir = pathlib.Path().cwd().parent.parent.parent\n",
    "cwd_dir_name = pathlib.Path().cwd().name\n",
    "\n",
    "plot_dir = build_plots_dir_path(root_dir) / cwd_dir_name\n",
    "cache_dir = build_cache_dir_path(root_dir) / cwd_dir_name\n",
    "\n",
    "plt.ioff();  # turn off interactive plotting"
   ]
  },
  {
   "cell_type": "markdown",
   "metadata": {},
   "source": [
    "# Road towards Anticipatory Learning Classifier Systems\n",
    "The concept of LCS was introduced by John Holland in 1975 {cite}`holland1975adaptation` to model the idea of cognition based on adaptive mechanisms. From the early days, they consist of a set of rules named _classifiers_ combined with mechanisms in charge of evolving them. Initially, the goal was to handle problems related to online interaction with external environments, as described by Wilson in {cite}`wilson1986knowledge`.\n",
    "\n",
    "To accomplish this, the emphasis was put on parallelism in the architecture and evolutionary mechanisms allowing the agent to adapt to potentially changing environments {cite}`goldberg1988genetic`. This approach was referenced as _“escaping brittleness”_ {cite}`holland1986escaping` due to the problems related to the lack of robustness of the current artificial intelligence systems.\n",
    "\n",
    "`````{margin}\n",
    "````{admonition} John Henry Holland\n",
    "```{image} ../../_static/John_Holland.jpg\n",
    "```\n",
    "\n",
    "[John H. Holland](https://en.wikipedia.org/wiki/John_Henry_Holland) is best known for his role as a founding father of the complex systems approach. In particular, he developed genetic algorithms and learning classifier systems.\n",
    "\n",
    "These foundational building blocks of an evolutionary optimization approach are now included in all texts on optimization and programming.\n",
    "````\n",
    "`````\n",
    "\n",
    "The naming convention used to refer to the LCS algorithm also changed since its infancy. Holland initially called it a classifier system, abbreviated either as (CS) or (CFS) {cite}`robertson1988tale`. From that time, it was also referred to as adaptive agents {cite}`holland1996hidden`, cognitive systems {cite}`holland1996hidden` and genetic-based machine learning {cite}`dam2007neural` , cognitive systems {cite}`holland1978cognitive` and genetic-based machine learning {cite}`dam2007neural` {cite}`goldberg1989`. The current name of LCS was not adopted until the late 80s {cite}`riolo1988empirical` after extending the architecture with a credit assignment component {cite}`holland1986escaping` {cite}`holland1986mathematical`.\n",
    "\n",
    "This section provides a synopsis of crucial LCS concepts alongside the most popular variants and their contributions to the field."
   ]
  },
  {
   "cell_type": "markdown",
   "metadata": {
    "pycharm": {
     "name": "#%% md\n"
    }
   },
   "source": [
    "## Selected topics of LCS\n",
    "### Rules and Classifiers\n",
    "LCS utilizes _rules_ as a fundamental block of modelling knowledge in a general form. It comprises a _condition_ (i.e. specified feature states) and an _action_ (also referred to as the class). They can be interpreted using the “IF condition THEN action” logical expression. The generalization property using the “do not care” symbol # is possible when the condition part is expressed with either boolean or nominal representation. Two input situations are considered equivalent for a given classifier if the specified (non-#) values in the condition match the corresponding attributes of the two situations.\n",
    "\n",
    "In addition to condition and action, a rule typically has many algorithm-related parameter values associated with it (like its performance or expected reward). The term _classifier_ is used to describe a rule and its associated parameters.\n",
    "\n",
    "It is essential to realize that LCS comprise a population of single rules that collaboratively seek to cover the problem space. The number of classifiers needed to solve the particular problem depends on factors like the problem complexity or rule representation used."
   ]
  },
  {
   "cell_type": "markdown",
   "metadata": {
    "pycharm": {
     "name": "#%% md\n"
    }
   },
   "source": [
    "### Driving Mechanisms\n",
    "There are two fundamental components behind every LCS algorithm - discovery and learning (credit assignment). Both of them have generated respective fields of study, but in the context of LCS, we wish to understand their function and purpose.\n",
    "\n",
    "**Discovery component**\n",
    "\n",
    "The discovery component is responsible for exploring the search space of the target problem to uncover new rules. A vast majority of LCS algorithms employ some form of Evolutionary Computation, most often a Genetic Algorithm (GA), employing the Neo-Darwinist theory of natural selection {cite}`bull2005foundations` {cite}`goldberg1989`. The evolution of rules is modelled after the evolution of organisms using the following biological analogies:\n",
    "\n",
    "1. a code is used to represent the genotype/genome (condition),\n",
    "2. a solution (phenotype) representation is associated with that genome (action),\n",
    "3. a phenotype selection process (survival of the fittest) - the fittest organism (rule) has the greatest chances of reproducing and passing parts of its genome to offspring,\n",
    "4. certain genetic genome operators are utilized in order to chase after fitter organisms (rules) {cite}`sigaud2007learning` {cite}`holmes1999learning`.\n",
    "\n",
    "Two genetic operators are typically used to alter genome (rule) - mutation and crossover (recombination). The first one randomly modifies an element in an individual's genotype (rule), while the latter recombine parts of two favourable genotypes (rules), creating a new one. The selection pressure driving better organisms (rules) to reproduce more frequently depends on the fitness function. The fitness function quantifies the optimality of a given rule, allowing it to be ranked across all rules in the entire population.\n",
    "\n",
    "GA implementation varies in particular LCS, but the overall scheme involves evaluating all available rules, selecting the most promising offsprings (according to fitness value), applying genetic operators, introducing new offspring back to the population set and finally removing surplus or under-performing individuals.\n",
    "\n",
    "**Learning component**\n",
    "\n",
    "As mentioned earlier, each classifier is accompanied by specific parameter values. The iterative update of them drives the process of LCS reinforcement by distributing any incoming reward signal to the classifiers that are accountable for it. This process serves two purposes:\n",
    "\n",
    "1. identification of classifiers responsible for obtaining large future rewards,\n",
    "2. encourage the discoverability of new rules (by directly affecting the fitness value)\n",
    "\n",
    "The learning strategy depends on the nature of the problem and is realized differently in LCS implementations. In all cases, however, the process is conducted through trial-and-error interactions with the environment, where the occasional immediate reward is used to generate the policy (state-action mapping of agent-environment interactions), maximizing long-term reward {cite}`sutton2018reinforcement` {cite}`harmon96reinforcementlearning` {cite}`richter2003reinforcement`.\n",
    "\n",
    "\n",
    "### Functional cycle\n",
    "The agent interacts with the environment in consecutive trials. Each trial consists of sequential steps usually executed as follows:\n",
    "\n",
    "1. Filter population $[P]$ and select classifiers where condition matches environmental perception forming a _match-set_ $[M]$.\n",
    "2. Determine the action that will be executed (depending on the strategy).\n",
    "3. Narrow down the match-set by selecting only classifiers advocating proposed action - create the _action-set_ $[A]$.\n",
    "4. Execute the action in the environment, obtaining a new state\n",
    "5. Refine classifiers by executing discovery and learning components.\n",
    "\n",
    "The action selection and classifiers evolution phases are implemented individually in different LCS, but the main objective of reaching the ideal generalization level is crucial to all of them. The system should find a population that covers the search space as compactly as possible without being detrimental to the optimality of behaviour.\n",
    "\n",
    "### Pittsburgh vs Michigan\n",
    "One of the most fundamental distinctions in LSC research is storing knowledge by using two different approaches - _Michigan-style_ or _Pittsburgh-style_. The first ones were proposed by Holland {cite}`holland1978cognitive` while the latter one by Kenneth DeJong and his student {cite}`smith1980learning` {cite}`smith1983flexible`.\n",
    "\n",
    "The fundamental discrepancy is the structure of an individual. In Michigan systems, each individual is a classifier; in Pittsburgh, each individual is a set of classifiers - see Figure {numref}`{number} <michigan-pittsburgh-fig>`.\n",
    "\n",
    ":::{figure-md} michigan-pittsburgh-fig\n",
    "<img src=\"../../_static/michigan_pittsburgh.png\">\n",
    "\n",
    "Differences between representing knowledge in both Michigan-style and Pittsburgh-style LCS. Figure taken from {cite}`bacardit2006learning`.\n",
    ":::\n",
    "\n",
    "Thus, the classifiers in Michigan-style LCS are being continuously evaluated and evolved, while in Pittsburgh-style LCS, the same process is much more complicated because the whole population needs to be assessed. Therefore, Michigan-style systems are typically applied in interactive, online learning problems, while Pittsburgh ones are rather suitable for offline learning {cite}`bacardit2006learning`.\n",
    "\n",
    "This work focuses solely on the first class of LCS."
   ]
  },
  {
   "cell_type": "markdown",
   "metadata": {
    "pycharm": {
     "name": "#%% md\n"
    }
   },
   "source": [
    "## Representative LCS\n",
    "This section describes Michigan-style LCS implementations contributing primarily to the current advancements."
   ]
  },
  {
   "cell_type": "markdown",
   "metadata": {
    "pycharm": {
     "name": "#%% md\n"
    }
   },
   "source": [
    "### CS-1\n",
    "Two years after presenting the theoretical model of CS, Holland and Reitman proposed its implementation of CS-1 {cite}`holland1978cognitive`. The system realized the Darwinian principle of the _survival of the fittest_ {cite}`samuel2000some` {cite}`holland1985properties` and was generating adaptive behaviour by maximizing reinforcement using the bucket brigade algorithm (BBA) {cite}`samuel2000some` {cite}`holland1985properties`.\n",
    "\n",
    "Some internal mechanisms like the usage of an internal message list (handling all input and output communications between the system and the environment and providing a makeshift memory) or interactions between evolving both single classifier and entire population were considered difficult {cite}`wilson1989critical` {cite}`goldberg1989`. Moreover, the obtained results were inconsistent, signifying the need for improvements.\n",
    "\n",
    "`````{margin}\n",
    "````{admonition} Steward Wilson\n",
    "```{image} ../../_static/steward_wilson.gif\n",
    "```\n",
    "\n",
    "[Steward Wilson](https://ieeexplore.ieee.org/author/37550361200) is an Independent Researcher in classifier systems and evolutionary computation.\n",
    "\n",
    "His PhD thesis investigated what would happen if a child could ask questions and receive excellent spoken answers from a machine that connected him to recordings made by a scientist such as Carl Sagan. The results showed long, thoughtful lines of inquiry for this student-driven learning style.\n",
    "````\n",
    "`````\n",
    "### ZCS\n",
    "The _Zeroth Level Classifier_ (ZCS) introduced by Wilson in 1994 {cite}`wilson1994zcs` encompasses all LCS components while simplifying the CS-1, increasing its understandability and performance. The significant change was the removal of the internal message list (determining the rule's format entirely by the system interface) alongside with rule-bidding credit assignment (replacing it with BBA/Q-learning {cite}`watkins1989learning` algorithm).\n",
    "\n",
    "Moreover, the classifier fitness was based on the accumulated reward that the agent can get from firing the classifier, giving rise to the _\"strength-based\"_ family of LCS. As a result, the discovery component eliminates classifiers providing less reward than others from the population.\n",
    "\n",
    "ZCS achieved similar performance to CS-1, demonstrating that Holland's idea could work even in a straightforward framework. However, the premature converge onto suboptimal rules before search space can be explored appropriately and a stable population formed led Wilson to consider other ways to achieve this.\n",
    "\n",
    "(section-topics-history-xcs)=\n",
    "### XCS\n",
    "In 1995 Wilson introduce yet another, groundbreaking modification called the _eXtended Classifier System_ (XCS) {cite}`wilson1995classifier` {cite}`wilson1998generalization` {cite}`wilson1999state` {cite}`butz2000algorithmic` noted for being able to reach optimal performance while evolving accurate and maximally general classifiers.\n",
    "\n",
    "The essential changes include:\n",
    "\n",
    "- rule fitness is based on the accuracy of predictions (forming the _accuracy-based_ LCS family),\n",
    "- replacement of panmictically acting GA with a _niche-GA_  {cite}`booker1985improving` (acting only in action set $[A]$ instead of globally $[P]$),\n",
    "- explicit generalization mechanism (_subsumption_),\n",
    "- an adaptation of Q-Learning credit assignment\n",
    "\n",
    "The XCS design drives it to form an all-inclusive and accurate representation of the problem space rather than focusing on higher payoff niches. Auspicious performance results showed that RL {cite}`sigaud2007learning` and LCS are not only linked but inherently overlapping, redefining LCSs as RL endowed with generalization capabilities {cite}`lanzi2005learning` {cite}`lanzi2008learning`. As a result, it becomes the most popular LCS implementation, guiding other system implementations heavily inspired by its architecture.\n"
   ]
  },
  {
   "cell_type": "markdown",
   "metadata": {
    "pycharm": {
     "name": "#%% md\n"
    }
   },
   "source": [
    "## Anticipatory Learning Classifier Systems\n",
    "The field of cognitive psychology initially guided the investigation about the presence and importance of anticipations. It was proved that \"higher\" animals form and exploit anticipations while adopting their behaviour in distinct tasks. Wilson noted that when simulating adaptive behaviour, the animats should be endowed with anticipations {cite}`wilson1991animat`. In traditional RL, the first approaches manifested in Dyna architecture {cite}`sutton2018reinforcement`, but due to the lack of generalization capabilities, its utilization was limited. The Anticipatory Learning Classifier Systems (ALCS) aims to bridge the gap for exploiting the generalization capabilities while including the explicit notion of anticipations.\n",
    "\n",
    "### CFCS2\n",
    "````{margin}\n",
    "```{admonition} Latent learning\n",
    "Learning without explicit reward feedback (e.g. learning a sequence of states based on actions taken and the following expected states).\n",
    "```\n",
    "````\n",
    "Riolo laid the first foundations towards including predictions in 1991 by introducing a modification called CFCS2 {cite}`riolo1991lookahead`. It addressed the task of performing \"latent learning\" or \"lookahead planning\" where _\"actions are based on predictions of future states of the world, using both current information and past experience as embodied in the agent's internal models of the world\"_ {cite}`lanzi2003recent`.\n",
    "\n",
    "CFCS2 used \"tags\" to specify if a current action posted to a message list refers to actual action or anticipation, claiming a reduction in the learning time for general sequential decision tasks. Riolo was able to show the possibilities of latent learning and lookahead planning, but the implicit formation of anticipations appeared to be misleading. Additionally, the CFCS2 did not achieve any generalization capabilities.\n",
    "\n",
    "### ACS\n",
    "The first system competent of evolving a maximally generalized, accurate and complete mapping of all possible situation-effect-action triples observable in the environment - the Anticipatory Classifier System (ACS) was introduced by Stolzmann in 1997 {cite}`stolzmann1997antizipative` {cite}`stolzmann1999introduction`.\n",
    "\n",
    "The rule structure was enhanced with an anticipatory or _effect_ part that explicitly anticipates the effects of an action in a given situation. The effect part could determine which attributes change after executing an action by using a \"pass-through\" symbol - $\\#$, which significantly enhances the rule's interpretability. In order to perform latent learning, forming and refining classifiers, a discovery component - the Anticipatory Learning Process (ALP) was introduced.\n",
    "\n",
    "````{margin}\n",
    "```{admonition} Perceptual aliasing\n",
    "Case when same observation is obtained in distinct states requiring different actions.\n",
    "```\n",
    "````\n",
    "ALP realizes the psychological Hoffmann's anticipatory behavioral control theory {cite}`herbart1825psychologie` {cite}`hoffmann1993vorhersage` stating that conditional action-effects relations are learned latently using anticipations, which he further refined in {cite}`hoffmann2000lernmechanismen`. The following points (visualised in Figure {numref}`{number} <abc-fig>`) can be distinguished:\n",
    "\n",
    "1. Any behavioural act or response ($R$) is accompanied by anticipation of its effects.\n",
    "2. The anticipations of the effects $E_{ant}$ are compared with the real effects $E_{real}$.\n",
    "3. When the anticipations are correct, the bond between response and anticipation is strengthened and weakened otherwise.\n",
    "4. Behavioural stimuli further differentiate the $R-E_{ant}$ relations.\n",
    "\n",
    "```{figure} ../../_static/abc.png\n",
    "---\n",
    "name: abc-fig\n",
    "---\n",
    "\n",
    "The theory of anticipatory behavioural control. Adapted from {cite}`hoffmann2000lernmechanismen`.\n",
    "```\n",
    "\n",
    "The proposed architecture was capable of solving multistep problems, planning, speeding up learning or disambiguating perceptual aliasing."
   ]
  },
  {
   "cell_type": "code",
   "execution_count": 16,
   "metadata": {
    "pycharm": {
     "name": "#%%\n"
    },
    "tags": [
     "hide-input"
    ]
   },
   "outputs": [
    {
     "data": {
      "application/papermill.record/image/png": "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\n",
      "application/papermill.record/text/plain": "<Figure size 1008x576 with 1 Axes>"
     },
     "metadata": {
      "scrapbook": {
       "mime_prefix": "application/papermill.record/",
       "name": "acs2_policy_fig"
      }
     },
     "output_type": "display_data"
    },
    {
     "data": {
      "application/papermill.record/text/plain": "322"
     },
     "metadata": {
      "scrapbook": {
       "mime_prefix": "application/papermill.record/",
       "name": "acs2_population_size"
      }
     },
     "output_type": "display_data"
    }
   ],
   "source": [
    "import lcs.agents.acs2 as acs2\n",
    "from lcs.metrics import population_metrics\n",
    "\n",
    "from typing import Optional, Tuple\n",
    "\n",
    "def maze_metrics(agent, env):\n",
    "    metrics = {}\n",
    "    metrics.update(population_metrics(agent.population, env))\n",
    "    return metrics\n",
    "\n",
    "acs2_base_params = {\n",
    "    'classifier_length': 8,\n",
    "    'number_of_possible_actions': 8,\n",
    "    'biased_exploration': 0,\n",
    "    'metrics_trial_frequency': 1,\n",
    "    'user_metrics_collector_fcn': maze_metrics\n",
    "}\n",
    "\n",
    "def run_acs2_explore_exploit(env, explore_trials, exploit_trials, **config):\n",
    "    cfg = acs2.Configuration(**config)\n",
    "\n",
    "    # explore phase\n",
    "    agent = acs2.ACS2(cfg)\n",
    "    metrics_explore = agent.explore(env, explore_trials)\n",
    "\n",
    "    # exploit phase\n",
    "    agent_exploit = acs2.ACS2(cfg, copy(agent.population))\n",
    "    metrics_exploit = agent_exploit.exploit(env, exploit_trials)\n",
    "\n",
    "    return (agent, metrics_explore), (agent_exploit, metrics_exploit)\n",
    "\n",
    "def find_best_classifier(population: acs2.ClassifiersList, situation: Perception) -> Optional[acs2.Classifier]:\n",
    "    match_set = population.form_match_set(situation)\n",
    "    anticipated_change_cls = [cl for cl in match_set if cl.does_anticipate_change()]\n",
    "\n",
    "    if len(anticipated_change_cls) > 0:\n",
    "        return max(anticipated_change_cls, key=lambda cl: cl.fitness)\n",
    "\n",
    "    return None\n",
    "\n",
    "def build_fitness_and_action_matrices(env, population) -> Tuple:\n",
    "    original = env.env.maze.matrix\n",
    "\n",
    "    fitness = original.copy()\n",
    "    action = original.copy().astype(str)\n",
    "\n",
    "    action_lookup = {\n",
    "        0: u'↑', 1: u'↗', 2: u'→', 3: u'↘',\n",
    "        4: u'↓', 5: u'↙', 6: u'←', 7: u'↖'\n",
    "    }\n",
    "\n",
    "    for index, x in np.ndenumerate(original):\n",
    "        if x == 0:  # path\n",
    "            perception = env.env.maze.perception(index)\n",
    "            best_cl = find_best_classifier(population, perception)\n",
    "\n",
    "            if best_cl:\n",
    "                fitness[index] = best_cl.fitness\n",
    "                action[index] = action_lookup[best_cl.action]\n",
    "            else:\n",
    "                fitness[index] = -1\n",
    "                action[index] = '?'\n",
    "\n",
    "        if x == 1:  # wall\n",
    "            fitness[index] = 0\n",
    "            action[index] = '\\#'\n",
    "\n",
    "        if x == 9:  # reward\n",
    "            # add 500 to make it more distinguishable\n",
    "            fitness[index] = fitness.max() + 500\n",
    "            action[index] = 'R'\n",
    "\n",
    "    return fitness, action\n",
    "\n",
    "def plot_policy(env, fitness_matrix, action_matrix, plot_filename=None):\n",
    "    fig, ax = plt.subplots(1, 1, figsize=(14, 8))\n",
    "\n",
    "    max_x, max_y = env.env.maze.matrix.shape\n",
    "\n",
    "    # Render maze as image\n",
    "    plt.imshow(fitness_matrix, interpolation='nearest', cmap='Reds', aspect='auto', extent=[0, max_x, max_y, 0])\n",
    "\n",
    "    # Add labels to each cell\n",
    "    for (y, x), val in np.ndenumerate(action_matrix):\n",
    "        plt.text(x + 0.4, y + 0.5, \"${}$\".format(val))\n",
    "\n",
    "    ax.set_title(\"ACS2 policy in Maze5 environment\", fontsize=24)\n",
    "    ax.set_xlabel('x', fontsize=18)\n",
    "    ax.set_ylabel('y', fontsize=18)\n",
    "    ax.set_xlim(0, max_x)\n",
    "    ax.set_ylim(max_y, 0)\n",
    "    ax.set_xticks(range(0, max_x))\n",
    "    ax.set_yticks(range(0, max_y))\n",
    "    ax.grid(True)\n",
    "\n",
    "    if plot_filename:\n",
    "        fig.savefig(plot_filename, dpi=PLOT_DPI)\n",
    "\n",
    "    return fig\n",
    "\n",
    "@get_from_cache_or_run(cache_path=f'{cache_dir}/acs2_maze5.dill')\n",
    "def run_acs2_in_maze5():\n",
    "    env = gym.make('Maze5-v0')\n",
    "    explore_phase, exploit_phase = run_acs2_explore_exploit(env, explore_trials=5000, exploit_trials=100, **acs2_base_params)\n",
    "    return env, explore_phase, exploit_phase\n",
    "\n",
    "# Run computation\n",
    "env_, explore_, exploit_ = run_acs2_in_maze5()\n",
    "\n",
    "# Plot the policy\n",
    "fitness_matrix, action_matrix = build_fitness_and_action_matrices(env_, explore_[0].population)\n",
    "acs2_policy_fig = plot_policy(env_, fitness_matrix, action_matrix, plot_filename=f'{plot_dir}/acs2-maze5-policy.png')\n",
    "\n",
    "glue('acs2_policy_fig', acs2_policy_fig, display=False)\n",
    "glue('acs2_population_size', len(explore_[0].population), display=False)"
   ]
  },
  {
   "cell_type": "markdown",
   "metadata": {},
   "source": [
    "### ACS2\n",
    "Later,  in  2002 Martin Butz  {cite}`butz2002anticipatory` {cite}`butz2001algorithmic`  extended ACS by introducing  a system named ACS2.  The  significant  changes  from  the  previous  version include\n",
    "\n",
    "- application of learning component across the whole action set $[A]$ (all classifiers from $[M]$ advocating selected action),\n",
    "- introduction of GA component,\n",
    "- condition-action-effect triples that anticipate no change in the environment are encompassed in population\n",
    "\n",
    "Experiments showed that the genetic generalization process in ACS2 decreased the population size and consequently sped up the computational process.\n",
    "\n",
    "Figure {numref}`{number} <acs2_policy_fig>` shows an example of RL policy generated by a population of {glue:}`acs2_population_size` classifiers trained over 5000 trials operating in popular Maze5 benchmarking problem. The model knows the consequences of each available action in every possible state; therefore, estimating the fitness value of each classifier can suggest the most promising action. The learning can be still optimized by using cognitive mechanisms like lookahead planning.\n",
    "\n",
    "```{glue:figure} acs2_policy_fig\n",
    ":name: \"acs2_policy_fig\"\n",
    "\n",
    "Policy generated by ACS2 in Maze5 environment. The saturation of the red colour reflects the best classifier fitness value. The agent is inserted randomly on the red field in each trial to reach the reward state \"R\" by executing eight possible actions.\n",
    "```\n",
    "\n",
    "The recent advancements include the integration of the action planning mechanism {cite}`unold2019introducing`, PEPACS extension where the concept of _Probability-Enhanced-Predictions_ is used for handling non-deterministic environments {cite}`orhand2020pepacs` or BACS tackling the issue of perceptual aliasing by building _Behavioral Sequences_ {cite}`orhand2020bacs`."
   ]
  },
  {
   "cell_type": "markdown",
   "metadata": {},
   "source": [
    "### YACS\n",
    "In the same year, 2002, Gérard introduced a “_Yet Another Classifier System_” (YACS) {cite}`gerard2002yacs`. It shares the same C-A-E classifier structure as ACS and ACS2, but the essential conceptual difference is that YACS is designed to decorrelate the acquisition of relevant $C$ and $E$ parts by building them independently using a set of heuristics. The latent learning process is designed to set the E parts to perceived changes in the environment and then discover relevant C parts. Moreover, it does not take advantage of genetic generalization mechanisms relying on the discovery process to determine significant attributes correctly.\n",
    "\n",
    "The evaluation was performed only in simple multistep maze environments reaching _near optimal_ solutions. The specialization process in YACS leads to less over-specialization than the corresponding process in ACS but still suffers from the lack of a dedicated generalization mechanism because of suboptimal rules. Additionally, the YACS cannot deal with uncertainty and operate only in Markov and deterministic environments."
   ]
  },
  {
   "cell_type": "code",
   "execution_count": 17,
   "metadata": {
    "pycharm": {
     "name": "#%%\n"
    },
    "tags": [
     "hide-input"
    ]
   },
   "outputs": [
    {
     "data": {
      "application/papermill.record/text/plain": "'009111000'"
     },
     "metadata": {
      "scrapbook": {
       "mime_prefix": "application/papermill.record/",
       "name": "maze228_perception"
      }
     },
     "output_type": "display_data"
    },
    {
     "data": {
      "application/papermill.record/text/plain": "211"
     },
     "metadata": {
      "scrapbook": {
       "mime_prefix": "application/papermill.record/",
       "name": "macs_maze228_population"
      }
     },
     "output_type": "display_data"
    }
   ],
   "source": [
    "import lcs.agents.macs.macs as macs\n",
    "\n",
    "maze228_env = gym.make('Maze228-v0')\n",
    "\n",
    "def _calculate_rotating_maze_knowledge(agent: macs.MACS, env):\n",
    "    transitions = env.env.transitions\n",
    "    covered_transitions = 0\n",
    "\n",
    "    for p0, a, p1 in transitions:\n",
    "        p0p = Perception(list(map(str, p0)))\n",
    "        p1p = Perception(list(map(str, p1)))\n",
    "        anticipations = list(agent.get_anticipations(p0p, a))\n",
    "\n",
    "        # accurate classifiers\n",
    "        if len(anticipations) == 1 and anticipations[0] == p1p:\n",
    "            covered_transitions += 1\n",
    "\n",
    "    return covered_transitions / len(transitions)\n",
    "\n",
    "def _macs_metrics(agent: macs.MACS, env):\n",
    "    population = agent.population\n",
    "    return {\n",
    "        'pop': len(population),\n",
    "        'situations': len(agent.desirability_values),\n",
    "        '0_cls': len([cl for cl in population if cl.action == 0 and cl.is_accurate]),\n",
    "        '1_cls': len([cl for cl in population if cl.action == 1 and cl.is_accurate]),\n",
    "        '2_cls': len([cl for cl in population if cl.action == 2 and cl.is_accurate]),\n",
    "        'knowledge': _calculate_rotating_maze_knowledge(agent, env)\n",
    "    }\n",
    "\n",
    "@get_from_cache_or_run(cache_path=f'{cache_dir}/macs_maze228.dill')\n",
    "def run_macs_in_maze228(env):\n",
    "    cfg = macs.Configuration(classifier_length=9,\n",
    "                        number_of_possible_actions=3,\n",
    "                        feature_possible_values=[{'0', '1', '9'}] * 8 + [{'0', '9'}],\n",
    "                        estimate_expected_improvements=True,\n",
    "                        metrics_trial_frequency=10,\n",
    "                        user_metrics_collector_fcn=_macs_metrics)\n",
    "\n",
    "    agent = macs.MACS(cfg)\n",
    "    metrics = agent.explore(env, 100)\n",
    "\n",
    "    return agent, metrics\n",
    "\n",
    "# run computations\n",
    "macs_agent, macs_metrics = run_macs_in_maze228(maze228_env)\n",
    "\n",
    "# visualization\n",
    "random.seed(129)  # found experimentally\n",
    "maze228_env.reset()\n",
    "left_from_reward = maze228_env.env.maze.perception()\n",
    "\n",
    "glue('maze228_perception', \"\".join(left_from_reward), display=False)\n",
    "glue('macs_maze228_population', len(macs_agent.population), display=False)"
   ]
  },
  {
   "cell_type": "markdown",
   "metadata": {},
   "source": [
    "### MACS\n",
    "Knowing certain limitations of ACS and YACS in 2005, Gérard proposed a new system _Modular Anticipatory Classifier System_ (MACS) {cite}`gerard2005combining`. He realised that specific problems would be better approached with a different representation of the rule formalism. While in ACS and YACS, generalisation and selective attention are afforded by the joint use of _don't care_ and _pass-through_ symbols, it can detect if a particular attribute is changing or not. The efficient representation of regularities across different attributes is impossible because each situation is considered an unsecable whole.\n",
    "\n",
    "The particularity of such regularity is that the new value of an attribute depends on the previous value of another one. To overcome this problem, the _pass-through_ symbol (#) in the expected situation $E$ was replaced with the _don't know_ symbol (?). This formalism allows decorrelating the attributes from $E$, where previously, the new value of an attribute may only depend upon the previous value of the same attribute.\n",
    "\n",
    "This modification resulted in specific rule representation and modified architecture for latent learning. Each time a match-set $[M]$ is built a rule for each attribute change is picked, and then the final anticipation is combined.\n",
    "\n",
    "The example of differences between rules is illustrated using the Maze228 problem {cite}`gerard2005combining`. The agent's goal is to obtain the final reward. It perceives its surroundings (wall - `1`, path - `0` or reward - `9`) using the clockwise vector of nine attributes and can execute three actions - step ahead - `0`, rotate left - `1` or rotate right - `2`. Assume that the current situation is depicted on the plot below, where the agent is located on the left of the reward, and its actual perception is {glue:}`maze228_perception`."
   ]
  },
  {
   "cell_type": "code",
   "execution_count": 18,
   "metadata": {
    "pycharm": {
     "name": "#%%\n"
    },
    "tags": [
     "hide-input"
    ]
   },
   "outputs": [
    {
     "name": "stdout",
     "output_type": "stream",
     "text": [
      "\n",
      "\u001B[30m■\u001B[0m \u001B[30m■\u001B[0m \u001B[30m■\u001B[0m \u001B[30m■\u001B[0m \u001B[30m■\u001B[0m \u001B[30m■\u001B[0m \u001B[30m■\u001B[0m\n",
      "\u001B[30m■\u001B[0m \u001B[37m□\u001B[0m \u001B[30m■\u001B[0m \u001B[37m□\u001B[0m \u001B[30m■\u001B[0m \u001B[37m□\u001B[0m \u001B[30m■\u001B[0m\n",
      "\u001B[30m■\u001B[0m \u001B[37m□\u001B[0m \u001B[37m□\u001B[0m \u001B[37m□\u001B[0m \u001B[37m□\u001B[0m \u001B[37m□\u001B[0m \u001B[30m■\u001B[0m\n",
      "\u001B[30m■\u001B[0m \u001B[37m□\u001B[0m \u001B[30m■\u001B[0m \u001B[30m■\u001B[0m \u001B[37m□\u001B[0m \u001B[37m□\u001B[0m \u001B[30m■\u001B[0m\n",
      "\u001B[30m■\u001B[0m \u001B[37m□\u001B[0m \u001B[30m■\u001B[0m \u001B[37m□\u001B[0m \u001B[37m□\u001B[0m \u001B[37m□\u001B[0m \u001B[30m■\u001B[0m\n",
      "\u001B[30m■\u001B[0m \u001B[37m□\u001B[0m \u001B[37m□\u001B[0m \u001B[37m□\u001B[0m \u001B[31mA\u001B[0m \u001B[33m$\u001B[0m \u001B[30m■\u001B[0m\n",
      "\u001B[30m■\u001B[0m \u001B[30m■\u001B[0m \u001B[30m■\u001B[0m \u001B[30m■\u001B[0m \u001B[30m■\u001B[0m \u001B[30m■\u001B[0m \u001B[30m■\u001B[0m\n"
     ]
    }
   ],
   "source": [
    "maze228_env.render()"
   ]
  },
  {
   "cell_type": "markdown",
   "metadata": {
    "pycharm": {
     "name": "#%% md\n"
    }
   },
   "source": [
    "After training, MACS represents complete knowledge about this environment using {glue:}`macs_maze228_population` classifiers. The final anticipation is obtained after combining particular classifiers selected for each action. This process for the examined environmental state is shown in the table below."
   ]
  },
  {
   "cell_type": "code",
   "execution_count": 66,
   "metadata": {
    "pycharm": {
     "name": "#%%\n"
    },
    "tags": [
     "hide-input"
    ]
   },
   "outputs": [
    {
     "data": {
      "text/html": [
       "<table>\n",
       "<thead>\n",
       "<tr><th style=\"text-align: right;\">                   </th><th style=\"text-align: right;\">                                                                                                                                                                                                                                                                                                                                                                                                                              Step ahead</th><th style=\"text-align: right;\">                                                                                                                                                                                                                                                                                                                                               Rotate left</th><th style=\"text-align: right;\">                                                                                                                                                                                                                                                                                                                                              Rotate right</th></tr>\n",
       "</thead>\n",
       "<tbody>\n",
       "<tr><td style=\"text-align: right;\"> <b>classifiers</b></td><td style=\"text-align: right;\"><code>0#9###### 0 0????????</code><br/><code>#0###10## 0 ?0???????</code><br/><code>0#9##1### 0 ?0???????</code><br/><code>#0####### 0 ??0??????</code><br/><code>0#9###### 0 ???9?????</code><br/><code>0######## 0 ????0????</code><br/><code>0#####0## 0 ?????0???</code><br/><code>#######0# 0 ??????0??</code><br/><code>##9###### 0 ??????0??</code><br/><code>##91#10## 0 ???????1?</code><br/><code>0######## 0 ????????0</code></td><td style=\"text-align: right;\"><code>######0## 1 0????????</code><br/><code>#######0# 1 ?0???????</code><br/><code>0######## 1 ??0??????</code><br/><code>#0####### 1 ???0?????</code><br/><code>##9###### 1 ????9????</code><br/><code>###1##### 1 ?????1???</code><br/><code>####1#### 1 ??????1??</code><br/><code>#####1### 1 ???????1?</code><br/><code>######### 1 ????????0</code></td><td style=\"text-align: right;\"><code>##9###### 2 9????????</code><br/><code>###1##### 2 ?1???????</code><br/><code>####1#### 2 ??1??????</code><br/><code>#####1### 2 ???1?????</code><br/><code>######0## 2 ????0????</code><br/><code>#######0# 2 ?????0???</code><br/><code>0######## 2 ??????0??</code><br/><code>#0####### 2 ???????0?</code><br/><code>######### 2 ????????0</code></td></tr>\n",
       "<tr><td style=\"text-align: right;\"><b>anticipation</b></td><td style=\"text-align: right;\">                                                                                                                                                                                                                                                                                                                                                                                                                  <code>000900010</code></td><td style=\"text-align: right;\">                                                                                                                                                                                                                                                                                                                                    <code>000091110</code></td><td style=\"text-align: right;\">                                                                                                                                                                                                                                                                                                                                    <code>911100000</code></td></tr>\n",
       "</tbody>\n",
       "</table>"
      ],
      "text/plain": [
       "<IPython.core.display.HTML object>"
      ]
     },
     "metadata": {},
     "output_type": "display_data"
    }
   ],
   "source": [
    "s = sorted(macs_agent.population.form_match_set(left_from_reward), key=lambda cl: cl.action)\n",
    "macs_knowledge = {}\n",
    "\n",
    "for action, group_cl in groupby(s, key=lambda cl: cl.action):\n",
    "    macs_knowledge[action] = {}\n",
    "    macs_knowledge[action]['anticipation'] = f'<code>{\"\".join([p for p in macs_agent.get_anticipations(left_from_reward, action)][0])}</code>'\n",
    "    macs_knowledge[action]['classifiers'] = []\n",
    "\n",
    "    for cl in sorted(group_cl, key=lambda cl: cl.effect):\n",
    "        macs_knowledge[action]['classifiers'].append(f'<code>{cl.condition} {cl.action} {cl.effect}</code>')\n",
    "\n",
    "# prepare table\n",
    "macs_table_data = [\n",
    "    ['<b>classifiers</b>', '<br/>'.join(macs_knowledge[0]['classifiers']), '<br/>'.join(macs_knowledge[1]['classifiers']), '<br/>'.join(macs_knowledge[2]['classifiers'])],\n",
    "    ['<b>anticipation</b>', macs_knowledge[0]['anticipation'], macs_knowledge[1]['anticipation'], macs_knowledge[2]['anticipation']],\n",
    "]\n",
    "\n",
    "macs_table = tabulate(macs_table_data, headers=['Step ahead', 'Rotate left', 'Rotate right'], tablefmt=\"unsafehtml\", stralign='right')\n",
    "display(HTML(macs_table))"
   ]
  },
  {
   "cell_type": "code",
   "execution_count": null,
   "metadata": {
    "pycharm": {
     "name": "#%%\n"
    },
    "tags": [
     "hide-input"
    ]
   },
   "outputs": [],
   "source": [
    "def _acs2_metrics(agent: acs2.ACS2, env):\n",
    "    population = agent.population\n",
    "    reliable = [cl for cl in population if cl.is_reliable()]\n",
    "    return {\n",
    "        'pop': len(population),\n",
    "        'rel': len(reliable)\n",
    "    }\n",
    "\n",
    "@get_from_cache_or_run(cache_path=f'{cache_dir}/acs2_maze228.dill')\n",
    "def run_acs2_in_maze228(env):\n",
    "    cfg = acs2.Configuration(classifier_length=9,\n",
    "                        number_of_possible_actions=3,\n",
    "                        metrics_trial_frequency=1,\n",
    "                        user_metrics_collector_fcn=_acs2_metrics,\n",
    "                        do_ga=False)\n",
    "\n",
    "    agent = acs2.ACS2(cfg)\n",
    "    metrics = agent.explore(env, 5000)\n",
    "\n",
    "    return agent, metrics\n",
    "\n",
    "acs2_agent, acs2_metrics = run_acs2_in_maze228(maze228_env)\n",
    "\n",
    "reliable_classifiers = [cl for cl in acs2_agent.population if cl.is_reliable()]\n",
    "\n",
    "glue('acs2_maze228_population', len(reliable_classifiers), display=False)"
   ]
  },
  {
   "cell_type": "markdown",
   "metadata": {},
   "source": [
    "On the other side, the ACS2 creates a much larger population of {glue:}`acs2_maze228_population` reliable classifiers. There is a single classifier describing the change of multiple attributes for each action. The anticipation in both cases is the same, but due to the specific nature of this problem, MACS results in an overall more compact internal model of the environment."
   ]
  },
  {
   "cell_type": "code",
   "execution_count": 74,
   "metadata": {
    "pycharm": {
     "name": "#%%\n"
    },
    "tags": [
     "hide-input"
    ]
   },
   "outputs": [
    {
     "data": {
      "text/html": [
       "<table>\n",
       "<thead>\n",
       "<tr><th style=\"text-align: right;\">                   </th><th style=\"text-align: right;\">                        Step ahead</th><th style=\"text-align: right;\">                       Rotate left</th><th style=\"text-align: right;\">                      Rotate right</th></tr>\n",
       "</thead>\n",
       "<tbody>\n",
       "<tr><td style=\"text-align: right;\"> <b>classifiers</b></td><td style=\"text-align: right;\"><code>##9111#0# 0 ##0900#1#</code></td><td style=\"text-align: right;\"><code>##911#00# 1 ##009#11#</code></td><td style=\"text-align: right;\"><code>009#11### 2 911#00###</code></td></tr>\n",
       "<tr><td style=\"text-align: right;\"><b>anticipation</b></td><td style=\"text-align: right;\">            <code>000900010</code></td><td style=\"text-align: right;\">            <code>000091110</code></td><td style=\"text-align: right;\">            <code>911100000</code></td></tr>\n",
       "</tbody>\n",
       "</table>"
      ],
      "text/plain": [
       "<IPython.core.display.HTML object>"
      ]
     },
     "metadata": {},
     "output_type": "display_data"
    }
   ],
   "source": [
    "acs2_knowledge = {}\n",
    "\n",
    "for cl in acs2_agent.population.form_match_set(left_from_reward):\n",
    "    acs2_knowledge[cl.action] = {}\n",
    "    acs2_knowledge[cl.action]['classifiers'] = []\n",
    "    acs2_knowledge[cl.action]['anticipation'] = f'<code>{\"\".join(cl.get_best_anticipation(left_from_reward))}</code>'\n",
    "\n",
    "    if cl.is_reliable():\n",
    "        acs2_knowledge[cl.action]['classifiers'].append(f'<code>{cl.condition} {cl.action} {cl.effect}</code>')\n",
    "\n",
    "\n",
    "# prepare table\n",
    "acs2_table_data = [\n",
    "    ['<b>classifiers</b>', '<br/>'.join(acs2_knowledge[0]['classifiers']), '<br/>'.join(acs2_knowledge[1]['classifiers']), '<br/>'.join(acs2_knowledge[2]['classifiers'])],\n",
    "    ['<b>anticipation</b>', acs2_knowledge[0]['anticipation'], acs2_knowledge[1]['anticipation'], acs2_knowledge[2]['anticipation']],\n",
    "]\n",
    "\n",
    "acs2_table = tabulate(acs2_table_data, headers=['Step ahead', 'Rotate left', 'Rotate right'], tablefmt=\"unsafehtml\", stralign='right')\n",
    "display(HTML(acs2_table))"
   ]
  }
 ],
 "metadata": {
  "celltoolbar": "Tags",
  "kernelspec": {
   "display_name": "Python 3 (ipykernel)",
   "language": "python",
   "name": "python3"
  },
  "language_info": {
   "codemirror_mode": {
    "name": "ipython",
    "version": 3
   },
   "file_extension": ".py",
   "mimetype": "text/x-python",
   "name": "python",
   "nbconvert_exporter": "python",
   "pygments_lexer": "ipython3",
   "version": "3.9.10"
  }
 },
 "nbformat": 4,
 "nbformat_minor": 1
}