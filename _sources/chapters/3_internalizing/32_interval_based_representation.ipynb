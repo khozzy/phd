{
 "cells": [
  {
   "cell_type": "markdown",
   "metadata": {
    "collapsed": true,
    "pycharm": {
     "name": "#%% md\n"
    }
   },
   "source": [
    "# Interval-based representation\n",
    "Describe rACS modification with real-valued alphabet encoding (UBR).\n",
    "\n",
    "## Experimental evaluation\n",
    "This section presents the motivation, goals and set-up of the performed experiments, as well as their results.\n",
    "\n",
    "## Research questions\n",
    "The conducted research aims to answers the following question regarding rACS algorithm and the interval based representation\n",
    "\n",
    "1. Can the rACS algorithm build the correct internal model of the environment and exploit it successfully?\n",
    "\n",
    "## Goals of the experiments\n",
    "\n",
    "```{admonition} _Experiment 1 - rMPX environment_\n",
    "rMPX size: 3 (encoder bits: 1, 2, 3, 4). Impact of increasing bits.\n",
    "```\n",
    "\n",
    "```{admonition} _Experiment 2 - Checkerboard environment_\n",
    "Average reward, classifeir numerosity, condition interval regions for 3x3 checkerboard, encoded with 4 bits.\n",
    "```\n",
    "\n",
    "\n",
    "## Experimental setup\n",
    "Info about algorithms, environments used, metrics collected, methods, reproducibility, statistical verification\n",
    "\n",
    "## Observations\n",
    "What conclusions can be drawn?\n",
    "\n",
    "## Answers to research questions\n",
    "..."
   ]
  }
 ],
 "metadata": {
  "kernelspec": {
   "display_name": "Python 3",
   "language": "python",
   "name": "python3"
  },
  "language_info": {
   "codemirror_mode": {
    "name": "ipython",
    "version": 2
   },
   "file_extension": ".py",
   "mimetype": "text/x-python",
   "name": "python",
   "nbconvert_exporter": "python",
   "pygments_lexer": "ipython2",
   "version": "2.7.6"
  }
 },
 "nbformat": 4,
 "nbformat_minor": 0
}