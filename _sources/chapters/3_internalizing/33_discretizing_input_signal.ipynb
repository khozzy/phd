{
 "cells": [
  {
   "cell_type": "markdown",
   "metadata": {
    "collapsed": true,
    "pycharm": {
     "name": "#%% md\n"
    }
   },
   "source": [
    "# Discretizing input signal\n",
    "Describe discretization workflow chosen (bucketing/hashing). Discretization can be done by dividing each attribute into fixed sized bucket or by providing custom configuration. maybe also add something about the hashing?\n",
    "\n",
    "## Experimental evaluation\n",
    "This section presents the motivation, goals and set-up of the performed experiments, as well as their results.\n",
    "\n",
    "## Research questions\n",
    "The conducted research aims to answers three main questions about bucketing discretization:\n",
    "\n",
    "1. Can popular ALCS systems build the internal model of the environment when discretizing the real-valued input signal into fixed-width buckets?\n",
    "2. Which system creates the most compact and general population of classifiers?\n",
    "3. What is the relative trial execution time for each evaluated system?\n",
    "4. How selected  systems relates to the benchmark Dyna-Q algorithm?\n",
    "\n",
    "## Goals of the experiments\n",
    "The goal of the experiment is to evaluate the performance of selected ALCS agents (ACS, ACS2, YACS) discretized into fixed-width buckets\n",
    "\n",
    "\n",
    "```{admonition} _Experiment 3 - Single step_\n",
    "The aim of this experiments is to determine the behaviour using the [](section-topics-environments-corridor).\n",
    "```\n",
    "\n",
    "```{admonition} _Experiment 4 - Multistep environments_\n",
    "[](section-topics-environments-corridor) and [](section-topics-environments-grid) environments.\n",
    "```\n",
    "\n",
    "\n",
    "## Answers to research questions\n",
    "..."
   ]
  }
 ],
 "metadata": {
  "kernelspec": {
   "display_name": "Python 3",
   "language": "python",
   "name": "python3"
  },
  "language_info": {
   "codemirror_mode": {
    "name": "ipython",
    "version": 2
   },
   "file_extension": ".py",
   "mimetype": "text/x-python",
   "name": "python",
   "nbconvert_exporter": "python",
   "pygments_lexer": "ipython2",
   "version": "2.7.6"
  }
 },
 "nbformat": 4,
 "nbformat_minor": 0
}