{
 "cells": [
  {
   "cell_type": "code",
   "execution_count": 3,
   "metadata": {
    "pycharm": {
     "name": "#%%\n"
    },
    "tags": [
     "hide-input"
    ]
   },
   "outputs": [],
   "source": [
    "import sys\n",
    "\n",
    "# put custom scripts to module path\n",
    "sys.path.append('../../..')"
   ]
  },
  {
   "cell_type": "code",
   "execution_count": 4,
   "metadata": {
    "pycharm": {
     "name": "#%%\n"
    },
    "tags": [
     "hide-input"
    ]
   },
   "outputs": [],
   "source": [
    "import logging\n",
    "\n",
    "logging.basicConfig(level=logging.WARN, format='%(relativeCreated)6d %(threadName)s %(message)s')\n",
    "\n",
    "import gym\n",
    "from typing import List\n",
    "import pandas as pd\n",
    "import matplotlib.pyplot as plt\n",
    "import matplotlib.ticker as mtick\n",
    "\n",
    "import pathlib\n",
    "from src.decorators import repeat, get_from_cache_or_run\n",
    "from src.metrics import parse_experiments_results\n",
    "\n",
    "from lcs.agents.acs2 import Configuration, ACS2\n",
    "from lcs.metrics import population_metrics\n",
    "from lcs.strategies.action_selection import EpsilonGreedy, ActionDelay, KnowledgeArray\n",
    "\n",
    "\n",
    "import gym_multiplexer  # noqa: F401\n",
    "\n",
    "plt.ioff()  # turn off interactive plotting\n",
    "\n",
    "cache_dir = f'{pathlib.Path().absolute()}/cache'\n",
    "plot_dir = f'{pathlib.Path().absolute()}/plots'\n",
    "\n",
    "NUM_EXPERIMENTS = 50\n",
    "\n",
    "\n",
    "def run_experiment(env_provider, explore_trials, exploit_trials, **conf):\n",
    "    env = env_provider()\n",
    "    env.reset()\n",
    "\n",
    "    cfg = Configuration(**conf)\n",
    "\n",
    "    explorer = ACS2(cfg)\n",
    "    metrics_explore = explorer.explore(env, explore_trials)\n",
    "\n",
    "    exploiter = ACS2(cfg, explorer.population)\n",
    "    metrics_exploit = explorer.exploit(env, exploit_trials)\n",
    "\n",
    "    # Parse results into DataFrame\n",
    "    metrics_df = parse_experiments_results(metrics_explore, metrics_exploit, cfg.metrics_trial_frequency)\n",
    "\n",
    "    return metrics_df\n",
    "\n",
    "\n",
    "def run_alternating_experiment(env_provider, trials, **conf):\n",
    "    env = env_provider()\n",
    "    env.reset()\n",
    "\n",
    "    cfg = Configuration(**conf)\n",
    "\n",
    "    agent = ACS2(cfg)\n",
    "    metrics = agent.explore_exploit(env, trials)\n",
    "\n",
    "    # parse metrics\n",
    "    lst = [[d['trial'], d['reward'], d['population'], d['reliable']] for d in metrics]\n",
    "    df = pd.DataFrame(lst, columns=['trial', 'reward', 'population', 'reliable'])\n",
    "\n",
    "    # df = df.set_index('trial')\n",
    "    df['phase'] = df.index.map(lambda t: \"explore\" if t % 2 == 0 else \"exploit\")\n",
    "\n",
    "    return df\n",
    "\n",
    "\n",
    "def average_experiment_runs(runs_dfs: List[pd.DataFrame]) -> pd.DataFrame:\n",
    "    return pd.concat(runs_dfs).groupby(['trial', 'phase']).mean().reset_index(level='phase')\n"
   ]
  },
  {
   "cell_type": "markdown",
   "metadata": {
    "collapsed": true,
    "pycharm": {
     "name": "#%% md\n"
    }
   },
   "source": [
    "# Biased exploration\n",
    "\n",
    "Increase the speed of gaining knowledge by determining the most valuable regions of the input-space. Tell why it is important for for the real-valued case. Describe the action selection, methods (epsilon-greedy, action delay, knowledge-array and OIQ - novel).\n",
    "\n",
    "## Experimental evaluation\n",
    "This section presents the motivation, goals and set-up of the performed experiments, as well as their results.\n",
    "\n",
    "## Research questions\n",
    "The conducted research aims to answer the following question regarding rACS algorithm and the interval based representation\n",
    "\n",
    "1. Does the biased exploration methods (AD, KA, OIQ) have the significantly accelerate agent's learning speed?\n",
    "2. Can the OIQ method improve the performance in terms of ingesting knowledge or reducing classifier population size?\n",
    "\n",
    "## Goals of the experiments\n",
    "\n",
    "```{admonition} _Experiment 1 - Performance in simple multi-steps environments (Corridor, Grid)_\n",
    "Show the difference between EG, AD, KA and OIQ using the classifier population, knowledge and step size metrics using ACS2 agent.\n",
    "```\n",
    "\n",
    "```{admonition} _Experiment 2 - Performance in single-step rMPX_\n",
    "Show the difference between EG, AD, KA and OIQ  using the average obtained reward and reliable classifiers count using ACS2 agent.\n",
    "```\n",
    "\n",
    "```{admonition} _Experiment 3 - Performance in demanding CartPole environment_\n",
    "Show the difference between EG, AD, KA and OIQ  using the average obtained reward and reliable classifiers count using ACS2 agent.\n",
    "```"
   ]
  },
  {
   "cell_type": "markdown",
   "source": [
    "## Experiments\n",
    "\n",
    "```{tableofcontents}\n",
    "```"
   ],
   "metadata": {
    "collapsed": false,
    "pycharm": {
     "name": "#%% md\n"
    }
   }
  },
  {
   "cell_type": "markdown",
   "source": [
    "## Answers to research questions\n",
    "..."
   ],
   "metadata": {
    "collapsed": false,
    "pycharm": {
     "name": "#%% md\n"
    }
   }
  },
  {
   "cell_type": "markdown",
   "metadata": {
    "pycharm": {
     "name": "#%% md\n"
    }
   },
   "source": []
  },
  {
   "cell_type": "markdown",
   "metadata": {
    "pycharm": {
     "name": "#%% md\n"
    }
   },
   "source": [
    "---\n",
    "\n",
    "**Software packages used**"
   ]
  },
  {
   "cell_type": "code",
   "execution_count": 5,
   "metadata": {
    "pycharm": {
     "name": "#%%\n"
    },
    "tags": [
     "remove-input"
    ]
   },
   "outputs": [
    {
     "data": {
      "text/plain": "<IPython.core.display.HTML object>",
      "text/html": "<details>\n<summary>Click to view session information</summary>\n<pre>\n-----\ngym                 0.21.0\ngym_multiplexer     NA\nlcs                 NA\nmatplotlib          3.5.0\npandas              1.3.1\npydev_jupyter_utils NA\npydev_jupyter_vars  NA\nsession_info        1.0.0\nsrc                 (embedded book's utils module)\n-----\n</pre>\n<details>\n<summary>Click to view modules imported as dependencies</summary>\n<pre>\nPIL                 8.4.0\nbackcall            0.2.0\nbitstring           3.1.7\nbrotli              NA\ncertifi             2021.10.08\ncffi                1.14.6\ncharset_normalizer  2.0.4\nclick               7.1.2\ncloudpickle         2.0.0\ncolorama            0.4.4\ncolorful            0.5.4\ncolorful_orig       0.5.4\ncryptography        36.0.0\ncycler              0.10.0\ncython_runtime      NA\ndatabricks_cli      NA\ndateutil            2.8.2\ndebugpy             1.5.1\ndecorator           5.1.0\ndefusedxml          0.7.1\ndill                0.3.4\nentrypoints         0.3\nfilelock            3.4.2\ngoogle              NA\ngrpc                1.43.0\nhiredis             2.0.0\nidna                3.3\nimportlib_metadata  NA\nipykernel           6.4.1\nipython_genutils    0.2.0\njedi                0.18.0\nkiwisolver          1.3.1\nmatplotlib_inline   NA\nmkl                 2.4.0\nmlflow              1.22.0\nmpl_toolkits        NA\nmsgpack             1.0.2\nnumpy               1.21.2\npackaging           21.3\nparso               0.8.3\npexpect             4.8.0\npickleshare         0.7.5\npkg_resources       NA\nprompt_toolkit      3.0.20\npsutil              5.8.0\nptyprocess          0.7.0\npydevconsole        NA\npydevd_file_utils   NA\npydevd_plugins      NA\npyexpat             NA\npygments            2.10.0\npyparsing           3.0.4\npytz                2021.3\nray                 1.9.2\nredis               4.1.1\nrequests            2.27.1\nsetproctitle        1.2.2\nsix                 1.16.0\nsocks               1.7.1\nsphinxcontrib       NA\nstoremagic          NA\ntornado             6.1\ntqdm                4.62.3\ntraitlets           5.1.1\ntyping_extensions   NA\nurllib3             1.26.7\nwcwidth             0.2.5\nyaml                6.0\nzipp                NA\nzmq                 22.3.0\n</pre>\n</details> <!-- seems like this ends pre, so might as well be explicit -->\n<pre>\n-----\nIPython             7.29.0\njupyter_client      7.1.0\njupyter_core        4.9.1\nnotebook            6.4.6\n-----\nPython 3.9.6 (default, Aug 18 2021, 19:38:01) [GCC 7.5.0]\nLinux-5.13.0-25-generic-x86_64-with-glibc2.31\n-----\nSession information updated at 2022-01-19 18:30\n</pre>\n</details>"
     },
     "execution_count": 5,
     "metadata": {},
     "output_type": "execute_result"
    }
   ],
   "source": [
    "import session_info\n",
    "session_info.show()"
   ]
  }
 ],
 "metadata": {
  "celltoolbar": "Tags",
  "kernelspec": {
   "display_name": "Python 3 (ipykernel)",
   "language": "python",
   "name": "python3"
  },
  "language_info": {
   "codemirror_mode": {
    "name": "ipython",
    "version": 3
   },
   "file_extension": ".py",
   "mimetype": "text/x-python",
   "name": "python",
   "nbconvert_exporter": "python",
   "pygments_lexer": "ipython3",
   "version": "3.9.6"
  }
 },
 "nbformat": 4,
 "nbformat_minor": 1
}