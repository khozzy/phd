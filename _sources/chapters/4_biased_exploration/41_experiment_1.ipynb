{
 "cells": [
  {
   "cell_type": "code",
   "execution_count": 6,
   "metadata": {
    "collapsed": true,
    "tags": [
     "hide-input"
    ]
   },
   "outputs": [],
   "source": [
    "import sys\n",
    "\n",
    "# put custom scripts to module path\n",
    "sys.path.append('../../..')"
   ]
  },
  {
   "cell_type": "code",
   "execution_count": 7,
   "metadata": {
    "pycharm": {
     "name": "#%%\n"
    },
    "tags": [
     "hide-input"
    ]
   },
   "outputs": [],
   "source": [
    "from lcs.agents.acs2 import Configuration, ACS2\n",
    "from src.decorators import repeat, get_from_cache_or_run\n",
    "from src.metrics import parse_experiments_results, corridor_transition_knowledge, grid_transition_knowledge\n",
    "from src.visualization import biased_exploration_colors, PLOT_DPI\n",
    "from lcs.metrics import population_metrics\n",
    "from lcs.strategies.action_selection import EpsilonGreedy, ActionDelay, KnowledgeArray\n",
    "\n",
    "from typing import List\n",
    "\n",
    "import matplotlib.pyplot as plt\n",
    "import matplotlib.ticker as mtick\n",
    "import pandas as pd\n",
    "import gym\n",
    "import pathlib\n",
    "\n",
    "NUM_EXPERIMENTS = 50\n",
    "COLORS = biased_exploration_colors()\n",
    "\n",
    "plt.ioff()  # turn off interactive plotting\n",
    "\n",
    "cache_dir = f'{pathlib.Path().absolute()}/cache'\n",
    "plot_dir = f'{pathlib.Path().absolute()}/plots'\n",
    "\n",
    "\n",
    "def run_experiment(env_provider, explore_trials, exploit_trials, **conf):\n",
    "    env = env_provider()\n",
    "    env.reset()\n",
    "\n",
    "    cfg = Configuration(**conf)\n",
    "\n",
    "    explorer = ACS2(cfg)\n",
    "    metrics_explore = explorer.explore(env, explore_trials)\n",
    "\n",
    "    exploiter = ACS2(cfg, explorer.population)\n",
    "    metrics_exploit = explorer.exploit(env, exploit_trials)\n",
    "\n",
    "    # Parse results into DataFrame\n",
    "    metrics_df = parse_experiments_results(metrics_explore, metrics_exploit, cfg.metrics_trial_frequency)\n",
    "\n",
    "    return metrics_df\n",
    "\n",
    "\n",
    "def average_experiment_runs(runs_dfs: List[pd.DataFrame]) -> pd.DataFrame:\n",
    "    return pd.concat(runs_dfs).groupby(['trial', 'phase']).mean().reset_index(level='phase')\n",
    "\n",
    "\n",
    "def plot(epsilon_greedy_df, action_delay_df, knowledge_array_df, op_initial_df,\n",
    "         env_name,\n",
    "         num_explore_trials,\n",
    "         first_knowledge_trials,\n",
    "         first_population_trials,\n",
    "         population_ylim,\n",
    "         text_box_loc,\n",
    "         plot_filename=None):\n",
    "\n",
    "    fig = plt.figure(figsize=(14, 8))\n",
    "\n",
    "    # Layout\n",
    "    gs = fig.add_gridspec(2, 2, wspace=.25, hspace=.4)\n",
    "    ax1 = fig.add_subplot(gs[0, 0])\n",
    "    ax2 = fig.add_subplot(gs[0, 1])\n",
    "    ax3 = fig.add_subplot(gs[1, :])\n",
    "\n",
    "    # Global title\n",
    "    fig.suptitle(f'Performance of [{env_name}] environment', fontsize=24)\n",
    "\n",
    "    # Knowledge\n",
    "    epsilon_greedy_df['knowledge'][:first_knowledge_trials].plot(label='Epsilon Greedy', c=COLORS['eg'], ax=ax1)\n",
    "    action_delay_df['knowledge'][:first_knowledge_trials].plot(label='Action Delay', c=COLORS['ad'], ax=ax1)\n",
    "    knowledge_array_df['knowledge'][:first_knowledge_trials].plot(label='Knowledge Array', c=COLORS['ka'], ax=ax1)\n",
    "    op_initial_df['knowledge'][:first_knowledge_trials].plot(label='Optimistic Initial Quality', c=COLORS['oiq'],\n",
    "                                                             ax=ax1)\n",
    "\n",
    "    ax1.spines['top'].set_visible(False)\n",
    "    ax1.spines['right'].set_visible(False)\n",
    "    ax1.set_title('Knowledge')\n",
    "    ax1.set_xlabel('Trial')\n",
    "    ax1.set_ylabel('Knowledge')\n",
    "    ax1.axhline(y=100, color='black', linewidth=1, linestyle=\"--\")\n",
    "    ax1.yaxis.set_major_formatter(mtick.PercentFormatter())\n",
    "\n",
    "    # Population\n",
    "    epsilon_greedy_df['population'][:first_population_trials].plot(label='Epsilon Greedy', c=COLORS['eg'], ax=ax2)\n",
    "    action_delay_df['population'][:first_population_trials].plot(label='Action Delay', c=COLORS['ad'], ax=ax2)\n",
    "    knowledge_array_df['population'][:first_population_trials].plot(label='Knowledge Array', c=COLORS['ka'], ax=ax2)\n",
    "    op_initial_df['population'][:first_population_trials].plot(label='Optimistic Initial Quality', c=COLORS['oiq'],\n",
    "                                                               ax=ax2)\n",
    "\n",
    "    ax2.spines['top'].set_visible(False)\n",
    "    ax2.spines['right'].set_visible(False)\n",
    "    ax2.set_xlabel('Trial')\n",
    "    ax2.set_ylabel('Classifiers')\n",
    "    ax2.set_title('Classifiers Population')\n",
    "    ax2.set_ylim(population_ylim)\n",
    "    ax2.xaxis.set_major_formatter(mtick.FormatStrFormatter('%.0f'))\n",
    "    ax2.yaxis.set_major_formatter(mtick.FormatStrFormatter('%.0f'))\n",
    "\n",
    "    # Steps in trial\n",
    "    window = 3  # window for moving average\n",
    "    epsilon_greedy_df['steps_in_trial'].rolling(window=window).mean().plot(label='Epsilon Greedy', c=COLORS['eg'],\n",
    "                                                                           ax=ax3)\n",
    "    action_delay_df['steps_in_trial'].rolling(window=window).mean().plot(label='Action Delay', c=COLORS['ad'], ax=ax3)\n",
    "    knowledge_array_df['steps_in_trial'].rolling(window=window).mean().plot(label='Knowledge Array', c=COLORS['ka'],\n",
    "                                                                            ax=ax3)\n",
    "    op_initial_df['steps_in_trial'].rolling(window=window).mean().plot(label='Optimistic Initial Quality',\n",
    "                                                                       c=COLORS['oiq'], ax=ax3)\n",
    "\n",
    "    ax3.spines['top'].set_visible(False)\n",
    "    ax3.spines['right'].set_visible(False)\n",
    "    ax3.set_xlabel('Trial')\n",
    "    ax3.set_ylabel('Steps')\n",
    "    ax3.set_title('Steps in trial')\n",
    "    ax3.axvline(x=num_explore_trials, color='black', linewidth=1, linestyle=\"--\")\n",
    "    ax3.text(**text_box_loc, s=f'Moving average of {window} samples', style='italic',\n",
    "             bbox={'facecolor': 'red', 'alpha': 0.2, 'pad': 10})\n",
    "\n",
    "    # Create legend\n",
    "    handles, labels = ax3.get_legend_handles_labels()\n",
    "    fig.legend(handles, labels, loc='lower center', ncol=4)\n",
    "\n",
    "    if plot_filename:\n",
    "        fig.savefig(plot_filename, dpi=PLOT_DPI)"
   ]
  },
  {
   "cell_type": "markdown",
   "metadata": {
    "pycharm": {
     "name": "#%% md\n"
    }
   },
   "source": [
    "# Experiment 1 - Multi-steps problems performance"
   ]
  },
  {
   "cell_type": "markdown",
   "metadata": {
    "pycharm": {
     "name": "#%% md\n"
    }
   },
   "source": [
    "## Setup"
   ]
  },
  {
   "cell_type": "markdown",
   "metadata": {},
   "source": [
    "### Corridor"
   ]
  },
  {
   "cell_type": "code",
   "execution_count": 8,
   "metadata": {
    "pycharm": {
     "name": "#%%\n"
    },
    "tags": [
     "hide-input"
    ]
   },
   "outputs": [],
   "source": [
    "import gym_corridor  # noqa: F401\n",
    "from src.observation_wrappers import CorridorObservationWrapper\n",
    "\n",
    "# Function for calculating relevant metrics\n",
    "def corridor_metrics(agent, env):\n",
    "    pop = agent.population\n",
    "    metrics = {\n",
    "        'knowledge': corridor_transition_knowledge(pop, env)\n",
    "    }\n",
    "    metrics.update(population_metrics(pop, env))\n",
    "    return metrics\n",
    "\n",
    "\n",
    "def corridor_env_provider():\n",
    "    return CorridorObservationWrapper(gym.make(f'corridor-20-v0'))\n",
    "\n",
    "\n",
    "corridor_base_params = {\n",
    "    \"classifier_length\": 1,\n",
    "    \"number_of_possible_actions\": 2,\n",
    "    \"epsilon\": 0.8,\n",
    "    \"beta\": 0.2,\n",
    "    \"gamma\": 0.95,\n",
    "    \"initial_q\": 0.5,\n",
    "    \"theta_exp\": 50,\n",
    "    \"theta_ga\": 50,\n",
    "    \"do_ga\": True,\n",
    "    \"mu\": 0.03,\n",
    "    \"u_max\": 1,\n",
    "    \"metrics_trial_frequency\": 1,\n",
    "    \"user_metrics_collector_fcn\": corridor_metrics\n",
    "}\n",
    "\n",
    "# Start experiments\n",
    "corridor_explore_trials, corridor_exploit_trials = 60, 20\n",
    "\n",
    "@get_from_cache_or_run(cache_path=f'{cache_dir}/corridor/epsilon_greedy.dill')\n",
    "@repeat(num_times=NUM_EXPERIMENTS)\n",
    "def corridor_epsilon_greedy():\n",
    "    return run_experiment(corridor_env_provider,\n",
    "                          corridor_explore_trials,\n",
    "                          corridor_exploit_trials,\n",
    "                          **(corridor_base_params | {'action_selector': EpsilonGreedy}))\n",
    "\n",
    "\n",
    "@get_from_cache_or_run(cache_path=f'{cache_dir}/corridor/action_delay.dill')\n",
    "@repeat(num_times=NUM_EXPERIMENTS)\n",
    "def corridor_action_delay():\n",
    "    return run_experiment(corridor_env_provider,\n",
    "                          corridor_explore_trials,\n",
    "                          corridor_exploit_trials,\n",
    "                          **(corridor_base_params | {'action_selector': ActionDelay,\n",
    "                                                     'biased_exploration_prob': 0.5}))\n",
    "\n",
    "\n",
    "@get_from_cache_or_run(cache_path=f'{cache_dir}/corridor/knowledge_array.dill')\n",
    "@repeat(num_times=NUM_EXPERIMENTS)\n",
    "def corridor_knowledge_array():\n",
    "    return run_experiment(corridor_env_provider,\n",
    "                          corridor_explore_trials,\n",
    "                          corridor_exploit_trials,\n",
    "                          **(corridor_base_params | {'action_selector': KnowledgeArray,\n",
    "                                                     'biased_exploration_prob': 0.5}))\n",
    "\n",
    "\n",
    "@get_from_cache_or_run(cache_path=f'{cache_dir}/corridor/oiq.dill')\n",
    "@repeat(num_times=NUM_EXPERIMENTS)\n",
    "def corridor_oiq():\n",
    "    return run_experiment(corridor_env_provider,\n",
    "                          corridor_explore_trials,\n",
    "                          corridor_exploit_trials,\n",
    "                          **(corridor_base_params | {'action_selector': EpsilonGreedy,\n",
    "                                                     'biased_exploration_prob': 0.8}))"
   ]
  },
  {
   "cell_type": "markdown",
   "metadata": {
    "pycharm": {
     "name": "#%% md\n"
    }
   },
   "source": [
    "### Grid"
   ]
  },
  {
   "cell_type": "code",
   "execution_count": 9,
   "metadata": {
    "pycharm": {
     "name": "#%%\n"
    },
    "tags": [
     "hide-input"
    ]
   },
   "outputs": [],
   "source": [
    "import gym_grid  # noqa: F401\n",
    "\n",
    "# Function for calculating relevant metrics\n",
    "def grid_metrics(agent, env):\n",
    "    pop = agent.population\n",
    "    metrics = {\n",
    "        'knowledge': grid_transition_knowledge(pop, env)\n",
    "    }\n",
    "    metrics.update(population_metrics(pop, env))\n",
    "    return metrics\n",
    "\n",
    "\n",
    "def grid_env_provider():\n",
    "    return gym.make(f'grid-20-v0')\n",
    "\n",
    "\n",
    "grid_base_params = {\n",
    "    \"classifier_length\": 2,\n",
    "    \"number_of_possible_actions\": 4,\n",
    "    \"epsilon\": 0.8,\n",
    "    \"beta\": 0.2,\n",
    "    \"gamma\": 0.95,\n",
    "    \"initial_q\": 0.5,\n",
    "    \"theta_exp\": 50,\n",
    "    \"theta_ga\": 50,\n",
    "    \"do_ga\": True,\n",
    "    \"mu\": 0.03,\n",
    "    \"u_max\": 1,\n",
    "    \"metrics_trial_frequency\": 1,\n",
    "    \"user_metrics_collector_fcn\": grid_metrics\n",
    "}\n",
    "\n",
    "# Start experiments\n",
    "grid_explore_trials, grid_exploit_trials = 60, 20\n",
    "\n",
    "\n",
    "@get_from_cache_or_run(cache_path=f'{cache_dir}/grid/epsilon_greedy.dill')\n",
    "@repeat(num_times=NUM_EXPERIMENTS)\n",
    "def grid_epsilon_greedy():\n",
    "    return run_experiment(grid_env_provider,\n",
    "                          grid_explore_trials,\n",
    "                          grid_exploit_trials,\n",
    "                          **(grid_base_params | {'action_selector': EpsilonGreedy}))\n",
    "\n",
    "\n",
    "@get_from_cache_or_run(cache_path=f'{cache_dir}/grid/action_delay.dill')\n",
    "@repeat(num_times=NUM_EXPERIMENTS)\n",
    "def grid_action_delay():\n",
    "    return run_experiment(grid_env_provider,\n",
    "                          grid_explore_trials,\n",
    "                          grid_exploit_trials,\n",
    "                          **(grid_base_params | {'action_selector': ActionDelay, 'biased_exploration_prob': 0.5}))\n",
    "\n",
    "\n",
    "@get_from_cache_or_run(cache_path=f'{cache_dir}/grid/knowledge_array.dill')\n",
    "@repeat(num_times=NUM_EXPERIMENTS)\n",
    "def grid_knowledge_array():\n",
    "    return run_experiment(grid_env_provider,\n",
    "                          grid_explore_trials,\n",
    "                          grid_exploit_trials,\n",
    "                          **(grid_base_params | {'action_selector': KnowledgeArray, 'biased_exploration_prob': 0.5}))\n",
    "\n",
    "\n",
    "@get_from_cache_or_run(cache_path=f'{cache_dir}/grid/oiq.dill')\n",
    "@repeat(num_times=NUM_EXPERIMENTS)\n",
    "def grid_oiq():\n",
    "    return run_experiment(grid_env_provider,\n",
    "                          grid_explore_trials,\n",
    "                          grid_exploit_trials,\n",
    "                          **(grid_base_params | {'action_selector': EpsilonGreedy, 'biased_exploration_prob': 0.8}))\n"
   ]
  },
  {
   "cell_type": "markdown",
   "metadata": {
    "pycharm": {
     "name": "#%% md\n"
    }
   },
   "source": [
    "## Results"
   ]
  },
  {
   "cell_type": "code",
   "execution_count": 10,
   "metadata": {
    "pycharm": {
     "name": "#%%\n"
    },
    "tags": [
     "hide-input"
    ]
   },
   "outputs": [],
   "source": [
    "# Execute calculations\n",
    "corridor_epsilon_greedy_dfs = corridor_epsilon_greedy()\n",
    "corridor_action_delay_dfs = corridor_action_delay()\n",
    "corridor_knowledge_array_dfs = corridor_knowledge_array()\n",
    "corridor_oiq_dfs = corridor_oiq()\n",
    "\n",
    "# Plot results\n",
    "plot(\n",
    "    average_experiment_runs(corridor_epsilon_greedy_dfs),\n",
    "    average_experiment_runs(corridor_action_delay_dfs),\n",
    "    average_experiment_runs(corridor_knowledge_array_dfs),\n",
    "    average_experiment_runs(corridor_oiq_dfs),\n",
    "    env_name='Corridor-20',\n",
    "    num_explore_trials=corridor_explore_trials,\n",
    "    first_knowledge_trials=30,\n",
    "    first_population_trials=20,\n",
    "    population_ylim=(17, 40),\n",
    "    text_box_loc={\"x\": 63, \"y\": 120},\n",
    "    plot_filename=f'{plot_dir}/corridor-performance.png'\n",
    ")"
   ]
  },
  {
   "cell_type": "markdown",
   "metadata": {
    "pycharm": {
     "name": "#%% md\n"
    }
   },
   "source": [
    ":::{figure-md} corridor-fig\n",
    ":class: full-width\n",
    "<img src=\"plots/corridor-performance.png\">\n",
    "\n",
    "Performance in Corridor environment\n",
    ":::"
   ]
  },
  {
   "cell_type": "code",
   "execution_count": 11,
   "metadata": {
    "pycharm": {
     "name": "#%%\n"
    },
    "tags": [
     "hide-input"
    ]
   },
   "outputs": [],
   "source": [
    "# Execute calculations\n",
    "grid_epsilon_greedy_dfs = grid_epsilon_greedy()\n",
    "grid_action_delay_dfs = grid_action_delay()\n",
    "grid_knowledge_array_dfs = grid_knowledge_array()\n",
    "grid_oiq_dfs = grid_oiq()\n",
    "\n",
    "# Plot results\n",
    "plot(\n",
    "    average_experiment_runs(grid_epsilon_greedy_dfs),\n",
    "    average_experiment_runs(grid_action_delay_dfs),\n",
    "    average_experiment_runs(grid_knowledge_array_dfs),\n",
    "    average_experiment_runs(grid_oiq_dfs),\n",
    "    env_name='Grid-20',\n",
    "    num_explore_trials=grid_explore_trials,\n",
    "    first_knowledge_trials=10,\n",
    "    first_population_trials=30,\n",
    "    population_ylim=(70, 105),\n",
    "    text_box_loc={\"x\": 63, \"y\": 1000},\n",
    "    plot_filename=f'{plot_dir}/grid-performance.png'\n",
    ")"
   ]
  },
  {
   "cell_type": "markdown",
   "metadata": {
    "pycharm": {
     "name": "#%% md\n"
    }
   },
   "source": [
    ":::{figure-md} grid-fig\n",
    ":class: full-width\n",
    "<img src=\"plots/grid-performance.png\">\n",
    "\n",
    "Performance in Grid environment\n",
    ":::"
   ]
  },
  {
   "cell_type": "markdown",
   "metadata": {
    "pycharm": {
     "name": "#%% md\n"
    }
   },
   "source": [
    "---\n",
    "\n",
    "**Software packages used**"
   ]
  },
  {
   "cell_type": "code",
   "execution_count": 12,
   "metadata": {
    "pycharm": {
     "name": "#%%\n"
    }
   },
   "outputs": [
    {
     "data": {
      "text/html": [
       "<details>\n",
       "<summary>Click to view session information</summary>\n",
       "<pre>\n",
       "-----\n",
       "gym                 0.21.0\n",
       "gym_corridor        NA\n",
       "gym_grid            NA\n",
       "lcs                 NA\n",
       "matplotlib          3.5.0\n",
       "pandas              1.3.1\n",
       "pydev_jupyter_utils NA\n",
       "pydev_jupyter_vars  NA\n",
       "session_info        1.0.0\n",
       "src                 (embedded book's utils module)\n",
       "-----\n",
       "</pre>\n",
       "<details>\n",
       "<summary>Click to view modules imported as dependencies</summary>\n",
       "<pre>\n",
       "PIL                 8.4.0\n",
       "backcall            0.2.0\n",
       "brotli              NA\n",
       "certifi             2021.10.08\n",
       "cffi                1.14.6\n",
       "charset_normalizer  2.0.4\n",
       "click               7.1.2\n",
       "cloudpickle         2.0.0\n",
       "colorama            0.4.4\n",
       "colorful            0.5.4\n",
       "colorful_orig       0.5.4\n",
       "cryptography        36.0.0\n",
       "cycler              0.10.0\n",
       "cython_runtime      NA\n",
       "databricks_cli      NA\n",
       "dateutil            2.8.2\n",
       "debugpy             1.5.1\n",
       "decorator           5.1.0\n",
       "defusedxml          0.7.1\n",
       "dill                0.3.4\n",
       "entrypoints         0.3\n",
       "filelock            3.4.2\n",
       "google              NA\n",
       "grpc                1.43.0\n",
       "hiredis             2.0.0\n",
       "idna                3.3\n",
       "importlib_metadata  NA\n",
       "ipykernel           6.4.1\n",
       "ipython_genutils    0.2.0\n",
       "jedi                0.18.0\n",
       "kiwisolver          1.3.1\n",
       "matplotlib_inline   NA\n",
       "mkl                 2.4.0\n",
       "mlflow              1.22.0\n",
       "mpl_toolkits        NA\n",
       "msgpack             1.0.2\n",
       "numpy               1.21.2\n",
       "packaging           21.3\n",
       "parso               0.8.3\n",
       "pexpect             4.8.0\n",
       "pickleshare         0.7.5\n",
       "pkg_resources       NA\n",
       "prompt_toolkit      3.0.20\n",
       "psutil              5.8.0\n",
       "ptyprocess          0.7.0\n",
       "pydevconsole        NA\n",
       "pydevd_file_utils   NA\n",
       "pydevd_plugins      NA\n",
       "pyexpat             NA\n",
       "pygments            2.10.0\n",
       "pyparsing           3.0.4\n",
       "pytz                2021.3\n",
       "ray                 1.9.2\n",
       "redis               4.1.1\n",
       "requests            2.27.1\n",
       "setproctitle        1.2.2\n",
       "six                 1.16.0\n",
       "socks               1.7.1\n",
       "sphinxcontrib       NA\n",
       "storemagic          NA\n",
       "tornado             6.1\n",
       "tqdm                4.62.3\n",
       "traitlets           5.1.1\n",
       "typing_extensions   NA\n",
       "urllib3             1.26.7\n",
       "wcwidth             0.2.5\n",
       "yaml                6.0\n",
       "zipp                NA\n",
       "zmq                 22.3.0\n",
       "</pre>\n",
       "</details> <!-- seems like this ends pre, so might as well be explicit -->\n",
       "<pre>\n",
       "-----\n",
       "IPython             7.29.0\n",
       "jupyter_client      7.1.0\n",
       "jupyter_core        4.9.1\n",
       "notebook            6.4.6\n",
       "-----\n",
       "Python 3.9.6 (default, Aug 18 2021, 19:38:01) [GCC 7.5.0]\n",
       "Linux-5.13.0-25-generic-x86_64-with-glibc2.31\n",
       "-----\n",
       "Session information updated at 2022-01-19 19:05\n",
       "</pre>\n",
       "</details>"
      ],
      "text/plain": [
       "<IPython.core.display.HTML object>"
      ]
     },
     "execution_count": 12,
     "metadata": {},
     "output_type": "execute_result"
    }
   ],
   "source": [
    "import session_info\n",
    "session_info.show()"
   ]
  }
 ],
 "metadata": {
  "celltoolbar": "Tags",
  "kernelspec": {
   "display_name": "Python 3 (ipykernel)",
   "language": "python",
   "name": "python3"
  },
  "language_info": {
   "codemirror_mode": {
    "name": "ipython",
    "version": 3
   },
   "file_extension": ".py",
   "mimetype": "text/x-python",
   "name": "python",
   "nbconvert_exporter": "python",
   "pygments_lexer": "ipython3",
   "version": "3.9.6"
  }
 },
 "nbformat": 4,
 "nbformat_minor": 1
}