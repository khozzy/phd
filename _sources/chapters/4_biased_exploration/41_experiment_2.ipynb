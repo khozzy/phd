{
 "cells": [
  {
   "cell_type": "code",
   "execution_count": 2,
   "metadata": {
    "collapsed": true,
    "tags": [
     "hide-input"
    ]
   },
   "outputs": [],
   "source": [
    "import sys\n",
    "\n",
    "# put custom scripts to module path\n",
    "sys.path.append('../../..')"
   ]
  },
  {
   "cell_type": "code",
   "execution_count": 3,
   "metadata": {
    "pycharm": {
     "name": "#%%\n"
    },
    "tags": [
     "hide-input"
    ]
   },
   "outputs": [],
   "source": [
    "from lcs.agents.acs2 import Configuration, ACS2\n",
    "from src.decorators import repeat, get_from_cache_or_run\n",
    "from src.visualization import biased_exploration_colors, PLOT_DPI\n",
    "from lcs.metrics import population_metrics\n",
    "from lcs.strategies.action_selection import EpsilonGreedy, ActionDelay, KnowledgeArray\n",
    "\n",
    "from typing import List\n",
    "\n",
    "import matplotlib.pyplot as plt\n",
    "import matplotlib.ticker as mtick\n",
    "import pandas as pd\n",
    "import gym\n",
    "import pathlib\n",
    "\n",
    "NUM_EXPERIMENTS = 50\n",
    "COLORS = biased_exploration_colors()\n",
    "\n",
    "plt.ioff()  # turn off interactive plotting\n",
    "\n",
    "cache_dir = f'{pathlib.Path().absolute()}/cache'\n",
    "plot_dir = f'{pathlib.Path().absolute()}/plots'\n",
    "\n",
    "\n",
    "def run_alternating_experiment(env_provider, trials, **conf):\n",
    "    env = env_provider()\n",
    "    env.reset()\n",
    "\n",
    "    cfg = Configuration(**conf)\n",
    "\n",
    "    agent = ACS2(cfg)\n",
    "    metrics = agent.explore_exploit(env, trials)\n",
    "\n",
    "    # parse metrics\n",
    "    lst = [[d['trial'], d['reward'], d['population'], d['reliable']] for d in metrics]\n",
    "    df = pd.DataFrame(lst, columns=['trial', 'reward', 'population', 'reliable'])\n",
    "\n",
    "    # df = df.set_index('trial')\n",
    "    df['phase'] = df.index.map(lambda t: \"explore\" if t % 2 == 0 else \"exploit\")\n",
    "\n",
    "    return df\n",
    "\n",
    "def average_experiment_runs(runs_dfs: List[pd.DataFrame]) -> pd.DataFrame:\n",
    "    return pd.concat(runs_dfs).groupby(['trial', 'phase']).mean().reset_index(level='phase')"
   ]
  },
  {
   "cell_type": "markdown",
   "metadata": {
    "pycharm": {
     "name": "#%% md\n"
    }
   },
   "source": [
    "# Experiment 2 - Single-step problem performance"
   ]
  },
  {
   "cell_type": "markdown",
   "metadata": {
    "pycharm": {
     "name": "#%% md\n"
    }
   },
   "source": [
    "## Setup"
   ]
  },
  {
   "cell_type": "code",
   "execution_count": 4,
   "metadata": {
    "pycharm": {
     "name": "#%%\n"
    },
    "tags": [
     "hide-input"
    ]
   },
   "outputs": [],
   "source": [
    "import gym_multiplexer  # noqa: F401\n",
    "from src.observation_wrappers import BinnedObservationWrapper\n",
    "\n",
    "rmpx_bits = 6  # available sizes: 3, 6\n",
    "rmpx_discretization_bins = 6\n",
    "\n",
    "\n",
    "def rmpx_metrics(agent, env):\n",
    "    pop = agent.population\n",
    "    metrics = {\n",
    "        'reliable': len([cl for cl in pop if cl.is_reliable()])\n",
    "    }\n",
    "    metrics.update(population_metrics(pop, env))\n",
    "    return metrics\n",
    "\n",
    "\n",
    "def rmpx_env_provider():\n",
    "    return BinnedObservationWrapper(gym.make(f'real-multiplexer-{rmpx_bits}bit-v0'), rmpx_discretization_bins)\n",
    "\n",
    "\n",
    "rmpx_base_params = {\n",
    "    \"classifier_length\": rmpx_bits + 1,\n",
    "    \"number_of_possible_actions\": 2,\n",
    "    \"epsilon\": 0.8,\n",
    "    \"beta\": 0.2,\n",
    "    \"gamma\": 0.95,\n",
    "    \"initial_q\": 0.5,\n",
    "    \"theta_exp\": 50,\n",
    "    \"theta_ga\": 50,\n",
    "    \"do_ga\": True,\n",
    "    \"chi\": 0.0,  # do not cross-over\n",
    "    \"mu\": 0.03,\n",
    "    \"u_max\": 4,\n",
    "    \"metrics_trial_frequency\": 1,\n",
    "    \"user_metrics_collector_fcn\": rmpx_metrics\n",
    "}\n",
    "\n",
    "# Start experiments\n",
    "rmpx_trials = 2 * 10000  # explore-exploit-explore-...\n",
    "\n",
    "\n",
    "@get_from_cache_or_run(cache_path=f'{cache_dir}/rmpx/epsilon_greedy.dill')\n",
    "@repeat(num_times=NUM_EXPERIMENTS)\n",
    "def rmpx_epsilon_greedy():\n",
    "    return run_alternating_experiment(rmpx_env_provider,\n",
    "                                      rmpx_trials,\n",
    "                                      **(rmpx_base_params | {'action_selector': EpsilonGreedy}))\n",
    "\n",
    "@get_from_cache_or_run(cache_path=f'{cache_dir}/rmpx/action_delay.dill')\n",
    "@repeat(num_times=NUM_EXPERIMENTS)\n",
    "def rmpx_action_delay():\n",
    "    return run_alternating_experiment(rmpx_env_provider,\n",
    "                          rmpx_trials,\n",
    "                          **(rmpx_base_params | {'action_selector': ActionDelay, 'biased_exploration_prob': 0.5}))\n",
    "\n",
    "@get_from_cache_or_run(cache_path=f'{cache_dir}/rmpx/knowledge_array.dill')\n",
    "@repeat(num_times=NUM_EXPERIMENTS)\n",
    "def rmpx_knowledge_array():\n",
    "    return run_alternating_experiment(rmpx_env_provider,\n",
    "                          rmpx_trials,\n",
    "                          **(rmpx_base_params | {'action_selector': KnowledgeArray, 'biased_exploration_prob': 0.5}))\n",
    "\n",
    "@get_from_cache_or_run(cache_path=f'{cache_dir}/rmpx/oiq.dill')\n",
    "@repeat(num_times=NUM_EXPERIMENTS)\n",
    "def rmpx_oiq():\n",
    "    return run_alternating_experiment(rmpx_env_provider,\n",
    "                          rmpx_trials,\n",
    "                          **(rmpx_base_params | {'action_selector': EpsilonGreedy, 'biased_exploration_prob': 0.8}))\n",
    "\n",
    "def plot_rmpx(epsilon_greedy_df, action_delay_df, knowledge_array_df, op_initial_df, env_name, bins):\n",
    "\n",
    "    def plot_by_phase(df, window, label, color, ax):\n",
    "        explore_df = df[df['phase'] == 'explore']\n",
    "        exploit_df = df[df['phase'] == 'exploit']\n",
    "\n",
    "        explore_df.reset_index(inplace=True)\n",
    "        exploit_df.reset_index(inplace=True)\n",
    "\n",
    "        explore_df['reward'].rolling(window=window).mean().plot(label=label, color=color, ls='--', alpha=0.2, ax=ax)\n",
    "        exploit_df['reward'].rolling(window=window).mean().plot(label=label, color=color, ax=ax)\n",
    "\n",
    "    fig = plt.figure(figsize=(14, 10))\n",
    "\n",
    "    # Plots layout\n",
    "    gs = fig.add_gridspec(2,1, hspace=.8)\n",
    "    ax1 = fig.add_subplot(gs[0])\n",
    "    ax2 = fig.add_subplot(gs[1])\n",
    "\n",
    "    # Global title\n",
    "    fig.suptitle(f'Performance of [{env_name}] environment discretized with {bins} bins', fontsize=24)\n",
    "\n",
    "    # Each axis\n",
    "    ma_window = 500  # moving average window\n",
    "\n",
    "    # Average reward\n",
    "    plot_by_phase(epsilon_greedy_df, ma_window, 'Epsilon Greedy', COLORS['eg'], ax1)\n",
    "    plot_by_phase(action_delay_df, ma_window, 'Action Delay', COLORS['ad'], ax1)\n",
    "    plot_by_phase(knowledge_array_df, ma_window, 'Knowledge Array', COLORS['ka'], ax1)\n",
    "    plot_by_phase(op_initial_df, ma_window, 'Optimistic Initial Quality', COLORS['oiq'], ax1)\n",
    "\n",
    "    ax1.spines['top'].set_visible(False)\n",
    "    ax1.spines['right'].set_visible(False)\n",
    "    ax1.set_title('Average Reward')\n",
    "    ax1.set_xlabel('Trial')\n",
    "    ax1.set_ylabel('Reward')\n",
    "    ax1.set_ylim(300, 1050)\n",
    "    ax1.axhline(y=1000, color='black', linewidth=1, linestyle=\"--\")\n",
    "\n",
    "    # Population\n",
    "    epsilon_greedy_df['reliable'].rolling(window=ma_window).mean().plot(label='Epsilon Greedy', c=COLORS['eg'], ax=ax2)\n",
    "    action_delay_df['reliable'].rolling(window=ma_window).mean().plot(label='Action Delay', c=COLORS['ad'], ax=ax2)\n",
    "    knowledge_array_df['reliable'].rolling(window=ma_window).mean().plot(label='Knowledge Array', c=COLORS['ka'], ax=ax2)\n",
    "    op_initial_df['reliable'].rolling(window=ma_window).mean().plot(label='Optimistic Initial Quality', c=COLORS['oiq'], ax=ax2)\n",
    "\n",
    "    ax2.spines['top'].set_visible(False)\n",
    "    ax2.spines['right'].set_visible(False)\n",
    "    ax2.set_xlabel('Trial')\n",
    "    ax2.set_ylabel('Classifiers count')\n",
    "    ax2.set_title('Reliable Classifiers')\n",
    "    ax2.xaxis.set_major_formatter(mtick.FormatStrFormatter('%.0f'))\n",
    "    ax2.yaxis.set_major_formatter(mtick.FormatStrFormatter('%.0f'))\n",
    "\n",
    "    # Create legend\n",
    "    handles, labels = ax2.get_legend_handles_labels()\n",
    "    fig.legend(handles, labels, loc='lower center', ncol=4)\n",
    "\n",
    "    # Save plot to file\n",
    "    fig.savefig(f'{plot_dir}/rmpx-performance.png', dpi=PLOT_DPI)"
   ]
  },
  {
   "cell_type": "markdown",
   "metadata": {
    "pycharm": {
     "name": "#%% md\n"
    }
   },
   "source": [
    "## Results"
   ]
  },
  {
   "cell_type": "code",
   "execution_count": null,
   "metadata": {
    "pycharm": {
     "name": "#%%\n"
    },
    "tags": [
     "hide-input"
    ]
   },
   "outputs": [],
   "source": [
    "# Run calculations\n",
    "# TODO: execute it 50 times (now only 5)\n",
    "rmpx_epsilon_greedy_dfs = rmpx_epsilon_greedy()  # 360 sek / it\n",
    "rmpx_action_delay_dfs = rmpx_action_delay()\n",
    "rmpx_knowledge_array_dfs = rmpx_knowledge_array()\n",
    "rmpx_oiq_dfs = rmpx_oiq()\n",
    "\n",
    "# Plot results\n",
    "plot_rmpx(\n",
    "    average_experiment_runs(rmpx_epsilon_greedy_dfs),\n",
    "    average_experiment_runs(rmpx_action_delay_dfs),\n",
    "    average_experiment_runs(rmpx_knowledge_array_dfs),\n",
    "    average_experiment_runs(rmpx_oiq_dfs),\n",
    "    env_name=rmpx_env_provider().unwrapped.spec.id,\n",
    "    bins=rmpx_discretization_bins\n",
    ")"
   ]
  },
  {
   "cell_type": "markdown",
   "metadata": {
    "pycharm": {
     "name": "#%% md\n"
    }
   },
   "source": [
    ":::{figure-md} rmpx-fig\n",
    ":class: full-width\n",
    "<img src=\"plots/rmpx-performance.png\">\n",
    "\n",
    "Performance in rMPX environment\n",
    ":::"
   ]
  },
  {
   "cell_type": "markdown",
   "source": [
    "## Statistical verification\n",
    "\n",
    "```{admonition} Hypothesis testing\n",
    ":class: tip\n",
    "Novel idea would be to introduce a metric combining both average reward and number of classifiers (like _efficiency index_). Then such indicator might be used to plot the change when modifying number of bins. Otherwise a regular table might be used.\n",
    "```"
   ],
   "metadata": {
    "collapsed": false,
    "pycharm": {
     "name": "#%% md\n"
    }
   }
  },
  {
   "cell_type": "markdown",
   "source": [
    "## Observations\n",
    "..."
   ],
   "metadata": {
    "collapsed": false,
    "pycharm": {
     "name": "#%% md\n"
    }
   }
  },
  {
   "cell_type": "markdown",
   "metadata": {
    "pycharm": {
     "name": "#%% md\n"
    }
   },
   "source": [
    "---\n",
    "\n",
    "**Software packages used**"
   ]
  },
  {
   "cell_type": "code",
   "execution_count": 6,
   "metadata": {
    "pycharm": {
     "name": "#%%\n"
    }
   },
   "outputs": [
    {
     "data": {
      "text/html": [
       "<details>\n",
       "<summary>Click to view session information</summary>\n",
       "<pre>\n",
       "-----\n",
       "gym                 0.21.0\n",
       "gym_multiplexer     NA\n",
       "lcs                 NA\n",
       "matplotlib          3.5.0\n",
       "pandas              1.3.1\n",
       "pydev_jupyter_utils NA\n",
       "pydev_jupyter_vars  NA\n",
       "session_info        1.0.0\n",
       "src                 (embedded book's utils module)\n",
       "-----\n",
       "</pre>\n",
       "<details>\n",
       "<summary>Click to view modules imported as dependencies</summary>\n",
       "<pre>\n",
       "PIL                 8.4.0\n",
       "backcall            0.2.0\n",
       "bitstring           3.1.7\n",
       "brotli              NA\n",
       "certifi             2021.10.08\n",
       "cffi                1.14.6\n",
       "charset_normalizer  2.0.4\n",
       "click               7.1.2\n",
       "cloudpickle         2.0.0\n",
       "colorama            0.4.4\n",
       "colorful            0.5.4\n",
       "colorful_orig       0.5.4\n",
       "cryptography        36.0.0\n",
       "cycler              0.10.0\n",
       "cython_runtime      NA\n",
       "databricks_cli      NA\n",
       "dateutil            2.8.2\n",
       "debugpy             1.5.1\n",
       "decorator           5.1.0\n",
       "defusedxml          0.7.1\n",
       "dill                0.3.4\n",
       "entrypoints         0.3\n",
       "filelock            3.4.2\n",
       "google              NA\n",
       "grpc                1.43.0\n",
       "hiredis             2.0.0\n",
       "idna                3.3\n",
       "importlib_metadata  NA\n",
       "ipykernel           6.4.1\n",
       "ipython_genutils    0.2.0\n",
       "jedi                0.18.0\n",
       "kiwisolver          1.3.1\n",
       "matplotlib_inline   NA\n",
       "mkl                 2.4.0\n",
       "mlflow              1.22.0\n",
       "mpl_toolkits        NA\n",
       "msgpack             1.0.2\n",
       "numpy               1.21.2\n",
       "packaging           21.3\n",
       "parso               0.8.3\n",
       "pexpect             4.8.0\n",
       "pickleshare         0.7.5\n",
       "pkg_resources       NA\n",
       "prompt_toolkit      3.0.20\n",
       "psutil              5.8.0\n",
       "ptyprocess          0.7.0\n",
       "pydevconsole        NA\n",
       "pydevd_file_utils   NA\n",
       "pydevd_plugins      NA\n",
       "pyexpat             NA\n",
       "pygments            2.10.0\n",
       "pyparsing           3.0.4\n",
       "pytz                2021.3\n",
       "ray                 1.9.2\n",
       "redis               4.1.1\n",
       "requests            2.27.1\n",
       "setproctitle        1.2.2\n",
       "six                 1.16.0\n",
       "socks               1.7.1\n",
       "sphinxcontrib       NA\n",
       "storemagic          NA\n",
       "tornado             6.1\n",
       "tqdm                4.62.3\n",
       "traitlets           5.1.1\n",
       "typing_extensions   NA\n",
       "urllib3             1.26.7\n",
       "wcwidth             0.2.5\n",
       "yaml                6.0\n",
       "zipp                NA\n",
       "zmq                 22.3.0\n",
       "</pre>\n",
       "</details> <!-- seems like this ends pre, so might as well be explicit -->\n",
       "<pre>\n",
       "-----\n",
       "IPython             7.29.0\n",
       "jupyter_client      7.1.0\n",
       "jupyter_core        4.9.1\n",
       "notebook            6.4.6\n",
       "-----\n",
       "Python 3.9.6 (default, Aug 18 2021, 19:38:01) [GCC 7.5.0]\n",
       "Linux-5.13.0-25-generic-x86_64-with-glibc2.31\n",
       "-----\n",
       "Session information updated at 2022-01-19 18:24\n",
       "</pre>\n",
       "</details>"
      ],
      "text/plain": [
       "<IPython.core.display.HTML object>"
      ]
     },
     "execution_count": 6,
     "metadata": {},
     "output_type": "execute_result"
    }
   ],
   "source": [
    "import session_info\n",
    "session_info.show()"
   ]
  }
 ],
 "metadata": {
  "celltoolbar": "Tags",
  "kernelspec": {
   "display_name": "Python 3 (ipykernel)",
   "language": "python",
   "name": "python3"
  },
  "language_info": {
   "codemirror_mode": {
    "name": "ipython",
    "version": 3
   },
   "file_extension": ".py",
   "mimetype": "text/x-python",
   "name": "python",
   "nbconvert_exporter": "python",
   "pygments_lexer": "ipython3",
   "version": "3.9.6"
  }
 },
 "nbformat": 4,
 "nbformat_minor": 1
}