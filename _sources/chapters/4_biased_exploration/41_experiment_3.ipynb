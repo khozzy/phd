{
 "cells": [
  {
   "cell_type": "code",
   "execution_count": null,
   "metadata": {
    "collapsed": true,
    "tags": [
     "hide-input"
    ]
   },
   "outputs": [],
   "source": [
    "import sys\n",
    "\n",
    "# put custom scripts to module path\n",
    "sys.path.append('../../..')"
   ]
  },
  {
   "cell_type": "code",
   "execution_count": 2,
   "metadata": {
    "pycharm": {
     "name": "#%%\n"
    },
    "tags": [
     "hide-input"
    ]
   },
   "outputs": [],
   "source": [
    "from lcs.agents.acs2 import Configuration, ACS2\n",
    "from src.decorators import repeat, get_from_cache_or_run\n",
    "from src.visualization import biased_exploration_colors, PLOT_DPI\n",
    "from src.metrics import parse_experiments_results\n",
    "from lcs.metrics import population_metrics\n",
    "from lcs.strategies.action_selection import EpsilonGreedy, ActionDelay, KnowledgeArray\n",
    "\n",
    "from typing import List\n",
    "\n",
    "import matplotlib.pyplot as plt\n",
    "import matplotlib.ticker as mtick\n",
    "import pandas as pd\n",
    "import gym\n",
    "import pathlib\n",
    "\n",
    "NUM_EXPERIMENTS = 50\n",
    "COLORS = biased_exploration_colors()\n",
    "\n",
    "plt.ioff()  # turn off interactive plotting\n",
    "\n",
    "cache_dir = f'{pathlib.Path().absolute()}/cache'\n",
    "plot_dir = f'{pathlib.Path().absolute()}/plots'\n",
    "\n",
    "\n",
    "def run_experiment(env_provider, explore_trials, exploit_trials, **conf):\n",
    "    env = env_provider()\n",
    "    env.reset()\n",
    "\n",
    "    cfg = Configuration(**conf)\n",
    "\n",
    "    explorer = ACS2(cfg)\n",
    "    metrics_explore = explorer.explore(env, explore_trials)\n",
    "\n",
    "    exploiter = ACS2(cfg, explorer.population)\n",
    "    metrics_exploit = explorer.exploit(env, exploit_trials)\n",
    "\n",
    "    # Parse results into DataFrame\n",
    "    metrics_df = parse_experiments_results(metrics_explore, metrics_exploit, cfg.metrics_trial_frequency)\n",
    "\n",
    "    return metrics_df\n",
    "\n",
    "def average_experiment_runs(runs_dfs: List[pd.DataFrame]) -> pd.DataFrame:\n",
    "    return pd.concat(runs_dfs).groupby(['trial', 'phase']).mean().reset_index(level='phase')"
   ]
  },
  {
   "cell_type": "markdown",
   "metadata": {
    "pycharm": {
     "name": "#%% md\n"
    }
   },
   "source": [
    "# Experiment 3 - Balacing the pole"
   ]
  },
  {
   "cell_type": "markdown",
   "metadata": {
    "pycharm": {
     "name": "#%% md\n"
    }
   },
   "source": [
    "## Setup"
   ]
  },
  {
   "cell_type": "code",
   "execution_count": 4,
   "metadata": {
    "pycharm": {
     "name": "#%%\n"
    },
    "tags": [
     "hide-input"
    ]
   },
   "outputs": [],
   "source": [
    "cp_buckets = (1, 1, 6, 6)\n",
    "\n",
    "class CartPoleObservationWrapper(gym.ObservationWrapper):\n",
    "    # https://medium.com/@tuzzer/cart-pole-balancing-with-q-learning-b54c6068d947\n",
    "    # _high = [env.observation_space.high[0], 0.5, env.observation_space.high[2], math.radians(50)]\n",
    "    # _low = [env.observation_space.low[0], -0.5, env.observation_space.low[2], -math.radians(50)]\n",
    "    def __init__(self, env, buckets):\n",
    "        super().__init__(env)\n",
    "        self._high = [env.observation_space.high[0], 0.5, env.observation_space.high[2], 3500]\n",
    "        self._low = [env.observation_space.low[0], -0.5, env.observation_space.low[2], -3500]\n",
    "        self._buckets = buckets\n",
    "\n",
    "    def observation(self, obs):\n",
    "        ratios = [(obs[i] + abs(self._low[i])) / (self._high[i] - self._low[i]) for i in range(len(obs))]\n",
    "        new_obs = [int(round((self._buckets[i] - 1) * ratios[i])) for i in range(len(obs))]\n",
    "        new_obs = [min(self._buckets[i] - 1, max(0, new_obs[i])) for i in range(len(obs))]\n",
    "        return [str(o) for o in new_obs]\n",
    "\n",
    "def cp_env_provider():\n",
    "    return CartPoleObservationWrapper(gym.make('CartPole-v0'), cp_buckets)\n",
    "\n",
    "def cp_metrics(agent, env):\n",
    "    pop = agent.population\n",
    "    metrics = {}\n",
    "    metrics.update(population_metrics(pop, env))\n",
    "\n",
    "    return metrics\n",
    "\n",
    "cp_base_params = {\n",
    "    \"classifier_length\": 4,\n",
    "    \"number_of_possible_actions\": 2,\n",
    "    \"epsilon\": 0.9,\n",
    "    \"beta\": 0.01,\n",
    "    \"gamma\": 0.995,\n",
    "    \"initial_q\": 0.5,\n",
    "    \"theta_exp\": 50,\n",
    "    \"theta_ga\": 50,\n",
    "    \"do_ga\": True,\n",
    "    \"chi\": 0.0,\n",
    "    \"mu\": 0.03,\n",
    "    \"metrics_trial_frequency\": 2,  # TODO note this\n",
    "    \"user_metrics_collector_fcn\": cp_metrics\n",
    "}\n",
    "\n",
    "\n",
    "cp_explore_trials, cp_exploit_trials = 500, 500\n",
    "\n",
    "CP_EXPERIMENTS = 2\n",
    "\n",
    "@get_from_cache_or_run(cache_path=f'{cache_dir}/cart_pole/epsilon_greedy.dill')\n",
    "@repeat(num_times=CP_EXPERIMENTS)\n",
    "def cp_epsilon_greedy():\n",
    "    return run_experiment(cp_env_provider,\n",
    "                          cp_explore_trials,\n",
    "                          cp_exploit_trials,\n",
    "                          **(cp_base_params | {'action_selector': EpsilonGreedy}))\n",
    "\n",
    "@get_from_cache_or_run(cache_path=f'{cache_dir}/cart_pole/action_delay.dill')\n",
    "@repeat(num_times=CP_EXPERIMENTS)\n",
    "def cp_action_delay():\n",
    "    return run_experiment(cp_env_provider,\n",
    "                          cp_explore_trials,\n",
    "                          cp_exploit_trials,\n",
    "                          **(cp_base_params | {'action_selector': ActionDelay, 'biased_exploration_prob': 0.5}))\n",
    "\n",
    "\n",
    "@get_from_cache_or_run(cache_path=f'{cache_dir}/cart_pole/knowledge_array.dill')\n",
    "@repeat(num_times=CP_EXPERIMENTS)\n",
    "def cp_knowledge_array():\n",
    "    return run_experiment(cp_env_provider,\n",
    "                          cp_explore_trials,\n",
    "                          cp_exploit_trials,\n",
    "                          **(cp_base_params | {'action_selector': KnowledgeArray, 'biased_exploration_prob': 0.5}))\n",
    "\n",
    "\n",
    "@get_from_cache_or_run(cache_path=f'{cache_dir}/cart_pole/oiq.dill')\n",
    "@repeat(num_times=CP_EXPERIMENTS)\n",
    "def cp_oiq():\n",
    "    return run_experiment(cp_env_provider,\n",
    "                          cp_explore_trials,\n",
    "                          cp_exploit_trials,\n",
    "                          **(cp_base_params | {'action_selector': EpsilonGreedy, 'biased_exploration_prob': 0.8}))\n",
    "\n",
    "def plot_cp(epsilon_greedy_df, action_delay_df, knowledge_array_df, op_initial_df, explore_trials, buckets):\n",
    "    fig = plt.figure(figsize=(14, 10))\n",
    "\n",
    "    # Plots layout\n",
    "    gs = fig.add_gridspec(2,1, hspace=.4)\n",
    "    ax1 = fig.add_subplot(gs[0])\n",
    "    ax2 = fig.add_subplot(gs[1])\n",
    "\n",
    "    # Global title\n",
    "    fig.suptitle(f'Performance of CartPole environment discretized with {buckets} buckets', fontsize=24)\n",
    "\n",
    "    # Each axis\n",
    "    ma_window = 5  # moving average window\n",
    "\n",
    "    # Steps in trial\n",
    "    epsilon_greedy_df['steps_in_trial'].rolling(window=ma_window).mean().plot(label='Epsilon Greedy', c=COLORS['eg'], ax=ax1)\n",
    "    action_delay_df['steps_in_trial'].rolling(window=ma_window).mean().plot(label='Action Delay', c=COLORS['ad'], ax=ax1)\n",
    "    knowledge_array_df['steps_in_trial'].rolling(window=ma_window).mean().plot(label='Knowledge Array', c=COLORS['ka'],ax=ax1)\n",
    "    op_initial_df['steps_in_trial'].rolling(window=ma_window).mean().plot(label='Optimistic Initial Quality', c=COLORS['oiq'], ax=ax1)\n",
    "\n",
    "    ax1.axvline(x=explore_trials, color='red', linewidth=1, linestyle=\"--\")\n",
    "    ax1.axhline(y=195, color='black', linewidth=1, linestyle=\"--\")\n",
    "\n",
    "    ax1.set_xlabel('Trial')\n",
    "    ax1.set_ylabel('Steps')\n",
    "    ax1.set_title(f'Steps in each trial')\n",
    "    ax1.set_ylim(0, 200)\n",
    "\n",
    "    # Population\n",
    "    epsilon_greedy_df['reliable'].rolling(window=ma_window).mean().plot(label='Epsilon Greedy', c=COLORS['eg'], ax=ax2)\n",
    "    action_delay_df['reliable'].rolling(window=ma_window).mean().plot(label='Action Delay', c=COLORS['ad'], ax=ax2)\n",
    "    knowledge_array_df['reliable'].rolling(window=ma_window).mean().plot(label='Knowledge Array', c=COLORS['ka'], ax=ax2)\n",
    "    op_initial_df['reliable'].rolling(window=ma_window).mean().plot(label='Optimistic Initial Quality', c=COLORS['oiq'], ax=ax2)\n",
    "\n",
    "    ax2.axvline(x=explore_trials, color='red', linewidth=1, linestyle=\"--\")\n",
    "\n",
    "    ax2.set_xlabel('Trial')\n",
    "    ax2.set_ylabel('Classifiers')\n",
    "    ax2.set_title(f'Reliable classifiers')\n",
    "\n",
    "    # Create legend\n",
    "    handles, labels = ax2.get_legend_handles_labels()\n",
    "    fig.legend(handles, labels, loc='lower center', ncol=4)\n",
    "\n",
    "    # Save plot to file\n",
    "    fig.savefig(f'{plot_dir}/cartpole-performance.png', dpi=PLOT_DPI)"
   ]
  },
  {
   "cell_type": "markdown",
   "metadata": {
    "pycharm": {
     "name": "#%% md\n"
    }
   },
   "source": [
    "## Results"
   ]
  },
  {
   "cell_type": "code",
   "execution_count": null,
   "metadata": {
    "pycharm": {
     "name": "#%%\n"
    },
    "tags": [
     "hide-input"
    ]
   },
   "outputs": [],
   "source": [
    "# Run the calculations\n",
    "cp_epsilon_greedy_dfs = cp_epsilon_greedy()\n",
    "cp_action_delay_dfs = cp_action_delay()\n",
    "cp_knowledge_array_dfs = cp_knowledge_array()\n",
    "cp_oiq_dfs = cp_oiq()\n",
    "\n",
    "# Plot visualization\n",
    "plot_cp(\n",
    "    average_experiment_runs(cp_epsilon_greedy_dfs),\n",
    "    average_experiment_runs(cp_action_delay_dfs),\n",
    "    average_experiment_runs(cp_knowledge_array_dfs),\n",
    "    average_experiment_runs(cp_oiq_dfs),\n",
    "    explore_trials=cp_explore_trials,\n",
    "    buckets=cp_buckets)"
   ]
  },
  {
   "cell_type": "markdown",
   "metadata": {
    "pycharm": {
     "name": "#%% md\n"
    }
   },
   "source": [
    ":::{figure-md} cp-fig\n",
    ":class: full-width\n",
    "<img src=\"plots/cartpole-performance.png\">\n",
    "\n",
    "Performance in CartPole environment\n",
    ":::"
   ]
  },
  {
   "cell_type": "markdown",
   "metadata": {
    "pycharm": {
     "name": "#%% md\n"
    }
   },
   "source": [
    "### Classifiers lookup"
   ]
  },
  {
   "cell_type": "code",
   "execution_count": 5,
   "metadata": {
    "pycharm": {
     "name": "#%%\n"
    },
    "tags": [
     "hide-input"
    ]
   },
   "outputs": [
    {
     "name": "stdout",
     "output_type": "stream",
     "text": [
      "[##23 0 ####]\t\tmark: 00##\tquality: 0.92\treward: 3.26\tnumerosity: 1\n",
      "[##32 1 ####]\t\tmark: 00##\tquality: 0.91\treward: 3.20\tnumerosity: 1\n",
      "[##22 1 ####]\t\tmark: 00##\tquality: 0.97\treward: 2.64\tnumerosity: 2\n",
      "[##33 0 ####]\t\tmark: 00##\tquality: 0.96\treward: 2.36\tnumerosity: 1\n",
      "[##12 0 ####]\t\tmark: 00##\tquality: 0.96\treward: 1.35\tnumerosity: 2\n",
      "[##43 1 ####]\t\tmark: 00##\tquality: 0.98\treward: 1.31\tnumerosity: 1\n",
      "[##12 1 ####]\t\tmark: empty\tquality: 1.00\treward: 1.27\tnumerosity: 18\n",
      "[##43 0 ####]\t\tmark: empty\tquality: 0.99\treward: 1.26\tnumerosity: 20\n"
     ]
    }
   ],
   "source": [
    "@get_from_cache_or_run(cache_path=f'{cache_dir}/cart_pole/epsilon_greedy_single_run.dill')\n",
    "def cp_single_run():\n",
    "    cfg = Configuration(**(cp_base_params | {'action_selector': EpsilonGreedy}))\n",
    "    agent = ACS2(cfg)\n",
    "    agent.explore(cp_env_provider(), cp_explore_trials)\n",
    "    return agent  # only interested in resulting population\n",
    "\n",
    "# execute run\n",
    "cp_agent = cp_single_run()\n",
    "\n",
    "reliable = [cl for cl in cp_agent.population if cl.is_reliable()]\n",
    "for cl in sorted(reliable, key=lambda cl: -cl.fitness):\n",
    "    print(f'[{cl.condition} {cl.action} {cl.effect}]\\t\\tmark: {cl.mark}\\tquality: {cl.q:.2f}\\treward: {cl.r:.2f}\\tnumerosity: {cl.num}')"
   ]
  },
  {
   "cell_type": "markdown",
   "source": [
    "## Statistical verification\n",
    "\n",
    "```{admonition} Hypothesis testing\n",
    ":class: tip\n",
    "Here the best idea in my opinion would be to evaluate different discretization buckets combinations. But this requires a research and experiments on it own. Suggestion is to propose 4-5 reasonable configurations and distributions for the number of steps and classifiers count in each situation.\n",
    "```"
   ],
   "metadata": {
    "collapsed": false,
    "pycharm": {
     "name": "#%% md\n"
    }
   }
  },
  {
   "cell_type": "markdown",
   "source": [
    "## Observations\n",
    "..."
   ],
   "metadata": {
    "collapsed": false,
    "pycharm": {
     "name": "#%% md\n"
    }
   }
  },
  {
   "cell_type": "markdown",
   "metadata": {
    "pycharm": {
     "name": "#%% md\n"
    }
   },
   "source": [
    "---\n",
    "\n",
    "**Software packages used**"
   ]
  },
  {
   "cell_type": "code",
   "execution_count": 1,
   "metadata": {
    "pycharm": {
     "name": "#%%\n"
    }
   },
   "outputs": [
    {
     "data": {
      "text/html": [
       "<details>\n",
       "<summary>Click to view session information</summary>\n",
       "<pre>\n",
       "-----\n",
       "session_info        1.0.0\n",
       "-----\n",
       "</pre>\n",
       "<details>\n",
       "<summary>Click to view modules imported as dependencies</summary>\n",
       "<pre>\n",
       "backcall                    0.2.0\n",
       "colorama                    0.4.4\n",
       "cython_runtime              NA\n",
       "dateutil                    2.8.2\n",
       "debugpy                     1.5.1\n",
       "decorator                   5.1.0\n",
       "entrypoints                 0.3\n",
       "google                      NA\n",
       "ipykernel                   6.4.1\n",
       "ipython_genutils            0.2.0\n",
       "jedi                        0.18.0\n",
       "mpl_toolkits                NA\n",
       "parso                       0.8.3\n",
       "pexpect                     4.8.0\n",
       "pickleshare                 0.7.5\n",
       "pkg_resources               NA\n",
       "prompt_toolkit              3.0.20\n",
       "ptyprocess                  0.7.0\n",
       "pydev_ipython               NA\n",
       "pydevconsole                NA\n",
       "pydevd                      2.6.0\n",
       "pydevd_concurrency_analyser NA\n",
       "pydevd_file_utils           NA\n",
       "pydevd_plugins              NA\n",
       "pydevd_tracing              NA\n",
       "pyexpat                     NA\n",
       "pygments                    2.10.0\n",
       "six                         1.16.0\n",
       "sphinxcontrib               NA\n",
       "storemagic                  NA\n",
       "tornado                     6.1\n",
       "traitlets                   5.1.1\n",
       "wcwidth                     0.2.5\n",
       "zmq                         22.3.0\n",
       "</pre>\n",
       "</details> <!-- seems like this ends pre, so might as well be explicit -->\n",
       "<pre>\n",
       "-----\n",
       "IPython             7.29.0\n",
       "jupyter_client      7.1.0\n",
       "jupyter_core        4.9.1\n",
       "notebook            6.4.6\n",
       "-----\n",
       "Python 3.9.6 (default, Aug 18 2021, 19:38:01) [GCC 7.5.0]\n",
       "Linux-5.13.0-25-generic-x86_64-with-glibc2.31\n",
       "-----\n",
       "Session information updated at 2022-01-19 18:24\n",
       "</pre>\n",
       "</details>"
      ],
      "text/plain": [
       "<IPython.core.display.HTML object>"
      ]
     },
     "execution_count": 1,
     "metadata": {},
     "output_type": "execute_result"
    }
   ],
   "source": [
    "import session_info\n",
    "session_info.show()"
   ]
  }
 ],
 "metadata": {
  "celltoolbar": "Tags",
  "kernelspec": {
   "display_name": "Python 3 (ipykernel)",
   "language": "python",
   "name": "python3"
  },
  "language_info": {
   "codemirror_mode": {
    "name": "ipython",
    "version": 3
   },
   "file_extension": ".py",
   "mimetype": "text/x-python",
   "name": "python",
   "nbconvert_exporter": "python",
   "pygments_lexer": "ipython3",
   "version": "3.9.6"
  }
 },
 "nbformat": 4,
 "nbformat_minor": 1
}