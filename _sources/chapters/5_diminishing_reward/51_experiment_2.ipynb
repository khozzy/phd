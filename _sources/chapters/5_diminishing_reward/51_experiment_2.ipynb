{
 "cells": [
  {
   "cell_type": "code",
   "execution_count": 7,
   "metadata": {
    "pycharm": {
     "name": "#%%\n"
    },
    "tags": [
     "hide-input"
    ]
   },
   "outputs": [],
   "source": [
    "import sys\n",
    "\n",
    "# put custom scripts to module path\n",
    "sys.path.append('../../..')"
   ]
  },
  {
   "cell_type": "code",
   "execution_count": 8,
   "metadata": {
    "pycharm": {
     "name": "#%%\n"
    },
    "tags": [
     "hide-input"
    ]
   },
   "outputs": [],
   "source": [
    "import matplotlib.pyplot as plt\n",
    "from matplotlib.ticker import MultipleLocator, FormatStrFormatter\n",
    "\n",
    "import numpy as np\n",
    "import pandas as pd\n",
    "import pathlib\n",
    "import gym\n",
    "import gym_fsw  # noqa: F401\n",
    "\n",
    "from lcs import Perception\n",
    "from lcs.metrics import population_metrics\n",
    "\n",
    "from src.observation_wrappers import FSWObservationWrapper\n",
    "from src.runner import run_experiments_alternating\n",
    "from src.decorators import repeat, get_from_cache_or_run\n",
    "from src.basic_rl import run_q_learning_alternating, run_r_learning_alternating, qlearning, rlearning\n",
    "from src.visualization import diminishing_reward_colors, PLOT_DPI\n",
    "from src.payoff_landscape import get_all_state_action, plot_payoff_landscape\n",
    "\n",
    "from typing import List, Dict\n",
    "\n",
    "plt.ioff()  # turn off interactive plotting\n",
    "plt.style.use('../../../src/phd.mplstyle')\n",
    "\n",
    "cache_dir = f'{pathlib.Path().absolute()}/cache'\n",
    "plot_dir = f'{pathlib.Path().absolute()}/plots'\n",
    "\n",
    "\n",
    "def common_metrics(agent, env):\n",
    "    metrics = {}\n",
    "\n",
    "    pop = agent.get_population()\n",
    "    agent_name = agent.__class__.__name__\n",
    "\n",
    "    if hasattr(agent, 'rho'):\n",
    "        metrics['rho'] = agent.rho\n",
    "        agent_name += \"_v\" + agent.cfg.rho_update_version\n",
    "    else:\n",
    "        metrics['rho'] = 0\n",
    "\n",
    "    metrics['agent'] = agent_name\n",
    "    metrics['reliable'] = len([cl for cl in pop if cl.is_reliable()])\n",
    "\n",
    "    metrics.update(population_metrics(pop, env))\n",
    "\n",
    "    return metrics\n",
    "\n",
    "\n",
    "def average_experiment_runs(run_df: pd.DataFrame) -> pd.DataFrame:\n",
    "    return run_df.groupby(['agent', 'trial', 'phase']).mean().reset_index(level='phase')"
   ]
  },
  {
   "cell_type": "markdown",
   "metadata": {
    "collapsed": true,
    "pycharm": {
     "name": "#%% md\n"
    }
   },
   "source": [
    "# Experiment 2 - Finite-State-World environment"
   ]
  },
  {
   "cell_type": "code",
   "execution_count": 9,
   "metadata": {
    "pycharm": {
     "name": "#%%\n"
    },
    "tags": [
     "hide-input"
    ]
   },
   "outputs": [
    {
     "name": "stderr",
     "output_type": "stream",
     "text": [
      "100%|██████████| 10/10 [05:43<00:00, 34.37s/it]\n",
      "100%|██████████| 10/10 [00:15<00:00,  1.54s/it]\n",
      "100%|██████████| 10/10 [00:20<00:00,  2.03s/it]\n"
     ]
    }
   ],
   "source": [
    "learning_rate = 0.5\n",
    "discount_factor = 0.95\n",
    "epsilon = 0.1\n",
    "zeta = 0.0001\n",
    "\n",
    "def fsw_env_provider():\n",
    "    return FSWObservationWrapper(gym.make(f'fsw-10-v0'))\n",
    "\n",
    "# Set ACS2/AACS2 configuration parameter dictionary\n",
    "basic_cfg = {\n",
    "    'perception_bits': 1,\n",
    "    'possible_actions': 2,\n",
    "    'do_ga': False,\n",
    "    'beta': learning_rate,\n",
    "    'epsilon': epsilon,\n",
    "    'gamma': discount_factor,\n",
    "    'zeta': zeta,\n",
    "    'user_metrics_collector_fcn': common_metrics,\n",
    "    'biased_exploration_prob': 0,\n",
    "    'metrics_trial_freq': 1\n",
    "}\n",
    "\n",
    "NUM_EXPERIMENTS = 10\n",
    "trials = 10_000\n",
    "\n",
    "\n",
    "@get_from_cache_or_run(cache_path=f'{cache_dir}/fsw/acs2.dill')\n",
    "@repeat(num_times=NUM_EXPERIMENTS)\n",
    "def run_acs2_in_fsw():\n",
    "    return run_experiments_alternating(fsw_env_provider, trials, basic_cfg)\n",
    "\n",
    "\n",
    "@get_from_cache_or_run(cache_path=f'{cache_dir}/fsw/qlearning.dill')\n",
    "def run_qlearning_in_fsw():\n",
    "    fsw_env = fsw_env_provider()\n",
    "    init_Q = np.zeros((fsw_env.observation_space.n, fsw_env.action_space.n))\n",
    "    return run_q_learning_alternating(NUM_EXPERIMENTS, trials, fsw_env, epsilon, learning_rate, discount_factor,\n",
    "                                      init_Q, perception_to_state_mapper=lambda p: int(p[0]))\n",
    "\n",
    "\n",
    "@get_from_cache_or_run(cache_path=f'{cache_dir}/fsw/rlearning.dill')\n",
    "def run_rlearning_in_fsw():\n",
    "    fsw_env = fsw_env_provider()\n",
    "    init_R = np.zeros((fsw_env.observation_space.n, fsw_env.action_space.n))\n",
    "    return run_r_learning_alternating(NUM_EXPERIMENTS, trials, fsw_env, epsilon, learning_rate, zeta, init_R,\n",
    "                                      perception_to_state_mapper=lambda p: int(p[0]))\n",
    "\n",
    "\n",
    "# run computations\n",
    "acs2_runs_details = run_acs2_in_fsw()\n",
    "q_learning_metrics = run_qlearning_in_fsw()\n",
    "r_learning_metrics = run_rlearning_in_fsw()\n",
    "\n",
    "# average runs and create aggregated metrics data frame\n",
    "acs2_metrics = [m_df for _, _, _, m_df in acs2_runs_details]\n",
    "\n",
    "agg_df = pd.concat([\n",
    "    average_experiment_runs(pd.concat(acs2_metrics)),\n",
    "    average_experiment_runs(pd.DataFrame(q_learning_metrics)),\n",
    "    average_experiment_runs(pd.DataFrame(r_learning_metrics))]\n",
    ")"
   ]
  },
  {
   "cell_type": "code",
   "execution_count": 10,
   "metadata": {
    "pycharm": {
     "name": "#%%\n"
    },
    "tags": [
     "hide-input"
    ]
   },
   "outputs": [],
   "source": [
    "def plot_pop_and_rho(df, plot_filename=None):\n",
    "    colors = diminishing_reward_colors()\n",
    "\n",
    "    expl_df = df[df['phase'] == 'exploit']\n",
    "\n",
    "    xmax = trials/2\n",
    "\n",
    "    fig, axs = plt.subplots(2, 1, figsize=(18, 16))\n",
    "\n",
    "    # Steps in trial plot\n",
    "    for alg in ['ACS2', 'AACS2_v1', 'AACS2_v2', 'Q-Learning', 'R-Learning']:\n",
    "        alg_df = expl_df.loc[alg]\n",
    "        idx = pd.Index(name='exploit trial', data=np.arange(1, len(alg_df) + 1))\n",
    "        alg_df.set_index(idx, inplace=True)\n",
    "\n",
    "        alg_df['steps_in_trial'].rolling(window=10).mean().plot(ax=axs[0], label=alg, linewidth=2, color=colors[alg])\n",
    "\n",
    "    axs[0].set_xlabel(\"Exploit trial\")\n",
    "    axs[0].set_xlim(1, 500)\n",
    "    axs[0].xaxis.set_major_locator(MultipleLocator(50))\n",
    "    axs[0].xaxis.set_minor_locator(MultipleLocator(10))\n",
    "    axs[0].xaxis.set_major_formatter(FormatStrFormatter('%1.0f'))\n",
    "    axs[0].xaxis.set_tick_params(which='major', size=10, width=2, direction='in')\n",
    "    axs[0].xaxis.set_tick_params(which='minor', size=5, width=1, direction='in')\n",
    "\n",
    "    axs[0].set_ylabel(\"Number of steps\")\n",
    "    axs[0].yaxis.set_major_locator(MultipleLocator(1))\n",
    "    axs[0].yaxis.set_tick_params(which='major', size=10, width=2, direction='in')\n",
    "    axs[0].yaxis.set_tick_params(which='minor', size=5, width=1, direction='in')\n",
    "\n",
    "    axs[0].set_title('Steps in trial')\n",
    "    axs[0].legend(loc='upper right', frameon=False)\n",
    "\n",
    "    # Rho plot\n",
    "    for alg in ['AACS2_v1', 'AACS2_v2', 'R-Learning']:\n",
    "        alg_df = expl_df.loc[alg]\n",
    "        idx = pd.Index(name='exploit trial', data=np.arange(1, len(alg_df) + 1))\n",
    "        alg_df.set_index(idx, inplace=True)\n",
    "\n",
    "        alg_df['rho'].plot(ax=axs[1], label=alg, linewidth=2, color=colors[alg])\n",
    "\n",
    "    axs[1].set_xlim(0, xmax)\n",
    "    axs[1].set_xlabel(\"Exploit trial\")\n",
    "    axs[1].xaxis.set_major_locator(MultipleLocator(500))\n",
    "    axs[1].xaxis.set_minor_locator(MultipleLocator(100))\n",
    "    axs[1].xaxis.set_major_formatter(FormatStrFormatter('%1.0f'))\n",
    "    axs[1].xaxis.set_tick_params(which='major', size=10, width=2, direction='in')\n",
    "    axs[1].xaxis.set_tick_params(which='minor', size=5, width=1, direction='in')\n",
    "\n",
    "    axs[1].set_ylabel(r\"$\\mathregular{\\rho}$\")\n",
    "    axs[1].yaxis.set_major_locator(MultipleLocator(2))\n",
    "    axs[1].yaxis.set_minor_locator(MultipleLocator(1))\n",
    "    axs[1].yaxis.set_tick_params(which='major', size=10, width=2, direction='in')\n",
    "    axs[1].yaxis.set_tick_params(which='minor', size=5, width=1, direction='in')\n",
    "    axs[1].set_ylim(0, 11)\n",
    "\n",
    "    axs[1].set_title(r'Estimated average $\\mathregular{\\rho}$')\n",
    "\n",
    "    if plot_filename:\n",
    "            fig.savefig(plot_filename, dpi=PLOT_DPI, bbox_inches='tight')\n",
    "\n",
    "plot_pop_and_rho(agg_df, plot_filename=f'{plot_dir}/fsw-performance.png')"
   ]
  },
  {
   "cell_type": "markdown",
   "metadata": {
    "pycharm": {
     "name": "#%% md\n"
    }
   },
   "source": [
    ":::{figure-md} 51-fsw-fig\n",
    ":class: full-width\n",
    "<img src=\"plots/fsw-performance.png\">\n",
    "\n",
    "Performance in FSW environment\n",
    ":::"
   ]
  },
  {
   "cell_type": "markdown",
   "metadata": {
    "pycharm": {
     "name": "#%% md\n"
    }
   },
   "source": [
    "## Payoff landscape"
   ]
  },
  {
   "cell_type": "code",
   "execution_count": 11,
   "metadata": {
    "pycharm": {
     "name": "#%%\n"
    },
    "tags": [
     "hide-input"
    ]
   },
   "outputs": [
    {
     "name": "stderr",
     "output_type": "stream",
     "text": [
      "Q-Learning: 100%|██████████| 10000/10000 [00:01<00:00, 7210.14it/s]\n",
      "R-Learning: 100%|██████████| 10000/10000 [00:01<00:00, 5292.54it/s]\n"
     ]
    }
   ],
   "source": [
    "fsw_env = fsw_env_provider()\n",
    "state_action = get_all_state_action(fsw_env.state_action())\n",
    "\n",
    "\n",
    "def calculate_state_action_payoffs(state_actions: List, pop_acs2, pop_aacs2v1, pop_aacs2v2, Q, R) -> Dict:\n",
    "    payoffs = {}\n",
    "\n",
    "    for sa in state_actions:\n",
    "        p = Perception((sa.state,))\n",
    "\n",
    "        # ACS2\n",
    "        acs2_match_set = pop_acs2.form_match_set(p)\n",
    "        acs2_action_set = acs2_match_set.form_action_set(sa.action)\n",
    "\n",
    "        # AACS2_v1\n",
    "        aacs2v1_match_set = pop_aacs2v1.form_match_set(p)\n",
    "        aacs2v1_action_set = aacs2v1_match_set.form_action_set(sa.action)\n",
    "\n",
    "        # AACS2_v2\n",
    "        aacs2v2_match_set = pop_aacs2v2.form_match_set(p)\n",
    "        aacs2v2_action_set = aacs2v2_match_set.form_action_set(sa.action)\n",
    "\n",
    "        # Check if all states are covered\n",
    "        for alg, action_set in zip(['ACS2', 'AACS2_v1', 'AACS2_v2'],\n",
    "                                   [acs2_action_set, aacs2v1_action_set,\n",
    "                                    aacs2v2_action_set]):\n",
    "            if len(action_set) == 0:\n",
    "                print(f\"WARN: No {alg} classifiers for perception: {p}, action: {sa.action}\")\n",
    "\n",
    "        payoffs[sa] = {\n",
    "            'ACS2': np.mean(list(map(lambda cl: cl.r, acs2_action_set))),\n",
    "            'AACS2_v1': np.mean(list(map(lambda cl: cl.r, aacs2v1_action_set))),\n",
    "            'AACS2_v2': np.mean(list(map(lambda cl: cl.r, aacs2v2_action_set))),\n",
    "            'Q-Learning': Q[int(sa.state), sa.action],\n",
    "            'R-Learning': R[int(sa.state), sa.action]\n",
    "        }\n",
    "\n",
    "    return payoffs\n",
    "\n",
    "# Take first of each algorithm population pass for presenting payoff landscape\n",
    "pop_acs2, pop_aacs2v1, pop_aacs2v2, _ = acs2_runs_details[0]\n",
    "\n",
    "@get_from_cache_or_run(cache_path=f'{cache_dir}/fsw/qlearning-single.dill')\n",
    "def run_single_qlearning():\n",
    "    Q_init = np.zeros((fsw_env.observation_space.n, fsw_env.action_space.n))\n",
    "    Q, _ = qlearning(fsw_env, trials, Q_init, epsilon, learning_rate, discount_factor, perception_to_state_mapper=lambda p: int(p[0]))\n",
    "    return Q\n",
    "\n",
    "@get_from_cache_or_run(cache_path=f'{cache_dir}/fsw/rlearning-single.dill')\n",
    "def run_single_rlearning():\n",
    "    R_init = np.zeros((fsw_env.observation_space.n, fsw_env.action_space.n))\n",
    "    R, rho, _ = rlearning(fsw_env, trials, R_init, epsilon, learning_rate, zeta, perception_to_state_mapper=lambda p: int(p[0]))\n",
    "    return R, rho\n",
    "\n",
    "Q = run_single_qlearning()\n",
    "R, rho = run_single_rlearning()\n",
    "\n",
    "payoffs = calculate_state_action_payoffs(state_action, pop_acs2, pop_aacs2v1, pop_aacs2v2, Q, R)"
   ]
  },
  {
   "cell_type": "code",
   "execution_count": 12,
   "metadata": {
    "pycharm": {
     "name": "#%%\n"
    },
    "tags": [
     "hide-input"
    ]
   },
   "outputs": [],
   "source": [
    "plot_payoff_landscape(payoffs, rho=rho, rho_text_location={'x': 30, 'y': 60}, plot_filename=f'{plot_dir}/fsw-payoff-landscape.png')"
   ]
  },
  {
   "cell_type": "markdown",
   "metadata": {
    "pycharm": {
     "name": "#%% md\n"
    }
   },
   "source": [
    ":::{figure-md} 51-fsw-payoff-landscape-fig\n",
    ":class: full-width\n",
    "<img src=\"plots/fsw-payoff-landscape.png\">\n",
    "\n",
    "FSW payoff landscape\n",
    ":::"
   ]
  }
 ],
 "metadata": {
  "celltoolbar": "Tags",
  "kernelspec": {
   "display_name": "Python 3 (ipykernel)",
   "language": "python",
   "name": "python3"
  },
  "language_info": {
   "codemirror_mode": {
    "name": "ipython",
    "version": 3
   },
   "file_extension": ".py",
   "mimetype": "text/x-python",
   "name": "python",
   "nbconvert_exporter": "python",
   "pygments_lexer": "ipython3",
   "version": "3.9.6"
  }
 },
 "nbformat": 4,
 "nbformat_minor": 1
}