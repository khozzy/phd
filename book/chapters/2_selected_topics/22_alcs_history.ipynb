{
 "cells": [
  {
   "cell_type": "markdown",
   "metadata": {
    "collapsed": true,
    "pycharm": {
     "name": "#%% md\n"
    }
   },
   "source": [
    "# Road towards Anticipatory Learning Classifier Systems\n",
    "\n",
    "History of LCS, XCS, ACS, ACS2, YACS, others"
   ]
  },
  {
   "cell_type": "code",
   "execution_count": 1,
   "metadata": {
    "pycharm": {
     "name": "#%%\n"
    },
    "tags": [
     "hide-input"
    ]
   },
   "outputs": [],
   "source": [
    "import sys\n",
    "\n",
    "# put custom scripts to module path\n",
    "from copy import copy\n",
    "\n",
    "sys.path.append('../../..')"
   ]
  },
  {
   "cell_type": "code",
   "execution_count": 2,
   "metadata": {
    "pycharm": {
     "name": "#%%\n"
    },
    "tags": [
     "hide-input"
    ]
   },
   "outputs": [],
   "source": [
    "import gym\n",
    "import gym_maze  # noqa: F401\n",
    "import numpy as np\n",
    "import matplotlib.pyplot as plt\n",
    "\n",
    "import pathlib\n",
    "import random\n",
    "from itertools import groupby\n",
    "\n",
    "from src.decorators import get_from_cache_or_run\n",
    "from lcs import Perception\n",
    "\n",
    "cache_dir = f'{pathlib.Path().absolute()}/cache'\n",
    "plot_dir = f'{pathlib.Path().absolute()}/plots'\n",
    "\n",
    "\n",
    "plt.ioff()  # turn off interactive plotting\n",
    "PLOT_DPI = 200"
   ]
  },
  {
   "cell_type": "markdown",
   "metadata": {
    "pycharm": {
     "name": "#%% md\n"
    }
   },
   "source": [
    "## ACS2"
   ]
  },
  {
   "cell_type": "code",
   "execution_count": 3,
   "metadata": {
    "pycharm": {
     "name": "#%%\n"
    },
    "tags": [
     "hide-input"
    ]
   },
   "outputs": [],
   "source": [
    "import lcs.agents.acs2 as acs2\n",
    "from lcs.metrics import population_metrics\n",
    "\n",
    "from typing import Optional, Tuple\n",
    "\n",
    "def maze_metrics(agent, env):\n",
    "    metrics = {}\n",
    "    metrics.update(population_metrics(agent.population, env))\n",
    "    return metrics\n",
    "\n",
    "acs2_base_params = {\n",
    "    'classifier_length': 8,\n",
    "    'number_of_possible_actions': 8,\n",
    "    'biased_exploration': 0,\n",
    "    'metrics_trial_frequency': 1,\n",
    "    'user_metrics_collector_fcn': maze_metrics\n",
    "}\n",
    "\n",
    "def run_acs2_explore_exploit(env, explore_trials, exploit_trials, **config):\n",
    "    cfg = acs2.Configuration(**config)\n",
    "\n",
    "    # explore phase\n",
    "    agent = acs2.ACS2(cfg)\n",
    "    metrics_explore = agent.explore(env, explore_trials)\n",
    "\n",
    "    # exploit phase\n",
    "    agent_exploit = acs2.ACS2(cfg, copy(agent.population))\n",
    "    metrics_exploit = agent_exploit.exploit(env, exploit_trials)\n",
    "\n",
    "    return (agent, metrics_explore), (agent_exploit, metrics_exploit)\n",
    "\n",
    "def find_best_classifier(population: acs2.ClassifiersList, situation: Perception) -> Optional[acs2.Classifier]:\n",
    "    match_set = population.form_match_set(situation)\n",
    "    anticipated_change_cls = [cl for cl in match_set if cl.does_anticipate_change()]\n",
    "\n",
    "    if len(anticipated_change_cls) > 0:\n",
    "        return max(anticipated_change_cls, key=lambda cl: cl.fitness)\n",
    "\n",
    "    return None\n",
    "\n",
    "def build_fitness_and_action_matrices(env, population) -> Tuple:\n",
    "    original = env.env.maze.matrix\n",
    "\n",
    "    fitness = original.copy()\n",
    "    action = original.copy().astype(str)\n",
    "\n",
    "    action_lookup = {\n",
    "        0: u'↑', 1: u'↗', 2: u'→', 3: u'↘',\n",
    "        4: u'↓', 5: u'↙', 6: u'←', 7: u'↖'\n",
    "    }\n",
    "\n",
    "    for index, x in np.ndenumerate(original):\n",
    "        if x == 0:  # path\n",
    "            perception = env.env.maze.perception(index)\n",
    "            best_cl = find_best_classifier(population, perception)\n",
    "\n",
    "            if best_cl:\n",
    "                fitness[index] = best_cl.fitness\n",
    "                action[index] = action_lookup[best_cl.action]\n",
    "            else:\n",
    "                fitness[index] = -1\n",
    "                action[index] = '?'\n",
    "\n",
    "        if x == 1:  # wall\n",
    "            fitness[index] = 0\n",
    "            action[index] = '\\#'\n",
    "\n",
    "        if x == 9:  # reward\n",
    "            # add 500 to make it more distinguishable\n",
    "            fitness[index] = fitness.max() + 500\n",
    "            action[index] = 'R'\n",
    "\n",
    "    return fitness, action\n",
    "\n",
    "def plot_policy(env, fitness_matrix, action_matrix):\n",
    "    fig, ax = plt.subplots(1, 1, figsize=(14, 8))\n",
    "\n",
    "    max_x, max_y = env.env.maze.matrix.shape\n",
    "\n",
    "    # Render maze as image\n",
    "    plt.imshow(fitness_matrix, interpolation='nearest', cmap='Reds', aspect='auto', extent=[0, max_x, max_y, 0])\n",
    "\n",
    "    # Add labels to each cell\n",
    "    for (y, x), val in np.ndenumerate(action_matrix):\n",
    "        plt.text(x + 0.4, y + 0.5, \"${}$\".format(val))\n",
    "\n",
    "    ax.set_title(\"Policy in Maze5 environment\", fontsize=24)\n",
    "    ax.set_xlabel('x', fontsize=18)\n",
    "    ax.set_ylabel('y', fontsize=18)\n",
    "    ax.set_xlim(0, max_x)\n",
    "    ax.set_ylim(max_y, 0)\n",
    "    ax.set_xticks(range(0, max_x))\n",
    "    ax.set_yticks(range(0, max_y))\n",
    "    ax.grid(True)\n",
    "    fig.savefig(f'{plot_dir}/acs2-maze5.png', dpi=PLOT_DPI)\n",
    "\n",
    "@get_from_cache_or_run(cache_path=f'{cache_dir}/acs2_maze5.dill')\n",
    "def run_acs2_in_maze5():\n",
    "    env = gym.make('Maze5-v0')\n",
    "    explore_phase, exploit_phase = run_acs2_explore_exploit(env, explore_trials=5000, exploit_trials=100, **acs2_base_params)\n",
    "    return env, explore_phase, exploit_phase\n",
    "\n",
    "# Run computation\n",
    "env_, explore_, exploit_ = run_acs2_in_maze5()\n",
    "\n",
    "# Plot the policy\n",
    "fitness_matrix, action_matrix = build_fitness_and_action_matrices(env_, explore_[0].population)\n",
    "plot_policy(env_, fitness_matrix, action_matrix)"
   ]
  },
  {
   "cell_type": "markdown",
   "metadata": {
    "pycharm": {
     "name": "#%% md\n"
    }
   },
   "source": [
    ":::{figure-md} maze5-fig\n",
    ":class: full-width\n",
    "<img src=\"plots/acs2-maze5.png\">\n",
    "\n",
    "Policy of Maze5. Saturation of red color reflects the best classifier fitness value.\n",
    ":::"
   ]
  },
  {
   "cell_type": "markdown",
   "metadata": {
    "pycharm": {
     "name": "#%% md\n"
    }
   },
   "source": [
    "## MACS"
   ]
  },
  {
   "cell_type": "code",
   "execution_count": 4,
   "metadata": {
    "pycharm": {
     "name": "#%%\n"
    },
    "tags": [
     "hide-input"
    ]
   },
   "outputs": [
    {
     "name": "stdout",
     "output_type": "stream",
     "text": [
      "\n",
      "\u001B[30m■\u001B[0m \u001B[30m■\u001B[0m \u001B[30m■\u001B[0m \u001B[30m■\u001B[0m \u001B[30m■\u001B[0m \u001B[30m■\u001B[0m \u001B[30m■\u001B[0m\n",
      "\u001B[30m■\u001B[0m \u001B[37m□\u001B[0m \u001B[30m■\u001B[0m \u001B[37m□\u001B[0m \u001B[30m■\u001B[0m \u001B[37m□\u001B[0m \u001B[30m■\u001B[0m\n",
      "\u001B[30m■\u001B[0m \u001B[37m□\u001B[0m \u001B[37m□\u001B[0m \u001B[37m□\u001B[0m \u001B[37m□\u001B[0m \u001B[37m□\u001B[0m \u001B[30m■\u001B[0m\n",
      "\u001B[30m■\u001B[0m \u001B[37m□\u001B[0m \u001B[30m■\u001B[0m \u001B[30m■\u001B[0m \u001B[37m□\u001B[0m \u001B[37m□\u001B[0m \u001B[30m■\u001B[0m\n",
      "\u001B[30m■\u001B[0m \u001B[37m□\u001B[0m \u001B[30m■\u001B[0m \u001B[37m□\u001B[0m \u001B[37m□\u001B[0m \u001B[37m□\u001B[0m \u001B[30m■\u001B[0m\n",
      "\u001B[30m■\u001B[0m \u001B[37m□\u001B[0m \u001B[37m□\u001B[0m \u001B[37m□\u001B[0m \u001B[31mA\u001B[0m \u001B[33m$\u001B[0m \u001B[30m■\u001B[0m\n",
      "\u001B[30m■\u001B[0m \u001B[30m■\u001B[0m \u001B[30m■\u001B[0m \u001B[30m■\u001B[0m \u001B[30m■\u001B[0m \u001B[30m■\u001B[0m \u001B[30m■\u001B[0m\n",
      "Perception: 009111000\n"
     ]
    }
   ],
   "source": [
    "import lcs.agents.macs.macs as macs\n",
    "\n",
    "maze228_env = gym.make('Maze228-v0')\n",
    "\n",
    "def _calculate_rotating_maze_knowledge(agent: macs.MACS, env):\n",
    "    transitions = env.env.transitions\n",
    "    covered_transitions = 0\n",
    "\n",
    "    for p0, a, p1 in transitions:\n",
    "        p0p = Perception(list(map(str, p0)))\n",
    "        p1p = Perception(list(map(str, p1)))\n",
    "        anticipations = list(agent.get_anticipations(p0p, a))\n",
    "\n",
    "        # accurate classifiers\n",
    "        if len(anticipations) == 1 and anticipations[0] == p1p:\n",
    "            covered_transitions += 1\n",
    "\n",
    "    return covered_transitions / len(transitions)\n",
    "\n",
    "def _macs_metrics(agent: macs.MACS, env):\n",
    "    population = agent.population\n",
    "    return {\n",
    "        'pop': len(population),\n",
    "        'situations': len(agent.desirability_values),\n",
    "        '0_cls': len([cl for cl in population if cl.action == 0 and cl.is_accurate]),\n",
    "        '1_cls': len([cl for cl in population if cl.action == 1 and cl.is_accurate]),\n",
    "        '2_cls': len([cl for cl in population if cl.action == 2 and cl.is_accurate]),\n",
    "        'knowledge': _calculate_rotating_maze_knowledge(agent, env)\n",
    "    }\n",
    "\n",
    "@get_from_cache_or_run(cache_path=f'{cache_dir}/macs_maze228.dill')\n",
    "def run_macs_in_maze228(env):\n",
    "    cfg = macs.Configuration(classifier_length=9,\n",
    "                        number_of_possible_actions=3,\n",
    "                        feature_possible_values=[{'0', '1', '9'}] * 8 + [{'0', '9'}],\n",
    "                        estimate_expected_improvements=True,\n",
    "                        metrics_trial_frequency=10,\n",
    "                        user_metrics_collector_fcn=_macs_metrics)\n",
    "\n",
    "    agent = macs.MACS(cfg)\n",
    "    metrics = agent.explore(env, 100)\n",
    "\n",
    "    return agent, metrics\n",
    "\n",
    "# run computations\n",
    "macs_agent, macs_metrics = run_macs_in_maze228(maze228_env)\n",
    "\n",
    "# visualization\n",
    "random.seed(129)  # found experimentally\n",
    "maze228_env.reset()\n",
    "maze228_env.render()\n",
    "\n",
    "left_from_reward = maze228_env.env.maze.perception()\n",
    "\n",
    "print(f'Perception: {\"\".join(left_from_reward)}')"
   ]
  },
  {
   "cell_type": "code",
   "execution_count": 5,
   "metadata": {
    "pycharm": {
     "name": "#%%\n"
    },
    "tags": [
     "hide-input"
    ]
   },
   "outputs": [
    {
     "name": "stdout",
     "output_type": "stream",
     "text": [
      "Total MACS population size: 211\n",
      "\n",
      "Action: STEP_AHEAD, anticipation: [0 0 0 9 0 0 0 1 0]\n",
      "\t0#9###### 0 0????????\n",
      "\t#0###10## 0 ?0???????\n",
      "\t0#9##1### 0 ?0???????\n",
      "\t#0####### 0 ??0??????\n",
      "\t0#9###### 0 ???9?????\n",
      "\t0######## 0 ????0????\n",
      "\t0#####0## 0 ?????0???\n",
      "\t#######0# 0 ??????0??\n",
      "\t##9###### 0 ??????0??\n",
      "\t##91#10## 0 ???????1?\n",
      "\t0######## 0 ????????0\n",
      "\n",
      "Action: ROTATE_LEFT, anticipation: [0 0 0 0 9 1 1 1 0]\n",
      "\t######0## 1 0????????\n",
      "\t#######0# 1 ?0???????\n",
      "\t0######## 1 ??0??????\n",
      "\t#0####### 1 ???0?????\n",
      "\t##9###### 1 ????9????\n",
      "\t###1##### 1 ?????1???\n",
      "\t####1#### 1 ??????1??\n",
      "\t#####1### 1 ???????1?\n",
      "\t######### 1 ????????0\n",
      "\n",
      "Action: ROTATE_RIGHT, anticipation: [9 1 1 1 0 0 0 0 0]\n",
      "\t##9###### 2 9????????\n",
      "\t###1##### 2 ?1???????\n",
      "\t####1#### 2 ??1??????\n",
      "\t#####1### 2 ???1?????\n",
      "\t######0## 2 ????0????\n",
      "\t#######0# 2 ?????0???\n",
      "\t0######## 2 ??????0??\n",
      "\t#0####### 2 ???????0?\n",
      "\t######### 2 ????????0\n"
     ]
    }
   ],
   "source": [
    "print(f'Total MACS population size: {len(macs_agent.population)}')\n",
    "s = sorted(macs_agent.population.form_match_set(left_from_reward), key=lambda cl: cl.action)\n",
    "\n",
    "action_mapping = ['STEP_AHEAD', 'ROTATE_LEFT', 'ROTATE_RIGHT']\n",
    "\n",
    "for action, group_cl in groupby(s, key=lambda cl: cl.action):\n",
    "    print(f'\\nAction: {action_mapping[action]}, anticipation: {list((macs_agent.get_anticipations(left_from_reward, action)))}')\n",
    "    for cl in sorted(group_cl, key=lambda cl: cl.effect):\n",
    "        print(f'\\t{cl.condition} {cl.action} {cl.effect}')"
   ]
  },
  {
   "cell_type": "markdown",
   "source": [
    "Comparing the ACS2 agent in the same environment"
   ],
   "metadata": {
    "collapsed": false,
    "pycharm": {
     "name": "#%% md\n"
    }
   }
  },
  {
   "cell_type": "code",
   "execution_count": 6,
   "outputs": [],
   "source": [
    "def _acs2_metrics(agent: acs2.ACS2, env):\n",
    "    population = agent.population\n",
    "    reliable = [cl for cl in population if cl.is_reliable()]\n",
    "    return {\n",
    "        'pop': len(population),\n",
    "        'rel': len(reliable)\n",
    "    }\n",
    "\n",
    "@get_from_cache_or_run(cache_path=f'{cache_dir}/acs2_maze228.dill')\n",
    "def run_acs2_in_maze228(env):\n",
    "    cfg = acs2.Configuration(classifier_length=9,\n",
    "                        number_of_possible_actions=3,\n",
    "                        metrics_trial_frequency=1,\n",
    "                        user_metrics_collector_fcn=_acs2_metrics,\n",
    "                        do_ga=False)\n",
    "\n",
    "    agent = acs2.ACS2(cfg)\n",
    "    metrics = agent.explore(env, 5000)\n",
    "\n",
    "    return agent, metrics\n",
    "\n",
    "acs2_agent, acs2_metrics = run_acs2_in_maze228(maze228_env)"
   ],
   "metadata": {
    "collapsed": false,
    "pycharm": {
     "name": "#%%\n"
    }
   }
  },
  {
   "cell_type": "code",
   "execution_count": 7,
   "outputs": [
    {
     "name": "stdout",
     "output_type": "stream",
     "text": [
      "Total reliable population for ACS2: 402\n",
      "##911#00# 1 ##009#11#\n",
      "##9111#0# 0 ##0900#1#\n",
      "009#11### 2 911#00###\n"
     ]
    }
   ],
   "source": [
    "reliable_classifiers = [cl for cl in acs2_agent.population if cl.is_reliable()]\n",
    "\n",
    "print(f'Total reliable population for ACS2: {len(reliable_classifiers)}')\n",
    "for cl in acs2_agent.population.form_match_set(left_from_reward):\n",
    "    if cl.is_reliable():\n",
    "        print(f'{cl.condition} {cl.action} {cl.effect}')"
   ],
   "metadata": {
    "collapsed": false,
    "pycharm": {
     "name": "#%%\n"
    }
   }
  },
  {
   "cell_type": "markdown",
   "metadata": {
    "pycharm": {
     "name": "#%% md\n"
    }
   },
   "source": [
    "---\n",
    "\n",
    "**Software packages used**"
   ]
  },
  {
   "cell_type": "code",
   "execution_count": 8,
   "metadata": {
    "pycharm": {
     "name": "#%%\n"
    }
   },
   "outputs": [
    {
     "data": {
      "text/plain": "<IPython.core.display.HTML object>",
      "text/html": "<details>\n<summary>Click to view session information</summary>\n<pre>\n-----\ngym                 0.21.0\ngym_maze            NA\nlcs                 NA\nmatplotlib          3.5.0\nnumpy               1.21.2\nsession_info        1.0.0\nsrc                 (embedded book's utils module)\n-----\n</pre>\n<details>\n<summary>Click to view modules imported as dependencies</summary>\n<pre>\nPIL                         8.4.0\nbackcall                    0.2.0\nbrotli                      NA\ncertifi                     2021.10.08\ncffi                        1.14.6\ncharset_normalizer          2.0.4\nclick                       7.1.2\ncloudpickle                 2.0.0\ncolorama                    0.4.4\ncycler                      0.10.0\ncython_runtime              NA\ndatabricks_cli              NA\ndateutil                    2.8.2\ndebugpy                     1.5.1\ndecorator                   5.1.0\ndefusedxml                  0.7.1\ndill                        0.3.4\nentrypoints                 0.3\ngoogle                      NA\nidna                        3.3\nimportlib_metadata          NA\nipykernel                   6.4.1\nipython_genutils            0.2.0\njedi                        0.18.0\nkiwisolver                  1.3.1\nmatplotlib_inline           NA\nmkl                         2.4.0\nmlflow                      1.22.0\nmpl_toolkits                NA\nnetworkx                    2.5\npackaging                   21.3\npandas                      1.3.1\nparso                       0.8.3\npexpect                     4.8.0\npickleshare                 0.7.5\npkg_resources               NA\nprompt_toolkit              3.0.20\nptyprocess                  0.7.0\npydev_ipython               NA\npydevconsole                NA\npydevd                      2.6.0\npydevd_concurrency_analyser NA\npydevd_file_utils           NA\npydevd_plugins              NA\npydevd_tracing              NA\npyexpat                     NA\npygments                    2.10.0\npyparsing                   3.0.4\npytz                        2021.3\nrequests                    2.27.1\nscipy                       1.7.3\nsix                         1.16.0\nsocks                       1.7.1\nsphinxcontrib               NA\nstoremagic                  NA\ntornado                     6.1\ntqdm                        4.62.3\ntraitlets                   5.1.1\ntyping_extensions           NA\nurllib3                     1.26.7\nwcwidth                     0.2.5\nyaml                        6.0\nzipp                        NA\nzmq                         22.3.0\n</pre>\n</details> <!-- seems like this ends pre, so might as well be explicit -->\n<pre>\n-----\nIPython             7.29.0\njupyter_client      7.1.0\njupyter_core        4.9.1\nnotebook            6.4.6\n-----\nPython 3.9.6 (default, Aug 18 2021, 19:38:01) [GCC 7.5.0]\nLinux-5.11.0-46-generic-x86_64-with-glibc2.31\n-----\nSession information updated at 2022-01-14 18:12\n</pre>\n</details>"
     },
     "execution_count": 8,
     "metadata": {},
     "output_type": "execute_result"
    }
   ],
   "source": [
    "import session_info\n",
    "session_info.show()"
   ]
  }
 ],
 "metadata": {
  "celltoolbar": "Tags",
  "kernelspec": {
   "display_name": "Python 3 (ipykernel)",
   "language": "python",
   "name": "python3"
  },
  "language_info": {
   "codemirror_mode": {
    "name": "ipython",
    "version": 3
   },
   "file_extension": ".py",
   "mimetype": "text/x-python",
   "name": "python",
   "nbconvert_exporter": "python",
   "pygments_lexer": "ipython3",
   "version": "3.9.6"
  }
 },
 "nbformat": 4,
 "nbformat_minor": 1
}