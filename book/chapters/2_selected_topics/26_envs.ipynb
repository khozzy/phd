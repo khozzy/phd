{
 "cells": [
  {
   "cell_type": "code",
   "execution_count": 12,
   "outputs": [],
   "source": [
    "import pylab\n",
    "import matplotlib.pyplot as plt\n",
    "import pathlib\n",
    "import gym\n",
    "\n",
    "plt.ioff()  # turn off interactive plotting\n",
    "\n",
    "plot_dir = f'{pathlib.Path().absolute()}/plots'\n",
    "\n",
    "PLOT_DPI = 200"
   ],
   "metadata": {
    "collapsed": false,
    "pycharm": {
     "name": "#%%\n"
    }
   }
  },
  {
   "cell_type": "markdown",
   "metadata": {
    "collapsed": true,
    "pycharm": {
     "name": "#%% md\n"
    }
   },
   "source": [
    "# Overview of the selected environments\n",
    "\n",
    "Corridor, Grid, RMPX, Checkerboard, CartPole, FSW, WoodsX"
   ]
  },
  {
   "cell_type": "markdown",
   "source": [
    "## Checkerboard"
   ],
   "metadata": {
    "collapsed": false,
    "pycharm": {
     "name": "#%% md\n"
    }
   }
  },
  {
   "cell_type": "code",
   "execution_count": 25,
   "outputs": [],
   "source": [
    "%%capture\n",
    "\n",
    "import gym_checkerboard  # noqa: F401\n",
    "\n",
    "pylab.ioff()\n",
    "\n",
    "checkerboard_env = gym.make('checkerboard-2D-3div-v0')\n",
    "checkerboard_env.reset()\n",
    "\n",
    "np_board = checkerboard_env.env._board.board\n",
    "\n",
    "fig = plt.figure()\n",
    "ax = fig.add_subplot(111)\n",
    "\n",
    "ax.matshow(np_board, cmap=plt.get_cmap('gray_r'), extent=(0, 1, 0, 1), alpha=.5)\n",
    "ax.set_xlabel(\"x\")\n",
    "ax.set_ylabel(\"y\")\n",
    "\n",
    "fig.savefig(f'{plot_dir}/checkerboard-env.png', dpi=PLOT_DPI)\n",
    "\n",
    "pylab.ion()"
   ],
   "metadata": {
    "collapsed": false,
    "pycharm": {
     "name": "#%%\n"
    }
   }
  },
  {
   "cell_type": "markdown",
   "source": [
    ":::{figure-md} checkerboard-env\n",
    "<img src=\"plots/checkerboard-env.png\">\n",
    "\n",
    "The checkerboard environment\n",
    ":::"
   ],
   "metadata": {
    "collapsed": false,
    "pycharm": {
     "name": "#%% md\n"
    }
   }
  }
 ],
 "metadata": {
  "kernelspec": {
   "display_name": "Python 3",
   "language": "python",
   "name": "python3"
  },
  "language_info": {
   "codemirror_mode": {
    "name": "ipython",
    "version": 2
   },
   "file_extension": ".py",
   "mimetype": "text/x-python",
   "name": "python",
   "nbconvert_exporter": "python",
   "pygments_lexer": "ipython2",
   "version": "2.7.6"
  }
 },
 "nbformat": 4,
 "nbformat_minor": 0
}