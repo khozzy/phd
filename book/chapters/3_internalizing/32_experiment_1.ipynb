{
 "cells": [
  {
   "cell_type": "code",
   "execution_count": 4,
   "metadata": {
    "pycharm": {
     "name": "#%%\n"
    },
    "tags": [
     "hide-input"
    ]
   },
   "outputs": [],
   "source": [
    "import pathlib\n",
    "from typing import List\n",
    "\n",
    "import gym\n",
    "import gym_multiplexer  # noqa: F401\n",
    "import lcs.agents.racs as racs\n",
    "import matplotlib.pyplot as plt\n",
    "import matplotlib.ticker as ticker\n",
    "import pandas as pd\n",
    "from IPython.display import display, HTML\n",
    "from lcs.representations.RealValueEncoder import RealValueEncoder\n",
    "from tabulate import tabulate\n",
    "from myst_nb import glue\n",
    "\n",
    "\n",
    "from src.bayes_estimation import bayes_estimate\n",
    "from src.decorators import repeat, get_from_cache_or_run\n",
    "from src.visualization import PLOT_DPI\n",
    "\n",
    "plt.ioff()  # turn off interactive plotting\n",
    "\n",
    "cache_dir = f'{pathlib.Path().absolute()}/cache'\n",
    "plot_dir = f'{pathlib.Path().absolute()}/plots'\n",
    "\n",
    "\n",
    "def encode(p, bits):\n",
    "    return int(RealValueEncoder(bits).encode(p))\n",
    "\n",
    "\n",
    "def metrics_to_df(metrics: List) -> pd.DataFrame:\n",
    "    lst = [[d['trial'], d['reward'], d['population'], d['reliable']] for d in metrics]\n",
    "\n",
    "    df = pd.DataFrame(lst, columns=['trial', 'reward', 'population', 'reliable'])\n",
    "    df = df.set_index('trial')\n",
    "    df['phase'] = df.index.map(lambda t: \"explore\" if t % 2 == 0 else \"exploit\")\n",
    "\n",
    "    return df\n",
    "\n",
    "\n",
    "def average_experiment_runs(runs_dfs: List[pd.DataFrame]) -> pd.DataFrame:\n",
    "    return pd.concat(runs_dfs).groupby(['trial', 'phase']).mean().reset_index(level='phase')\n",
    "\n",
    "\n",
    "def single_experiment(env_provider, encoder_bits, trials):\n",
    "    env = env_provider()\n",
    "    env.reset()\n",
    "\n",
    "    def _metrics(agent, environment):\n",
    "        population = agent.population\n",
    "        return {\n",
    "            'population': len(population),\n",
    "            'numerosity': sum(cl.num for cl in population),\n",
    "            'reliable': len([cl for cl in population if cl.is_reliable()])\n",
    "        }\n",
    "\n",
    "    cfg = racs.Configuration(\n",
    "        classifier_length=env.observation_space.shape[0],\n",
    "        number_of_possible_actions=env.action_space.n,\n",
    "        encoder=RealValueEncoder(encoder_bits),\n",
    "        metrics_trial_frequency=5,\n",
    "        user_metrics_collector_fcn=_metrics,\n",
    "        epsilon=1.0,  # no biased exploration\n",
    "        do_ga=True,\n",
    "        theta_r=0.9,\n",
    "        theta_i=0.2,\n",
    "        theta_ga=100,\n",
    "        cover_noise=0,\n",
    "        mutation_noise=0.25,\n",
    "        chi=1.0,\n",
    "        mu=0.1)\n",
    "\n",
    "    # create agent\n",
    "    agent = racs.RACS(cfg)\n",
    "\n",
    "    # run computations\n",
    "    metrics = agent.explore_exploit(env, trials)\n",
    "\n",
    "    return metrics_to_df(metrics)\n",
    "\n",
    "\n",
    "def plot(df, fig_title, plot_filename=None):\n",
    "    major_ticker_freq = 4000\n",
    "\n",
    "    # separate explore/exploit data\n",
    "    explore_df = df[df['phase'] == 'explore']\n",
    "    exploit_df = df[df['phase'] == 'exploit']\n",
    "\n",
    "    fig, (ax1, ax2) = plt.subplots(1, 2, figsize=(15, 5))\n",
    "    fig.suptitle(fig_title, fontsize=14)\n",
    "\n",
    "    # plot 1 - average reward\n",
    "    explore_df['reward'].rolling(window=50).mean().plot(label='explore', ax=ax1)\n",
    "    exploit_df['reward'].rolling(window=50).mean().plot(label='exploit', ax=ax1)\n",
    "\n",
    "    ax1.axhline(y=500, color='black', linestyle='--', linewidth=1)\n",
    "    ax1.axhline(y=1000, color='black', linestyle='--', linewidth=1)\n",
    "    ax1.set_title('Average reward')\n",
    "    ax1.set_xlabel('Trial')\n",
    "    ax1.set_ylabel('Average reward')\n",
    "    ax1.set_ylim(400, 1100)\n",
    "    ax1.xaxis.set_major_locator(ticker.MultipleLocator(major_ticker_freq))\n",
    "    ax1.legend()\n",
    "\n",
    "    # plot 2 - number of classifiers\n",
    "    df['population'].plot(label='population', ax=ax2)\n",
    "    df['reliable'].plot(label='reliable', ax=ax2)\n",
    "\n",
    "    ax2.set_title(\"Classifiers evolution\")\n",
    "    ax2.set_xlabel('Trial')\n",
    "    ax2.set_ylabel('# Classifiers')\n",
    "    ax2.xaxis.set_major_locator(ticker.MultipleLocator(major_ticker_freq))\n",
    "    ax2.legend()\n",
    "\n",
    "    if plot_filename:\n",
    "        fig.savefig(plot_filename, dpi=PLOT_DPI)\n",
    "\n",
    "    return fig"
   ]
  },
  {
   "cell_type": "markdown",
   "metadata": {
    "collapsed": true,
    "pycharm": {
     "name": "#%% md\n"
    }
   },
   "source": [
    "# Experiment 1 - Encoding precision\n",
    "Info about algorithms, environments used, metrics collected, methods, reproducibility, statistical verification\n",
    "\n",
    "Due to the increased complexity for larger MPX the questions (impact of bits) will be validated on smaller instance\n",
    "\n",
    "\n",
    "## Setup\n",
    ".."
   ]
  },
  {
   "cell_type": "code",
   "execution_count": 5,
   "metadata": {
    "pycharm": {
     "name": "#%%\n"
    },
    "tags": [
     "hide-input"
    ]
   },
   "outputs": [],
   "source": [
    "NUM_EXPERIMENTS = 50\n",
    "TRIALS = 20_000\n",
    "USE_RAY = True\n",
    "\n",
    "\n",
    "def rmpx3bit_env_provider():\n",
    "    import gym_multiplexer  # noqa: F401\n",
    "    return gym.make('real-multiplexer-3bit-v0')\n",
    "\n",
    "\n",
    "@get_from_cache_or_run(cache_path=f'{cache_dir}/rmpx_3bit/encoding_1bit.dill')\n",
    "@repeat(num_times=NUM_EXPERIMENTS, use_ray=USE_RAY)\n",
    "def run_3bit_rmpx_1bit_encoding():\n",
    "    return single_experiment(rmpx3bit_env_provider, encoder_bits=1, trials=TRIALS)\n",
    "\n",
    "\n",
    "@get_from_cache_or_run(cache_path=f'{cache_dir}/rmpx_3bit/encoding_2bit.dill')\n",
    "@repeat(num_times=NUM_EXPERIMENTS, use_ray=USE_RAY)\n",
    "def run_3bit_rmpx_2bit_encoding():\n",
    "    return single_experiment(rmpx3bit_env_provider, encoder_bits=2, trials=TRIALS)\n",
    "\n",
    "\n",
    "@get_from_cache_or_run(cache_path=f'{cache_dir}/rmpx_3bit/encoding_3bit.dill')\n",
    "@repeat(num_times=NUM_EXPERIMENTS, use_ray=USE_RAY)\n",
    "def run_3bit_rmpx_3bit_encoding():\n",
    "    return single_experiment(rmpx3bit_env_provider, encoder_bits=3, trials=TRIALS)\n",
    "\n",
    "\n",
    "@get_from_cache_or_run(cache_path=f'{cache_dir}/rmpx_3bit/encoding_4bit.dill')\n",
    "@repeat(num_times=NUM_EXPERIMENTS, use_ray=USE_RAY)\n",
    "def run_3bit_rmpx_4bit_encoding():\n",
    "    return single_experiment(rmpx3bit_env_provider, encoder_bits=4, trials=TRIALS)\n",
    "\n",
    "\n",
    "# run computations\n",
    "rmpx3bit_encoding_1bit_results = run_3bit_rmpx_1bit_encoding()\n",
    "rmpx3bit_encoding_2bit_results = run_3bit_rmpx_2bit_encoding()\n",
    "rmpx3bit_encoding_3bit_results = run_3bit_rmpx_3bit_encoding()\n",
    "rmpx3bit_encoding_4bit_results = run_3bit_rmpx_4bit_encoding()\n",
    "\n",
    "glue(\"f1\", plot(average_experiment_runs(rmpx3bit_encoding_1bit_results), '3bit rMPX with 1bit UBR encoding', plot_filename=f'{plot_dir}/rmpx_3bit_encoding_1bit.png'), display=False)\n",
    "glue(\"f2\", plot(average_experiment_runs(rmpx3bit_encoding_2bit_results), '3bit rMPX with 2bit UBR encoding', plot_filename=f'{plot_dir}/rmpx_3bit_encoding_2bit.png'), display=False)\n",
    "glue(\"f3\", plot(average_experiment_runs(rmpx3bit_encoding_3bit_results), '3bit rMPX with 3bit UBR encoding', plot_filename=f'{plot_dir}/rmpx_3bit_encoding_3bit.png'), display=False)\n",
    "glue(\"f4\", plot(average_experiment_runs(rmpx3bit_encoding_4bit_results), '3bit rMPX with 4bit UBR encoding', plot_filename=f'{plot_dir}/rmpx_3bit_encoding_4bit.png'), display=False)"
   ]
  },
  {
   "cell_type": "markdown",
   "source": [
    "````{tabbed} 1 bit encoding\n",
    "```{glue:figure} f1\n",
    ":name: \"rmpx3bit-enc1bit-fig\"\n",
    "Performance in 3bit rMPX UBR with 1bit\n",
    "```\n",
    "````\n",
    "\n",
    "````{tabbed} 2 bit encoding\n",
    "```{glue:figure} f2\n",
    ":name: \"rmpx3bit-enc2bit-fig\"\n",
    "Performance in 3bit rMPX UBR with 2bit\n",
    "````\n",
    "\n",
    "````{tabbed} 3 bit encoding\n",
    "```{glue:figure} f3\n",
    ":name: \"rmpx3bit-enc3bit-fig\"\n",
    "Performance in 3bit rMPX UBR with 3bit\n",
    "````\n",
    "\n",
    "````{tabbed} 4 bit encoding\n",
    "```{glue:figure} f4\n",
    ":name: \"rmpx3bit-enc4bit-fig\"\n",
    "Performance in 3bit rMPX UBR with 4bit\n",
    "````"
   ],
   "metadata": {
    "collapsed": false,
    "pycharm": {
     "name": "#%% md\n"
    }
   }
  },
  {
   "cell_type": "markdown",
   "metadata": {
    "pycharm": {
     "name": "#%% md\n"
    }
   },
   "source": [
    "## Statistical verification\n",
    "\n",
    "```{admonition} Hypothesis testing\n",
    ":class: tip\n",
    "Table below presents posterior data generated from Bayesian model regarding population sizes in the last trial when using different encoding values. Since the reward obtained by the agent can be either 0 or 1000, it's average value over last 100 exploit trials is also presented.\n",
    "```"
   ]
  },
  {
   "cell_type": "code",
   "execution_count": 7,
   "metadata": {
    "pycharm": {
     "name": "#%%\n"
    },
    "tags": [
     "hide-input"
    ]
   },
   "outputs": [
    {
     "data": {
      "text/plain": "<IPython.core.display.HTML object>",
      "text/html": "<table>\n<thead>\n<tr><th style=\"text-align: right;\">                                 </th><th style=\"text-align: right;\">      1 bit</th><th style=\"text-align: right;\">       2 bit</th><th style=\"text-align: right;\">          3 bit</th><th style=\"text-align: right;\">         4 bit</th></tr>\n</thead>\n<tbody>\n<tr><td style=\"text-align: right;\">        population of classifiers</td><td style=\"text-align: right;\"> 8.8 ± 0.13</td><td style=\"text-align: right;\">29.58 ± 0.71</td><td style=\"text-align: right;\">1392.25 ± 25.68</td><td style=\"text-align: right;\">5892.82 ± 86.8</td></tr>\n<tr><td style=\"text-align: right;\">             reliable classifiers</td><td style=\"text-align: right;\">8.75 ± 0.12</td><td style=\"text-align: right;\">28.47 ± 0.54</td><td style=\"text-align: right;\">  127.08 ± 2.33</td><td style=\"text-align: right;\">   44.35 ± 1.6</td></tr>\n<tr><td style=\"text-align: right;\">reward from last 100 exploit runs</td><td style=\"text-align: right;\">     1000.0</td><td style=\"text-align: right;\">       998.6</td><td style=\"text-align: right;\">          974.6</td><td style=\"text-align: right;\">         927.6</td></tr>\n</tbody>\n</table>"
     },
     "metadata": {},
     "output_type": "display_data"
    }
   ],
   "source": [
    "@get_from_cache_or_run(cache_path=f'{cache_dir}/rmpx_3bit/bayes_population.dill')\n",
    "def build_population_models(dfs: List[pd.DataFrame]):\n",
    "    query_condition = f'trial == {TRIALS}'  # last phase\n",
    "    results = []\n",
    "    for df in dfs:\n",
    "        data_arr = df.query(query_condition)['population'].to_numpy()\n",
    "        bayes_model = bayes_estimate(data_arr)\n",
    "        results.append((bayes_model['mu'], bayes_model['std']))\n",
    "\n",
    "    return results\n",
    "\n",
    "\n",
    "@get_from_cache_or_run(cache_path=f'{cache_dir}/rmpx_3bit/bayes_reliable.dill')\n",
    "def build_reliable_models(dfs: List[pd.DataFrame]):\n",
    "    query_condition = f'trial == {TRIALS}'  # last phase\n",
    "    results = []\n",
    "    for df in dfs:\n",
    "        data_arr = df.query(query_condition)['reliable'].to_numpy()\n",
    "        bayes_model = bayes_estimate(data_arr)\n",
    "        results.append((bayes_model['mu'], bayes_model['std']))\n",
    "\n",
    "    return results\n",
    "\n",
    "def get_average_reward(dfs: List[pd.DataFrame], last_n_runs: int = 100):\n",
    "    results = []\n",
    "    for df in dfs:\n",
    "        avg_reward = df.query('phase == \"exploit\"').groupby('trial').mean().iloc[-last_n_runs:]['reward'].mean()\n",
    "        results.append(avg_reward)\n",
    "    return results\n",
    "\n",
    "bayes_results_dfs = [\n",
    "    pd.concat(rmpx3bit_encoding_1bit_results),\n",
    "    pd.concat(rmpx3bit_encoding_2bit_results),\n",
    "    pd.concat(rmpx3bit_encoding_3bit_results),\n",
    "    pd.concat(rmpx3bit_encoding_4bit_results)\n",
    "]\n",
    "\n",
    "population_models = build_population_models(bayes_results_dfs)\n",
    "reliable_models = build_reliable_models(bayes_results_dfs)\n",
    "avg_rewards = get_average_reward(bayes_results_dfs)\n",
    "\n",
    "bayes_table_data = [\n",
    "    ['population of classifiers'] + [f'{round(r[0].mean(), 2)} ± {round(r[0].std(), 2)}' for r in population_models],\n",
    "    ['reliable classifiers'] + [f'{round(r[0].mean(), 2)} ± {round(r[0].std(), 2)}' for r in reliable_models],\n",
    "    ['reward from last 100 exploit runs'] + [f'{round(r, 2)}' for r in avg_rewards],\n",
    "]\n",
    "\n",
    "table = tabulate(bayes_table_data, headers=['', '1 bit', '2 bit', '3 bit', '4 bit'], tablefmt=\"html\", stralign='right')\n",
    "display(HTML(table))"
   ]
  },
  {
   "cell_type": "markdown",
   "metadata": {
    "pycharm": {
     "name": "#%% md\n"
    }
   },
   "source": [
    "## Observations\n",
    "What conclusions can be drawn?"
   ]
  }
 ],
 "metadata": {
  "celltoolbar": "Tags",
  "kernelspec": {
   "display_name": "Python 3 (ipykernel)",
   "language": "python",
   "name": "python3"
  },
  "language_info": {
   "codemirror_mode": {
    "name": "ipython",
    "version": 3
   },
   "file_extension": ".py",
   "mimetype": "text/x-python",
   "name": "python",
   "nbconvert_exporter": "python",
   "pygments_lexer": "ipython3",
   "version": "3.9.7"
  }
 },
 "nbformat": 4,
 "nbformat_minor": 1
}