{
 "cells": [
  {
   "cell_type": "code",
   "execution_count": 1,
   "metadata": {
    "pycharm": {
     "name": "#%%\n"
    },
    "tags": [
     "hide-input"
    ]
   },
   "outputs": [],
   "source": [
    "import sys\n",
    "\n",
    "# put custom scripts to module path\n",
    "sys.path.append('../../..')"
   ]
  },
  {
   "cell_type": "code",
   "execution_count": 3,
   "metadata": {
    "pycharm": {
     "name": "#%%\n"
    },
    "tags": [
     "hide-input"
    ]
   },
   "outputs": [],
   "source": [
    "import pathlib\n",
    "\n",
    "import gym\n",
    "import gym_multiplexer  # noqa: F401\n",
    "import lcs.agents.racs as racs\n",
    "import matplotlib.pyplot as plt\n",
    "import matplotlib.ticker as ticker\n",
    "import numpy as np\n",
    "import pandas as pd\n",
    "from lcs.representations.RealValueEncoder import RealValueEncoder\n",
    "from src.decorators import repeat, get_from_cache_or_run\n",
    "\n",
    "from typing import List\n",
    "\n",
    "plt.ioff()  # turn off interactive plotting\n",
    "\n",
    "cache_dir = f'{pathlib.Path().absolute()}/cache'\n",
    "plot_dir = f'{pathlib.Path().absolute()}/plots'\n",
    "PLOT_DPI = 200\n",
    "\n",
    "\n",
    "def encode(p, bits):\n",
    "    return int(RealValueEncoder(bits).encode(p))\n",
    "\n",
    "def metrics_to_df(metrics: List) -> pd.DataFrame:\n",
    "    lst = [[d['trial'], d['reward'], d['population'], d['reliable']] for d in metrics]\n",
    "\n",
    "    df = pd.DataFrame(lst, columns=['trial', 'reward', 'population', 'reliable'])\n",
    "    df = df.set_index('trial')\n",
    "    df['phase'] = df.index.map(lambda t: \"explore\" if t % 2 == 0 else \"exploit\")\n",
    "\n",
    "    return df\n",
    "\n",
    "def average_experiment_runs(runs_dfs: List[pd.DataFrame]) -> pd.DataFrame:\n",
    "    return pd.concat(runs_dfs).groupby(['trial', 'phase']).mean().reset_index(level='phase')\n",
    "\n",
    "def single_rmpx_experiment(env_provider, encoder_bits, trials):\n",
    "    env = env_provider()\n",
    "    env.reset()\n",
    "\n",
    "    def _metrics(agent, environment):\n",
    "        population = agent.population\n",
    "        return {\n",
    "            'population': len(population),\n",
    "            'numerosity': sum(cl.num for cl in population),\n",
    "            'reliable': len([cl for cl in population if cl.is_reliable()])\n",
    "        }\n",
    "\n",
    "    cfg = racs.Configuration(\n",
    "        classifier_length=env.observation_space.shape[0],\n",
    "        number_of_possible_actions=env.action_space.n,\n",
    "        encoder=RealValueEncoder(encoder_bits),\n",
    "        metrics_trial_frequency=5,\n",
    "        user_metrics_collector_fcn=_metrics,\n",
    "        epsilon=1.0,  # no biased exploration\n",
    "        do_ga=True,\n",
    "        theta_r=0.9,\n",
    "        theta_i=0.2,\n",
    "        theta_ga=100,\n",
    "        cover_noise=0,\n",
    "        mutation_noise=0.25,\n",
    "        chi=1.0,\n",
    "        mu=0.1)\n",
    "\n",
    "    # create agent\n",
    "    agent = racs.RACS(cfg)\n",
    "\n",
    "    # run computations\n",
    "    metrics = agent.explore_exploit(env, trials)\n",
    "\n",
    "    return metrics_to_df(metrics)\n",
    "\n",
    "def plot(df, fig_title, plot_filename=None):\n",
    "    major_ticker_freq = 4000\n",
    "\n",
    "    # separate explore/exploit data\n",
    "    explore_df = df[df['phase'] == 'explore']\n",
    "    exploit_df = df[df['phase'] == 'exploit']\n",
    "\n",
    "    fig, (ax1, ax2) = plt.subplots(1, 2, figsize=(10, 5))\n",
    "    fig.suptitle(fig_title, fontsize=14)\n",
    "\n",
    "    # plot 1 - average reward\n",
    "    explore_df['reward'].rolling(window=50).mean().plot(label='explore', ax=ax1)\n",
    "    exploit_df['reward'].rolling(window=50).mean().plot(label='exploit', ax=ax1)\n",
    "\n",
    "    ax1.axhline(y=500, color='black', linestyle='--', linewidth=1)\n",
    "    ax1.axhline(y=1000, color='black', linestyle='--', linewidth=1)\n",
    "    ax1.set_title('Average reward')\n",
    "    ax1.set_xlabel('Trial')\n",
    "    ax1.set_ylabel('Average reward')\n",
    "    ax1.set_ylim(400, 1100)\n",
    "    ax1.xaxis.set_major_locator(ticker.MultipleLocator(major_ticker_freq))\n",
    "    ax1.legend()\n",
    "\n",
    "    # plot 2 - number of classifiers\n",
    "    df['population'].plot(label='population', ax=ax2)\n",
    "    df['reliable'].plot(label='reliable', ax=ax2)\n",
    "\n",
    "    ax2.set_title(\"Classifiers evolution\")\n",
    "    ax2.set_xlabel('Trial')\n",
    "    ax2.set_ylabel('# Classifiers')\n",
    "    ax2.xaxis.set_major_locator(ticker.MultipleLocator(major_ticker_freq))\n",
    "    ax2.legend()\n",
    "\n",
    "    if plot_filename:\n",
    "        fig.savefig(plot_filename, dpi=PLOT_DPI)"
   ]
  },
  {
   "cell_type": "markdown",
   "metadata": {
    "collapsed": true,
    "pycharm": {
     "name": "#%% md\n"
    }
   },
   "source": [
    "# Experiment 1 - Encoding precision\n",
    "Info about algorithms, environments used, metrics collected, methods, reproducibility, statistical verification\n",
    "\n",
    "Due to the increased complexity for larger MPX the questions (impact of bits) will be validated on smaller instance\n",
    "\n",
    "\n",
    "## Setup\n",
    ".."
   ]
  },
  {
   "cell_type": "code",
   "execution_count": 4,
   "metadata": {
    "pycharm": {
     "name": "#%%\n"
    },
    "tags": [
     "hide-input"
    ]
   },
   "outputs": [],
   "source": [
    "NUM_EXPERIMENTS = 50\n",
    "TRIALS = 20_000\n",
    "USE_RAY = True\n",
    "\n",
    "def rmpx3bit_env_provider():\n",
    "    import gym_multiplexer  # noqa: F401\n",
    "    return gym.make('real-multiplexer-3bit-v0')\n",
    "\n",
    "@get_from_cache_or_run(cache_path=f'{cache_dir}/rmpx_3bit/encoding_1bit.dill')\n",
    "@repeat(num_times=NUM_EXPERIMENTS, use_ray=USE_RAY)\n",
    "def run_3bit_rmpx_1bit_encoding():\n",
    "    return single_rmpx_experiment(rmpx3bit_env_provider, encoder_bits=1, trials=TRIALS)\n",
    "\n",
    "@get_from_cache_or_run(cache_path=f'{cache_dir}/rmpx_3bit/encoding_2bit.dill')\n",
    "@repeat(num_times=NUM_EXPERIMENTS, use_ray=USE_RAY)\n",
    "def run_3bit_rmpx_2bit_encoding():\n",
    "    return single_rmpx_experiment(rmpx3bit_env_provider, encoder_bits=2, trials=TRIALS)\n",
    "\n",
    "@get_from_cache_or_run(cache_path=f'{cache_dir}/rmpx_3bit/encoding_3bit.dill')\n",
    "@repeat(num_times=NUM_EXPERIMENTS, use_ray=USE_RAY)\n",
    "def run_3bit_rmpx_3bit_encoding():\n",
    "    return single_rmpx_experiment(rmpx3bit_env_provider, encoder_bits=3, trials=TRIALS)\n",
    "\n",
    "@get_from_cache_or_run(cache_path=f'{cache_dir}/rmpx_3bit/encoding_4bit.dill')\n",
    "@repeat(num_times=NUM_EXPERIMENTS, use_ray=USE_RAY)\n",
    "def run_3bit_rmpx_4bit_encoding():\n",
    "    return single_rmpx_experiment(rmpx3bit_env_provider, encoder_bits=4, trials=TRIALS)\n",
    "\n",
    "# run computations\n",
    "rmpx3bit_encoding_1bit_results = run_3bit_rmpx_1bit_encoding()\n",
    "rmpx3bit_encoding_2bit_results = run_3bit_rmpx_2bit_encoding()\n",
    "rmpx3bit_encoding_3bit_results = run_3bit_rmpx_3bit_encoding()\n",
    "rmpx3bit_encoding_4bit_results = run_3bit_rmpx_4bit_encoding()"
   ]
  },
  {
   "cell_type": "code",
   "execution_count": 5,
   "metadata": {
    "pycharm": {
     "name": "#%%\n"
    },
    "tags": [
     "hide-input"
    ]
   },
   "outputs": [],
   "source": [
    "%%capture\n",
    "\n",
    "plot(average_experiment_runs(rmpx3bit_encoding_1bit_results), '3bit rMPX with 1bit UBR encoding', plot_filename=f'{plot_dir}/rmpx_3bit_encoding_1bit.png')\n",
    "plot(average_experiment_runs(rmpx3bit_encoding_2bit_results), '3bit rMPX with 2bit UBR encoding', plot_filename=f'{plot_dir}/rmpx_3bit_encoding_2bit.png')\n",
    "plot(average_experiment_runs(rmpx3bit_encoding_3bit_results), '3bit rMPX with 3bit UBR encoding', plot_filename=f'{plot_dir}/rmpx_3bit_encoding_3bit.png')\n",
    "plot(average_experiment_runs(rmpx3bit_encoding_4bit_results), '3bit rMPX with 4bit UBR encoding', plot_filename=f'{plot_dir}/rmpx_3bit_encoding_4bit.png')"
   ]
  },
  {
   "cell_type": "markdown",
   "metadata": {
    "pycharm": {
     "name": "#%% md\n"
    }
   },
   "source": [
    ":::{figure-md} rmpx3bit-enc1bit-fig\n",
    ":class: full-width\n",
    "<img src=\"plots/rmpx_3bit_encoding_1bit.png\">\n",
    "\n",
    "Performance in 3bit rMPX UBR with 1bit\n",
    ":::\n",
    "\n",
    ":::{figure-md} rmpx3bit-enc2bit-fig\n",
    ":class: full-width\n",
    "<img src=\"plots/rmpx_3bit_encoding_2bit.png\">\n",
    "\n",
    "Performance in 3bit rMPX UBR with 2bit\n",
    ":::\n",
    "\n",
    ":::{figure-md} rmpx3bit-enc3bit-fig\n",
    ":class: full-width\n",
    "<img src=\"plots/rmpx_3bit_encoding_3bit.png\">\n",
    "\n",
    "Performance in 3bit rMPX UBR with 3bit\n",
    ":::\n",
    "\n",
    ":::{figure-md} rmpx3bit-enc4bit-fig\n",
    ":class: full-width\n",
    "<img src=\"plots/rmpx_3bit_encoding_4bit.png\">\n",
    "\n",
    "Performance in 3bit rMPX UBR with 4bit\n",
    ":::"
   ]
  },
  {
   "cell_type": "markdown",
   "metadata": {
    "pycharm": {
     "name": "#%% md\n"
    }
   },
   "source": [
    "## Observations\n",
    "What conclusions can be drawn?"
   ]
  },
  {
   "cell_type": "code",
   "execution_count": 6,
   "metadata": {
    "pycharm": {
     "name": "#%%\n"
    },
    "tags": [
     "hide-input"
    ]
   },
   "outputs": [],
   "source": [
    "def encode_array(arr, bits):\n",
    "    return np.fromiter((encode(x, bits=bits) for x in arr), int)\n",
    "\n",
    "\n",
    "def plot_checkerboard_splits(splits, bits, points=100):\n",
    "    fig = plt.figure(figsize=(12, 5))\n",
    "    ax = fig.add_subplot(111)\n",
    "\n",
    "    # Visualize splits\n",
    "    for k in np.linspace(0, 1, splits + 1):\n",
    "        ax.axvline(x=k, ymin=0, ymax=1, linewidth=1, linestyle=':', color='black')\n",
    "\n",
    "    # Add some points\n",
    "    x = np.random.random(points)\n",
    "    y = np.random.random(points)\n",
    "    colors = encode_array(x, bits)\n",
    "    ax.scatter(x, y, c=colors, s=20, alpha=.8)\n",
    "\n",
    "    for i, txt in enumerate(colors):\n",
    "        ax.annotate(txt, xy=(x[i] + .005, y[i] + .005), size=8, alpha=.8)\n",
    "\n",
    "    ax.set_title(f\"{bits}-bit encoder mapping on {splits} checkerboard splits\")\n",
    "    ax.set_xlabel(\"Perception value\")\n",
    "    ax.set_ylim(-0.2, 1.2)\n",
    "    ax.get_yaxis().set_visible(False)\n",
    "\n",
    "    fig.savefig(f'{plot_dir}/checkerboard_{splits}_splits_{bits}_bits.png', dpi=PLOT_DPI)"
   ]
  },
  {
   "cell_type": "code",
   "execution_count": 7,
   "metadata": {
    "pycharm": {
     "name": "#%%\n"
    },
    "tags": [
     "hide-input"
    ]
   },
   "outputs": [],
   "source": [
    "%%capture\n",
    "plot_checkerboard_splits(splits=3, bits=4)"
   ]
  },
  {
   "cell_type": "markdown",
   "metadata": {
    "pycharm": {
     "name": "#%% md\n"
    }
   },
   "source": [
    ":::{figure-md} checkerboard-3-splits-4-bits\n",
    ":class: full-width\n",
    "<img src=\"plots/checkerboard_3_splits_4_bits.png\">\n",
    "\n",
    "Checkerboard splits\n",
    ":::"
   ]
  },
  {
   "cell_type": "markdown",
   "metadata": {
    "pycharm": {
     "name": "#%% md\n"
    }
   },
   "source": [
    "To highlight the impact of selecting proper bit number for the encoding the following table highlights the number of distinct values for each perception step (increased by `0.1`)."
   ]
  },
  {
   "cell_type": "code",
   "execution_count": 8,
   "metadata": {
    "pycharm": {
     "name": "#%%\n"
    },
    "tags": [
     "hide-input"
    ]
   },
   "outputs": [
    {
     "data": {
      "text/html": [
       "<div>\n",
       "<style scoped>\n",
       "    .dataframe tbody tr th:only-of-type {\n",
       "        vertical-align: middle;\n",
       "    }\n",
       "\n",
       "    .dataframe tbody tr th {\n",
       "        vertical-align: top;\n",
       "    }\n",
       "\n",
       "    .dataframe thead th {\n",
       "        text-align: right;\n",
       "    }\n",
       "</style>\n",
       "<table border=\"1\" class=\"dataframe\">\n",
       "  <thead>\n",
       "    <tr style=\"text-align: right;\">\n",
       "      <th></th>\n",
       "      <th>1-bit</th>\n",
       "      <th>2-bit</th>\n",
       "      <th>3-bit</th>\n",
       "      <th>4-bit</th>\n",
       "      <th>5-bit</th>\n",
       "      <th>6-bit</th>\n",
       "      <th>7-bit</th>\n",
       "    </tr>\n",
       "    <tr>\n",
       "      <th>Perception</th>\n",
       "      <th></th>\n",
       "      <th></th>\n",
       "      <th></th>\n",
       "      <th></th>\n",
       "      <th></th>\n",
       "      <th></th>\n",
       "      <th></th>\n",
       "    </tr>\n",
       "  </thead>\n",
       "  <tbody>\n",
       "    <tr>\n",
       "      <th>0.0</th>\n",
       "      <td>0</td>\n",
       "      <td>0</td>\n",
       "      <td>0</td>\n",
       "      <td>0</td>\n",
       "      <td>0</td>\n",
       "      <td>0</td>\n",
       "      <td>0</td>\n",
       "    </tr>\n",
       "    <tr>\n",
       "      <th>0.1</th>\n",
       "      <td>0</td>\n",
       "      <td>0</td>\n",
       "      <td>0</td>\n",
       "      <td>1</td>\n",
       "      <td>3</td>\n",
       "      <td>6</td>\n",
       "      <td>12</td>\n",
       "    </tr>\n",
       "    <tr>\n",
       "      <th>0.2</th>\n",
       "      <td>0</td>\n",
       "      <td>0</td>\n",
       "      <td>1</td>\n",
       "      <td>3</td>\n",
       "      <td>6</td>\n",
       "      <td>12</td>\n",
       "      <td>25</td>\n",
       "    </tr>\n",
       "    <tr>\n",
       "      <th>0.3</th>\n",
       "      <td>0</td>\n",
       "      <td>1</td>\n",
       "      <td>2</td>\n",
       "      <td>4</td>\n",
       "      <td>9</td>\n",
       "      <td>19</td>\n",
       "      <td>38</td>\n",
       "    </tr>\n",
       "    <tr>\n",
       "      <th>0.4</th>\n",
       "      <td>0</td>\n",
       "      <td>1</td>\n",
       "      <td>3</td>\n",
       "      <td>6</td>\n",
       "      <td>12</td>\n",
       "      <td>25</td>\n",
       "      <td>51</td>\n",
       "    </tr>\n",
       "    <tr>\n",
       "      <th>0.5</th>\n",
       "      <td>1</td>\n",
       "      <td>2</td>\n",
       "      <td>4</td>\n",
       "      <td>8</td>\n",
       "      <td>16</td>\n",
       "      <td>32</td>\n",
       "      <td>64</td>\n",
       "    </tr>\n",
       "    <tr>\n",
       "      <th>0.6</th>\n",
       "      <td>1</td>\n",
       "      <td>2</td>\n",
       "      <td>4</td>\n",
       "      <td>9</td>\n",
       "      <td>19</td>\n",
       "      <td>38</td>\n",
       "      <td>76</td>\n",
       "    </tr>\n",
       "    <tr>\n",
       "      <th>0.7</th>\n",
       "      <td>1</td>\n",
       "      <td>2</td>\n",
       "      <td>5</td>\n",
       "      <td>11</td>\n",
       "      <td>22</td>\n",
       "      <td>44</td>\n",
       "      <td>89</td>\n",
       "    </tr>\n",
       "    <tr>\n",
       "      <th>0.8</th>\n",
       "      <td>1</td>\n",
       "      <td>3</td>\n",
       "      <td>6</td>\n",
       "      <td>12</td>\n",
       "      <td>25</td>\n",
       "      <td>51</td>\n",
       "      <td>102</td>\n",
       "    </tr>\n",
       "    <tr>\n",
       "      <th>0.9</th>\n",
       "      <td>1</td>\n",
       "      <td>3</td>\n",
       "      <td>7</td>\n",
       "      <td>14</td>\n",
       "      <td>28</td>\n",
       "      <td>57</td>\n",
       "      <td>115</td>\n",
       "    </tr>\n",
       "    <tr>\n",
       "      <th>1.0</th>\n",
       "      <td>1</td>\n",
       "      <td>3</td>\n",
       "      <td>7</td>\n",
       "      <td>15</td>\n",
       "      <td>31</td>\n",
       "      <td>63</td>\n",
       "      <td>127</td>\n",
       "    </tr>\n",
       "  </tbody>\n",
       "</table>\n",
       "</div>"
      ],
      "text/plain": [
       "            1-bit  2-bit  3-bit  4-bit  5-bit  6-bit  7-bit\n",
       "Perception                                                 \n",
       "0.0             0      0      0      0      0      0      0\n",
       "0.1             0      0      0      1      3      6     12\n",
       "0.2             0      0      1      3      6     12     25\n",
       "0.3             0      1      2      4      9     19     38\n",
       "0.4             0      1      3      6     12     25     51\n",
       "0.5             1      2      4      8     16     32     64\n",
       "0.6             1      2      4      9     19     38     76\n",
       "0.7             1      2      5     11     22     44     89\n",
       "0.8             1      3      6     12     25     51    102\n",
       "0.9             1      3      7     14     28     57    115\n",
       "1.0             1      3      7     15     31     63    127"
      ]
     },
     "execution_count": 8,
     "metadata": {},
     "output_type": "execute_result"
    }
   ],
   "source": [
    "r = np.arange(0, 1.1, .1)\n",
    "\n",
    "df = pd.DataFrame(r, columns=['Perception'])\n",
    "\n",
    "for bit in [1, 2, 3, 4, 5, 6, 7]:\n",
    "    df[f'{bit}-bit'] = df.apply(lambda row: encode(row['Perception'], bit), axis=1)\n",
    "\n",
    "df.set_index('Perception', inplace=True)\n",
    "df"
   ]
  }
 ],
 "metadata": {
  "celltoolbar": "Tags",
  "kernelspec": {
   "display_name": "Python 3 (ipykernel)",
   "language": "python",
   "name": "python3"
  },
  "language_info": {
   "codemirror_mode": {
    "name": "ipython",
    "version": 3
   },
   "file_extension": ".py",
   "mimetype": "text/x-python",
   "name": "python",
   "nbconvert_exporter": "python",
   "pygments_lexer": "ipython3",
   "version": "3.9.6"
  }
 },
 "nbformat": 4,
 "nbformat_minor": 1
}