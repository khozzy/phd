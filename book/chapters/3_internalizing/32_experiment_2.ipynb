{
 "cells": [
  {
   "cell_type": "code",
   "execution_count": 2,
   "metadata": {
    "pycharm": {
     "name": "#%%\n"
    },
    "tags": [
     "hide-input"
    ]
   },
   "outputs": [],
   "source": [
    "import pathlib\n",
    "from typing import List\n",
    "\n",
    "import gym\n",
    "import gym_checkerboard  # noqa: F401\n",
    "import lcs.agents.racs as racs\n",
    "import matplotlib.pyplot as plt\n",
    "import numpy as np\n",
    "import pandas as pd\n",
    "from lcs.agents.racs.metrics import count_averaged_regions\n",
    "from lcs.metrics import population_metrics\n",
    "from lcs.representations.RealValueEncoder import RealValueEncoder\n",
    "\n",
    "from src.decorators import repeat, get_from_cache_or_run\n",
    "from src.visualization import PLOT_DPI\n",
    "\n",
    "plt.ioff()  # turn off interactive plotting\n",
    "\n",
    "cache_dir = f'{pathlib.Path().absolute()}/cache'\n",
    "plot_dir = f'{pathlib.Path().absolute()}/plots'\n",
    "\n",
    "\n",
    "def encode(p, bits):\n",
    "    return int(RealValueEncoder(bits).encode(p))\n",
    "\n",
    "\n",
    "def metrics_to_df(metrics: List) -> pd.DataFrame:\n",
    "    lst = [[\n",
    "        d['trial'],\n",
    "        d['population'],\n",
    "        d['reliable'],\n",
    "        d['reward'],\n",
    "        d['regions'][1],\n",
    "        d['regions'][2],\n",
    "        d['regions'][3],\n",
    "        d['regions'][4],\n",
    "    ] for d in metrics]\n",
    "\n",
    "    df = pd.DataFrame(lst, columns=['trial', 'population', 'reliable', 'reward', 'region_1', 'region_2', 'region_3',\n",
    "                                    'region_4'])\n",
    "    df = df.set_index('trial')\n",
    "    df['phase'] = df.index.map(lambda t: \"explore\" if t % 2 == 0 else \"exploit\")\n",
    "\n",
    "    return df\n",
    "\n",
    "\n",
    "def average_experiment_runs(runs_dfs: List[pd.DataFrame]) -> pd.DataFrame:\n",
    "    return pd.concat(runs_dfs).groupby(['trial', 'phase']).mean().reset_index(level='phase')\n",
    "\n",
    "\n",
    "def single_experiment(env_provider, encoder_bits, trials):\n",
    "    env = env_provider()\n",
    "    env.reset()\n",
    "\n",
    "    def _metrics(agent, environment):\n",
    "        population = agent.population\n",
    "        metrics = {\n",
    "            'regions': count_averaged_regions(population)\n",
    "        }\n",
    "\n",
    "        # Add basic population metrics\n",
    "        metrics.update(population_metrics(population, environment))\n",
    "        return metrics\n",
    "\n",
    "    cfg = racs.Configuration(\n",
    "        classifier_length=env.observation_space.shape[0],\n",
    "        number_of_possible_actions=env.action_space.n,\n",
    "        encoder=RealValueEncoder(encoder_bits),\n",
    "        user_metrics_collector_fcn=_metrics,\n",
    "        epsilon=0.9,\n",
    "        do_ga=True,\n",
    "        theta_r=0.9,\n",
    "        theta_i=0.3,\n",
    "        theta_ga=100,\n",
    "        cover_noise=0.1,\n",
    "        mutation_noise=0.25,\n",
    "        chi=0.6,\n",
    "        mu=0.2)\n",
    "\n",
    "    # create agent\n",
    "    agent = racs.RACS(cfg)\n",
    "\n",
    "    # run computations\n",
    "    metrics = agent.explore_exploit(env, trials)\n",
    "\n",
    "    return metrics_to_df(metrics)\n",
    "\n",
    "\n",
    "def plot_condition_interval_regions(df, window=10, plot_filename=None):\n",
    "    fig, ax = plt.subplots()\n",
    "\n",
    "    df['region_1'].rolling(window=window).mean().plot(label='Region 1 [pi, qi)', ax=ax)\n",
    "    df['region_2'].rolling(window=window).mean().plot(label='Region 2 [pmin, qi)', ax=ax)\n",
    "    df['region_3'].rolling(window=window).mean().plot(label='Region 3 [pi, qmax)', ax=ax)\n",
    "    df['region_4'].rolling(window=window).mean().plot(label='Region 4 [pmin, qmax)', ax=ax)\n",
    "\n",
    "    ax.set_title('Condition Interval Regions')\n",
    "    ax.set_xlabel('Trial')\n",
    "    ax.set_ylabel('Proportion')\n",
    "    plt.legend()\n",
    "\n",
    "    if plot_filename:\n",
    "        fig.savefig(plot_filename, dpi=PLOT_DPI, bbox_inches='tight')\n",
    "\n",
    "\n",
    "def plot_population(df, window=10, plot_filename=None):\n",
    "    fig, ax = plt.subplots()\n",
    "\n",
    "    df['population'].rolling(window=window).mean().plot(label='macroclassifiers', ax=ax)\n",
    "    df['reliable'].rolling(window=window).mean().plot(label='reliable', ax=ax)\n",
    "\n",
    "    ax.set_title('Classifier numerosity')\n",
    "    ax.set_xlabel('Trial')\n",
    "    ax.set_ylabel('Number of classifiers')\n",
    "    ax.set_yscale('log')\n",
    "    plt.legend()\n",
    "\n",
    "    if plot_filename:\n",
    "        fig.savefig(plot_filename, dpi=PLOT_DPI, bbox_inches='tight')\n",
    "\n",
    "\n",
    "def plot_performance(df, window=50, plot_filename=None):\n",
    "    fig, ax = plt.subplots()\n",
    "\n",
    "    explore_df = df[df['phase'] == 'explore']\n",
    "    exploit_df = df[df['phase'] == 'exploit']\n",
    "\n",
    "    explore_df['reward'].rolling(window=window).mean().plot(label='explore', ax=ax)\n",
    "    exploit_df['reward'].rolling(window=window).mean().plot(label='exploit', ax=ax)\n",
    "    plt.axhline(1.0, c='black', linestyle=':')\n",
    "\n",
    "    ax.set_title('Performance (average reward)')\n",
    "    ax.set_xlabel('Trial')\n",
    "    ax.set_ylabel('Reward')\n",
    "    ax.set_ylim([.4, 1.05])\n",
    "    plt.legend()\n",
    "\n",
    "    if plot_filename:\n",
    "        fig.savefig(plot_filename, dpi=PLOT_DPI, bbox_inches='tight')"
   ]
  },
  {
   "cell_type": "markdown",
   "metadata": {
    "collapsed": true,
    "pycharm": {
     "name": "#%% md\n"
    }
   },
   "source": [
    "# Experiment 2 - Nature of the intervals\n",
    "Info about algorithms, environments used, metrics collected, methods, reproducibility, statistical verification\n",
    "\n",
    "\n",
    "## Setup\n",
    "To highlight the impact of selecting proper bit number for the encoding the following table highlights the number of distinct values for each perception step (increased by `0.1`)."
   ]
  },
  {
   "cell_type": "code",
   "execution_count": 3,
   "metadata": {
    "pycharm": {
     "name": "#%%\n"
    },
    "tags": [
     "hide-input"
    ]
   },
   "outputs": [
    {
     "data": {
      "text/plain": "            1-bit  2-bit  3-bit  4-bit  5-bit  6-bit  7-bit\nPerception                                                 \n0.0             0      0      0      0      0      0      0\n0.1             0      0      0      1      3      6     12\n0.2             0      0      1      3      6     12     25\n0.3             0      1      2      4      9     19     38\n0.4             0      1      3      6     12     25     51\n0.5             1      2      4      8     16     32     64\n0.6             1      2      4      9     19     38     76\n0.7             1      2      5     11     22     44     89\n0.8             1      3      6     12     25     51    102\n0.9             1      3      7     14     28     57    115\n1.0             1      3      7     15     31     63    127",
      "text/html": "<div>\n<style scoped>\n    .dataframe tbody tr th:only-of-type {\n        vertical-align: middle;\n    }\n\n    .dataframe tbody tr th {\n        vertical-align: top;\n    }\n\n    .dataframe thead th {\n        text-align: right;\n    }\n</style>\n<table border=\"1\" class=\"dataframe\">\n  <thead>\n    <tr style=\"text-align: right;\">\n      <th></th>\n      <th>1-bit</th>\n      <th>2-bit</th>\n      <th>3-bit</th>\n      <th>4-bit</th>\n      <th>5-bit</th>\n      <th>6-bit</th>\n      <th>7-bit</th>\n    </tr>\n    <tr>\n      <th>Perception</th>\n      <th></th>\n      <th></th>\n      <th></th>\n      <th></th>\n      <th></th>\n      <th></th>\n      <th></th>\n    </tr>\n  </thead>\n  <tbody>\n    <tr>\n      <th>0.0</th>\n      <td>0</td>\n      <td>0</td>\n      <td>0</td>\n      <td>0</td>\n      <td>0</td>\n      <td>0</td>\n      <td>0</td>\n    </tr>\n    <tr>\n      <th>0.1</th>\n      <td>0</td>\n      <td>0</td>\n      <td>0</td>\n      <td>1</td>\n      <td>3</td>\n      <td>6</td>\n      <td>12</td>\n    </tr>\n    <tr>\n      <th>0.2</th>\n      <td>0</td>\n      <td>0</td>\n      <td>1</td>\n      <td>3</td>\n      <td>6</td>\n      <td>12</td>\n      <td>25</td>\n    </tr>\n    <tr>\n      <th>0.3</th>\n      <td>0</td>\n      <td>1</td>\n      <td>2</td>\n      <td>4</td>\n      <td>9</td>\n      <td>19</td>\n      <td>38</td>\n    </tr>\n    <tr>\n      <th>0.4</th>\n      <td>0</td>\n      <td>1</td>\n      <td>3</td>\n      <td>6</td>\n      <td>12</td>\n      <td>25</td>\n      <td>51</td>\n    </tr>\n    <tr>\n      <th>0.5</th>\n      <td>1</td>\n      <td>2</td>\n      <td>4</td>\n      <td>8</td>\n      <td>16</td>\n      <td>32</td>\n      <td>64</td>\n    </tr>\n    <tr>\n      <th>0.6</th>\n      <td>1</td>\n      <td>2</td>\n      <td>4</td>\n      <td>9</td>\n      <td>19</td>\n      <td>38</td>\n      <td>76</td>\n    </tr>\n    <tr>\n      <th>0.7</th>\n      <td>1</td>\n      <td>2</td>\n      <td>5</td>\n      <td>11</td>\n      <td>22</td>\n      <td>44</td>\n      <td>89</td>\n    </tr>\n    <tr>\n      <th>0.8</th>\n      <td>1</td>\n      <td>3</td>\n      <td>6</td>\n      <td>12</td>\n      <td>25</td>\n      <td>51</td>\n      <td>102</td>\n    </tr>\n    <tr>\n      <th>0.9</th>\n      <td>1</td>\n      <td>3</td>\n      <td>7</td>\n      <td>14</td>\n      <td>28</td>\n      <td>57</td>\n      <td>115</td>\n    </tr>\n    <tr>\n      <th>1.0</th>\n      <td>1</td>\n      <td>3</td>\n      <td>7</td>\n      <td>15</td>\n      <td>31</td>\n      <td>63</td>\n      <td>127</td>\n    </tr>\n  </tbody>\n</table>\n</div>"
     },
     "execution_count": 3,
     "metadata": {},
     "output_type": "execute_result"
    }
   ],
   "source": [
    "r = np.arange(0, 1.1, .1)\n",
    "\n",
    "df = pd.DataFrame(r, columns=['Perception'])\n",
    "\n",
    "for bit in [1, 2, 3, 4, 5, 6, 7]:\n",
    "    df[f'{bit}-bit'] = df.apply(lambda row: encode(row['Perception'], bit), axis=1)\n",
    "\n",
    "df.set_index('Perception', inplace=True)\n",
    "df"
   ]
  },
  {
   "cell_type": "code",
   "execution_count": 4,
   "metadata": {
    "pycharm": {
     "name": "#%%\n"
    },
    "tags": [
     "hide-input"
    ]
   },
   "outputs": [],
   "source": [
    "def encode_array(arr, bits):\n",
    "    return np.fromiter((encode(x, bits=bits) for x in arr), int)\n",
    "\n",
    "\n",
    "def plot_checkerboard_splits(splits, bits, points=100):\n",
    "    fig = plt.figure(figsize=(12, 5))\n",
    "    ax = fig.add_subplot(111)\n",
    "\n",
    "    # Visualize splits\n",
    "    for k in np.linspace(0, 1, splits + 1):\n",
    "        ax.axvline(x=k, ymin=0, ymax=1, linewidth=1, linestyle=':', color='black')\n",
    "\n",
    "    # Add some points\n",
    "    x = np.random.random(points)\n",
    "    y = np.random.random(points)\n",
    "    colors = encode_array(x, bits)\n",
    "    ax.scatter(x, y, c=colors, s=20, alpha=.8)\n",
    "\n",
    "    for i, txt in enumerate(colors):\n",
    "        ax.annotate(txt, xy=(x[i] + .005, y[i] + .005), size=8, alpha=.8)\n",
    "\n",
    "    ax.set_title(f\"{bits}-bit encoder mapping on {splits} checkerboard splits\")\n",
    "    ax.set_xlabel(\"Perception value\")\n",
    "    ax.set_ylim(-0.1, 1.1)\n",
    "    ax.set_xlim(-0.02, 1.02)\n",
    "    ax.get_yaxis().set_visible(False)\n",
    "\n",
    "    fig.savefig(f'{plot_dir}/checkerboard_{splits}_splits_{bits}_bits.png', dpi=PLOT_DPI)"
   ]
  },
  {
   "cell_type": "code",
   "execution_count": 5,
   "metadata": {
    "pycharm": {
     "name": "#%%\n"
    },
    "tags": [
     "hide-input"
    ]
   },
   "outputs": [],
   "source": [
    "%%capture\n",
    "plot_checkerboard_splits(splits=3, bits=4)"
   ]
  },
  {
   "cell_type": "markdown",
   "metadata": {
    "pycharm": {
     "name": "#%% md\n"
    }
   },
   "source": [
    ":::{figure-md} checkerboard-3-splits-4-bits\n",
    ":class: full-width\n",
    "<img src=\"plots/checkerboard_3_splits_4_bits.png\">\n",
    "\n",
    "Checkerboard splits\n",
    ":::"
   ]
  },
  {
   "cell_type": "markdown",
   "metadata": {
    "pycharm": {
     "name": "#%% md\n"
    }
   },
   "source": [
    "## Results"
   ]
  },
  {
   "cell_type": "code",
   "execution_count": 6,
   "outputs": [
    {
     "name": "stderr",
     "output_type": "stream",
     "text": [
      "2022-01-19 19:39:04,801\tINFO services.py:1338 -- View the Ray dashboard at \u001B[1m\u001B[32mhttp://127.0.0.1:8265\u001B[39m\u001B[22m\n"
     ]
    }
   ],
   "source": [
    "NUM_EXPERIMENTS = 50\n",
    "TRIALS = 15_000\n",
    "USE_RAY = True\n",
    "\n",
    "\n",
    "def checkboard_env_provider():\n",
    "    import gym_checkerboard  # noqa: F401\n",
    "    return gym.make('checkerboard-2D-3div-v0')\n",
    "\n",
    "\n",
    "@get_from_cache_or_run(cache_path=f'{cache_dir}/checkerboard_3x3/encoding_4bit.dill')\n",
    "@repeat(num_times=NUM_EXPERIMENTS, use_ray=USE_RAY)\n",
    "def run_checkerboard_4bit_encoding():\n",
    "    return single_experiment(checkboard_env_provider, encoder_bits=4, trials=TRIALS)\n",
    "\n",
    "\n",
    "# run computations\n",
    "checkerboard_encoding_4bit_runs = run_checkerboard_4bit_encoding()\n",
    "\n",
    "# average runs\n",
    "checkerboard_encoding_4bit_avg = average_experiment_runs(checkerboard_encoding_4bit_runs)"
   ],
   "metadata": {
    "collapsed": false,
    "pycharm": {
     "name": "#%%\n"
    }
   }
  },
  {
   "cell_type": "code",
   "execution_count": 1,
   "metadata": {
    "pycharm": {
     "name": "#%%\n"
    },
    "tags": [
     "hide-input"
    ]
   },
   "outputs": [
    {
     "ename": "NameError",
     "evalue": "name 'plot_condition_interval_regions' is not defined",
     "output_type": "error",
     "traceback": [
      "\u001B[0;31m---------------------------------------------------------------------------\u001B[0m",
      "\u001B[0;31mNameError\u001B[0m                                 Traceback (most recent call last)",
      "\u001B[0;32m/tmp/ipykernel_449052/2059853360.py\u001B[0m in \u001B[0;36m<module>\u001B[0;34m\u001B[0m\n\u001B[1;32m      1\u001B[0m \u001B[0;31m# generate plots\u001B[0m\u001B[0;34m\u001B[0m\u001B[0;34m\u001B[0m\u001B[0;34m\u001B[0m\u001B[0m\n\u001B[0;32m----> 2\u001B[0;31m plot_condition_interval_regions(checkerboard_encoding_4bit_avg,\n\u001B[0m\u001B[1;32m      3\u001B[0m                                 plot_filename=f'{plot_dir}/checkerboard_4bit_regions.png')\n\u001B[1;32m      4\u001B[0m \u001B[0mplot_performance\u001B[0m\u001B[0;34m(\u001B[0m\u001B[0mcheckerboard_encoding_4bit_avg\u001B[0m\u001B[0;34m,\u001B[0m \u001B[0mplot_filename\u001B[0m\u001B[0;34m=\u001B[0m\u001B[0;34mf'{plot_dir}/checkerboard_4bit_performance.png'\u001B[0m\u001B[0;34m)\u001B[0m\u001B[0;34m\u001B[0m\u001B[0;34m\u001B[0m\u001B[0m\n\u001B[1;32m      5\u001B[0m \u001B[0mplot_population\u001B[0m\u001B[0;34m(\u001B[0m\u001B[0mcheckerboard_encoding_4bit_avg\u001B[0m\u001B[0;34m,\u001B[0m \u001B[0mplot_filename\u001B[0m\u001B[0;34m=\u001B[0m\u001B[0;34mf'{plot_dir}/checkerboard_4bit_population.png'\u001B[0m\u001B[0;34m)\u001B[0m\u001B[0;34m\u001B[0m\u001B[0;34m\u001B[0m\u001B[0m\n",
      "\u001B[0;31mNameError\u001B[0m: name 'plot_condition_interval_regions' is not defined"
     ]
    }
   ],
   "source": [
    "%%capture\n",
    "\n",
    "# generate plots\n",
    "plot_condition_interval_regions(checkerboard_encoding_4bit_avg,\n",
    "                                plot_filename=f'{plot_dir}/checkerboard_4bit_regions.png')\n",
    "plot_performance(checkerboard_encoding_4bit_avg, plot_filename=f'{plot_dir}/checkerboard_4bit_performance.png')\n",
    "plot_population(checkerboard_encoding_4bit_avg, plot_filename=f'{plot_dir}/checkerboard_4bit_population.png')"
   ]
  },
  {
   "cell_type": "markdown",
   "metadata": {
    "pycharm": {
     "name": "#%% md\n"
    }
   },
   "source": [
    ":::{figure-md} checkerboard4bit-enc4bit-regions-fig\n",
    "<img src=\"plots/checkerboard_4bit_regions.png\">\n",
    "\n",
    "Condition interval regions in 3x3 Checkerboard environment.\n",
    ":::\n",
    "\n",
    ":::{figure-md} checkerboard4bit-enc4bit-performance-fig\n",
    "<img src=\"plots/checkerboard_4bit_performance.png\">\n",
    "\n",
    "Performance of 3x3 Checkerboard environment.\n",
    ":::\n",
    "\n",
    ":::{figure-md} checkerboard4bit-enc4bit-population-fig\n",
    "<img src=\"plots/checkerboard_4bit_population.png\">\n",
    "\n",
    "Population of 3x3 Checkerboard environment.\n",
    ":::"
   ]
  },
  {
   "cell_type": "markdown",
   "source": [
    "## Statistical verification\n",
    "\n",
    "```{admonition} Hypothesis testing\n",
    ":class: tip\n",
    "I don't know if any hypothesis tests are needed here. The main value in my opinion is in Figure {numref}`{number} <checkerboard4bit-enc4bit-regions-fig>`. What might be beneficial is to plot what are the interval propotions wrt to the encoding bits used. But that would require some clever visualization (or a table).\n",
    "```"
   ],
   "metadata": {
    "collapsed": false,
    "pycharm": {
     "name": "#%% md\n"
    }
   }
  },
  {
   "cell_type": "markdown",
   "metadata": {
    "pycharm": {
     "name": "#%% md\n"
    }
   },
   "source": [
    "## Observations\n",
    "What conclusions can be drawn?"
   ]
  },
  {
   "cell_type": "markdown",
   "metadata": {
    "pycharm": {
     "name": "#%% md\n"
    }
   },
   "source": []
  }
 ],
 "metadata": {
  "celltoolbar": "Tags",
  "kernelspec": {
   "display_name": "Python 3 (ipykernel)",
   "language": "python",
   "name": "python3"
  },
  "language_info": {
   "codemirror_mode": {
    "name": "ipython",
    "version": 3
   },
   "file_extension": ".py",
   "mimetype": "text/x-python",
   "name": "python",
   "nbconvert_exporter": "python",
   "pygments_lexer": "ipython3",
   "version": "3.9.6"
  }
 },
 "nbformat": 4,
 "nbformat_minor": 1
}