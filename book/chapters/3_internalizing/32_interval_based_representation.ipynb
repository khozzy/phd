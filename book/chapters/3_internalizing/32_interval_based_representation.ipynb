{
 "cells": [
  {
   "cell_type": "markdown",
   "metadata": {
    "collapsed": true,
    "pycharm": {
     "name": "#%% md\n"
    }
   },
   "source": [
    "# Interval-based representation\n",
    "Describe rACS modification with real-valued alphabet encoding (UBR).\n",
    "\n",
    "## Experimental evaluation\n",
    "This section presents the motivation, goals and set-up of the performed experiments, as well as their results.\n",
    "\n",
    "## Research questions\n",
    "The conducted research aims to answer the following question regarding rACS algorithm and the interval based representation\n",
    "\n",
    "1. Can the rACS algorithm build the correct internal model of the environment and exploit it successfully?\n",
    "\n",
    "## Goals of the experiments\n",
    "\n",
    "```{admonition} _Experiment 1 - Encoding precision_\n",
    "The impact of using different values of bits for creating UBR ranges will be contrasted with the ability of exploiting the single-step [](section-topics-environments-rmpx) environment. Due to the environment's increasing complexity a simple 3-bit variant is sufficient to demonstrate the potential pitfalls of using interval based representation\n",
    "```\n",
    "\n",
    "```{admonition} _Experiment 2 - Nature of the intervals_\n",
    "The main goal of the experiment is to investigate the nature and the evolution of condition intervals. An experiment using the [](section-topics-environments-checkerboard) environment will highlight mainly the difference between conditional attributes but also the overall performance in this environment.\n",
    "```"
   ]
  },
  {
   "cell_type": "markdown",
   "metadata": {
    "pycharm": {
     "name": "#%% md\n"
    }
   },
   "source": [
    "## Experiments\n",
    "\n",
    "```{tableofcontents}\n",
    "```"
   ]
  },
  {
   "cell_type": "markdown",
   "metadata": {
    "pycharm": {
     "name": "#%% md\n"
    }
   },
   "source": [
    "## Answers to research questions\n",
    "Check if figure from other document can be referenced, like Fig {numref}`{number} <rmpx3bit-enc2bit-fig>`."
   ]
  }
 ],
 "metadata": {
  "celltoolbar": "Tags",
  "kernelspec": {
   "display_name": "Python 3 (ipykernel)",
   "language": "python",
   "name": "python3"
  },
  "language_info": {
   "codemirror_mode": {
    "name": "ipython",
    "version": 3
   },
   "file_extension": ".py",
   "mimetype": "text/x-python",
   "name": "python",
   "nbconvert_exporter": "python",
   "pygments_lexer": "ipython3",
   "version": "3.9.6"
  }
 },
 "nbformat": 4,
 "nbformat_minor": 1
}