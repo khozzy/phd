{
 "cells": [
  {
   "cell_type": "markdown",
   "metadata": {
    "collapsed": true,
    "pycharm": {
     "name": "#%% md\n"
    }
   },
   "source": [
    "# Discretizing input signal\n",
    "Describe discretization workflow chosen (bucketing/hashing). Discretization can be done by dividing each attribute into fixed sized bucket or by providing custom configuration. maybe also add something about the hashing?\n",
    "\n",
    "## Experimental evaluation\n",
    "This section presents the motivation, goals and set-up of the performed experiments, as well as their results.\n",
    "\n",
    "## Research questions\n",
    "The conducted research aims to answers three main questions about bucketing discretization:\n",
    "\n",
    "1. Can popular ALCS systems build the internal model of the environment when discretizing the real-valued input signal into fixed-width buckets?\n",
    "2. Which system creates the most compact and general population of classifiers?\n",
    "3. What is the relative trial execution time for each evaluated system?\n",
    "4. How selected  systems relates to the benchmark Dyna-Q algorithm?\n",
    "\n",
    "And for the hashing discretization methods:\n",
    "\n",
    "1. Does the selection of hashing algorithm significantly affects the metrics.\n",
    "2. What is the impact of the modulo parameter during the learning process?\n",
    "\n",
    "## Goals of the experiments\n",
    "\n",
    "```{admonition} _Experiment 1 - Performance comparison of ACS, ACS2, YACS, DynaQ algorithms discretized into fixed-width buckets_\n",
    "The aim of this experiments is to determine the behaviour using the rMPX (single-step), Corridor and Grid (multi-steps) environments.\n",
    "```\n",
    "\n",
    "```{admonition} _Experiment 2 - Discretization using hashing functions_\n",
    "The aim of this experiments is to determine if there is a difference when using the SHA256 or MD5 hashing functions with differing modulo values for building the internal representation of the environment.\n",
    "```\n",
    "\n",
    "\n",
    "## Experimental setup\n",
    "Info about algorithms, environments used, metrics collected, methods, reproducibility, statistical verification\n",
    "\n",
    "## Observations\n",
    "What conclusions can be drawn?\n",
    "\n",
    "## Answers to research questions\n",
    "..."
   ]
  }
 ],
 "metadata": {
  "kernelspec": {
   "display_name": "Python 3",
   "language": "python",
   "name": "python3"
  },
  "language_info": {
   "codemirror_mode": {
    "name": "ipython",
    "version": 2
   },
   "file_extension": ".py",
   "mimetype": "text/x-python",
   "name": "python",
   "nbconvert_exporter": "python",
   "pygments_lexer": "ipython2",
   "version": "2.7.6"
  }
 },
 "nbformat": 4,
 "nbformat_minor": 0
}