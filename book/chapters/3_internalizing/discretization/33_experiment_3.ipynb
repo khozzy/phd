{
 "cells": [
  {
   "cell_type": "code",
   "execution_count": 1,
   "metadata": {
    "pycharm": {
     "name": "#%%\n"
    },
    "tags": [
     "hide-input"
    ]
   },
   "outputs": [],
   "source": [
    "import itertools\n",
    "import pathlib\n",
    "import warnings\n",
    "\n",
    "import bitstring\n",
    "import gym\n",
    "import gym_multiplexer  # noqa: F401\n",
    "from lcs import Perception\n",
    "from myst_nb import glue\n",
    "from tabulate import tabulate\n",
    "from IPython.display import HTML\n",
    "\n",
    "from src.bayes_estimation import bayes_estimate\n",
    "from src.bayes_plotting import plot_bayes_comparison\n",
    "from src.decorators import repeat, get_from_cache_or_run\n",
    "from src.discretized_experiments import *\n",
    "from src.utils import build_plots_dir_path, build_cache_dir_path\n",
    "\n",
    "plt.ioff()  # turn off interactive plotting\n",
    "plt.style.use('../../../../src/phd.mplstyle')\n",
    "\n",
    "root_dir = pathlib.Path().cwd().parent.parent.parent.parent\n",
    "cwd_dir = pathlib.Path().cwd()\n",
    "\n",
    "plot_dir = build_plots_dir_path(root_dir) / cwd_dir.parent.name / cwd_dir.name\n",
    "cache_dir = build_cache_dir_path(root_dir) / cwd_dir.parent.name / cwd_dir.name"
   ]
  },
  {
   "cell_type": "markdown",
   "metadata": {
    "collapsed": true,
    "pycharm": {
     "name": "#%% md\n"
    }
   },
   "source": [
    "(section-internalizing-experiment-3)=\n",
    "# Experiment 3 - Single step"
   ]
  },
  {
   "cell_type": "markdown",
   "source": [
    "To convert real numbers into integers, a $k$ bins discretizer is used. Its value is used to control the accuracy of generated rules. Thus, the input space of the environment can be calculated as $2k^n$, where k refers to the number of bins and $n$ the length of the MPX signal.\n",
    "\n",
    "\n",
    "Example of discretizing real-valued input using 6 bins. A random perception signal of 6-bit rMPX extended with 1 bit (last column) was used. The size of the input space is $2\\cdot6^6=93312$ unique states."
   ],
   "metadata": {
    "collapsed": false,
    "pycharm": {
     "name": "#%% md\n"
    }
   }
  },
  {
   "cell_type": "code",
   "execution_count": 2,
   "metadata": {
    "pycharm": {
     "name": "#%%\n"
    },
    "tags": [
     "hide-input"
    ]
   },
   "outputs": [],
   "source": [
    "RMPX_BINS = 10\n",
    "RMPX_SIZE = 3\n",
    "CTRL_BITS = 1\n",
    "\n",
    "rmpx = gym.make(f'real-multiplexer-{RMPX_SIZE}bit-v0')\n",
    "\n",
    "_range, _low = (rmpx.observation_space.high - rmpx.observation_space.low, rmpx.observation_space.low)\n",
    "\n",
    "RMPX_STEP = _range / RMPX_BINS\n",
    "\n",
    "\n",
    "class RealMultiplexerUtils:\n",
    "    def __init__(self, size, ctrl_bits, bins, _range, _threshold=0.5):\n",
    "        self._size = size\n",
    "        self._ctrl_bits = ctrl_bits\n",
    "        self._bins = bins\n",
    "        self._step = _range / bins\n",
    "        self._threshold = _threshold\n",
    "\n",
    "        self._attribute_values = [list(range(0, bins))] * (size) + [[0, bins]]\n",
    "        self._input_space = itertools.product(*self._attribute_values)\n",
    "        self.state_mapping = {idx: s for idx, s in enumerate(self._input_space)}\n",
    "        self.state_mapping_inv = {v: k for k, v in self.state_mapping.items()}\n",
    "\n",
    "    def discretize(self, obs, _type=int):\n",
    "        r = (obs + np.abs(_low)) / _range\n",
    "        b = (r * RMPX_BINS).astype(int)\n",
    "        return b.astype(_type).tolist()\n",
    "\n",
    "    def reverse_discretize(self, discretized):\n",
    "        return discretized * self._step[:len(discretized)]\n",
    "\n",
    "    def get_transitions(self):\n",
    "        transitions = []\n",
    "\n",
    "        initial_dstates = [list(range(0, self._bins))] * (self._size)\n",
    "        for d_state in itertools.product(*initial_dstates):\n",
    "            correct_answer = self._get_correct_answer(d_state)\n",
    "\n",
    "            if correct_answer == 0:\n",
    "                transitions.append((d_state + (0,), 0, d_state + (self._bins,)))\n",
    "                transitions.append((d_state + (0,), 1, d_state + (0,)))\n",
    "            else:\n",
    "                transitions.append((d_state + (0,), 0, d_state + (0,)))\n",
    "                transitions.append((d_state + (0,), 1, d_state + (self._bins,)))\n",
    "\n",
    "        return transitions\n",
    "\n",
    "    def _get_correct_answer(self, discretized):\n",
    "        estimated_obs = self.reverse_discretize(discretized)\n",
    "        bits = bitstring.BitArray(estimated_obs > self._threshold)\n",
    "        _ctrl_bits = bits[:self._ctrl_bits]\n",
    "        _data_bits = bits[self._ctrl_bits:]\n",
    "\n",
    "        return int(_data_bits[_ctrl_bits.uint])\n",
    "\n",
    "\n",
    "rmpx_utils = RealMultiplexerUtils(RMPX_SIZE, CTRL_BITS, RMPX_BINS, _range)\n",
    "# print(f\"Possible states: {len(rmpx_utils.state_mapping)}\")"
   ]
  },
  {
   "cell_type": "code",
   "execution_count": 3,
   "metadata": {
    "pycharm": {
     "name": "#%%\n"
    },
    "tags": [
     "hide-input"
    ]
   },
   "outputs": [],
   "source": [
    "# metrics\n",
    "def generalization_score(pop):\n",
    "    # Compute proportion of wildcards in classifier condition across all classifiers\n",
    "    wildcards = sum(1 for cl in pop for cond in cl.condition if\n",
    "                    cond == '#' or (\n",
    "                            hasattr(cond, 'symbol') and cond.symbol == '#'))\n",
    "    all_symbols = sum(len(cl.condition) for cl in pop)\n",
    "    return wildcards / all_symbols\n",
    "\n",
    "\n",
    "def rmpx_knowledge(population, env):\n",
    "    reliable = [c for c in population if c.is_reliable()]\n",
    "    nr_correct = 0\n",
    "\n",
    "    for start, action, end in rmpx_utils.get_transitions():\n",
    "        p0 = Perception([str(el) for el in start])\n",
    "        p1 = Perception([str(el) for el in end])\n",
    "\n",
    "        if any([True for cl in reliable if cl.predicts_successfully(p0, action, p1)]):\n",
    "            nr_correct += 1\n",
    "\n",
    "    return nr_correct / len(rmpx_utils.get_transitions())\n",
    "\n",
    "\n",
    "def rmpx_metrics_collector(agent, env):\n",
    "    population = agent.population\n",
    "    return {\n",
    "        'pop': len(population),\n",
    "        'knowledge': rmpx_knowledge(population, env),\n",
    "        'generalization': generalization_score(population)\n",
    "    }\n",
    "\n",
    "\n",
    "# DynaQ helpers\n",
    "def rmpx_perception_to_int(p0, discretize=True):\n",
    "    if discretize:\n",
    "        p0 = rmpx_utils.discretize(p0)\n",
    "\n",
    "    return rmpx_utils.state_mapping_inv[tuple(p0)]\n",
    "\n",
    "\n",
    "def dynaq_rmpx_knowledge_calculator(model, env):\n",
    "    all_transitions = 0\n",
    "    nr_correct = 0\n",
    "\n",
    "    for p0, a, p1 in rmpx_utils.get_transitions():\n",
    "        s0 = rmpx_perception_to_int(p0, discretize=False)\n",
    "        s1 = rmpx_perception_to_int(p1, discretize=False)\n",
    "\n",
    "        all_transitions += 1\n",
    "        if s0 in model and a in model[s0] and model[s0][a][0] == s1:\n",
    "            nr_correct += 1\n",
    "\n",
    "    return nr_correct / len(rmpx_utils.get_transitions())"
   ]
  },
  {
   "cell_type": "code",
   "execution_count": 4,
   "metadata": {
    "pycharm": {
     "name": "#%%\n"
    },
    "tags": [
     "hide-input"
    ]
   },
   "outputs": [],
   "source": [
    "class DiscretizedWrapper(gym.ObservationWrapper):\n",
    "    def observation(self, obs):\n",
    "        return rmpx_utils.discretize(obs, _type=str)\n",
    "\n",
    "\n",
    "class SingleStateWrapper(DiscretizedWrapper):\n",
    "    def observation(self, obs):\n",
    "        return rmpx_utils.state_mapping_inv[tuple(map(int, obs))]\n",
    "\n",
    "\n",
    "common_params = {\n",
    "    'classifier_length': RMPX_SIZE + 1,\n",
    "    'possible_actions': 2,\n",
    "    'learning_rate': 0.1,\n",
    "    'metrics_trial_freq': 100,\n",
    "    'metrics_fcn': rmpx_metrics_collector,\n",
    "    'trials': 15_000\n",
    "}\n",
    "\n",
    "yacs_params = {\n",
    "    'trace_length': 3,\n",
    "    'estimate_expected_improvements': False,\n",
    "    'feature_possible_values': [{str(i) for i in range(RMPX_BINS)}] * RMPX_SIZE + [{'0', '10'}]\n",
    "}\n",
    "\n",
    "dynaq_params = {\n",
    "    'q_init': np.zeros((len(rmpx_utils.state_mapping), 2)),\n",
    "    'model_init': {},\n",
    "    'knowledge_fcn': dynaq_rmpx_knowledge_calculator,\n",
    "    'epsilon': 0.5\n",
    "}\n",
    "\n",
    "NUM_EXPERIMENTS = 50\n",
    "USE_RAY = True\n",
    "\n",
    "\n",
    "@get_from_cache_or_run(cache_path=f'{cache_dir}/rmpx_{RMPX_SIZE}bit/acs.dill')\n",
    "@repeat(num_times=NUM_EXPERIMENTS, use_ray=USE_RAY)\n",
    "def run_rmpx_with_acs():\n",
    "    return single_acs_experiment(\n",
    "        env_provider=lambda: DiscretizedWrapper(rmpx),\n",
    "        trials=common_params['trials'],\n",
    "        classifier_length=common_params['classifier_length'],\n",
    "        possible_actions=common_params['possible_actions'],\n",
    "        learning_rate=common_params['learning_rate'],\n",
    "        metrics_trial_freq=common_params['metrics_trial_freq'],\n",
    "        metrics_fcn=common_params['metrics_fcn'])\n",
    "\n",
    "\n",
    "@get_from_cache_or_run(cache_path=f'{cache_dir}/rmpx_{RMPX_SIZE}bit/acs2.dill')\n",
    "@repeat(num_times=NUM_EXPERIMENTS, use_ray=USE_RAY)\n",
    "def run_rmpx_with_acs2():\n",
    "    return single_acs2_experiment(\n",
    "        env_provider=lambda: DiscretizedWrapper(rmpx),\n",
    "        trials=common_params['trials'],\n",
    "        classifier_length=common_params['classifier_length'],\n",
    "        possible_actions=common_params['possible_actions'],\n",
    "        learning_rate=common_params['learning_rate'],\n",
    "        do_ga=False,\n",
    "        initial_q=0.5,\n",
    "        metrics_trial_freq=common_params['metrics_trial_freq'],\n",
    "        metrics_fcn=common_params['metrics_fcn']\n",
    "    )\n",
    "\n",
    "\n",
    "@get_from_cache_or_run(cache_path=f'{cache_dir}/rmpx_{RMPX_SIZE}bit/acs2_ga.dill')\n",
    "@repeat(num_times=NUM_EXPERIMENTS, use_ray=USE_RAY)\n",
    "def run_rmpx_with_acs2_ga():\n",
    "    return single_acs2_experiment(\n",
    "        env_provider=lambda: DiscretizedWrapper(rmpx),\n",
    "        trials=common_params['trials'],\n",
    "        classifier_length=common_params['classifier_length'],\n",
    "        possible_actions=common_params['possible_actions'],\n",
    "        learning_rate=common_params['learning_rate'],\n",
    "        do_ga=True,\n",
    "        initial_q=0.5,\n",
    "        metrics_trial_freq=common_params['metrics_trial_freq'],\n",
    "        metrics_fcn=common_params['metrics_fcn']\n",
    "    )\n",
    "\n",
    "\n",
    "@get_from_cache_or_run(cache_path=f'{cache_dir}/rmpx_{RMPX_SIZE}bit/yacs.dill')\n",
    "@repeat(num_times=NUM_EXPERIMENTS, use_ray=USE_RAY)\n",
    "def run_rmpx_with_yacs():\n",
    "    return single_yacs_experiment(\n",
    "        env_provider=lambda: DiscretizedWrapper(rmpx),\n",
    "        trials=common_params['trials'],\n",
    "        classifier_length=common_params['classifier_length'],\n",
    "        possible_actions=common_params['possible_actions'],\n",
    "        learning_rate=common_params['learning_rate'],\n",
    "        trace_length=yacs_params['trace_length'],\n",
    "        estimate_expected_improvements=yacs_params['estimate_expected_improvements'],\n",
    "        feature_possible_values=yacs_params['feature_possible_values'],\n",
    "        metrics_trial_freq=common_params['metrics_trial_freq'],\n",
    "        metrics_fcn=common_params['metrics_fcn']\n",
    "    )\n",
    "\n",
    "\n",
    "@get_from_cache_or_run(cache_path=f'{cache_dir}/rmpx_{RMPX_SIZE}bit/dynaq.dill')\n",
    "@repeat(num_times=NUM_EXPERIMENTS, use_ray=USE_RAY)\n",
    "def run_rmpx_with_dynaq():\n",
    "    return single_dynaq_experiment(\n",
    "        env_provider=lambda: SingleStateWrapper(DiscretizedWrapper(rmpx)),\n",
    "        trials=common_params['trials'],\n",
    "        q_init=dynaq_params['q_init'],\n",
    "        model_init=dynaq_params['model_init'],\n",
    "        epsilon=dynaq_params['epsilon'],\n",
    "        learning_rate=common_params['learning_rate'],\n",
    "        knowledge_fcn=dynaq_params['knowledge_fcn'],\n",
    "        metrics_trial_freq=common_params['metrics_trial_freq']\n",
    "    )\n",
    "\n",
    "\n",
    "@get_from_cache_or_run(cache_path=f'{cache_dir}/corridor/dynaq.dill')\n",
    "@repeat(num_times=NUM_EXPERIMENTS, use_ray=USE_RAY)\n",
    "def run_corridor_with_dynaq():\n",
    "    return single_dynaq_experiment(\n",
    "        env_provider=lambda: SingleStateWrapper(CorridorObservationWrapper(corridor)),\n",
    "        trials=common_params['trials'],\n",
    "        q_init=dynaq_params['q_init'],\n",
    "        model_init=dynaq_params['model_init'],\n",
    "        epsilon=dynaq_params['epsilon'],\n",
    "        learning_rate=common_params['learning_rate'],\n",
    "        knowledge_fcn=dynaq_params['knowledge_fcn'],\n",
    "        metrics_trial_freq=common_params['metrics_trial_freq']\n",
    "    )\n",
    "\n",
    "\n",
    "# Run computations\n",
    "rmpx_acs_runs = run_rmpx_with_acs()\n",
    "rmpx_acs2_runs = run_rmpx_with_acs2()\n",
    "rmpx_acs2_ga_runs = run_rmpx_with_acs2_ga()\n",
    "rmpx_yacs_runs = run_rmpx_with_yacs()\n",
    "rmpx_dynaq_runs = run_rmpx_with_dynaq()\n",
    "\n",
    "# Collect metrics to single dataframe\n",
    "metrics_df = pd.concat([\n",
    "    *[parse_lcs_metrics('acs', metrics) for _, metrics in rmpx_acs_runs],\n",
    "    *[parse_lcs_metrics('acs2', metrics) for _, metrics in rmpx_acs2_runs],\n",
    "    *[parse_lcs_metrics('acs2_ga', metrics) for _, metrics in rmpx_acs2_ga_runs],\n",
    "    *[parse_lcs_metrics('yacs', metrics) for _, metrics in rmpx_yacs_runs],\n",
    "    *[parse_dyna_metrics('dynaq', metrics) for _, _, metrics in rmpx_dynaq_runs],\n",
    "])\n",
    "metrics_df.set_index(['agent', 'trial'], inplace=True)\n",
    "\n",
    "# Average them by agent and trial\n",
    "metrics_averaged_df = metrics_df.groupby(['agent', 'trial']).mean()"
   ]
  },
  {
   "cell_type": "markdown",
   "metadata": {
    "pycharm": {
     "name": "#%% md\n"
    }
   },
   "source": [
    "## Plot"
   ]
  },
  {
   "cell_type": "code",
   "execution_count": 5,
   "metadata": {
    "pycharm": {
     "name": "#%%\n"
    },
    "tags": [
     "hide-input"
    ]
   },
   "outputs": [],
   "source": [
    "with warnings.catch_warnings():\n",
    "    warnings.simplefilter(\"ignore\")\n",
    "    plot_comparison(metrics_averaged_df, plot_filename=f'{plot_dir}/rmpx_3bit_performance.png')"
   ]
  },
  {
   "cell_type": "markdown",
   "metadata": {
    "pycharm": {
     "name": "#%% md\n"
    }
   },
   "source": [
    ":::{figure-md} rmpx3bit-discretized-performance-fig\n",
    "<img src=\"../../../_static/plots/3_internalizing/discretization/rmpx_3bit_performance.png\">\n",
    "\n",
    "Performance of 3bit discretized rMPX with 10 bins.\n",
    ":::"
   ]
  },
  {
   "cell_type": "markdown",
   "metadata": {
    "pycharm": {
     "name": "#%% md\n"
    }
   },
   "source": [
    "## Statistical verification\n",
    "\n",
    "```{admonition} Hypothesis testing\n",
    ":class: tip\n",
    "The same plot as in the latest IEEE submission\n",
    "```"
   ]
  },
  {
   "cell_type": "code",
   "execution_count": 6,
   "metadata": {
    "pycharm": {
     "name": "#%%\n"
    },
    "tags": [
     "hide-input"
    ]
   },
   "outputs": [
    {
     "data": {
      "text/plain": "<IPython.core.display.HTML object>",
      "text/html": "<table>\n<thead>\n<tr><th style=\"text-align: right;\">       </th><th style=\"text-align: right;\">    Knowledge</th><th style=\"text-align: right;\">  Generalization</th><th style=\"text-align: right;\">      Population</th><th style=\"text-align: right;\">   Trial time</th></tr>\n</thead>\n<tbody>\n<tr><td style=\"text-align: right;\">    acs</td><td style=\"text-align: right;\">    0.0 ± 0.0</td><td style=\"text-align: right;\">   0.875 ± 0.001</td><td style=\"text-align: right;\">     4.0 ± 0.001</td><td style=\"text-align: right;\">0.001 ± 0.001</td></tr>\n<tr><td style=\"text-align: right;\">   acs2</td><td style=\"text-align: right;\">0.998 ± 0.001</td><td style=\"text-align: right;\">   0.174 ± 0.001</td><td style=\"text-align: right;\">1622.405 ± 7.313</td><td style=\"text-align: right;\">0.007 ± 0.001</td></tr>\n<tr><td style=\"text-align: right;\">acs2_ga</td><td style=\"text-align: right;\">  1.0 ± 0.001</td><td style=\"text-align: right;\">   0.318 ± 0.001</td><td style=\"text-align: right;\"> 977.517 ± 5.966</td><td style=\"text-align: right;\">0.006 ± 0.001</td></tr>\n<tr><td style=\"text-align: right;\">   yacs</td><td style=\"text-align: right;\">0.978 ± 0.001</td><td style=\"text-align: right;\">   0.106 ± 0.005</td><td style=\"text-align: right;\">1160.178 ± 6.192</td><td style=\"text-align: right;\"> 0.03 ± 0.001</td></tr>\n<tr><td style=\"text-align: right;\">  dynaq</td><td style=\"text-align: right;\">0.998 ± 0.001</td><td style=\"text-align: right;\">       0.0 ± 0.0</td><td style=\"text-align: right;\">  2000.0 ± 0.001</td><td style=\"text-align: right;\">    0.0 ± 0.0</td></tr>\n</tbody>\n</table>"
     },
     "metadata": {},
     "output_type": "display_data"
    }
   ],
   "source": [
    "agents = ['acs', 'acs2', 'acs2_ga', 'yacs', 'dynaq']\n",
    "\n",
    "\n",
    "def build_models(df: pd.DataFrame, field: str):\n",
    "    results = {}\n",
    "\n",
    "    for agent in agents:\n",
    "        last_trial = df.reset_index(1).query(f'agent == \"{agent}\"')['trial'].max()\n",
    "        data_arr = df.query(f'agent == \"{agent}\" and trial == {last_trial}')[field].to_numpy()\n",
    "        bayes_model = bayes_estimate(data_arr)\n",
    "        results[agent] = bayes_model['mu']\n",
    "\n",
    "    return results\n",
    "\n",
    "\n",
    "@get_from_cache_or_run(cache_path=f'{cache_dir}/rmpx_3bit/bayes/population.dill')\n",
    "def build_population_model(df: pd.DataFrame):\n",
    "    return build_models(df, 'population')\n",
    "\n",
    "\n",
    "@get_from_cache_or_run(cache_path=f'{cache_dir}/rmpx_3bit/bayes/knowledge.dill')\n",
    "def build_knowledge_models(df: pd.DataFrame):\n",
    "    return build_models(df, 'knowledge')\n",
    "\n",
    "\n",
    "@get_from_cache_or_run(cache_path=f'{cache_dir}/rmpx_3bit/bayes/generalization.dill')\n",
    "def build_generalization_models(df: pd.DataFrame):\n",
    "    return build_models(df, 'generalization')\n",
    "\n",
    "\n",
    "@get_from_cache_or_run(cache_path=f'{cache_dir}/rmpx_3bit/bayes/timing.dill')\n",
    "def build_timing_models(df: pd.DataFrame):\n",
    "    return build_models(df, 'time')\n",
    "\n",
    "\n",
    "population_models = build_population_model(metrics_df)\n",
    "knowledge_models = build_knowledge_models(metrics_df)\n",
    "generalization_models = build_generalization_models(metrics_df)\n",
    "timing_models = build_timing_models(metrics_df)\n",
    "\n",
    "# prepare table\n",
    "print_row = lambda r: f'{round(r.mean(), 3)} ± {round(r.std(), 3)}'\n",
    "\n",
    "payload_df = []\n",
    "table_data = []\n",
    "\n",
    "for agent in agents:\n",
    "    # prepare data frame for visualization\n",
    "    payload_df.append({\n",
    "        'agent': agent,\n",
    "        'knowledge': knowledge_models[agent].mean(),\n",
    "        'generalization': generalization_models[agent].mean(),\n",
    "        'population': population_models[agent].mean(),\n",
    "        'time': timing_models[agent].mean()\n",
    "    })\n",
    "\n",
    "    # add data to table\n",
    "    table_data.append([agent.upper(),\n",
    "                       print_row(knowledge_models[agent]),\n",
    "                       print_row(generalization_models[agent]),\n",
    "                       print_row(population_models[agent]),\n",
    "                       print_row(timing_models[agent])])\n",
    "\n",
    "rmpx_bayes_df = pd.DataFrame(payload_df).set_index('agent')\n",
    "\n",
    "bayes_table = tabulate(table_data,\n",
    "                       headers=['', 'Knowledge', 'Generalization', 'Population', 'Trial time'],\n",
    "                       tablefmt=\"html\", stralign='right')\n",
    "\n",
    "glue('ch33_1_bayes_table', HTML(bayes_table), display=False)\n",
    "glue('ch33_1_bayes_fig', plot_bayes_comparison(rmpx_bayes_df, 'rMPX', agents, plot_filename=f'{plot_dir}/rmpx_3bit_bayes.png'), display=False)"
   ]
  },
  {
   "cell_type": "markdown",
   "source": [
    "````{tabbed} Bayes Table\n",
    "{glue:}`ch33_1_bayes_table`\n",
    "````\n",
    "\n",
    "````{tabbed} Radar plot\n",
    "```{glue:figure} ch33_1_bayes_fig\n",
    ":name: \"ch33_1_bayes_fig\"\n",
    "Radar plot\n",
    "```\n",
    "````"
   ],
   "metadata": {
    "collapsed": false,
    "pycharm": {
     "name": "#%%\n"
    }
   }
  },
  {
   "cell_type": "markdown",
   "metadata": {},
   "source": [
    "## Observations"
   ]
  }
 ],
 "metadata": {
  "celltoolbar": "Tags",
  "kernelspec": {
   "display_name": "Python 3 (ipykernel)",
   "language": "python",
   "name": "python3"
  },
  "language_info": {
   "codemirror_mode": {
    "name": "ipython",
    "version": 3
   },
   "file_extension": ".py",
   "mimetype": "text/x-python",
   "name": "python",
   "nbconvert_exporter": "python",
   "pygments_lexer": "ipython3",
   "version": "3.9.10"
  }
 },
 "nbformat": 4,
 "nbformat_minor": 1
}