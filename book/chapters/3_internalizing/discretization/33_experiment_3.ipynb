{
 "cells": [
  {
   "cell_type": "code",
   "execution_count": 1,
   "metadata": {
    "pycharm": {
     "name": "#%%\n"
    },
    "tags": [
     "hide-input"
    ]
   },
   "outputs": [],
   "source": [
    "import itertools\n",
    "import pathlib\n",
    "import warnings\n",
    "\n",
    "import bitstring\n",
    "import gym\n",
    "import gym_multiplexer  # noqa: F401\n",
    "\n",
    "from lcs import Perception\n",
    "\n",
    "from src.decorators import repeat, get_from_cache_or_run\n",
    "from src.discretized_experiments import *\n",
    "from src.utils import build_plots_dir_path, build_cache_dir_path\n",
    "\n",
    "plt.ioff()  # turn off interactive plotting\n",
    "plt.style.use('../../../../src/phd.mplstyle')\n",
    "\n",
    "root_dir = pathlib.Path().cwd().parent.parent.parent.parent\n",
    "cwd_dir = pathlib.Path().cwd()\n",
    "\n",
    "plot_dir = build_plots_dir_path(root_dir) / cwd_dir.parent.name / cwd_dir.name\n",
    "cache_dir = build_cache_dir_path(root_dir) / cwd_dir.parent.name / cwd_dir.name"
   ]
  },
  {
   "cell_type": "markdown",
   "metadata": {
    "collapsed": true,
    "pycharm": {
     "name": "#%% md\n"
    }
   },
   "source": [
    "(section-internalizing-experiment-3)=\n",
    "# Experiment 3 - Single step"
   ]
  },
  {
   "cell_type": "code",
   "execution_count": 2,
   "metadata": {
    "pycharm": {
     "name": "#%%\n"
    },
    "tags": [
     "hide-input"
    ]
   },
   "outputs": [],
   "source": [
    "RMPX_BINS = 10\n",
    "RMPX_SIZE = 3\n",
    "CTRL_BITS = 1\n",
    "\n",
    "rmpx = gym.make(f'real-multiplexer-{RMPX_SIZE}bit-v0')\n",
    "\n",
    "_range, _low = (rmpx.observation_space.high - rmpx.observation_space.low, rmpx.observation_space.low)\n",
    "\n",
    "RMPX_STEP = _range / RMPX_BINS\n",
    "\n",
    "\n",
    "class RealMultiplexerUtils:\n",
    "    def __init__(self, size, ctrl_bits, bins, _range, _threshold=0.5):\n",
    "        self._size = size\n",
    "        self._ctrl_bits = ctrl_bits\n",
    "        self._bins = bins\n",
    "        self._step = _range / bins\n",
    "        self._threshold = _threshold\n",
    "\n",
    "        self._attribute_values = [list(range(0, bins))] * (size) + [[0, bins]]\n",
    "        self._input_space = itertools.product(*self._attribute_values)\n",
    "        self.state_mapping = {idx: s for idx, s in enumerate(self._input_space)}\n",
    "        self.state_mapping_inv = {v: k for k, v in self.state_mapping.items()}\n",
    "\n",
    "    def discretize(self, obs, _type=int):\n",
    "        r = (obs + np.abs(_low)) / _range\n",
    "        b = (r * RMPX_BINS).astype(int)\n",
    "        return b.astype(_type).tolist()\n",
    "\n",
    "    def reverse_discretize(self, discretized):\n",
    "        return discretized * self._step[:len(discretized)]\n",
    "\n",
    "    def get_transitions(self):\n",
    "        transitions = []\n",
    "\n",
    "        initial_dstates = [list(range(0, self._bins))] * (self._size)\n",
    "        for d_state in itertools.product(*initial_dstates):\n",
    "            correct_answer = self._get_correct_answer(d_state)\n",
    "\n",
    "            if correct_answer == 0:\n",
    "                transitions.append((d_state + (0,), 0, d_state + (self._bins,)))\n",
    "                transitions.append((d_state + (0,), 1, d_state + (0,)))\n",
    "            else:\n",
    "                transitions.append((d_state + (0,), 0, d_state + (0,)))\n",
    "                transitions.append((d_state + (0,), 1, d_state + (self._bins,)))\n",
    "\n",
    "        return transitions\n",
    "\n",
    "    def _get_correct_answer(self, discretized):\n",
    "        estimated_obs = self.reverse_discretize(discretized)\n",
    "        bits = bitstring.BitArray(estimated_obs > self._threshold)\n",
    "        _ctrl_bits = bits[:self._ctrl_bits]\n",
    "        _data_bits = bits[self._ctrl_bits:]\n",
    "\n",
    "        return int(_data_bits[_ctrl_bits.uint])\n",
    "\n",
    "\n",
    "rmpx_utils = RealMultiplexerUtils(RMPX_SIZE, CTRL_BITS, RMPX_BINS, _range)\n",
    "# print(f\"Possible states: {len(rmpx_utils.state_mapping)}\")"
   ]
  },
  {
   "cell_type": "code",
   "execution_count": 3,
   "metadata": {
    "pycharm": {
     "name": "#%%\n"
    },
    "tags": [
     "hide-input"
    ]
   },
   "outputs": [],
   "source": [
    "# metrics\n",
    "def generalization_score(pop):\n",
    "    # Compute proportion of wildcards in classifier condition across all classifiers\n",
    "    wildcards = sum(1 for cl in pop for cond in cl.condition if\n",
    "                    cond == '#' or (\n",
    "                            hasattr(cond, 'symbol') and cond.symbol == '#'))\n",
    "    all_symbols = sum(len(cl.condition) for cl in pop)\n",
    "    return wildcards / all_symbols\n",
    "\n",
    "\n",
    "def rmpx_knowledge(population, env):\n",
    "    reliable = [c for c in population if c.is_reliable()]\n",
    "    nr_correct = 0\n",
    "\n",
    "    for start, action, end in rmpx_utils.get_transitions():\n",
    "        p0 = Perception([str(el) for el in start])\n",
    "        p1 = Perception([str(el) for el in end])\n",
    "\n",
    "        if any([True for cl in reliable if cl.predicts_successfully(p0, action, p1)]):\n",
    "            nr_correct += 1\n",
    "\n",
    "    return nr_correct / len(rmpx_utils.get_transitions())\n",
    "\n",
    "\n",
    "def rmpx_metrics_collector(agent, env):\n",
    "    population = agent.population\n",
    "    return {\n",
    "        'pop': len(population),\n",
    "        'knowledge': rmpx_knowledge(population, env),\n",
    "        'generalization': generalization_score(population)\n",
    "    }\n",
    "\n",
    "\n",
    "# DynaQ helpers\n",
    "def rmpx_perception_to_int(p0, discretize=True):\n",
    "    if discretize:\n",
    "        p0 = rmpx_utils.discretize(p0)\n",
    "\n",
    "    return rmpx_utils.state_mapping_inv[tuple(p0)]\n",
    "\n",
    "\n",
    "def dynaq_rmpx_knowledge_calculator(model, env):\n",
    "    all_transitions = 0\n",
    "    nr_correct = 0\n",
    "\n",
    "    for p0, a, p1 in rmpx_utils.get_transitions():\n",
    "        s0 = rmpx_perception_to_int(p0, discretize=False)\n",
    "        s1 = rmpx_perception_to_int(p1, discretize=False)\n",
    "\n",
    "        all_transitions += 1\n",
    "        if s0 in model and a in model[s0] and model[s0][a][0] == s1:\n",
    "            nr_correct += 1\n",
    "\n",
    "    return nr_correct / len(rmpx_utils.get_transitions())"
   ]
  },
  {
   "cell_type": "code",
   "execution_count": 4,
   "metadata": {
    "pycharm": {
     "name": "#%%\n"
    },
    "tags": [
     "hide-input"
    ]
   },
   "outputs": [],
   "source": [
    "class DiscretizedWrapper(gym.ObservationWrapper):\n",
    "    def observation(self, obs):\n",
    "        return rmpx_utils.discretize(obs, _type=str)\n",
    "\n",
    "\n",
    "class SingleStateWrapper(DiscretizedWrapper):\n",
    "    def observation(self, obs):\n",
    "        return rmpx_utils.state_mapping_inv[tuple(map(int, obs))]\n",
    "\n",
    "\n",
    "common_params = {\n",
    "    'classifier_length': RMPX_SIZE + 1,\n",
    "    'possible_actions': 2,\n",
    "    'learning_rate': 0.1,\n",
    "    'metrics_trial_freq': 100,\n",
    "    'metrics_fcn': rmpx_metrics_collector,\n",
    "    'trials': 15_000\n",
    "}\n",
    "\n",
    "yacs_params = {\n",
    "    'trace_length': 3,\n",
    "    'estimate_expected_improvements': False,\n",
    "    'feature_possible_values': [{str(i) for i in range(RMPX_BINS)}] * RMPX_SIZE + [{'0', '10'}]\n",
    "}\n",
    "\n",
    "dynaq_params = {\n",
    "    'q_init': np.zeros((len(rmpx_utils.state_mapping), 2)),\n",
    "    'model_init': {},\n",
    "    'knowledge_fcn': dynaq_rmpx_knowledge_calculator,\n",
    "    'epsilon': 0.5\n",
    "}\n",
    "\n",
    "NUM_EXPERIMENTS = 50\n",
    "USE_RAY = True\n",
    "\n",
    "\n",
    "@get_from_cache_or_run(cache_path=f'{cache_dir}/rmpx_{RMPX_SIZE}bit/acs.dill')\n",
    "@repeat(num_times=NUM_EXPERIMENTS, use_ray=USE_RAY)\n",
    "def run_rmpx_with_acs():\n",
    "    return single_acs_experiment(\n",
    "        env_provider=lambda: DiscretizedWrapper(rmpx),\n",
    "        trials=common_params['trials'],\n",
    "        classifier_length=common_params['classifier_length'],\n",
    "        possible_actions=common_params['possible_actions'],\n",
    "        learning_rate=common_params['learning_rate'],\n",
    "        metrics_trial_freq=common_params['metrics_trial_freq'],\n",
    "        metrics_fcn=common_params['metrics_fcn'])\n",
    "\n",
    "\n",
    "@get_from_cache_or_run(cache_path=f'{cache_dir}/rmpx_{RMPX_SIZE}bit/acs2.dill')\n",
    "@repeat(num_times=NUM_EXPERIMENTS, use_ray=USE_RAY)\n",
    "def run_rmpx_with_acs2():\n",
    "    return single_acs2_experiment(\n",
    "        env_provider=lambda: DiscretizedWrapper(rmpx),\n",
    "        trials=common_params['trials'],\n",
    "        classifier_length=common_params['classifier_length'],\n",
    "        possible_actions=common_params['possible_actions'],\n",
    "        learning_rate=common_params['learning_rate'],\n",
    "        do_ga=False,\n",
    "        initial_q=0.5,\n",
    "        metrics_trial_freq=common_params['metrics_trial_freq'],\n",
    "        metrics_fcn=common_params['metrics_fcn']\n",
    "    )\n",
    "\n",
    "\n",
    "\n",
    "@get_from_cache_or_run(cache_path=f'{cache_dir}/rmpx_{RMPX_SIZE}bit/acs2_ga.dill')\n",
    "@repeat(num_times=NUM_EXPERIMENTS, use_ray=USE_RAY)\n",
    "def run_rmpx_with_acs2_ga():\n",
    "    return single_acs2_experiment(\n",
    "        env_provider=lambda: DiscretizedWrapper(rmpx),\n",
    "        trials=common_params['trials'],\n",
    "        classifier_length=common_params['classifier_length'],\n",
    "        possible_actions=common_params['possible_actions'],\n",
    "        learning_rate=common_params['learning_rate'],\n",
    "        do_ga=True,\n",
    "        initial_q=0.5,\n",
    "        metrics_trial_freq=common_params['metrics_trial_freq'],\n",
    "        metrics_fcn=common_params['metrics_fcn']\n",
    "    )\n",
    "\n",
    "\n",
    "@get_from_cache_or_run(cache_path=f'{cache_dir}/rmpx_{RMPX_SIZE}bit/yacs.dill')\n",
    "@repeat(num_times=NUM_EXPERIMENTS, use_ray=USE_RAY)\n",
    "def run_rmpx_with_yacs():\n",
    "    return single_yacs_experiment(\n",
    "        env_provider=lambda: DiscretizedWrapper(rmpx),\n",
    "        trials=common_params['trials'],\n",
    "        classifier_length=common_params['classifier_length'],\n",
    "        possible_actions=common_params['possible_actions'],\n",
    "        learning_rate=common_params['learning_rate'],\n",
    "        trace_length=yacs_params['trace_length'],\n",
    "        estimate_expected_improvements=yacs_params['estimate_expected_improvements'],\n",
    "        feature_possible_values=yacs_params['feature_possible_values'],\n",
    "        metrics_trial_freq=common_params['metrics_trial_freq'],\n",
    "        metrics_fcn=common_params['metrics_fcn']\n",
    "    )\n",
    "\n",
    "\n",
    "@get_from_cache_or_run(cache_path=f'{cache_dir}/rmpx_{RMPX_SIZE}bit/dynaq.dill')\n",
    "@repeat(num_times=NUM_EXPERIMENTS, use_ray=USE_RAY)\n",
    "def run_rmpx_with_dynaq():\n",
    "    return single_dynaq_experiment(\n",
    "        env_provider=lambda: SingleStateWrapper(DiscretizedWrapper(rmpx)),\n",
    "        trials=common_params['trials'],\n",
    "        q_init=dynaq_params['q_init'],\n",
    "        model_init=dynaq_params['model_init'],\n",
    "        epsilon=dynaq_params['epsilon'],\n",
    "        learning_rate=common_params['learning_rate'],\n",
    "        knowledge_fcn=dynaq_params['knowledge_fcn'],\n",
    "        metrics_trial_freq=common_params['metrics_trial_freq']\n",
    "    )\n",
    "\n",
    "@get_from_cache_or_run(cache_path=f'{cache_dir}/corridor/dynaq.dill')\n",
    "@repeat(num_times=NUM_EXPERIMENTS, use_ray=USE_RAY)\n",
    "def run_corridor_with_dynaq():\n",
    "    return single_dynaq_experiment(\n",
    "        env_provider=lambda: SingleStateWrapper(CorridorObservationWrapper(corridor)),\n",
    "        trials=common_params['trials'],\n",
    "        q_init=dynaq_params['q_init'],\n",
    "        model_init=dynaq_params['model_init'],\n",
    "        epsilon=dynaq_params['epsilon'],\n",
    "        learning_rate=common_params['learning_rate'],\n",
    "        knowledge_fcn=dynaq_params['knowledge_fcn'],\n",
    "        metrics_trial_freq=common_params['metrics_trial_freq']\n",
    "    )\n",
    "\n",
    "# Run computations\n",
    "rmpx_acs_runs = run_rmpx_with_acs()\n",
    "rmpx_acs2_runs = run_rmpx_with_acs2()\n",
    "rmpx_acs2_ga_runs = run_rmpx_with_acs2_ga()\n",
    "rmpx_yacs_runs = run_rmpx_with_yacs()\n",
    "rmpx_dynaq_runs = run_rmpx_with_dynaq()\n",
    "\n",
    "# Collect metrics to single dataframe\n",
    "metrics_df = pd.concat([\n",
    "    *[parse_lcs_metrics('acs', metrics) for _, metrics in rmpx_acs_runs],\n",
    "    *[parse_lcs_metrics('acs2', metrics) for _, metrics in rmpx_acs2_runs],\n",
    "    *[parse_lcs_metrics('acs2_ga', metrics) for _, metrics in rmpx_acs2_ga_runs],\n",
    "    *[parse_lcs_metrics('yacs', metrics) for _, metrics in rmpx_yacs_runs],\n",
    "    *[parse_dyna_metrics('dynaq', metrics) for _, _, metrics in rmpx_dynaq_runs],\n",
    "])\n",
    "metrics_df.set_index(['agent', 'trial'], inplace=True)\n",
    "\n",
    "# Average them by agent and trial\n",
    "metrics_averaged_df = metrics_df.groupby(['agent', 'trial']).mean()"
   ]
  },
  {
   "cell_type": "markdown",
   "metadata": {
    "pycharm": {
     "name": "#%% md\n"
    }
   },
   "source": [
    "## Plot"
   ]
  },
  {
   "cell_type": "code",
   "execution_count": 5,
   "metadata": {
    "pycharm": {
     "name": "#%%\n"
    },
    "tags": [
     "hide-input"
    ]
   },
   "outputs": [],
   "source": [
    "with warnings.catch_warnings():\n",
    "    warnings.simplefilter(\"ignore\")\n",
    "    plot_comparison(metrics_averaged_df, plot_filename=f'{plot_dir}/rmpx_3bit_performance.png')"
   ]
  },
  {
   "cell_type": "markdown",
   "metadata": {
    "pycharm": {
     "name": "#%% md\n"
    }
   },
   "source": [
    ":::{figure-md} rmpx3bit-discretized-performance-fig\n",
    "<img src=\"../../../_static/plots/3_internalizing/discretization/rmpx_3bit_performance.png\">\n",
    "\n",
    "Performance of 3bit discretized rMPX\n",
    ":::"
   ]
  },
  {
   "cell_type": "markdown",
   "source": [
    "## Statistical verification\n",
    "\n",
    "```{admonition} Hypothesis testing\n",
    ":class: tip\n",
    "The same plot as in the latest IEEE submission\n",
    "```"
   ],
   "metadata": {
    "collapsed": false,
    "pycharm": {
     "name": "#%% md\n"
    }
   }
  },
  {
   "cell_type": "markdown",
   "source": [
    "## Observations"
   ],
   "metadata": {
    "collapsed": false,
    "pycharm": {
     "name": "#%% md\n"
    }
   }
  }
 ],
 "metadata": {
  "celltoolbar": "Tags",
  "kernelspec": {
   "display_name": "Python 3 (ipykernel)",
   "language": "python",
   "name": "python3"
  },
  "language_info": {
   "codemirror_mode": {
    "name": "ipython",
    "version": 3
   },
   "file_extension": ".py",
   "mimetype": "text/x-python",
   "name": "python",
   "nbconvert_exporter": "python",
   "pygments_lexer": "ipython3",
   "version": "3.9.6"
  }
 },
 "nbformat": 4,
 "nbformat_minor": 1
}