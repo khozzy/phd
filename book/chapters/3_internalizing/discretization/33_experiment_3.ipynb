{
 "cells": [
  {
   "cell_type": "code",
   "execution_count": 1,
   "metadata": {
    "pycharm": {
     "name": "#%%\n"
    },
    "tags": [
     "hide-input"
    ]
   },
   "outputs": [],
   "source": [
    "import itertools\n",
    "import pathlib\n",
    "import warnings\n",
    "\n",
    "import bitstring\n",
    "import gym\n",
    "import gym_multiplexer  # noqa: F401\n",
    "\n",
    "from lcs import Perception\n",
    "\n",
    "from src.decorators import repeat, get_from_cache_or_run\n",
    "from src.discretized_experiments import *\n",
    "from src.utils import build_plots_dir_path, build_cache_dir_path\n",
    "\n",
    "plt.ioff()  # turn off interactive plotting\n",
    "plt.style.use('../../../../src/phd.mplstyle')\n",
    "\n",
    "root_dir = pathlib.Path().cwd().parent.parent.parent.parent\n",
    "cwd_dir = pathlib.Path().cwd()\n",
    "\n",
    "plot_dir = build_plots_dir_path(root_dir) / cwd_dir.parent.name / cwd_dir.name\n",
    "cache_dir = build_cache_dir_path(root_dir) / cwd_dir.parent.name / cwd_dir.name"
   ]
  },
  {
   "cell_type": "markdown",
   "metadata": {
    "collapsed": true,
    "pycharm": {
     "name": "#%% md\n"
    }
   },
   "source": [
    "(section-internalizing-experiment-3)=\n",
    "# Experiment 3 - Single step"
   ]
  },
  {
   "cell_type": "code",
   "execution_count": 10,
   "metadata": {
    "pycharm": {
     "name": "#%%\n"
    },
    "tags": [
     "hide-input"
    ]
   },
   "outputs": [],
   "source": [
    "RMPX_BINS = 10\n",
    "RMPX_SIZE = 3\n",
    "CTRL_BITS = 1\n",
    "\n",
    "rmpx = gym.make(f'real-multiplexer-{RMPX_SIZE}bit-v0')\n",
    "\n",
    "_range, _low = (rmpx.observation_space.high - rmpx.observation_space.low, rmpx.observation_space.low)\n",
    "\n",
    "RMPX_STEP = _range / RMPX_BINS\n",
    "\n",
    "\n",
    "class RealMultiplexerUtils:\n",
    "    def __init__(self, size, ctrl_bits, bins, _range, _threshold=0.5):\n",
    "        self._size = size\n",
    "        self._ctrl_bits = ctrl_bits\n",
    "        self._bins = bins\n",
    "        self._step = _range / bins\n",
    "        self._threshold = _threshold\n",
    "\n",
    "        self._attribute_values = [list(range(0, bins))] * (size) + [[0, bins]]\n",
    "        self._input_space = itertools.product(*self._attribute_values)\n",
    "        self.state_mapping = {idx: s for idx, s in enumerate(self._input_space)}\n",
    "        self.state_mapping_inv = {v: k for k, v in self.state_mapping.items()}\n",
    "\n",
    "    def discretize(self, obs, _type=int):\n",
    "        r = (obs + np.abs(_low)) / _range\n",
    "        b = (r * RMPX_BINS).astype(int)\n",
    "        return b.astype(_type).tolist()\n",
    "\n",
    "    def reverse_discretize(self, discretized):\n",
    "        return discretized * self._step[:len(discretized)]\n",
    "\n",
    "    def get_transitions(self):\n",
    "        transitions = []\n",
    "\n",
    "        initial_dstates = [list(range(0, self._bins))] * (self._size)\n",
    "        for d_state in itertools.product(*initial_dstates):\n",
    "            correct_answer = self._get_correct_answer(d_state)\n",
    "\n",
    "            if correct_answer == 0:\n",
    "                transitions.append((d_state + (0,), 0, d_state + (self._bins,)))\n",
    "                transitions.append((d_state + (0,), 1, d_state + (0,)))\n",
    "            else:\n",
    "                transitions.append((d_state + (0,), 0, d_state + (0,)))\n",
    "                transitions.append((d_state + (0,), 1, d_state + (self._bins,)))\n",
    "\n",
    "        return transitions\n",
    "\n",
    "    def _get_correct_answer(self, discretized):\n",
    "        estimated_obs = self.reverse_discretize(discretized)\n",
    "        bits = bitstring.BitArray(estimated_obs > self._threshold)\n",
    "        _ctrl_bits = bits[:self._ctrl_bits]\n",
    "        _data_bits = bits[self._ctrl_bits:]\n",
    "\n",
    "        return int(_data_bits[_ctrl_bits.uint])\n",
    "\n",
    "\n",
    "rmpx_utils = RealMultiplexerUtils(RMPX_SIZE, CTRL_BITS, RMPX_BINS, _range)\n",
    "# print(f\"Possible states: {len(rmpx_utils.state_mapping)}\")"
   ]
  },
  {
   "cell_type": "code",
   "execution_count": 11,
   "metadata": {
    "pycharm": {
     "name": "#%%\n"
    },
    "tags": [
     "hide-input"
    ]
   },
   "outputs": [],
   "source": [
    "# metrics\n",
    "def generalization_score(pop):\n",
    "    # Compute proportion of wildcards in classifier condition across all classifiers\n",
    "    wildcards = sum(1 for cl in pop for cond in cl.condition if\n",
    "                    cond == '#' or (\n",
    "                            hasattr(cond, 'symbol') and cond.symbol == '#'))\n",
    "    all_symbols = sum(len(cl.condition) for cl in pop)\n",
    "    return wildcards / all_symbols\n",
    "\n",
    "\n",
    "def rmpx_knowledge(population, env):\n",
    "    reliable = [c for c in population if c.is_reliable()]\n",
    "    nr_correct = 0\n",
    "\n",
    "    for start, action, end in rmpx_utils.get_transitions():\n",
    "        p0 = Perception([str(el) for el in start])\n",
    "        p1 = Perception([str(el) for el in end])\n",
    "\n",
    "        if any([True for cl in reliable if cl.predicts_successfully(p0, action, p1)]):\n",
    "            nr_correct += 1\n",
    "\n",
    "    return nr_correct / len(rmpx_utils.get_transitions())\n",
    "\n",
    "\n",
    "def rmpx_metrics_collector(agent, env):\n",
    "    population = agent.population\n",
    "    return {\n",
    "        'pop': len(population),\n",
    "        'knowledge': rmpx_knowledge(population, env),\n",
    "        'generalization': generalization_score(population)\n",
    "    }\n",
    "\n",
    "\n",
    "# DynaQ helpers\n",
    "def rmpx_perception_to_int(p0, discretize=True):\n",
    "    if discretize:\n",
    "        p0 = rmpx_utils.discretize(p0)\n",
    "\n",
    "    return rmpx_utils.state_mapping_inv[tuple(p0)]\n",
    "\n",
    "\n",
    "def dynaq_rmpx_knowledge_calculator(model, env):\n",
    "    all_transitions = 0\n",
    "    nr_correct = 0\n",
    "\n",
    "    for p0, a, p1 in rmpx_utils.get_transitions():\n",
    "        s0 = rmpx_perception_to_int(p0, discretize=False)\n",
    "        s1 = rmpx_perception_to_int(p1, discretize=False)\n",
    "\n",
    "        all_transitions += 1\n",
    "        if s0 in model and a in model[s0] and model[s0][a][0] == s1:\n",
    "            nr_correct += 1\n",
    "\n",
    "    return nr_correct / len(rmpx_utils.get_transitions())"
   ]
  },
  {
   "cell_type": "code",
   "execution_count": 12,
   "metadata": {
    "pycharm": {
     "name": "#%%\n"
    },
    "tags": [
     "hide-input"
    ]
   },
   "outputs": [],
   "source": [
    "class DiscretizedWrapper(gym.ObservationWrapper):\n",
    "    def observation(self, obs):\n",
    "        return rmpx_utils.discretize(obs, _type=str)\n",
    "\n",
    "\n",
    "class SingleStateWrapper(DiscretizedWrapper):\n",
    "    def observation(self, obs):\n",
    "        return rmpx_utils.state_mapping_inv[tuple(map(int, obs))]\n",
    "\n",
    "\n",
    "common_params = {\n",
    "    'classifier_length': RMPX_SIZE + 1,\n",
    "    'possible_actions': 2,\n",
    "    'learning_rate': 0.1,\n",
    "    'metrics_trial_freq': 100,\n",
    "    'metrics_fcn': rmpx_metrics_collector,\n",
    "    'trials': 15_000\n",
    "}\n",
    "\n",
    "yacs_params = {\n",
    "    'trace_length': 3,\n",
    "    'estimate_expected_improvements': False,\n",
    "    'feature_possible_values': [{str(i) for i in range(RMPX_BINS)}] * RMPX_SIZE + [{'0', '10'}]\n",
    "}\n",
    "\n",
    "dynaq_params = {\n",
    "    'q_init': np.zeros((len(rmpx_utils.state_mapping), 2)),\n",
    "    'model_init': {},\n",
    "    'knowledge_fcn': dynaq_rmpx_knowledge_calculator,\n",
    "    'epsilon': 0.5\n",
    "}\n",
    "\n",
    "NUM_EXPERIMENTS = 50\n",
    "USE_RAY = True\n",
    "\n",
    "\n",
    "@get_from_cache_or_run(cache_path=f'{cache_dir}/rmpx_{RMPX_SIZE}bit/acs.dill')\n",
    "@repeat(num_times=NUM_EXPERIMENTS, use_ray=USE_RAY)\n",
    "def run_rmpx_with_acs():\n",
    "    return single_acs_experiment(\n",
    "        env_provider=lambda: DiscretizedWrapper(rmpx),\n",
    "        trials=common_params['trials'],\n",
    "        classifier_length=common_params['classifier_length'],\n",
    "        possible_actions=common_params['possible_actions'],\n",
    "        learning_rate=common_params['learning_rate'],\n",
    "        metrics_trial_freq=common_params['metrics_trial_freq'],\n",
    "        metrics_fcn=common_params['metrics_fcn'])\n",
    "\n",
    "\n",
    "@get_from_cache_or_run(cache_path=f'{cache_dir}/rmpx_{RMPX_SIZE}bit/acs2.dill')\n",
    "@repeat(num_times=NUM_EXPERIMENTS, use_ray=USE_RAY)\n",
    "def run_rmpx_with_acs2():\n",
    "    return single_acs2_experiment(\n",
    "        env_provider=lambda: DiscretizedWrapper(rmpx),\n",
    "        trials=common_params['trials'],\n",
    "        classifier_length=common_params['classifier_length'],\n",
    "        possible_actions=common_params['possible_actions'],\n",
    "        learning_rate=common_params['learning_rate'],\n",
    "        do_ga=False,\n",
    "        initial_q=0.5,\n",
    "        metrics_trial_freq=common_params['metrics_trial_freq'],\n",
    "        metrics_fcn=common_params['metrics_fcn']\n",
    "    )\n",
    "\n",
    "\n",
    "@get_from_cache_or_run(cache_path=f'{cache_dir}/rmpx_{RMPX_SIZE}bit/acs2_oiq.dill')\n",
    "@repeat(num_times=NUM_EXPERIMENTS, use_ray=USE_RAY)\n",
    "def run_rmpx_with_acs2_oiq():\n",
    "    return single_acs2_experiment(\n",
    "        env_provider=lambda: DiscretizedWrapper(rmpx),\n",
    "        trials=common_params['trials'],\n",
    "        classifier_length=common_params['classifier_length'],\n",
    "        possible_actions=common_params['possible_actions'],\n",
    "        learning_rate=common_params['learning_rate'],\n",
    "        do_ga=False,\n",
    "        initial_q=0.8,\n",
    "        metrics_trial_freq=common_params['metrics_trial_freq'],\n",
    "        metrics_fcn=common_params['metrics_fcn']\n",
    "    )\n",
    "\n",
    "\n",
    "@get_from_cache_or_run(cache_path=f'{cache_dir}/rmpx_{RMPX_SIZE}bit/acs2_ga.dill')\n",
    "@repeat(num_times=NUM_EXPERIMENTS, use_ray=USE_RAY)\n",
    "def run_rmpx_with_acs2_ga():\n",
    "    return single_acs2_experiment(\n",
    "        env_provider=lambda: DiscretizedWrapper(rmpx),\n",
    "        trials=common_params['trials'],\n",
    "        classifier_length=common_params['classifier_length'],\n",
    "        possible_actions=common_params['possible_actions'],\n",
    "        learning_rate=common_params['learning_rate'],\n",
    "        do_ga=True,\n",
    "        initial_q=0.5,\n",
    "        metrics_trial_freq=common_params['metrics_trial_freq'],\n",
    "        metrics_fcn=common_params['metrics_fcn']\n",
    "    )\n",
    "\n",
    "\n",
    "@get_from_cache_or_run(cache_path=f'{cache_dir}/rmpx_{RMPX_SIZE}bit/acs2_ga_oiq.dill')\n",
    "@repeat(num_times=NUM_EXPERIMENTS, use_ray=USE_RAY)\n",
    "def run_rmpx_with_acs2_ga_oiq():\n",
    "    return single_acs2_experiment(\n",
    "        env_provider=lambda: DiscretizedWrapper(rmpx),\n",
    "        trials=common_params['trials'],\n",
    "        classifier_length=common_params['classifier_length'],\n",
    "        possible_actions=common_params['possible_actions'],\n",
    "        learning_rate=common_params['learning_rate'],\n",
    "        do_ga=True,\n",
    "        initial_q=0.8,\n",
    "        metrics_trial_freq=common_params['metrics_trial_freq'],\n",
    "        metrics_fcn=common_params['metrics_fcn']\n",
    "    )\n",
    "\n",
    "\n",
    "@get_from_cache_or_run(cache_path=f'{cache_dir}/rmpx_{RMPX_SIZE}bit/yacs.dill')\n",
    "@repeat(num_times=NUM_EXPERIMENTS, use_ray=USE_RAY)\n",
    "def run_rmpx_with_yacs():\n",
    "    return single_yacs_experiment(\n",
    "        env_provider=lambda: DiscretizedWrapper(rmpx),\n",
    "        trials=common_params['trials'],\n",
    "        classifier_length=common_params['classifier_length'],\n",
    "        possible_actions=common_params['possible_actions'],\n",
    "        learning_rate=common_params['learning_rate'],\n",
    "        trace_length=yacs_params['trace_length'],\n",
    "        estimate_expected_improvements=yacs_params['estimate_expected_improvements'],\n",
    "        feature_possible_values=yacs_params['feature_possible_values'],\n",
    "        metrics_trial_freq=common_params['metrics_trial_freq'],\n",
    "        metrics_fcn=common_params['metrics_fcn']\n",
    "    )\n",
    "\n",
    "\n",
    "@get_from_cache_or_run(cache_path=f'{cache_dir}/rmpx_{RMPX_SIZE}bit/dynaq.dill')\n",
    "@repeat(num_times=NUM_EXPERIMENTS, use_ray=USE_RAY)\n",
    "def run_rmpx_with_dynaq():\n",
    "    return single_dynaq_experiment(\n",
    "        env_provider=lambda: SingleStateWrapper(DiscretizedWrapper(rmpx)),\n",
    "        trials=common_params['trials'],\n",
    "        q_init=dynaq_params['q_init'],\n",
    "        model_init=dynaq_params['model_init'],\n",
    "        epsilon=dynaq_params['epsilon'],\n",
    "        learning_rate=common_params['learning_rate'],\n",
    "        knowledge_fcn=dynaq_params['knowledge_fcn'],\n",
    "        metrics_trial_freq=common_params['metrics_trial_freq']\n",
    "    )\n",
    "\n",
    "@get_from_cache_or_run(cache_path=f'{cache_dir}/corridor/dynaq.dill')\n",
    "@repeat(num_times=NUM_EXPERIMENTS, use_ray=USE_RAY)\n",
    "def run_corridor_with_dynaq():\n",
    "    return single_dynaq_experiment(\n",
    "        env_provider=lambda: SingleStateWrapper(CorridorObservationWrapper(corridor)),\n",
    "        trials=common_params['trials'],\n",
    "        q_init=dynaq_params['q_init'],\n",
    "        model_init=dynaq_params['model_init'],\n",
    "        epsilon=dynaq_params['epsilon'],\n",
    "        learning_rate=common_params['learning_rate'],\n",
    "        knowledge_fcn=dynaq_params['knowledge_fcn'],\n",
    "        metrics_trial_freq=common_params['metrics_trial_freq']\n",
    "    )\n",
    "\n",
    "# Run computations\n",
    "rmpx_acs_runs = run_rmpx_with_acs()\n",
    "rmpx_acs2_runs = run_rmpx_with_acs2()\n",
    "rmpx_acs2_oiq_runs = run_rmpx_with_acs2_oiq()\n",
    "rmpx_acs2_ga_runs = run_rmpx_with_acs2_ga()\n",
    "rmpx_acs2_ga_oiq_runs = run_rmpx_with_acs2_ga_oiq()\n",
    "rmpx_yacs_runs = run_rmpx_with_yacs()\n",
    "rmpx_dynaq_runs = run_rmpx_with_dynaq()\n",
    "\n",
    "# Collect metrics to single dataframe\n",
    "metrics_df = pd.concat([\n",
    "    *[parse_lcs_metrics('acs', metrics) for _, metrics in rmpx_acs_runs],\n",
    "    *[parse_lcs_metrics('acs2', metrics) for _, metrics in rmpx_acs2_runs],\n",
    "    *[parse_lcs_metrics('acs2_oiq', metrics) for _, metrics in rmpx_acs2_oiq_runs],\n",
    "    *[parse_lcs_metrics('acs2_ga', metrics) for _, metrics in rmpx_acs2_ga_runs],\n",
    "    *[parse_lcs_metrics('acs2_ga_oiq', metrics) for _, metrics in rmpx_acs2_ga_oiq_runs],\n",
    "    *[parse_lcs_metrics('yacs', metrics) for _, metrics in rmpx_yacs_runs],\n",
    "    *[parse_dyna_metrics('dynaq', metrics) for _, _, metrics in rmpx_dynaq_runs],\n",
    "])\n",
    "metrics_df.set_index(['agent', 'trial'], inplace=True)\n",
    "\n",
    "# Average them by agent and trial\n",
    "metrics_averaged_df = metrics_df.groupby(['agent', 'trial']).mean()"
   ]
  },
  {
   "cell_type": "markdown",
   "metadata": {
    "pycharm": {
     "name": "#%% md\n"
    }
   },
   "source": [
    "## Plot"
   ]
  },
  {
   "cell_type": "code",
   "execution_count": 13,
   "metadata": {
    "pycharm": {
     "name": "#%%\n"
    },
    "tags": [
     "hide-input"
    ]
   },
   "outputs": [
    {
     "ename": "KeyboardInterrupt",
     "evalue": "",
     "output_type": "error",
     "traceback": [
      "\u001B[0;31m---------------------------------------------------------------------------\u001B[0m",
      "\u001B[0;31mAttributeError\u001B[0m                            Traceback (most recent call last)",
      "File \u001B[0;32m~/miniconda3/envs/real-valued-acs-system/lib/python3.9/site-packages/PIL/ImageFile.py:504\u001B[0m, in \u001B[0;36m_save\u001B[0;34m(im, fp, tile, bufsize)\u001B[0m\n\u001B[1;32m    503\u001B[0m \u001B[38;5;28;01mtry\u001B[39;00m:\n\u001B[0;32m--> 504\u001B[0m     fh \u001B[38;5;241m=\u001B[39m \u001B[43mfp\u001B[49m\u001B[38;5;241;43m.\u001B[39;49m\u001B[43mfileno\u001B[49m()\n\u001B[1;32m    505\u001B[0m     fp\u001B[38;5;241m.\u001B[39mflush()\n",
      "\u001B[0;31mAttributeError\u001B[0m: '_idat' object has no attribute 'fileno'",
      "\nDuring handling of the above exception, another exception occurred:\n",
      "\u001B[0;31mKeyboardInterrupt\u001B[0m                         Traceback (most recent call last)",
      "Input \u001B[0;32mIn [13]\u001B[0m, in \u001B[0;36m<module>\u001B[0;34m\u001B[0m\n\u001B[1;32m      1\u001B[0m \u001B[38;5;28;01mwith\u001B[39;00m warnings\u001B[38;5;241m.\u001B[39mcatch_warnings():\n\u001B[1;32m      2\u001B[0m     warnings\u001B[38;5;241m.\u001B[39msimplefilter(\u001B[38;5;124m\"\u001B[39m\u001B[38;5;124mignore\u001B[39m\u001B[38;5;124m\"\u001B[39m)\n\u001B[0;32m----> 3\u001B[0m     \u001B[43mplot_comparison\u001B[49m\u001B[43m(\u001B[49m\u001B[43mmetrics_averaged_df\u001B[49m\u001B[43m,\u001B[49m\u001B[43m \u001B[49m\u001B[43mplot_filename\u001B[49m\u001B[38;5;241;43m=\u001B[39;49m\u001B[38;5;124;43mf\u001B[39;49m\u001B[38;5;124;43m'\u001B[39;49m\u001B[38;5;132;43;01m{\u001B[39;49;00m\u001B[43mplot_dir\u001B[49m\u001B[38;5;132;43;01m}\u001B[39;49;00m\u001B[38;5;124;43m/rmpx_3bit_performance.png\u001B[39;49m\u001B[38;5;124;43m'\u001B[39;49m\u001B[43m)\u001B[49m\n",
      "File \u001B[0;32m~/Projects/pwr/phd/src/discretized_experiments.py:233\u001B[0m, in \u001B[0;36mplot_comparison\u001B[0;34m(df, plot_filename)\u001B[0m\n\u001B[1;32m    230\u001B[0m fig\u001B[38;5;241m.\u001B[39mlegend(handles, labels, ncol\u001B[38;5;241m=\u001B[39m\u001B[38;5;28mlen\u001B[39m(values), loc\u001B[38;5;241m=\u001B[39m\u001B[38;5;124m'\u001B[39m\u001B[38;5;124mlower center\u001B[39m\u001B[38;5;124m'\u001B[39m, prop\u001B[38;5;241m=\u001B[39m{\u001B[38;5;124m'\u001B[39m\u001B[38;5;124msize\u001B[39m\u001B[38;5;124m'\u001B[39m: \u001B[38;5;241m23\u001B[39m})\n\u001B[1;32m    232\u001B[0m \u001B[38;5;28;01mif\u001B[39;00m plot_filename:\n\u001B[0;32m--> 233\u001B[0m     \u001B[43mfig\u001B[49m\u001B[38;5;241;43m.\u001B[39;49m\u001B[43msavefig\u001B[49m\u001B[43m(\u001B[49m\u001B[43mplot_filename\u001B[49m\u001B[43m,\u001B[49m\u001B[43m \u001B[49m\u001B[43mdpi\u001B[49m\u001B[38;5;241;43m=\u001B[39;49m\u001B[43mPLOT_DPI\u001B[49m\u001B[43m,\u001B[49m\u001B[43m \u001B[49m\u001B[43mbbox_inches\u001B[49m\u001B[38;5;241;43m=\u001B[39;49m\u001B[38;5;124;43m'\u001B[39;49m\u001B[38;5;124;43mtight\u001B[39;49m\u001B[38;5;124;43m'\u001B[39;49m\u001B[43m)\u001B[49m\n\u001B[1;32m    235\u001B[0m \u001B[38;5;28;01mreturn\u001B[39;00m fig\n",
      "File \u001B[0;32m~/miniconda3/envs/real-valued-acs-system/lib/python3.9/site-packages/matplotlib/figure.py:3019\u001B[0m, in \u001B[0;36mFigure.savefig\u001B[0;34m(self, fname, transparent, **kwargs)\u001B[0m\n\u001B[1;32m   3015\u001B[0m     \u001B[38;5;28;01mfor\u001B[39;00m ax \u001B[38;5;129;01min\u001B[39;00m \u001B[38;5;28mself\u001B[39m\u001B[38;5;241m.\u001B[39maxes:\n\u001B[1;32m   3016\u001B[0m         stack\u001B[38;5;241m.\u001B[39menter_context(\n\u001B[1;32m   3017\u001B[0m             ax\u001B[38;5;241m.\u001B[39mpatch\u001B[38;5;241m.\u001B[39m_cm_set(facecolor\u001B[38;5;241m=\u001B[39m\u001B[38;5;124m'\u001B[39m\u001B[38;5;124mnone\u001B[39m\u001B[38;5;124m'\u001B[39m, edgecolor\u001B[38;5;241m=\u001B[39m\u001B[38;5;124m'\u001B[39m\u001B[38;5;124mnone\u001B[39m\u001B[38;5;124m'\u001B[39m))\n\u001B[0;32m-> 3019\u001B[0m \u001B[38;5;28;43mself\u001B[39;49m\u001B[38;5;241;43m.\u001B[39;49m\u001B[43mcanvas\u001B[49m\u001B[38;5;241;43m.\u001B[39;49m\u001B[43mprint_figure\u001B[49m\u001B[43m(\u001B[49m\u001B[43mfname\u001B[49m\u001B[43m,\u001B[49m\u001B[43m \u001B[49m\u001B[38;5;241;43m*\u001B[39;49m\u001B[38;5;241;43m*\u001B[39;49m\u001B[43mkwargs\u001B[49m\u001B[43m)\u001B[49m\n",
      "File \u001B[0;32m~/miniconda3/envs/real-valued-acs-system/lib/python3.9/site-packages/matplotlib/backend_bases.py:2319\u001B[0m, in \u001B[0;36mFigureCanvasBase.print_figure\u001B[0;34m(self, filename, dpi, facecolor, edgecolor, orientation, format, bbox_inches, pad_inches, bbox_extra_artists, backend, **kwargs)\u001B[0m\n\u001B[1;32m   2315\u001B[0m \u001B[38;5;28;01mtry\u001B[39;00m:\n\u001B[1;32m   2316\u001B[0m     \u001B[38;5;66;03m# _get_renderer may change the figure dpi (as vector formats\u001B[39;00m\n\u001B[1;32m   2317\u001B[0m     \u001B[38;5;66;03m# force the figure dpi to 72), so we need to set it again here.\u001B[39;00m\n\u001B[1;32m   2318\u001B[0m     \u001B[38;5;28;01mwith\u001B[39;00m cbook\u001B[38;5;241m.\u001B[39m_setattr_cm(\u001B[38;5;28mself\u001B[39m\u001B[38;5;241m.\u001B[39mfigure, dpi\u001B[38;5;241m=\u001B[39mdpi):\n\u001B[0;32m-> 2319\u001B[0m         result \u001B[38;5;241m=\u001B[39m \u001B[43mprint_method\u001B[49m\u001B[43m(\u001B[49m\n\u001B[1;32m   2320\u001B[0m \u001B[43m            \u001B[49m\u001B[43mfilename\u001B[49m\u001B[43m,\u001B[49m\n\u001B[1;32m   2321\u001B[0m \u001B[43m            \u001B[49m\u001B[43mfacecolor\u001B[49m\u001B[38;5;241;43m=\u001B[39;49m\u001B[43mfacecolor\u001B[49m\u001B[43m,\u001B[49m\n\u001B[1;32m   2322\u001B[0m \u001B[43m            \u001B[49m\u001B[43medgecolor\u001B[49m\u001B[38;5;241;43m=\u001B[39;49m\u001B[43medgecolor\u001B[49m\u001B[43m,\u001B[49m\n\u001B[1;32m   2323\u001B[0m \u001B[43m            \u001B[49m\u001B[43morientation\u001B[49m\u001B[38;5;241;43m=\u001B[39;49m\u001B[43morientation\u001B[49m\u001B[43m,\u001B[49m\n\u001B[1;32m   2324\u001B[0m \u001B[43m            \u001B[49m\u001B[43mbbox_inches_restore\u001B[49m\u001B[38;5;241;43m=\u001B[39;49m\u001B[43m_bbox_inches_restore\u001B[49m\u001B[43m,\u001B[49m\n\u001B[1;32m   2325\u001B[0m \u001B[43m            \u001B[49m\u001B[38;5;241;43m*\u001B[39;49m\u001B[38;5;241;43m*\u001B[39;49m\u001B[43mkwargs\u001B[49m\u001B[43m)\u001B[49m\n\u001B[1;32m   2326\u001B[0m \u001B[38;5;28;01mfinally\u001B[39;00m:\n\u001B[1;32m   2327\u001B[0m     \u001B[38;5;28;01mif\u001B[39;00m bbox_inches \u001B[38;5;129;01mand\u001B[39;00m restore_bbox:\n",
      "File \u001B[0;32m~/miniconda3/envs/real-valued-acs-system/lib/python3.9/site-packages/matplotlib/backend_bases.py:1648\u001B[0m, in \u001B[0;36m_check_savefig_extra_args.<locals>.wrapper\u001B[0;34m(*args, **kwargs)\u001B[0m\n\u001B[1;32m   1640\u001B[0m     _api\u001B[38;5;241m.\u001B[39mwarn_deprecated(\n\u001B[1;32m   1641\u001B[0m         \u001B[38;5;124m'\u001B[39m\u001B[38;5;124m3.3\u001B[39m\u001B[38;5;124m'\u001B[39m, name\u001B[38;5;241m=\u001B[39mname, removal\u001B[38;5;241m=\u001B[39m\u001B[38;5;124m'\u001B[39m\u001B[38;5;124m3.6\u001B[39m\u001B[38;5;124m'\u001B[39m,\n\u001B[1;32m   1642\u001B[0m         message\u001B[38;5;241m=\u001B[39m\u001B[38;5;124m'\u001B[39m\u001B[38;5;132;01m%(name)s\u001B[39;00m\u001B[38;5;124m() got unexpected keyword argument \u001B[39m\u001B[38;5;124m\"\u001B[39m\u001B[38;5;124m'\u001B[39m\n\u001B[1;32m   1643\u001B[0m                 \u001B[38;5;241m+\u001B[39m arg \u001B[38;5;241m+\u001B[39m \u001B[38;5;124m'\u001B[39m\u001B[38;5;124m\"\u001B[39m\u001B[38;5;124m which is no longer supported as of \u001B[39m\u001B[38;5;124m'\u001B[39m\n\u001B[1;32m   1644\u001B[0m                 \u001B[38;5;124m'\u001B[39m\u001B[38;5;132;01m%(since)s\u001B[39;00m\u001B[38;5;124m and will become an error \u001B[39m\u001B[38;5;124m'\u001B[39m\n\u001B[1;32m   1645\u001B[0m                 \u001B[38;5;124m'\u001B[39m\u001B[38;5;132;01m%(removal)s\u001B[39;00m\u001B[38;5;124m'\u001B[39m)\n\u001B[1;32m   1646\u001B[0m     kwargs\u001B[38;5;241m.\u001B[39mpop(arg)\n\u001B[0;32m-> 1648\u001B[0m \u001B[38;5;28;01mreturn\u001B[39;00m \u001B[43mfunc\u001B[49m\u001B[43m(\u001B[49m\u001B[38;5;241;43m*\u001B[39;49m\u001B[43margs\u001B[49m\u001B[43m,\u001B[49m\u001B[43m \u001B[49m\u001B[38;5;241;43m*\u001B[39;49m\u001B[38;5;241;43m*\u001B[39;49m\u001B[43mkwargs\u001B[49m\u001B[43m)\u001B[49m\n",
      "File \u001B[0;32m~/miniconda3/envs/real-valued-acs-system/lib/python3.9/site-packages/matplotlib/_api/deprecation.py:412\u001B[0m, in \u001B[0;36mdelete_parameter.<locals>.wrapper\u001B[0;34m(*inner_args, **inner_kwargs)\u001B[0m\n\u001B[1;32m    402\u001B[0m     deprecation_addendum \u001B[38;5;241m=\u001B[39m (\n\u001B[1;32m    403\u001B[0m         \u001B[38;5;124mf\u001B[39m\u001B[38;5;124m\"\u001B[39m\u001B[38;5;124mIf any parameter follows \u001B[39m\u001B[38;5;132;01m{\u001B[39;00mname\u001B[38;5;132;01m!r}\u001B[39;00m\u001B[38;5;124m, they should be passed as \u001B[39m\u001B[38;5;124m\"\u001B[39m\n\u001B[1;32m    404\u001B[0m         \u001B[38;5;124mf\u001B[39m\u001B[38;5;124m\"\u001B[39m\u001B[38;5;124mkeyword, not positionally.\u001B[39m\u001B[38;5;124m\"\u001B[39m)\n\u001B[1;32m    405\u001B[0m     warn_deprecated(\n\u001B[1;32m    406\u001B[0m         since,\n\u001B[1;32m    407\u001B[0m         name\u001B[38;5;241m=\u001B[39m\u001B[38;5;28mrepr\u001B[39m(name),\n\u001B[0;32m   (...)\u001B[0m\n\u001B[1;32m    410\u001B[0m                  \u001B[38;5;28;01melse\u001B[39;00m deprecation_addendum,\n\u001B[1;32m    411\u001B[0m         \u001B[38;5;241m*\u001B[39m\u001B[38;5;241m*\u001B[39mkwargs)\n\u001B[0;32m--> 412\u001B[0m \u001B[38;5;28;01mreturn\u001B[39;00m \u001B[43mfunc\u001B[49m\u001B[43m(\u001B[49m\u001B[38;5;241;43m*\u001B[39;49m\u001B[43minner_args\u001B[49m\u001B[43m,\u001B[49m\u001B[43m \u001B[49m\u001B[38;5;241;43m*\u001B[39;49m\u001B[38;5;241;43m*\u001B[39;49m\u001B[43minner_kwargs\u001B[49m\u001B[43m)\u001B[49m\n",
      "File \u001B[0;32m~/miniconda3/envs/real-valued-acs-system/lib/python3.9/site-packages/matplotlib/backends/backend_agg.py:541\u001B[0m, in \u001B[0;36mFigureCanvasAgg.print_png\u001B[0;34m(self, filename_or_obj, metadata, pil_kwargs, *args)\u001B[0m\n\u001B[1;32m    494\u001B[0m \u001B[38;5;124;03m\"\"\"\u001B[39;00m\n\u001B[1;32m    495\u001B[0m \u001B[38;5;124;03mWrite the figure to a PNG file.\u001B[39;00m\n\u001B[1;32m    496\u001B[0m \n\u001B[0;32m   (...)\u001B[0m\n\u001B[1;32m    538\u001B[0m \u001B[38;5;124;03m    *metadata*, including the default 'Software' key.\u001B[39;00m\n\u001B[1;32m    539\u001B[0m \u001B[38;5;124;03m\"\"\"\u001B[39;00m\n\u001B[1;32m    540\u001B[0m FigureCanvasAgg\u001B[38;5;241m.\u001B[39mdraw(\u001B[38;5;28mself\u001B[39m)\n\u001B[0;32m--> 541\u001B[0m \u001B[43mmpl\u001B[49m\u001B[38;5;241;43m.\u001B[39;49m\u001B[43mimage\u001B[49m\u001B[38;5;241;43m.\u001B[39;49m\u001B[43mimsave\u001B[49m\u001B[43m(\u001B[49m\n\u001B[1;32m    542\u001B[0m \u001B[43m    \u001B[49m\u001B[43mfilename_or_obj\u001B[49m\u001B[43m,\u001B[49m\u001B[43m \u001B[49m\u001B[38;5;28;43mself\u001B[39;49m\u001B[38;5;241;43m.\u001B[39;49m\u001B[43mbuffer_rgba\u001B[49m\u001B[43m(\u001B[49m\u001B[43m)\u001B[49m\u001B[43m,\u001B[49m\u001B[43m \u001B[49m\u001B[38;5;28;43mformat\u001B[39;49m\u001B[38;5;241;43m=\u001B[39;49m\u001B[38;5;124;43m\"\u001B[39;49m\u001B[38;5;124;43mpng\u001B[39;49m\u001B[38;5;124;43m\"\u001B[39;49m\u001B[43m,\u001B[49m\u001B[43m \u001B[49m\u001B[43morigin\u001B[49m\u001B[38;5;241;43m=\u001B[39;49m\u001B[38;5;124;43m\"\u001B[39;49m\u001B[38;5;124;43mupper\u001B[39;49m\u001B[38;5;124;43m\"\u001B[39;49m\u001B[43m,\u001B[49m\n\u001B[1;32m    543\u001B[0m \u001B[43m    \u001B[49m\u001B[43mdpi\u001B[49m\u001B[38;5;241;43m=\u001B[39;49m\u001B[38;5;28;43mself\u001B[39;49m\u001B[38;5;241;43m.\u001B[39;49m\u001B[43mfigure\u001B[49m\u001B[38;5;241;43m.\u001B[39;49m\u001B[43mdpi\u001B[49m\u001B[43m,\u001B[49m\u001B[43m \u001B[49m\u001B[43mmetadata\u001B[49m\u001B[38;5;241;43m=\u001B[39;49m\u001B[43mmetadata\u001B[49m\u001B[43m,\u001B[49m\u001B[43m \u001B[49m\u001B[43mpil_kwargs\u001B[49m\u001B[38;5;241;43m=\u001B[39;49m\u001B[43mpil_kwargs\u001B[49m\u001B[43m)\u001B[49m\n",
      "File \u001B[0;32m~/miniconda3/envs/real-valued-acs-system/lib/python3.9/site-packages/matplotlib/image.py:1675\u001B[0m, in \u001B[0;36mimsave\u001B[0;34m(fname, arr, vmin, vmax, cmap, format, origin, dpi, metadata, pil_kwargs)\u001B[0m\n\u001B[1;32m   1673\u001B[0m pil_kwargs\u001B[38;5;241m.\u001B[39msetdefault(\u001B[38;5;124m\"\u001B[39m\u001B[38;5;124mformat\u001B[39m\u001B[38;5;124m\"\u001B[39m, \u001B[38;5;28mformat\u001B[39m)\n\u001B[1;32m   1674\u001B[0m pil_kwargs\u001B[38;5;241m.\u001B[39msetdefault(\u001B[38;5;124m\"\u001B[39m\u001B[38;5;124mdpi\u001B[39m\u001B[38;5;124m\"\u001B[39m, (dpi, dpi))\n\u001B[0;32m-> 1675\u001B[0m \u001B[43mimage\u001B[49m\u001B[38;5;241;43m.\u001B[39;49m\u001B[43msave\u001B[49m\u001B[43m(\u001B[49m\u001B[43mfname\u001B[49m\u001B[43m,\u001B[49m\u001B[43m \u001B[49m\u001B[38;5;241;43m*\u001B[39;49m\u001B[38;5;241;43m*\u001B[39;49m\u001B[43mpil_kwargs\u001B[49m\u001B[43m)\u001B[49m\n",
      "File \u001B[0;32m~/miniconda3/envs/real-valued-acs-system/lib/python3.9/site-packages/PIL/Image.py:2240\u001B[0m, in \u001B[0;36mImage.save\u001B[0;34m(self, fp, format, **params)\u001B[0m\n\u001B[1;32m   2237\u001B[0m         fp \u001B[38;5;241m=\u001B[39m builtins\u001B[38;5;241m.\u001B[39mopen(filename, \u001B[38;5;124m\"\u001B[39m\u001B[38;5;124mw+b\u001B[39m\u001B[38;5;124m\"\u001B[39m)\n\u001B[1;32m   2239\u001B[0m \u001B[38;5;28;01mtry\u001B[39;00m:\n\u001B[0;32m-> 2240\u001B[0m     \u001B[43msave_handler\u001B[49m\u001B[43m(\u001B[49m\u001B[38;5;28;43mself\u001B[39;49m\u001B[43m,\u001B[49m\u001B[43m \u001B[49m\u001B[43mfp\u001B[49m\u001B[43m,\u001B[49m\u001B[43m \u001B[49m\u001B[43mfilename\u001B[49m\u001B[43m)\u001B[49m\n\u001B[1;32m   2241\u001B[0m \u001B[38;5;28;01mfinally\u001B[39;00m:\n\u001B[1;32m   2242\u001B[0m     \u001B[38;5;66;03m# do what we can to clean up\u001B[39;00m\n\u001B[1;32m   2243\u001B[0m     \u001B[38;5;28;01mif\u001B[39;00m open_fp:\n",
      "File \u001B[0;32m~/miniconda3/envs/real-valued-acs-system/lib/python3.9/site-packages/PIL/PngImagePlugin.py:1348\u001B[0m, in \u001B[0;36m_save\u001B[0;34m(im, fp, filename, chunk, save_all)\u001B[0m\n\u001B[1;32m   1346\u001B[0m     _write_multiple_frames(im, fp, chunk, rawmode)\n\u001B[1;32m   1347\u001B[0m \u001B[38;5;28;01melse\u001B[39;00m:\n\u001B[0;32m-> 1348\u001B[0m     \u001B[43mImageFile\u001B[49m\u001B[38;5;241;43m.\u001B[39;49m\u001B[43m_save\u001B[49m\u001B[43m(\u001B[49m\u001B[43mim\u001B[49m\u001B[43m,\u001B[49m\u001B[43m \u001B[49m\u001B[43m_idat\u001B[49m\u001B[43m(\u001B[49m\u001B[43mfp\u001B[49m\u001B[43m,\u001B[49m\u001B[43m \u001B[49m\u001B[43mchunk\u001B[49m\u001B[43m)\u001B[49m\u001B[43m,\u001B[49m\u001B[43m \u001B[49m\u001B[43m[\u001B[49m\u001B[43m(\u001B[49m\u001B[38;5;124;43m\"\u001B[39;49m\u001B[38;5;124;43mzip\u001B[39;49m\u001B[38;5;124;43m\"\u001B[39;49m\u001B[43m,\u001B[49m\u001B[43m \u001B[49m\u001B[43m(\u001B[49m\u001B[38;5;241;43m0\u001B[39;49m\u001B[43m,\u001B[49m\u001B[43m \u001B[49m\u001B[38;5;241;43m0\u001B[39;49m\u001B[43m)\u001B[49m\u001B[43m \u001B[49m\u001B[38;5;241;43m+\u001B[39;49m\u001B[43m \u001B[49m\u001B[43mim\u001B[49m\u001B[38;5;241;43m.\u001B[39;49m\u001B[43msize\u001B[49m\u001B[43m,\u001B[49m\u001B[43m \u001B[49m\u001B[38;5;241;43m0\u001B[39;49m\u001B[43m,\u001B[49m\u001B[43m \u001B[49m\u001B[43mrawmode\u001B[49m\u001B[43m)\u001B[49m\u001B[43m]\u001B[49m\u001B[43m)\u001B[49m\n\u001B[1;32m   1350\u001B[0m \u001B[38;5;28;01mif\u001B[39;00m info:\n\u001B[1;32m   1351\u001B[0m     \u001B[38;5;28;01mfor\u001B[39;00m info_chunk \u001B[38;5;129;01min\u001B[39;00m info\u001B[38;5;241m.\u001B[39mchunks:\n",
      "File \u001B[0;32m~/miniconda3/envs/real-valued-acs-system/lib/python3.9/site-packages/PIL/ImageFile.py:518\u001B[0m, in \u001B[0;36m_save\u001B[0;34m(im, fp, tile, bufsize)\u001B[0m\n\u001B[1;32m    516\u001B[0m \u001B[38;5;28;01melse\u001B[39;00m:\n\u001B[1;32m    517\u001B[0m     \u001B[38;5;28;01mwhile\u001B[39;00m \u001B[38;5;28;01mTrue\u001B[39;00m:\n\u001B[0;32m--> 518\u001B[0m         l, s, d \u001B[38;5;241m=\u001B[39m \u001B[43me\u001B[49m\u001B[38;5;241;43m.\u001B[39;49m\u001B[43mencode\u001B[49m\u001B[43m(\u001B[49m\u001B[43mbufsize\u001B[49m\u001B[43m)\u001B[49m\n\u001B[1;32m    519\u001B[0m         fp\u001B[38;5;241m.\u001B[39mwrite(d)\n\u001B[1;32m    520\u001B[0m         \u001B[38;5;28;01mif\u001B[39;00m s:\n",
      "\u001B[0;31mKeyboardInterrupt\u001B[0m: "
     ]
    }
   ],
   "source": [
    "with warnings.catch_warnings():\n",
    "    warnings.simplefilter(\"ignore\")\n",
    "    plot_comparison(metrics_averaged_df, plot_filename=f'{plot_dir}/rmpx_3bit_performance.png')"
   ]
  },
  {
   "cell_type": "markdown",
   "metadata": {
    "pycharm": {
     "name": "#%% md\n"
    }
   },
   "source": [
    ":::{figure-md} rmpx3bit-discretized-performance-fig\n",
    "<img src=\"../../../_static/plots/3_internalizing/discretization/rmpx_3bit_performance.png\">\n",
    "\n",
    "Performance of 3bit discretized rMPX\n",
    ":::"
   ]
  },
  {
   "cell_type": "markdown",
   "source": [
    "## Statistical verification\n",
    "\n",
    "```{admonition} Hypothesis testing\n",
    ":class: tip\n",
    "The same plot as in the latest IEEE submission\n",
    "```"
   ],
   "metadata": {
    "collapsed": false,
    "pycharm": {
     "name": "#%% md\n"
    }
   }
  },
  {
   "cell_type": "markdown",
   "source": [
    "## Observations"
   ],
   "metadata": {
    "collapsed": false,
    "pycharm": {
     "name": "#%% md\n"
    }
   }
  }
 ],
 "metadata": {
  "celltoolbar": "Tags",
  "kernelspec": {
   "display_name": "Python 3 (ipykernel)",
   "language": "python",
   "name": "python3"
  },
  "language_info": {
   "codemirror_mode": {
    "name": "ipython",
    "version": 3
   },
   "file_extension": ".py",
   "mimetype": "text/x-python",
   "name": "python",
   "nbconvert_exporter": "python",
   "pygments_lexer": "ipython3",
   "version": "3.9.6"
  }
 },
 "nbformat": 4,
 "nbformat_minor": 1
}