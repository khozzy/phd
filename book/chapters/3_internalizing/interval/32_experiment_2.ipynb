{
 "cells": [
  {
   "cell_type": "code",
   "execution_count": 1,
   "metadata": {
    "pycharm": {
     "name": "#%%\n"
    },
    "tags": [
     "hide-input"
    ]
   },
   "outputs": [],
   "source": [
    "import pathlib\n",
    "from typing import List\n",
    "\n",
    "import gym\n",
    "import gym_checkerboard  # noqa: F401\n",
    "import lcs.agents.racs as racs\n",
    "import matplotlib.pyplot as plt\n",
    "import numpy as np\n",
    "import pandas as pd\n",
    "from lcs.agents.racs.metrics import count_averaged_regions\n",
    "from lcs.metrics import population_metrics\n",
    "from lcs.representations.RealValueEncoder import RealValueEncoder\n",
    "\n",
    "from myst_nb import glue\n",
    "\n",
    "from IPython.display import display, HTML\n",
    "from tabulate import tabulate\n",
    "\n",
    "from src.bayes_estimation import bayes_estimate\n",
    "from src.commons import NUM_EXPERIMENTS\n",
    "from src.decorators import repeat, get_from_cache_or_run\n",
    "from src.utils import build_plots_dir_path, build_cache_dir_path\n",
    "from src.visualization import PLOT_DPI\n",
    "\n",
    "plt.ioff()  # turn off interactive plotting\n",
    "\n",
    "root_dir = pathlib.Path().cwd().parent.parent.parent.parent\n",
    "cwd_dir = pathlib.Path().cwd()\n",
    "\n",
    "plot_dir = build_plots_dir_path(root_dir) / cwd_dir.parent.name / cwd_dir.name\n",
    "cache_dir = build_cache_dir_path(root_dir) / cwd_dir.parent.name / cwd_dir.name\n",
    "\n",
    "TRIALS = 15_000\n",
    "USE_RAY = True\n",
    "\n",
    "def encode(p, bits):\n",
    "    return int(RealValueEncoder(bits).encode(p))\n",
    "\n",
    "\n",
    "def metrics_to_df(metrics: List) -> pd.DataFrame:\n",
    "    lst = [[\n",
    "        d['trial'],\n",
    "        d['population'],\n",
    "        d['reliable'],\n",
    "        d['reward'],\n",
    "        d['regions'][1],\n",
    "        d['regions'][2],\n",
    "        d['regions'][3],\n",
    "        d['regions'][4],\n",
    "    ] for d in metrics]\n",
    "\n",
    "    df = pd.DataFrame(lst, columns=['trial', 'population', 'reliable', 'reward', 'region_1', 'region_2', 'region_3', 'region_4'])\n",
    "    df = df.set_index('trial')\n",
    "    df['phase'] = df.index.map(lambda t: \"explore\" if t % 2 == 0 else \"exploit\")\n",
    "\n",
    "    return df\n",
    "\n",
    "\n",
    "def average_experiment_runs(runs_dfs: List[pd.DataFrame]) -> pd.DataFrame:\n",
    "    return pd.concat(runs_dfs).groupby(['trial', 'phase']).mean().reset_index(level='phase')\n",
    "\n",
    "\n",
    "def single_experiment(env_provider, encoder_bits, trials):\n",
    "    env = env_provider()\n",
    "    env.reset()\n",
    "\n",
    "    def _metrics(agent, environment):\n",
    "        population = agent.population\n",
    "        metrics = {\n",
    "            'regions': count_averaged_regions(population)\n",
    "        }\n",
    "\n",
    "        # Add basic population metrics\n",
    "        metrics.update(population_metrics(population, environment))\n",
    "        return metrics\n",
    "\n",
    "    cfg = racs.Configuration(\n",
    "        classifier_length=env.observation_space.shape[0],\n",
    "        number_of_possible_actions=env.action_space.n,\n",
    "        encoder=RealValueEncoder(encoder_bits),\n",
    "        user_metrics_collector_fcn=_metrics,\n",
    "        epsilon=0.9,\n",
    "        do_ga=True,\n",
    "        theta_r=0.9,\n",
    "        theta_i=0.3,\n",
    "        theta_ga=100,\n",
    "        cover_noise=0.1,\n",
    "        mutation_noise=0.25,\n",
    "        chi=0.6,\n",
    "        mu=0.2)\n",
    "\n",
    "    # create agent\n",
    "    agent = racs.RACS(cfg)\n",
    "\n",
    "    # run computations\n",
    "    metrics = agent.explore_exploit(env, trials)\n",
    "\n",
    "    return metrics_to_df(metrics)\n",
    "\n",
    "\n",
    "def plot_condition_interval_regions(df, window=10, plot_filename=None):\n",
    "    fig, ax = plt.subplots(figsize=(15, 7))\n",
    "\n",
    "    df['region_1'].rolling(window=window).mean().plot(label='Region 1 [pi, qi)', ax=ax)\n",
    "    df['region_2'].rolling(window=window).mean().plot(label='Region 2 [pmin, qi)', ax=ax)\n",
    "    df['region_3'].rolling(window=window).mean().plot(label='Region 3 [pi, qmax)', ax=ax)\n",
    "    df['region_4'].rolling(window=window).mean().plot(label='Region 4 [pmin, qmax)', ax=ax)\n",
    "\n",
    "    ax.set_title('Condition Interval Regions')\n",
    "    ax.set_xlabel('Trial')\n",
    "    ax.set_ylabel('Proportion')\n",
    "    plt.legend()\n",
    "\n",
    "    if plot_filename:\n",
    "        fig.savefig(plot_filename, dpi=PLOT_DPI, bbox_inches='tight')\n",
    "\n",
    "    return fig\n",
    "\n",
    "\n",
    "def plot_population(df, window=10, plot_filename=None):\n",
    "    fig, ax = plt.subplots(figsize=(15, 7))\n",
    "\n",
    "    df['population'].rolling(window=window).mean().plot(label='macroclassifiers', ax=ax)\n",
    "    df['reliable'].rolling(window=window).mean().plot(label='reliable', ax=ax)\n",
    "\n",
    "    ax.set_title('Classifier numerosity')\n",
    "    ax.set_xlabel('Trial')\n",
    "    ax.set_ylabel('Number of classifiers')\n",
    "    ax.set_yscale('log')\n",
    "    plt.legend()\n",
    "\n",
    "    if plot_filename:\n",
    "        fig.savefig(plot_filename, dpi=PLOT_DPI, bbox_inches='tight')\n",
    "\n",
    "    return fig\n",
    "\n",
    "\n",
    "def plot_performance(df, window=50, plot_filename=None):\n",
    "    fig, ax = plt.subplots(figsize=(15, 7))\n",
    "\n",
    "    explore_df = df[df['phase'] == 'explore']\n",
    "    exploit_df = df[df['phase'] == 'exploit']\n",
    "\n",
    "    explore_df['reward'].rolling(window=window).mean().plot(label='explore', ax=ax)\n",
    "    exploit_df['reward'].rolling(window=window).mean().plot(label='exploit', ax=ax)\n",
    "    plt.axhline(1.0, c='black', linestyle=':')\n",
    "\n",
    "    ax.set_title('Performance (average reward)')\n",
    "    ax.set_xlabel('Trial')\n",
    "    ax.set_ylabel('Reward')\n",
    "    ax.set_ylim([.4, 1.05])\n",
    "    plt.legend()\n",
    "\n",
    "    if plot_filename:\n",
    "        fig.savefig(plot_filename, dpi=PLOT_DPI, bbox_inches='tight')\n",
    "\n",
    "    return fig\n",
    "\n",
    "def encode_array(arr, bits):\n",
    "    return np.fromiter((encode(x, bits=bits) for x in arr), int)\n",
    "\n",
    "def plot_checkerboard_splits(splits, bits, points=100, plot_filename=None):\n",
    "    fig = plt.figure(figsize=(12, 5))\n",
    "    ax = fig.add_subplot(111)\n",
    "\n",
    "    # Visualize splits\n",
    "    for k in np.linspace(0, 1, splits + 1):\n",
    "        ax.axvline(x=k, ymin=0, ymax=1, linewidth=1, linestyle=':', color='black')\n",
    "\n",
    "    # Add some points\n",
    "    x = np.random.random(points)\n",
    "    y = np.random.random(points)\n",
    "    colors = encode_array(x, bits)\n",
    "    ax.scatter(x, y, c=colors, s=20, alpha=.8)\n",
    "\n",
    "    for i, txt in enumerate(colors):\n",
    "        ax.annotate(txt, xy=(x[i] + .005, y[i] + .005), size=8, alpha=.8)\n",
    "\n",
    "    ax.set_title(f\"{bits}-bit encoder mapping on {splits} checkerboard splits\")\n",
    "    ax.set_xlabel(\"Perception value\")\n",
    "    ax.set_ylim(-0.1, 1.1)\n",
    "    ax.set_xlim(-0.02, 1.02)\n",
    "    ax.get_yaxis().set_visible(False)\n",
    "\n",
    "    if plot_filename:\n",
    "        fig.savefig(plot_filename, dpi=PLOT_DPI)\n",
    "\n",
    "    return fig\n",
    "\n",
    "glue('32_e2_trials', TRIALS, display=False)\n",
    "glue('32_e2_checkerboard_3_splits_4_bits_fig', plot_checkerboard_splits(splits=3, bits=4, plot_filename=f'{plot_dir}/checkerboard_3_splits_4_bits.png'), display=False)"
   ]
  },
  {
   "cell_type": "markdown",
   "metadata": {
    "collapsed": true,
    "pycharm": {
     "name": "#%% md\n"
    }
   },
   "source": [
    "# Experiment 2 - Nature of the intervals\n",
    "In order to provide the correct answer to the checkerboard problem, the agent must be able to correctly partition the hyper-rectangular solution space. Four categories are used to determine the nature of the evolved condition intervals:\n",
    "\n",
    "- Region 1 $[p_i, q_i]$ - consists of specific intervals.\n",
    "- Region 2 $[p_{min}, q_i)$ - interval bounded from the right side.\n",
    "- Region 3 $[p_i, q_{max})$ - interval bounded from the left side.\n",
    "- Region 4 $[p_{min}, q_{max})$ - general interval (_\"don't care\"_).\n",
    "\n",
    "The two-dimensional checkerboard divided by three splits in each direction is used. The experiment uses the rACS agent and evaluates its performance with different encoding values. Because of the splits, the system response is dependent on precise boundaries estimations. Figure {numref}`{number} <32_e2_checkerboard_3_splits_4_bits_fig>` shows possible ambiguities near the split lines, where the same nominal value is applicable in both regions.\n",
    "\n",
    "As in the previous section, in each trial of the experiment, the agent alternates between explore and exploit phases for the total of {glue:}`32_e2_trials` trials. Each independent pass is averaged across {glue:}`num_experiments` times. For the collected metrics, besides the average performance and the population size, the proportion of condition interval regions is collected for each trial.\n",
    "\n",
    "```{glue:figure} 32_e2_checkerboard_3_splits_4_bits_fig\n",
    ":name: \"32_e2_checkerboard_3_splits_4_bits_fig\"\n",
    "\n",
    "Example of dividing the space into three equal splits. When using low encoding resolution potential ambiguity is visible near the splitting lines.\n",
    "```"
   ]
  },
  {
   "cell_type": "markdown",
   "metadata": {
    "pycharm": {
     "name": "#%% md\n"
    }
   },
   "source": [
    "## Results\n",
    "Figures {numref}`{number} <checkerboard4bit-enc4bit-regions-fig>`, {numref}`{number} <checkerboard4bit-enc4bit-performance-fig>` and {numref}`{number} <checkerboard4bit-enc4bit-population-fig>` illustrate the metrics progression on the 3x3 Checkerboard problem using 4 bit interval encoding. Due to brevity the plots for other encoding values were not presented, but final values are outlined using statistical estimation.\n",
    "\n",
    "**rACS parameters**\n",
    "\n",
    "$\\beta=0.05$, $\\gamma = 0.95$, $\\theta_r = 0.9$, $\\theta_i=0.3$, $\\epsilon = 0.9$, $\\theta_{GA} = 100$, $m_u=0.2$, $\\chi=0.6$, $\\epsilon_{cover} = 0.1$, $\\epsilon_{mutation}=0.25$."
   ]
  },
  {
   "cell_type": "code",
   "execution_count": 6,
   "metadata": {
    "pycharm": {
     "name": "#%%\n"
    },
    "tags": [
     "hide-input"
    ]
   },
   "outputs": [],
   "source": [
    "def checkboard_env_provider():\n",
    "    import gym_checkerboard  # noqa: F401\n",
    "    return gym.make('checkerboard-2D-3div-v0')\n",
    "\n",
    "@get_from_cache_or_run(cache_path=f'{cache_dir}/checkerboard_3x3/encoding_1bit.dill')\n",
    "@repeat(num_times=NUM_EXPERIMENTS, use_ray=USE_RAY)\n",
    "def run_checkerboard_1bit_encoding():\n",
    "    return single_experiment(checkboard_env_provider, encoder_bits=1, trials=TRIALS)\n",
    "\n",
    "@get_from_cache_or_run(cache_path=f'{cache_dir}/checkerboard_3x3/encoding_2bit.dill')\n",
    "@repeat(num_times=NUM_EXPERIMENTS, use_ray=USE_RAY)\n",
    "def run_checkerboard_2bit_encoding():\n",
    "    return single_experiment(checkboard_env_provider, encoder_bits=2, trials=TRIALS)\n",
    "\n",
    "@get_from_cache_or_run(cache_path=f'{cache_dir}/checkerboard_3x3/encoding_3bit.dill')\n",
    "@repeat(num_times=NUM_EXPERIMENTS, use_ray=USE_RAY)\n",
    "def run_checkerboard_3bit_encoding():\n",
    "    return single_experiment(checkboard_env_provider, encoder_bits=3, trials=TRIALS)\n",
    "\n",
    "@get_from_cache_or_run(cache_path=f'{cache_dir}/checkerboard_3x3/encoding_4bit.dill')\n",
    "@repeat(num_times=NUM_EXPERIMENTS, use_ray=USE_RAY)\n",
    "def run_checkerboard_4bit_encoding():\n",
    "    return single_experiment(checkboard_env_provider, encoder_bits=4, trials=TRIALS)\n",
    "\n",
    "@get_from_cache_or_run(cache_path=f'{cache_dir}/checkerboard_3x3/encoding_5bit.dill')\n",
    "@repeat(num_times=NUM_EXPERIMENTS, use_ray=USE_RAY)\n",
    "def run_checkerboard_5bit_encoding():\n",
    "    return single_experiment(checkboard_env_provider, encoder_bits=5, trials=TRIALS)\n",
    "\n",
    "# run computations\n",
    "checkerboard_encoding_1bit_runs = run_checkerboard_1bit_encoding()\n",
    "checkerboard_encoding_2bit_runs = run_checkerboard_2bit_encoding()\n",
    "checkerboard_encoding_3bit_runs = run_checkerboard_3bit_encoding()\n",
    "checkerboard_encoding_4bit_runs = run_checkerboard_4bit_encoding()\n",
    "checkerboard_encoding_5bit_runs = run_checkerboard_5bit_encoding()\n",
    "\n",
    "# average runs\n",
    "checkerboard_encoding_4bit_avg = average_experiment_runs(checkerboard_encoding_4bit_runs)\n",
    "\n",
    "# generate plots\n",
    "glue('checkerboard4bit-enc4bit-regions-fig', plot_condition_interval_regions(checkerboard_encoding_4bit_avg, plot_filename=f'{plot_dir}/checkerboard_4bit_regions.png'), display=False)\n",
    "glue('checkerboard4bit-enc4bit-performance-fig', plot_performance(checkerboard_encoding_4bit_avg, plot_filename=f'{plot_dir}/checkerboard_4bit_performance.png'), display=False)\n",
    "glue('checkerboard4bit-enc4bit-population-fig', plot_population(checkerboard_encoding_4bit_avg, plot_filename=f'{plot_dir}/checkerboard_4bit_population.png'), display=False)"
   ]
  },
  {
   "cell_type": "markdown",
   "metadata": {
    "pycharm": {
     "name": "#%% md\n"
    }
   },
   "source": [
    "````{tabbed} Condition Interval regions\n",
    "```{glue:figure} checkerboard4bit-enc4bit-regions-fig\n",
    ":name: \"checkerboard4bit-enc4bit-regions-fig\"\n",
    "Evolution of condition interval regions in 3x3 Checkerboard environment encoded with 4 bits.\n",
    "```\n",
    "````\n",
    "\n",
    "````{tabbed} Average reward\n",
    "```{glue:figure} checkerboard4bit-enc4bit-performance-fig\n",
    ":name: \"checkerboard4bit-enc4bit-performance-fig\"\n",
    "Average reward obtained in 3x3 Checkerboard environment encoded with 4 bits.\n",
    "```\n",
    "````\n",
    "\n",
    "````{tabbed} Classifier numerosity\n",
    "```{glue:figure} checkerboard4bit-enc4bit-population-fig\n",
    ":name: \"checkerboard4bit-enc4bit-population-fig\"\n",
    "Population size of 3x3 Checkerboard environment encoded with 4 bits (notice the logarithmic scalling of y-axis).\n",
    "```\n",
    "````"
   ]
  },
  {
   "cell_type": "markdown",
   "metadata": {
    "pycharm": {
     "name": "#%% md\n"
    }
   },
   "source": [
    "## Statistical verification\n",
    "To statistically assess the population size and region ratios, the posterior data distribution was generated using the BEST method with {glue:}`num_experiments` metric values collected in the last trial. For the obtained reward, the mean value from the last 100 exploit trials is considered as a representative state of algorithm performance."
   ]
  },
  {
   "cell_type": "code",
   "execution_count": 8,
   "metadata": {
    "pycharm": {
     "name": "#%%\n"
    },
    "tags": [
     "hide-input"
    ]
   },
   "outputs": [
    {
     "data": {
      "text/plain": "<IPython.core.display.HTML object>",
      "text/html": "<table>\n<thead>\n<tr><th style=\"text-align: right;\">                                 </th><th style=\"text-align: right;\">       1 bit</th><th style=\"text-align: right;\">       2 bit</th><th style=\"text-align: right;\">        3 bit</th><th style=\"text-align: right;\">          4 bit</th><th style=\"text-align: right;\">          5 bit</th></tr>\n</thead>\n<tbody>\n<tr><td style=\"text-align: right;\">                         region_1</td><td style=\"text-align: right;\">   0.0 ± 0.0</td><td style=\"text-align: right;\">  0.32 ± 0.0</td><td style=\"text-align: right;\">   0.69 ± 0.0</td><td style=\"text-align: right;\">     0.75 ± 0.0</td><td style=\"text-align: right;\">     0.71 ± 0.0</td></tr>\n<tr><td style=\"text-align: right;\">                         region_2</td><td style=\"text-align: right;\">  0.46 ± 0.0</td><td style=\"text-align: right;\">  0.35 ± 0.0</td><td style=\"text-align: right;\">   0.18 ± 0.0</td><td style=\"text-align: right;\">     0.15 ± 0.0</td><td style=\"text-align: right;\">      0.2 ± 0.0</td></tr>\n<tr><td style=\"text-align: right;\">                         region_3</td><td style=\"text-align: right;\"> 0.26 ± 0.01</td><td style=\"text-align: right;\">  0.14 ± 0.0</td><td style=\"text-align: right;\">   0.08 ± 0.0</td><td style=\"text-align: right;\">     0.04 ± 0.0</td><td style=\"text-align: right;\">     0.02 ± 0.0</td></tr>\n<tr><td style=\"text-align: right;\">                         region_4</td><td style=\"text-align: right;\"> 0.27 ± 0.01</td><td style=\"text-align: right;\">  0.19 ± 0.0</td><td style=\"text-align: right;\">   0.05 ± 0.0</td><td style=\"text-align: right;\">     0.06 ± 0.0</td><td style=\"text-align: right;\">     0.08 ± 0.0</td></tr>\n<tr><td style=\"text-align: right;\">        population of classifiers</td><td style=\"text-align: right;\">20.22 ± 0.38</td><td style=\"text-align: right;\">52.63 ± 0.57</td><td style=\"text-align: right;\">735.64 ± 8.67</td><td style=\"text-align: right;\">4244.18 ± 35.75</td><td style=\"text-align: right;\">10358.61 ± 47.0</td></tr>\n<tr><td style=\"text-align: right;\">             reliable classifiers</td><td style=\"text-align: right;\">  -0.0 ± 0.0</td><td style=\"text-align: right;\">   8.0 ± 0.0</td><td style=\"text-align: right;\"> 89.51 ± 1.17</td><td style=\"text-align: right;\">    14.42 ± 0.6</td><td style=\"text-align: right;\">    0.64 ± 0.16</td></tr>\n<tr><td style=\"text-align: right;\">reward from last 100 exploit runs</td><td style=\"text-align: right;\">        0.52</td><td style=\"text-align: right;\">        0.71</td><td style=\"text-align: right;\">         0.81</td><td style=\"text-align: right;\">           0.89</td><td style=\"text-align: right;\">           0.78</td></tr>\n</tbody>\n</table>"
     },
     "metadata": {},
     "output_type": "display_data"
    }
   ],
   "source": [
    "def build_models(dfs: List[pd.DataFrame], field: str):\n",
    "    query_condition = f'trial == {TRIALS}'  # last trial\n",
    "    results = []\n",
    "    for df in dfs:\n",
    "        data_arr = df.query(query_condition)[field].to_numpy()\n",
    "        bayes_model = bayes_estimate(data_arr)\n",
    "        results.append((bayes_model['mu'], bayes_model['std']))\n",
    "\n",
    "    return results\n",
    "\n",
    "def get_average_reward(dfs: List[pd.DataFrame], last_n_runs: int = 100):\n",
    "    results = []\n",
    "    for df in dfs:\n",
    "        avg_reward = df.query('phase == \"exploit\"').groupby('trial').mean().iloc[-last_n_runs:]['reward'].mean()\n",
    "        results.append(avg_reward)\n",
    "    return results\n",
    "\n",
    "@get_from_cache_or_run(cache_path=f'{cache_dir}/checkerboard_3x3/bayes/region_1.dill')\n",
    "def build_region_1_models(dfs: List[pd.DataFrame]):\n",
    "    return build_models(dfs, 'region_1')\n",
    "\n",
    "@get_from_cache_or_run(cache_path=f'{cache_dir}/checkerboard_3x3/bayes/region_2.dill')\n",
    "def build_region_2_models(dfs: List[pd.DataFrame]):\n",
    "    return build_models(dfs, 'region_2')\n",
    "\n",
    "@get_from_cache_or_run(cache_path=f'{cache_dir}/checkerboard_3x3/bayes/region_3.dill')\n",
    "def build_region_3_models(dfs: List[pd.DataFrame]):\n",
    "    return build_models(dfs, 'region_3')\n",
    "\n",
    "@get_from_cache_or_run(cache_path=f'{cache_dir}/checkerboard_3x3/bayes/region_4.dill')\n",
    "def build_region_4_models(dfs: List[pd.DataFrame]):\n",
    "    return build_models(dfs, 'region_4')\n",
    "\n",
    "@get_from_cache_or_run(cache_path=f'{cache_dir}/checkerboard_3x3/bayes/population.dill')\n",
    "def build_population_models(dfs: List[pd.DataFrame]):\n",
    "    return build_models(dfs, 'population')\n",
    "\n",
    "@get_from_cache_or_run(cache_path=f'{cache_dir}/checkerboard_3x3/bayes/reliable.dill')\n",
    "def build_reliable_models(dfs: List[pd.DataFrame]):\n",
    "    return build_models(dfs, 'reliable')\n",
    "\n",
    "bayes_results_dfs = [\n",
    "    pd.concat(checkerboard_encoding_1bit_runs),\n",
    "    pd.concat(checkerboard_encoding_2bit_runs),\n",
    "    pd.concat(checkerboard_encoding_3bit_runs),\n",
    "    pd.concat(checkerboard_encoding_4bit_runs),\n",
    "    pd.concat(checkerboard_encoding_5bit_runs),\n",
    "]\n",
    "\n",
    "region_1_models = build_region_1_models(bayes_results_dfs)\n",
    "region_2_models = build_region_2_models(bayes_results_dfs)\n",
    "region_3_models = build_region_3_models(bayes_results_dfs)\n",
    "region_4_models = build_region_4_models(bayes_results_dfs)\n",
    "population_models = build_population_models(bayes_results_dfs)\n",
    "reliable_models = build_reliable_models(bayes_results_dfs)\n",
    "avg_rewards = get_average_reward(bayes_results_dfs)\n",
    "\n",
    "bayes_table_data = [\n",
    "    ['Region 1'] + [f'{round(r[0].mean(), 2)} ± {round(r[0].std(), 2)}' for r in region_1_models],\n",
    "    ['Region 2'] + [f'{round(r[0].mean(), 2)} ± {round(r[0].std(), 2)}' for r in region_2_models],\n",
    "    ['Region 3'] + [f'{round(r[0].mean(), 2)} ± {round(r[0].std(), 2)}' for r in region_3_models],\n",
    "    ['Region 4'] + [f'{round(r[0].mean(), 2)} ± {round(r[0].std(), 2)}' for r in region_4_models],\n",
    "    ['population of classifiers'] + [f'{round(r[0].mean(), 2)} ± {round(r[0].std(), 2)}' for r in population_models],\n",
    "    ['reliable classifiers'] + [f'{round(r[0].mean(), 2)} ± {round(r[0].std(), 2)}' for r in reliable_models],\n",
    "    ['reward from last 100 exploit runs'] + [f'{round(r, 2)}' for r in avg_rewards],\n",
    "]\n",
    "\n",
    "table = tabulate(bayes_table_data, headers=['', '1 bit', '2 bit', '3 bit', '4 bit', '5 bit'], tablefmt=\"html\", stralign='right')\n",
    "display(HTML(table))"
   ]
  },
  {
   "cell_type": "markdown",
   "metadata": {
    "pycharm": {
     "name": "#%% md\n"
    }
   },
   "source": [
    "## Observations\n",
    "In most experiments, the rACS agent builds the population consisting primarily of Region 1 interval predicates. The amount of attributes represented as Region 3 and 4, spanning to the maximum value from the right side, tends to diminish. However, the results are correlated with the number of trials that were kept the same in all cases. More precise boundary representation naturally would require more trials to converge. However, for the first four bits, there is the following trend can be noticed when intensifying encoding resolution:\n",
    "\n",
    "- Ratio of Region 1 attributes increases\n",
    "- Ratio of Region 2, 3, 4 attributes decreases\n",
    "\n",
    "This is caused by the lack of online rule compaction or consolidation mechanism. The only possibility for the agent to create a more general attribute is due to the mutation algorithm controlled by the $\\epsilon_{mutation}$ parameter. However, this value must be set carefully because limitations of selected encoding resolution can inadvertently ignore its effect.\n",
    "\n",
    "The other metrics also show the hypothesis about the need for more trials. The size of the overall population is correlated with the number of encoding bits, but it became more difficult for the agent to discriminate between reliable classifiers. For example, when using 5-bits encoding after {glue:}`32_e2_trials` trials, there is no single reliable classifier despite having a population with more than 10 thousand individuals.\n",
    "\n",
    "The experiment with 1-bit encoding also confirms the situation when it is impossible to learn the environment with hyper-plane decision boundary successfully. Such representation is insufficient to handle regularities, resulting in unreliable classifiers and random average rewards from exploit runs."
   ]
  },
  {
   "cell_type": "markdown",
   "source": [
    "---\n",
    "\n",
    "**Software packages used**"
   ],
   "metadata": {
    "collapsed": false,
    "pycharm": {
     "name": "#%% md\n"
    }
   }
  },
  {
   "cell_type": "code",
   "execution_count": null,
   "outputs": [],
   "source": [
    "import session_info\n",
    "\n",
    "session_info.show()"
   ],
   "metadata": {
    "collapsed": false,
    "pycharm": {
     "name": "#%%\n"
    }
   }
  },
  {
   "cell_type": "markdown",
   "metadata": {
    "pycharm": {
     "name": "#%% md\n"
    }
   },
   "source": []
  }
 ],
 "metadata": {
  "celltoolbar": "Tags",
  "kernelspec": {
   "display_name": "Python 3 (ipykernel)",
   "language": "python",
   "name": "python3"
  },
  "language_info": {
   "codemirror_mode": {
    "name": "ipython",
    "version": 3
   },
   "file_extension": ".py",
   "mimetype": "text/x-python",
   "name": "python",
   "nbconvert_exporter": "python",
   "pygments_lexer": "ipython3",
   "version": "3.9.7"
  }
 },
 "nbformat": 4,
 "nbformat_minor": 1
}