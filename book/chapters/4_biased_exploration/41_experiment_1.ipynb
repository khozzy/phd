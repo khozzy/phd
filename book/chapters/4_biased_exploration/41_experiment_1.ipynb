{
 "cells": [
  {
   "cell_type": "code",
   "execution_count": 1,
   "metadata": {
    "pycharm": {
     "name": "#%%\n"
    },
    "tags": [
     "hide-input"
    ]
   },
   "outputs": [
    {
     "name": "stderr",
     "output_type": "stream",
     "text": [
      "WARNING (theano.tensor.blas): Using NumPy C-API based implementation for BLAS functions.\n"
     ]
    }
   ],
   "source": [
    "import pathlib\n",
    "from typing import List, Dict\n",
    "\n",
    "import gym\n",
    "import matplotlib.pyplot as plt\n",
    "import matplotlib.ticker as mtick\n",
    "import pandas as pd\n",
    "from IPython.display import display, HTML\n",
    "from lcs.agents.acs2 import Configuration, ACS2\n",
    "from lcs.metrics import population_metrics\n",
    "from lcs.strategies.action_selection import EpsilonGreedy, ActionDelay, KnowledgeArray\n",
    "from tabulate import tabulate\n",
    "\n",
    "from src.bayes_estimation import bayes_estimate\n",
    "from src.decorators import repeat, get_from_cache_or_run\n",
    "from src.metrics import parse_experiments_results, corridor_transition_knowledge, grid_transition_knowledge\n",
    "from src.visualization import biased_exploration_colors, PLOT_DPI\n",
    "\n",
    "NUM_EXPERIMENTS = 50\n",
    "COLORS = biased_exploration_colors()\n",
    "\n",
    "plt.ioff()  # turn off interactive plotting\n",
    "\n",
    "cache_dir = f'{pathlib.Path().absolute()}/cache'\n",
    "plot_dir = f'{pathlib.Path().absolute()}/plots'\n",
    "\n",
    "\n",
    "def run_experiment(env_provider, explore_trials, exploit_trials, **conf):\n",
    "    env = env_provider()\n",
    "    env.reset()\n",
    "\n",
    "    cfg = Configuration(**conf)\n",
    "\n",
    "    explorer = ACS2(cfg)\n",
    "    metrics_explore = explorer.explore(env, explore_trials)\n",
    "\n",
    "    exploiter = ACS2(cfg, explorer.population)\n",
    "    metrics_exploit = explorer.exploit(env, exploit_trials)\n",
    "\n",
    "    # Parse results into DataFrame\n",
    "    metrics_df = parse_experiments_results(metrics_explore, metrics_exploit, cfg.metrics_trial_frequency)\n",
    "\n",
    "    return metrics_df\n",
    "\n",
    "\n",
    "def extract(combined_list):\n",
    "    env1_dfs = [result[0] for result in combined_list]\n",
    "    env2_dfs = [result[1] for result in combined_list]\n",
    "    env3_dfs = [result[2] for result in combined_list]\n",
    "    return env1_dfs, env2_dfs, env3_dfs\n",
    "\n",
    "\n",
    "def average_experiment_runs(runs_dfs: List[pd.DataFrame]) -> pd.DataFrame:\n",
    "    return pd.concat(runs_dfs).groupby(['trial', 'phase']).mean().reset_index(level='phase')\n",
    "\n",
    "\n",
    "def plot(epsilon_greedy_df, action_delay_df, knowledge_array_df, op_initial_df,\n",
    "         env_name,\n",
    "         num_explore_trials,\n",
    "         first_knowledge_trials,\n",
    "         first_population_trials,\n",
    "         population_ylim,\n",
    "         text_box_loc,\n",
    "         plot_filename=None):\n",
    "    fig = plt.figure(figsize=(14, 8))\n",
    "\n",
    "    # Layout\n",
    "    gs = fig.add_gridspec(2, 2, wspace=.25, hspace=.4)\n",
    "    ax1 = fig.add_subplot(gs[0, 0])\n",
    "    ax2 = fig.add_subplot(gs[0, 1])\n",
    "    ax3 = fig.add_subplot(gs[1, :])\n",
    "\n",
    "    # Global title\n",
    "    fig.suptitle(f'Performance of [{env_name}] environment', fontsize=24)\n",
    "\n",
    "    # Knowledge\n",
    "    epsilon_greedy_df['knowledge'][:first_knowledge_trials].plot(label='Epsilon Greedy', c=COLORS['eg'], ax=ax1)\n",
    "    action_delay_df['knowledge'][:first_knowledge_trials].plot(label='Action Delay', c=COLORS['ad'], ax=ax1)\n",
    "    knowledge_array_df['knowledge'][:first_knowledge_trials].plot(label='Knowledge Array', c=COLORS['ka'], ax=ax1)\n",
    "    op_initial_df['knowledge'][:first_knowledge_trials].plot(label='Optimistic Initial Quality', c=COLORS['oiq'],\n",
    "                                                             ax=ax1)\n",
    "\n",
    "    ax1.spines['top'].set_visible(False)\n",
    "    ax1.spines['right'].set_visible(False)\n",
    "    ax1.set_title('Knowledge')\n",
    "    ax1.set_xlabel('Trial')\n",
    "    ax1.set_ylabel('Knowledge')\n",
    "    ax1.axhline(y=100, color='black', linewidth=1, linestyle=\"--\")\n",
    "    ax1.yaxis.set_major_formatter(mtick.PercentFormatter())\n",
    "\n",
    "    # Population\n",
    "    epsilon_greedy_df['population'][:first_population_trials].plot(label='Epsilon Greedy', c=COLORS['eg'], ax=ax2)\n",
    "    action_delay_df['population'][:first_population_trials].plot(label='Action Delay', c=COLORS['ad'], ax=ax2)\n",
    "    knowledge_array_df['population'][:first_population_trials].plot(label='Knowledge Array', c=COLORS['ka'], ax=ax2)\n",
    "    op_initial_df['population'][:first_population_trials].plot(label='Optimistic Initial Quality', c=COLORS['oiq'],\n",
    "                                                               ax=ax2)\n",
    "\n",
    "    ax2.spines['top'].set_visible(False)\n",
    "    ax2.spines['right'].set_visible(False)\n",
    "    ax2.set_xlabel('Trial')\n",
    "    ax2.set_ylabel('Classifiers')\n",
    "    ax2.set_title('Classifiers Population')\n",
    "    ax2.set_ylim(population_ylim)\n",
    "    ax2.xaxis.set_major_formatter(mtick.FormatStrFormatter('%.0f'))\n",
    "    ax2.yaxis.set_major_formatter(mtick.FormatStrFormatter('%.0f'))\n",
    "\n",
    "    # Steps in trial\n",
    "    window = 3  # window for moving average\n",
    "    epsilon_greedy_df['steps_in_trial'].rolling(window=window).mean().plot(label='Epsilon Greedy', c=COLORS['eg'],\n",
    "                                                                           ax=ax3)\n",
    "    action_delay_df['steps_in_trial'].rolling(window=window).mean().plot(label='Action Delay', c=COLORS['ad'], ax=ax3)\n",
    "    knowledge_array_df['steps_in_trial'].rolling(window=window).mean().plot(label='Knowledge Array', c=COLORS['ka'],\n",
    "                                                                            ax=ax3)\n",
    "    op_initial_df['steps_in_trial'].rolling(window=window).mean().plot(label='Optimistic Initial Quality',\n",
    "                                                                       c=COLORS['oiq'], ax=ax3)\n",
    "\n",
    "    ax3.spines['top'].set_visible(False)\n",
    "    ax3.spines['right'].set_visible(False)\n",
    "    ax3.set_xlabel('Trial')\n",
    "    ax3.set_ylabel('Steps')\n",
    "    ax3.set_title('Steps in trial')\n",
    "    ax3.axvline(x=num_explore_trials, color='black', linewidth=1, linestyle=\"--\")\n",
    "    ax3.text(**text_box_loc, s=f'Moving average of {window} samples', style='italic',\n",
    "             bbox={'facecolor': 'red', 'alpha': 0.2, 'pad': 10})\n",
    "\n",
    "    # Create legend\n",
    "    handles, labels = ax3.get_legend_handles_labels()\n",
    "    fig.legend(handles, labels, loc='lower center', ncol=4)\n",
    "\n",
    "    if plot_filename:\n",
    "        fig.savefig(plot_filename, dpi=PLOT_DPI)"
   ]
  },
  {
   "cell_type": "markdown",
   "metadata": {
    "pycharm": {
     "name": "#%% md\n"
    }
   },
   "source": [
    "# Experiment 1 - Multi-steps problems performance"
   ]
  },
  {
   "cell_type": "markdown",
   "metadata": {
    "pycharm": {
     "name": "#%% md\n"
    }
   },
   "source": [
    "## Setup"
   ]
  },
  {
   "cell_type": "markdown",
   "metadata": {},
   "source": [
    "### Corridor"
   ]
  },
  {
   "cell_type": "code",
   "execution_count": 2,
   "metadata": {
    "pycharm": {
     "name": "#%%\n"
    },
    "tags": [
     "hide-input"
    ]
   },
   "outputs": [],
   "source": [
    "import gym_corridor  # noqa: F401\n",
    "from src.observation_wrappers import CorridorObservationWrapper\n",
    "\n",
    "\n",
    "def corridor20_env_provider():\n",
    "    import gym_corridor  # noqa: F401\n",
    "    return CorridorObservationWrapper(gym.make(f'corridor-20-v0'))\n",
    "\n",
    "\n",
    "def corridor40_env_provider():\n",
    "    import gym_corridor  # noqa: F401\n",
    "    return CorridorObservationWrapper(gym.make(f'corridor-40-v0'))\n",
    "\n",
    "\n",
    "def corridor100_env_provider():\n",
    "    import gym_corridor  # noqa: F401\n",
    "    return CorridorObservationWrapper(gym.make(f'corridor-100-v0'))\n",
    "\n",
    "\n",
    "# Function for calculating relevant metrics\n",
    "def corridor_metrics(agent, env):\n",
    "    pop = agent.population\n",
    "    metrics = {\n",
    "        'knowledge': corridor_transition_knowledge(pop, env)\n",
    "    }\n",
    "    metrics.update(population_metrics(pop, env))\n",
    "    return metrics\n",
    "\n",
    "\n",
    "corridor_base_params = {\n",
    "    \"classifier_length\": 1,\n",
    "    \"number_of_possible_actions\": 2,\n",
    "    \"epsilon\": 0.8,\n",
    "    \"beta\": 0.2,\n",
    "    \"gamma\": 0.95,\n",
    "    \"initial_q\": 0.5,\n",
    "    \"theta_exp\": 50,\n",
    "    \"theta_ga\": 50,\n",
    "    \"do_ga\": True,\n",
    "    \"mu\": 0.03,\n",
    "    \"u_max\": 1,\n",
    "    \"metrics_trial_frequency\": 1,\n",
    "    \"user_metrics_collector_fcn\": corridor_metrics\n",
    "}\n",
    "\n",
    "# Start experiments\n",
    "corridor_explore_trials, corridor_exploit_trials = 60, 20\n",
    "USE_RAY = True\n",
    "\n",
    "\n",
    "@get_from_cache_or_run(cache_path=f'{cache_dir}/corridor/epsilon_greedy.dill')\n",
    "@repeat(num_times=NUM_EXPERIMENTS, use_ray=USE_RAY)\n",
    "def corridor_epsilon_greedy():\n",
    "    corridor20 = run_experiment(corridor20_env_provider,\n",
    "                                corridor_explore_trials,\n",
    "                                corridor_exploit_trials,\n",
    "                                **(corridor_base_params | {'action_selector': EpsilonGreedy}))\n",
    "\n",
    "    corridor40 = run_experiment(corridor40_env_provider,\n",
    "                                corridor_explore_trials,\n",
    "                                corridor_exploit_trials,\n",
    "                                **(corridor_base_params | {'action_selector': EpsilonGreedy}))\n",
    "\n",
    "    corridor100 = run_experiment(corridor100_env_provider,\n",
    "                                 corridor_explore_trials,\n",
    "                                 corridor_exploit_trials,\n",
    "                                 **(corridor_base_params | {'action_selector': EpsilonGreedy}))\n",
    "\n",
    "    return corridor20, corridor40, corridor100\n",
    "\n",
    "\n",
    "@get_from_cache_or_run(cache_path=f'{cache_dir}/corridor/action_delay.dill')\n",
    "@repeat(num_times=NUM_EXPERIMENTS, use_ray=USE_RAY)\n",
    "def corridor_action_delay():\n",
    "    corridor20 = run_experiment(corridor20_env_provider,\n",
    "                                corridor_explore_trials,\n",
    "                                corridor_exploit_trials,\n",
    "                                **(corridor_base_params | {'action_selector': ActionDelay,\n",
    "                                                           'biased_exploration_prob': 0.5}))\n",
    "\n",
    "    corridor40 = run_experiment(corridor40_env_provider,\n",
    "                                corridor_explore_trials,\n",
    "                                corridor_exploit_trials,\n",
    "                                **(corridor_base_params | {'action_selector': ActionDelay,\n",
    "                                                           'biased_exploration_prob': 0.5}))\n",
    "\n",
    "    corridor100 = run_experiment(corridor100_env_provider,\n",
    "                                 corridor_explore_trials,\n",
    "                                 corridor_exploit_trials,\n",
    "                                 **(corridor_base_params | {'action_selector': ActionDelay,\n",
    "                                                            'biased_exploration_prob': 0.5}))\n",
    "\n",
    "    return corridor20, corridor40, corridor100\n",
    "\n",
    "\n",
    "@get_from_cache_or_run(cache_path=f'{cache_dir}/corridor/knowledge_array.dill')\n",
    "@repeat(num_times=NUM_EXPERIMENTS, use_ray=USE_RAY)\n",
    "def corridor_knowledge_array():\n",
    "    corridor20 = run_experiment(corridor20_env_provider,\n",
    "                                corridor_explore_trials,\n",
    "                                corridor_exploit_trials,\n",
    "                                **(corridor_base_params | {'action_selector': KnowledgeArray,\n",
    "                                                           'biased_exploration_prob': 0.5}))\n",
    "\n",
    "    corridor40 = run_experiment(corridor40_env_provider,\n",
    "                                corridor_explore_trials,\n",
    "                                corridor_exploit_trials,\n",
    "                                **(corridor_base_params | {'action_selector': KnowledgeArray,\n",
    "                                                           'biased_exploration_prob': 0.5}))\n",
    "\n",
    "    corridor100 = run_experiment(corridor100_env_provider,\n",
    "                                 corridor_explore_trials,\n",
    "                                 corridor_exploit_trials,\n",
    "                                 **(corridor_base_params | {'action_selector': KnowledgeArray,\n",
    "                                                            'biased_exploration_prob': 0.5}))\n",
    "\n",
    "    return corridor20, corridor40, corridor100\n",
    "\n",
    "\n",
    "@get_from_cache_or_run(cache_path=f'{cache_dir}/corridor/oiq.dill')\n",
    "@repeat(num_times=NUM_EXPERIMENTS, use_ray=USE_RAY)\n",
    "def corridor_oiq():\n",
    "    corridor20 = run_experiment(corridor20_env_provider,\n",
    "                                corridor_explore_trials,\n",
    "                                corridor_exploit_trials,\n",
    "                                **(corridor_base_params | {'action_selector': EpsilonGreedy,\n",
    "                                                           'biased_exploration_prob': 0.8}))\n",
    "\n",
    "    corridor40 = run_experiment(corridor40_env_provider,\n",
    "                                corridor_explore_trials,\n",
    "                                corridor_exploit_trials,\n",
    "                                **(corridor_base_params | {'action_selector': EpsilonGreedy,\n",
    "                                                           'biased_exploration_prob': 0.8}))\n",
    "\n",
    "    corridor100 = run_experiment(corridor100_env_provider,\n",
    "                                 corridor_explore_trials,\n",
    "                                 corridor_exploit_trials,\n",
    "                                 **(corridor_base_params | {'action_selector': EpsilonGreedy,\n",
    "                                                            'biased_exploration_prob': 0.8}))\n",
    "\n",
    "    return corridor20, corridor40, corridor100"
   ]
  },
  {
   "cell_type": "markdown",
   "metadata": {
    "pycharm": {
     "name": "#%% md\n"
    }
   },
   "source": [
    "### Grid"
   ]
  },
  {
   "cell_type": "code",
   "execution_count": 3,
   "metadata": {
    "pycharm": {
     "name": "#%%\n"
    },
    "tags": [
     "hide-input"
    ]
   },
   "outputs": [],
   "source": [
    "import gym_grid  # noqa: F401\n",
    "\n",
    "\n",
    "# Function for calculating relevant metrics\n",
    "def grid_metrics(agent, env):\n",
    "    pop = agent.population\n",
    "    metrics = {\n",
    "        'knowledge': grid_transition_knowledge(pop, env)\n",
    "    }\n",
    "    metrics.update(population_metrics(pop, env))\n",
    "    return metrics\n",
    "\n",
    "\n",
    "def grid_env_provider():\n",
    "    return gym.make(f'grid-20-v0')\n",
    "\n",
    "\n",
    "grid_base_params = {\n",
    "    \"classifier_length\": 2,\n",
    "    \"number_of_possible_actions\": 4,\n",
    "    \"epsilon\": 0.8,\n",
    "    \"beta\": 0.2,\n",
    "    \"gamma\": 0.95,\n",
    "    \"initial_q\": 0.5,\n",
    "    \"theta_exp\": 50,\n",
    "    \"theta_ga\": 50,\n",
    "    \"do_ga\": True,\n",
    "    \"mu\": 0.03,\n",
    "    \"u_max\": 1,\n",
    "    \"metrics_trial_frequency\": 1,\n",
    "    \"user_metrics_collector_fcn\": grid_metrics\n",
    "}\n",
    "\n",
    "# Start experiments\n",
    "grid_explore_trials, grid_exploit_trials = 60, 20\n",
    "\n",
    "\n",
    "@get_from_cache_or_run(cache_path=f'{cache_dir}/grid/epsilon_greedy.dill')\n",
    "@repeat(num_times=NUM_EXPERIMENTS)\n",
    "def grid_epsilon_greedy():\n",
    "    return run_experiment(grid_env_provider,\n",
    "                          grid_explore_trials,\n",
    "                          grid_exploit_trials,\n",
    "                          **(grid_base_params | {'action_selector': EpsilonGreedy}))\n",
    "\n",
    "\n",
    "@get_from_cache_or_run(cache_path=f'{cache_dir}/grid/action_delay.dill')\n",
    "@repeat(num_times=NUM_EXPERIMENTS)\n",
    "def grid_action_delay():\n",
    "    return run_experiment(grid_env_provider,\n",
    "                          grid_explore_trials,\n",
    "                          grid_exploit_trials,\n",
    "                          **(grid_base_params | {'action_selector': ActionDelay, 'biased_exploration_prob': 0.5}))\n",
    "\n",
    "\n",
    "@get_from_cache_or_run(cache_path=f'{cache_dir}/grid/knowledge_array.dill')\n",
    "@repeat(num_times=NUM_EXPERIMENTS)\n",
    "def grid_knowledge_array():\n",
    "    return run_experiment(grid_env_provider,\n",
    "                          grid_explore_trials,\n",
    "                          grid_exploit_trials,\n",
    "                          **(grid_base_params | {'action_selector': KnowledgeArray, 'biased_exploration_prob': 0.5}))\n",
    "\n",
    "\n",
    "@get_from_cache_or_run(cache_path=f'{cache_dir}/grid/oiq.dill')\n",
    "@repeat(num_times=NUM_EXPERIMENTS)\n",
    "def grid_oiq():\n",
    "    return run_experiment(grid_env_provider,\n",
    "                          grid_explore_trials,\n",
    "                          grid_exploit_trials,\n",
    "                          **(grid_base_params | {'action_selector': EpsilonGreedy, 'biased_exploration_prob': 0.8}))"
   ]
  },
  {
   "cell_type": "markdown",
   "metadata": {
    "pycharm": {
     "name": "#%% md\n"
    }
   },
   "source": [
    "## Results"
   ]
  },
  {
   "cell_type": "code",
   "execution_count": 4,
   "metadata": {
    "pycharm": {
     "name": "#%%\n"
    },
    "tags": [
     "hide-input"
    ]
   },
   "outputs": [],
   "source": [
    "# Execute calculations\n",
    "corridor20_eg_dfs, corridor40_eg_dfs, corridor100_eg_dfs = extract(corridor_epsilon_greedy())\n",
    "corridor20_ad_dfs, corridor40_ad_dfs, corridor100_ad_dfs = extract(corridor_action_delay())\n",
    "corridor20_ka_dfs, corridor40_ka_dfs, corridor100_ka_dfs = extract(corridor_knowledge_array())\n",
    "corridor20_oiq_dfs, corridor40_oiq_dfs, corridor100_oiq_dfs = extract(corridor_oiq())\n",
    "\n",
    "# Plot results\n",
    "plot(\n",
    "    average_experiment_runs(corridor20_eg_dfs),\n",
    "    average_experiment_runs(corridor20_ad_dfs),\n",
    "    average_experiment_runs(corridor20_ka_dfs),\n",
    "    average_experiment_runs(corridor20_oiq_dfs),\n",
    "    env_name='Corridor-20',\n",
    "    num_explore_trials=corridor_explore_trials,\n",
    "    first_knowledge_trials=30,\n",
    "    first_population_trials=20,\n",
    "    population_ylim=(17, 40),\n",
    "    text_box_loc={\"x\": 63, \"y\": 120},\n",
    "    plot_filename=f'{plot_dir}/corridor-performance.png'\n",
    ")"
   ]
  },
  {
   "cell_type": "markdown",
   "metadata": {
    "pycharm": {
     "name": "#%% md\n"
    }
   },
   "source": [
    ":::{figure-md} corridor-fig\n",
    ":class: full-width\n",
    "<img src=\"plots/corridor-performance.png\">\n",
    "\n",
    "Performance in Corridor environment\n",
    ":::"
   ]
  },
  {
   "cell_type": "code",
   "execution_count": 5,
   "metadata": {
    "pycharm": {
     "name": "#%%\n"
    },
    "tags": [
     "hide-input"
    ]
   },
   "outputs": [],
   "source": [
    "# Execute calculations\n",
    "grid_epsilon_greedy_dfs = grid_epsilon_greedy()\n",
    "grid_action_delay_dfs = grid_action_delay()\n",
    "grid_knowledge_array_dfs = grid_knowledge_array()\n",
    "grid_oiq_dfs = grid_oiq()\n",
    "\n",
    "# Plot results\n",
    "plot(\n",
    "    average_experiment_runs(grid_epsilon_greedy_dfs),\n",
    "    average_experiment_runs(grid_action_delay_dfs),\n",
    "    average_experiment_runs(grid_knowledge_array_dfs),\n",
    "    average_experiment_runs(grid_oiq_dfs),\n",
    "    env_name='Grid-20',\n",
    "    num_explore_trials=grid_explore_trials,\n",
    "    first_knowledge_trials=10,\n",
    "    first_population_trials=30,\n",
    "    population_ylim=(70, 105),\n",
    "    text_box_loc={\"x\": 63, \"y\": 1000},\n",
    "    plot_filename=f'{plot_dir}/grid-performance.png'\n",
    ")"
   ]
  },
  {
   "cell_type": "markdown",
   "metadata": {
    "pycharm": {
     "name": "#%% md\n"
    }
   },
   "source": [
    ":::{figure-md} grid-fig\n",
    ":class: full-width\n",
    "<img src=\"plots/grid-performance.png\">\n",
    "\n",
    "Performance in Grid environment\n",
    ":::"
   ]
  },
  {
   "cell_type": "markdown",
   "metadata": {
    "pycharm": {
     "name": "#%% md\n"
    }
   },
   "source": [
    "## Statistical verification\n",
    "\n",
    "```{admonition} Hypothesis testing\n",
    ":class: tip\n",
    "In almost every plots the lines clearly converge (knowledge, population, steps in trial). Maybe what would be beneficial would be to futher investigate larger environment problems (sizes 20/40/100) with fixed number of trials and show the differences (probably in the table like exploration method vs environment).\n",
    "```"
   ]
  },
  {
   "cell_type": "code",
   "execution_count": 24,
   "metadata": {
    "pycharm": {
     "name": "#%%\n"
    },
    "tags": [
     "hide-input"
    ]
   },
   "outputs": [],
   "source": [
    "def build_models(dfs: Dict[str, pd.DataFrame], field: str, query_condition: str):\n",
    "    results = {}\n",
    "\n",
    "    for name, df in dfs.items():\n",
    "        data_arr = df.query(query_condition)[field].to_numpy()\n",
    "        bayes_model = bayes_estimate(data_arr)\n",
    "        results[name] = (bayes_model['mu'], bayes_model['std'])\n",
    "\n",
    "    return results\n",
    "\n",
    "def get_average_reward(dfs: Dict[str, pd.DataFrame]):\n",
    "    results = {}\n",
    "\n",
    "    for name, df in dfs.items():\n",
    "        results[name] = df.query('phase == \"exploit\"')['reward'].mean()\n",
    "\n",
    "    return results\n",
    "\n",
    "\n",
    "corridor_data = {\n",
    "    'corridor20_eg': pd.concat(corridor20_eg_dfs),\n",
    "    'corridor40_eg': pd.concat(corridor40_eg_dfs),\n",
    "    'corridor100_eg': pd.concat(corridor100_eg_dfs),\n",
    "\n",
    "    'corridor20_ad': pd.concat(corridor20_ad_dfs),\n",
    "    'corridor40_ad': pd.concat(corridor40_ad_dfs),\n",
    "    'corridor100_ad': pd.concat(corridor100_ad_dfs),\n",
    "\n",
    "    'corridor20_ka': pd.concat(corridor20_ka_dfs),\n",
    "    'corridor40_ka': pd.concat(corridor40_ka_dfs),\n",
    "    'corridor100_ka': pd.concat(corridor100_ka_dfs),\n",
    "\n",
    "    'corridor20_oiq': pd.concat(corridor20_oiq_dfs),\n",
    "    'corridor40_oiq': pd.concat(corridor40_oiq_dfs),\n",
    "    'corridor100_oiq': pd.concat(corridor100_oiq_dfs)\n",
    "}\n",
    "\n",
    "\n",
    "@get_from_cache_or_run(cache_path=f'{cache_dir}/corridor/bayes/population.dill')\n",
    "def build_population_models(dfs: Dict[str, pd.DataFrame]):\n",
    "    return build_models(dfs, field='population', query_condition=f'trial == {corridor_explore_trials - 1}')\n",
    "\n",
    "\n",
    "@get_from_cache_or_run(cache_path=f'{cache_dir}/corridor/bayes/reliable.dill')\n",
    "def build_reliable_models(dfs: Dict[str, pd.DataFrame]):\n",
    "    return build_models(dfs, field='reliable', query_condition=f'trial == {corridor_explore_trials - 1}')\n",
    "\n",
    "\n",
    "@get_from_cache_or_run(cache_path=f'{cache_dir}/corridor/bayes/knowledge.dill')\n",
    "def build_knowledge_models(dfs: Dict[str, pd.DataFrame]):\n",
    "    return build_models(dfs, field='knowledge', query_condition=f'trial == {corridor_explore_trials - 1}')\n",
    "\n",
    "\n",
    "@get_from_cache_or_run(cache_path=f'{cache_dir}/corridor/bayes/perf_time.dill')\n",
    "def build_perf_time_models(dfs: Dict[str, pd.DataFrame]):\n",
    "    return build_models(dfs, field='perf_time', query_condition=f'phase == \"explore\"')\n",
    "\n",
    "\n",
    "corridor_population_model = build_population_models(corridor_data)\n",
    "corridor_reliable_model = build_reliable_models(corridor_data)\n",
    "corridor_knowledge_model = build_knowledge_models(corridor_data)\n",
    "corridor_perf_time_model = build_perf_time_models(corridor_data)\n",
    "corridor_avg_reward = get_average_reward(corridor_data)\n",
    "\n",
    "\n",
    "def print_bayes_table(name_prefix, population_models, reliable_models, knowledge_models, perf_time_models, avg_rewards):\n",
    "    print_row = lambda r: f'{round(r[0].mean(), 2)} ± {round(r[0].std(), 2)}'\n",
    "\n",
    "    key_names = [name for name in corridor_data.keys() if name.startswith(name_prefix)]\n",
    "\n",
    "    bayes_table_data = [\n",
    "        ['population of classifiers'] + [print_row(v) for name, v in population_models.items() if name in key_names],\n",
    "        ['reliable classifiers'] + [print_row(v) for name, v in reliable_models.items() if name in key_names],\n",
    "        ['knowledge'] + [print_row(v) for name, v in knowledge_models.items() if name in key_names],\n",
    "        ['trial execution time'] + [print_row(v) for name, v in perf_time_models.items() if name in key_names],\n",
    "        ['average exploit reward'] + [f'{round(v, 2)}' for name, v in avg_rewards.items() if name in key_names],\n",
    "    ]\n",
    "\n",
    "    table = tabulate(bayes_table_data,\n",
    "                     headers=['', 'Epsilon Greedy', 'Action Delay', 'Knowledge Array', 'Optimistic Initial Quality'],\n",
    "                     tablefmt=\"html\",\n",
    "                     stralign='right')\n",
    "    display(HTML(table))"
   ]
  },
  {
   "cell_type": "markdown",
   "metadata": {
    "pycharm": {
     "name": "#%% md\n"
    }
   },
   "source": [
    "### Corridor 20"
   ]
  },
  {
   "cell_type": "code",
   "execution_count": 25,
   "metadata": {
    "pycharm": {
     "name": "#%%\n"
    },
    "tags": [
     "hide-input"
    ]
   },
   "outputs": [
    {
     "data": {
      "text/html": [
       "<table>\n",
       "<thead>\n",
       "<tr><th style=\"text-align: right;\">                         </th><th style=\"text-align: right;\">  Epsilon Greedy</th><th style=\"text-align: right;\">  Action Delay</th><th style=\"text-align: right;\">  Knowledge Array</th><th style=\"text-align: right;\">  Optimistic Initial Quality</th></tr>\n",
       "</thead>\n",
       "<tbody>\n",
       "<tr><td style=\"text-align: right;\">population of classifiers</td><td style=\"text-align: right;\">      38.0 ± 0.0</td><td style=\"text-align: right;\">    38.0 ± 0.0</td><td style=\"text-align: right;\">       38.0 ± 0.0</td><td style=\"text-align: right;\">                  38.0 ± 0.0</td></tr>\n",
       "<tr><td style=\"text-align: right;\">     reliable classifiers</td><td style=\"text-align: right;\">      38.0 ± 0.0</td><td style=\"text-align: right;\">    38.0 ± 0.0</td><td style=\"text-align: right;\">       38.0 ± 0.0</td><td style=\"text-align: right;\">                  38.0 ± 0.0</td></tr>\n",
       "<tr><td style=\"text-align: right;\">                knowledge</td><td style=\"text-align: right;\">     100.0 ± 0.0</td><td style=\"text-align: right;\">   100.0 ± 0.0</td><td style=\"text-align: right;\">      100.0 ± 0.0</td><td style=\"text-align: right;\">                 100.0 ± 0.0</td></tr>\n",
       "<tr><td style=\"text-align: right;\">     trial execution time</td><td style=\"text-align: right;\">      0.02 ± 0.0</td><td style=\"text-align: right;\">    0.03 ± 0.0</td><td style=\"text-align: right;\">       0.05 ± 0.0</td><td style=\"text-align: right;\">                  0.02 ± 0.0</td></tr>\n",
       "<tr><td style=\"text-align: right;\">   average exploit reward</td><td style=\"text-align: right;\">          1000.0</td><td style=\"text-align: right;\">        1000.0</td><td style=\"text-align: right;\">           1000.0</td><td style=\"text-align: right;\">                      1000.0</td></tr>\n",
       "</tbody>\n",
       "</table>"
      ],
      "text/plain": [
       "<IPython.core.display.HTML object>"
      ]
     },
     "metadata": {},
     "output_type": "display_data"
    }
   ],
   "source": [
    "print_bayes_table('corridor20', corridor_population_model, corridor_reliable_model, corridor_knowledge_model,\n",
    "                  corridor_perf_time_model, corridor_avg_reward)"
   ]
  },
  {
   "cell_type": "markdown",
   "metadata": {
    "pycharm": {
     "name": "#%% md\n"
    }
   },
   "source": [
    "### Corridor 40"
   ]
  },
  {
   "cell_type": "code",
   "execution_count": 26,
   "metadata": {
    "pycharm": {
     "name": "#%%\n"
    },
    "tags": [
     "hide-input"
    ]
   },
   "outputs": [
    {
     "data": {
      "text/html": [
       "<table>\n",
       "<thead>\n",
       "<tr><th style=\"text-align: right;\">                         </th><th style=\"text-align: right;\">  Epsilon Greedy</th><th style=\"text-align: right;\">  Action Delay</th><th style=\"text-align: right;\">  Knowledge Array</th><th style=\"text-align: right;\">  Optimistic Initial Quality</th></tr>\n",
       "</thead>\n",
       "<tbody>\n",
       "<tr><td style=\"text-align: right;\">population of classifiers</td><td style=\"text-align: right;\">      78.0 ± 0.0</td><td style=\"text-align: right;\">    78.0 ± 0.0</td><td style=\"text-align: right;\">       78.0 ± 0.0</td><td style=\"text-align: right;\">                  78.0 ± 0.0</td></tr>\n",
       "<tr><td style=\"text-align: right;\">     reliable classifiers</td><td style=\"text-align: right;\">      78.0 ± 0.0</td><td style=\"text-align: right;\">    78.0 ± 0.0</td><td style=\"text-align: right;\">       78.0 ± 0.0</td><td style=\"text-align: right;\">                  78.0 ± 0.0</td></tr>\n",
       "<tr><td style=\"text-align: right;\">                knowledge</td><td style=\"text-align: right;\">     100.0 ± 0.0</td><td style=\"text-align: right;\">   100.0 ± 0.0</td><td style=\"text-align: right;\">      100.0 ± 0.0</td><td style=\"text-align: right;\">                 100.0 ± 0.0</td></tr>\n",
       "<tr><td style=\"text-align: right;\">     trial execution time</td><td style=\"text-align: right;\">      0.06 ± 0.0</td><td style=\"text-align: right;\">    0.07 ± 0.0</td><td style=\"text-align: right;\">       0.09 ± 0.0</td><td style=\"text-align: right;\">                  0.06 ± 0.0</td></tr>\n",
       "<tr><td style=\"text-align: right;\">   average exploit reward</td><td style=\"text-align: right;\">           949.0</td><td style=\"text-align: right;\">         998.0</td><td style=\"text-align: right;\">           1000.0</td><td style=\"text-align: right;\">                       962.0</td></tr>\n",
       "</tbody>\n",
       "</table>"
      ],
      "text/plain": [
       "<IPython.core.display.HTML object>"
      ]
     },
     "metadata": {},
     "output_type": "display_data"
    }
   ],
   "source": [
    "print_bayes_table('corridor40', corridor_population_model, corridor_reliable_model, corridor_knowledge_model,\n",
    "                  corridor_perf_time_model, corridor_avg_reward)"
   ]
  },
  {
   "cell_type": "markdown",
   "metadata": {
    "pycharm": {
     "name": "#%% md\n"
    }
   },
   "source": [
    "### Corridor 100"
   ]
  },
  {
   "cell_type": "code",
   "execution_count": 27,
   "metadata": {
    "pycharm": {
     "name": "#%%\n"
    },
    "tags": [
     "hide-input"
    ]
   },
   "outputs": [
    {
     "data": {
      "text/html": [
       "<table>\n",
       "<thead>\n",
       "<tr><th style=\"text-align: right;\">                         </th><th style=\"text-align: right;\">  Epsilon Greedy</th><th style=\"text-align: right;\">  Action Delay</th><th style=\"text-align: right;\">  Knowledge Array</th><th style=\"text-align: right;\">  Optimistic Initial Quality</th></tr>\n",
       "</thead>\n",
       "<tbody>\n",
       "<tr><td style=\"text-align: right;\">population of classifiers</td><td style=\"text-align: right;\">     198.0 ± 0.0</td><td style=\"text-align: right;\">   198.0 ± 0.0</td><td style=\"text-align: right;\">      198.0 ± 0.0</td><td style=\"text-align: right;\">                 198.0 ± 0.0</td></tr>\n",
       "<tr><td style=\"text-align: right;\">     reliable classifiers</td><td style=\"text-align: right;\">   195.24 ± 0.53</td><td style=\"text-align: right;\"> 195.77 ± 0.38</td><td style=\"text-align: right;\">     196.0 ± 0.01</td><td style=\"text-align: right;\">               195.68 ± 0.38</td></tr>\n",
       "<tr><td style=\"text-align: right;\">                knowledge</td><td style=\"text-align: right;\">    98.64 ± 0.26</td><td style=\"text-align: right;\">  98.89 ± 0.19</td><td style=\"text-align: right;\">      98.99 ± 0.0</td><td style=\"text-align: right;\">                 98.83 ± 0.2</td></tr>\n",
       "<tr><td style=\"text-align: right;\">     trial execution time</td><td style=\"text-align: right;\">      0.15 ± 0.0</td><td style=\"text-align: right;\">    0.16 ± 0.0</td><td style=\"text-align: right;\">       0.17 ± 0.0</td><td style=\"text-align: right;\">                  0.16 ± 0.0</td></tr>\n",
       "<tr><td style=\"text-align: right;\">   average exploit reward</td><td style=\"text-align: right;\">           228.0</td><td style=\"text-align: right;\">         222.0</td><td style=\"text-align: right;\">            329.0</td><td style=\"text-align: right;\">                       217.0</td></tr>\n",
       "</tbody>\n",
       "</table>"
      ],
      "text/plain": [
       "<IPython.core.display.HTML object>"
      ]
     },
     "metadata": {},
     "output_type": "display_data"
    }
   ],
   "source": [
    "print_bayes_table('corridor100', corridor_population_model, corridor_reliable_model, corridor_knowledge_model,\n",
    "                  corridor_perf_time_model, corridor_avg_reward)"
   ]
  },
  {
   "cell_type": "markdown",
   "metadata": {
    "pycharm": {
     "name": "#%% md\n"
    }
   },
   "source": [
    "## Observations\n",
    "..."
   ]
  },
  {
   "cell_type": "markdown",
   "metadata": {
    "pycharm": {
     "name": "#%% md\n"
    }
   },
   "source": [
    "---\n",
    "\n",
    "**Software packages used**"
   ]
  },
  {
   "cell_type": "code",
   "execution_count": 11,
   "metadata": {
    "pycharm": {
     "name": "#%%\n"
    }
   },
   "outputs": [
    {
     "data": {
      "text/html": [
       "<details>\n",
       "<summary>Click to view session information</summary>\n",
       "<pre>\n",
       "-----\n",
       "gym                 0.21.0\n",
       "gym_corridor        NA\n",
       "gym_grid            NA\n",
       "lcs                 NA\n",
       "matplotlib          3.5.0\n",
       "pandas              1.3.5\n",
       "session_info        1.0.0\n",
       "src                 (embedded book's utils module)\n",
       "tabulate            0.8.9\n",
       "-----\n",
       "</pre>\n",
       "<details>\n",
       "<summary>Click to view modules imported as dependencies</summary>\n",
       "<pre>\n",
       "PIL                         8.4.0\n",
       "arviz                       0.11.4\n",
       "backcall                    0.2.0\n",
       "beta_ufunc                  NA\n",
       "binom_ufunc                 NA\n",
       "bokeh                       2.4.2\n",
       "bottleneck                  1.3.2\n",
       "brotli                      NA\n",
       "cachetools                  4.2.2\n",
       "certifi                     2021.10.08\n",
       "cffi                        1.15.0\n",
       "cftime                      1.5.1.1\n",
       "charset_normalizer          2.0.4\n",
       "click                       7.1.2\n",
       "cloudpickle                 2.0.0\n",
       "colorama                    0.4.4\n",
       "colorful                    0.5.4\n",
       "colorful_orig               0.5.4\n",
       "cryptography                36.0.0\n",
       "cycler                      0.10.0\n",
       "cython_runtime              NA\n",
       "cytoolz                     0.11.0\n",
       "dask                        2021.10.0\n",
       "databricks_cli              NA\n",
       "dateutil                    2.8.2\n",
       "debugpy                     1.5.1\n",
       "decorator                   5.1.0\n",
       "defusedxml                  0.7.1\n",
       "dill                        0.3.4\n",
       "distributed                 2021.10.0\n",
       "entrypoints                 0.3\n",
       "fastprogress                0.2.7\n",
       "filelock                    3.4.2\n",
       "fsspec                      2022.01.0\n",
       "google                      NA\n",
       "grpc                        1.43.0\n",
       "hiredis                     2.0.0\n",
       "idna                        3.3\n",
       "importlib_metadata          NA\n",
       "ipykernel                   6.4.1\n",
       "ipython_genutils            0.2.0\n",
       "jedi                        0.18.1\n",
       "jinja2                      3.0.2\n",
       "kiwisolver                  1.3.1\n",
       "markupsafe                  2.0.1\n",
       "matplotlib_inline           NA\n",
       "mkl                         2.4.0\n",
       "mlflow                      1.23.0\n",
       "mpl_toolkits                NA\n",
       "msgpack                     1.0.2\n",
       "nbinom_ufunc                NA\n",
       "netCDF4                     1.5.7\n",
       "numexpr                     2.8.1\n",
       "numpy                       1.21.2\n",
       "packaging                   21.3\n",
       "parso                       0.8.3\n",
       "pexpect                     4.8.0\n",
       "pickleshare                 0.7.5\n",
       "pkg_resources               NA\n",
       "prompt_toolkit              3.0.20\n",
       "psutil                      5.8.0\n",
       "ptyprocess                  0.7.0\n",
       "pydev_ipython               NA\n",
       "pydevconsole                NA\n",
       "pydevd                      2.6.0\n",
       "pydevd_concurrency_analyser NA\n",
       "pydevd_file_utils           NA\n",
       "pydevd_plugins              NA\n",
       "pydevd_tracing              NA\n",
       "pyexpat                     NA\n",
       "pygments                    2.10.0\n",
       "pylab                       NA\n",
       "pymc3                       3.11.4\n",
       "pynvml                      NA\n",
       "pyparsing                   3.0.4\n",
       "pytz                        2021.3\n",
       "ray                         1.9.2\n",
       "redis                       4.1.1\n",
       "requests                    2.27.1\n",
       "scipy                       1.7.3\n",
       "semver                      2.13.0\n",
       "setproctitle                1.2.2\n",
       "six                         1.16.0\n",
       "socks                       1.7.1\n",
       "sortedcontainers            2.4.0\n",
       "sphinxcontrib               NA\n",
       "storemagic                  NA\n",
       "tblib                       1.7.0\n",
       "theano                      1.1.2\n",
       "tlz                         0.11.0\n",
       "toolz                       0.11.2\n",
       "tornado                     6.1\n",
       "tqdm                        4.62.3\n",
       "traitlets                   5.1.1\n",
       "typing_extensions           NA\n",
       "urllib3                     1.26.7\n",
       "wcwidth                     0.2.5\n",
       "xarray                      0.20.1\n",
       "yaml                        6.0\n",
       "zipp                        NA\n",
       "zmq                         22.3.0\n",
       "</pre>\n",
       "</details> <!-- seems like this ends pre, so might as well be explicit -->\n",
       "<pre>\n",
       "-----\n",
       "IPython             7.29.0\n",
       "jupyter_client      7.1.0\n",
       "jupyter_core        4.9.1\n",
       "notebook            6.4.6\n",
       "-----\n",
       "Python 3.9.7 (default, Sep 16 2021, 13:09:58) [GCC 7.5.0]\n",
       "Linux-5.13.0-27-generic-x86_64-with-glibc2.31\n",
       "-----\n",
       "Session information updated at 2022-01-27 19:56\n",
       "</pre>\n",
       "</details>"
      ],
      "text/plain": [
       "<IPython.core.display.HTML object>"
      ]
     },
     "execution_count": 11,
     "metadata": {},
     "output_type": "execute_result"
    }
   ],
   "source": [
    "import session_info\n",
    "\n",
    "session_info.show()"
   ]
  }
 ],
 "metadata": {
  "celltoolbar": "Tags",
  "kernelspec": {
   "display_name": "Python 3 (ipykernel)",
   "language": "python",
   "name": "python3"
  },
  "language_info": {
   "codemirror_mode": {
    "name": "ipython",
    "version": 3
   },
   "file_extension": ".py",
   "mimetype": "text/x-python",
   "name": "python",
   "nbconvert_exporter": "python",
   "pygments_lexer": "ipython3",
   "version": "3.9.7"
  }
 },
 "nbformat": 4,
 "nbformat_minor": 1
}