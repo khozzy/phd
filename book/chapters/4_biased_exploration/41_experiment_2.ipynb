{
 "cells": [
  {
   "cell_type": "code",
   "execution_count": 1,
   "metadata": {
    "pycharm": {
     "name": "#%%\n"
    },
    "tags": [
     "hide-input"
    ]
   },
   "outputs": [],
   "source": [
    "import pathlib\n",
    "from typing import List\n",
    "\n",
    "import gym\n",
    "import matplotlib.pyplot as plt\n",
    "import matplotlib.ticker as mtick\n",
    "import pandas as pd\n",
    "from lcs.agents.acs2 import Configuration, ACS2\n",
    "from lcs.metrics import population_metrics\n",
    "from lcs.strategies.action_selection import EpsilonGreedy, ActionDelay, KnowledgeArray\n",
    "\n",
    "from src.decorators import repeat, get_from_cache_or_run\n",
    "from src.utils import build_plots_dir_path, build_cache_dir_path\n",
    "from src.visualization import biased_exploration_colors, PLOT_DPI\n",
    "\n",
    "COLORS = biased_exploration_colors()\n",
    "\n",
    "plt.ioff()  # turn off interactive plotting\n",
    "\n",
    "root_dir = pathlib.Path().cwd().parent.parent.parent\n",
    "cwd_dir = pathlib.Path().cwd()\n",
    "\n",
    "plot_dir = build_plots_dir_path(root_dir) /  cwd_dir.name\n",
    "cache_dir = build_cache_dir_path(root_dir) /  cwd_dir.name\n",
    "\n",
    "\n",
    "def run_alternating_experiment(env_provider, trials, **conf):\n",
    "    env = env_provider()\n",
    "    env.reset()\n",
    "\n",
    "    cfg = Configuration(**conf)\n",
    "\n",
    "    agent = ACS2(cfg)\n",
    "    metrics = agent.explore_exploit(env, trials)\n",
    "\n",
    "    # parse metrics\n",
    "    lst = [[d['trial'], d['reward'], d['population'], d['reliable']] for d in metrics]\n",
    "    df = pd.DataFrame(lst, columns=['trial', 'reward', 'population', 'reliable'])\n",
    "\n",
    "    # df = df.set_index('trial')\n",
    "    df['phase'] = df.index.map(lambda t: \"explore\" if t % 2 == 0 else \"exploit\")\n",
    "\n",
    "    return df\n",
    "\n",
    "\n",
    "def average_experiment_runs(runs_dfs: List[pd.DataFrame]) -> pd.DataFrame:\n",
    "    return pd.concat(runs_dfs).groupby(['trial', 'phase']).mean().reset_index(level='phase')\n",
    "\n",
    "\n",
    "def plot_rmpx(epsilon_greedy_df, action_delay_df, knowledge_array_df, op_initial_df, env_name, bins):\n",
    "    def plot_by_phase(df, window, label, color, ax):\n",
    "        explore_df = df[df['phase'] == 'explore']\n",
    "        exploit_df = df[df['phase'] == 'exploit']\n",
    "\n",
    "        explore_df.reset_index(inplace=True)\n",
    "        exploit_df.reset_index(inplace=True)\n",
    "\n",
    "        explore_df['reward'].rolling(window=window).mean().plot(label=label, color=color, ls='--', alpha=0.2, ax=ax)\n",
    "        exploit_df['reward'].rolling(window=window).mean().plot(label=label, color=color, ax=ax)\n",
    "\n",
    "    fig = plt.figure(figsize=(14, 10))\n",
    "\n",
    "    # Plots layout\n",
    "    gs = fig.add_gridspec(2, 1, hspace=.8)\n",
    "    ax1 = fig.add_subplot(gs[0])\n",
    "    ax2 = fig.add_subplot(gs[1])\n",
    "\n",
    "    # Global title\n",
    "    fig.suptitle(f'Performance of [{env_name}] environment discretized with {bins} bins', fontsize=24)\n",
    "\n",
    "    # Each axis\n",
    "    ma_window = 500  # moving average window\n",
    "\n",
    "    # Average reward\n",
    "    plot_by_phase(epsilon_greedy_df, ma_window, 'Epsilon Greedy', COLORS['eg'], ax1)\n",
    "    plot_by_phase(action_delay_df, ma_window, 'Action Delay', COLORS['ad'], ax1)\n",
    "    plot_by_phase(knowledge_array_df, ma_window, 'Knowledge Array', COLORS['ka'], ax1)\n",
    "    plot_by_phase(op_initial_df, ma_window, 'Optimistic Initial Quality', COLORS['oiq'], ax1)\n",
    "\n",
    "    ax1.spines['top'].set_visible(False)\n",
    "    ax1.spines['right'].set_visible(False)\n",
    "    ax1.set_title('Average Reward')\n",
    "    ax1.set_xlabel('Trial')\n",
    "    ax1.set_ylabel('Reward')\n",
    "    ax1.set_ylim(300, 1050)\n",
    "    ax1.axhline(y=1000, color='black', linewidth=1, linestyle=\"--\")\n",
    "\n",
    "    # Population\n",
    "    epsilon_greedy_df['reliable'].rolling(window=ma_window).mean().plot(label='Epsilon Greedy', c=COLORS['eg'], ax=ax2)\n",
    "    action_delay_df['reliable'].rolling(window=ma_window).mean().plot(label='Action Delay', c=COLORS['ad'], ax=ax2)\n",
    "    knowledge_array_df['reliable'].rolling(window=ma_window).mean().plot(label='Knowledge Array', c=COLORS['ka'],\n",
    "                                                                         ax=ax2)\n",
    "    op_initial_df['reliable'].rolling(window=ma_window).mean().plot(label='Optimistic Initial Quality', c=COLORS['oiq'],\n",
    "                                                                    ax=ax2)\n",
    "\n",
    "    ax2.spines['top'].set_visible(False)\n",
    "    ax2.spines['right'].set_visible(False)\n",
    "    ax2.set_xlabel('Trial')\n",
    "    ax2.set_ylabel('Classifiers count')\n",
    "    ax2.set_title('Reliable Classifiers')\n",
    "    ax2.xaxis.set_major_formatter(mtick.FormatStrFormatter('%.0f'))\n",
    "    ax2.yaxis.set_major_formatter(mtick.FormatStrFormatter('%.0f'))\n",
    "\n",
    "    # Create legend\n",
    "    handles, labels = ax2.get_legend_handles_labels()\n",
    "    fig.legend(handles, labels, loc='lower center', ncol=4)\n",
    "\n",
    "    # Save plot to file\n",
    "    fig.savefig(f'{plot_dir}/rmpx-performance.png', dpi=PLOT_DPI)"
   ]
  },
  {
   "cell_type": "markdown",
   "metadata": {
    "pycharm": {
     "name": "#%% md\n"
    }
   },
   "source": [
    "# Experiment 2 - Single-step problem performance"
   ]
  },
  {
   "cell_type": "markdown",
   "metadata": {
    "pycharm": {
     "name": "#%% md\n"
    }
   },
   "source": [
    "## Setup"
   ]
  },
  {
   "cell_type": "code",
   "execution_count": 2,
   "metadata": {
    "pycharm": {
     "name": "#%%\n"
    },
    "tags": [
     "hide-input"
    ]
   },
   "outputs": [],
   "source": [
    "from src.observation_wrappers import BinnedObservationWrapper\n",
    "\n",
    "rmpx_bits = 6  # available sizes: 3, 6\n",
    "\n",
    "def rmpx_metrics(agent, env):\n",
    "    pop = agent.population\n",
    "    metrics = {\n",
    "        'reliable': len([cl for cl in pop if cl.is_reliable()])\n",
    "    }\n",
    "    metrics.update(population_metrics(pop, env))\n",
    "    return metrics\n",
    "\n",
    "\n",
    "def rmpx_env_provider(bins):\n",
    "    import gym_multiplexer  # noqa: F401\n",
    "    return BinnedObservationWrapper(gym.make(f'real-multiplexer-{rmpx_bits}bit-v0'), bins)\n",
    "\n",
    "\n",
    "rmpx_base_params = {\n",
    "    \"classifier_length\": rmpx_bits + 1,\n",
    "    \"number_of_possible_actions\": 2,\n",
    "    \"epsilon\": 0.8,\n",
    "    \"beta\": 0.2,\n",
    "    \"gamma\": 0.95,\n",
    "    \"initial_q\": 0.5,\n",
    "    \"theta_exp\": 50,\n",
    "    \"theta_ga\": 50,\n",
    "    \"do_ga\": True,\n",
    "    \"chi\": 0.0,\n",
    "    \"mu\": 0.03,\n",
    "    \"u_max\": 4,\n",
    "    \"metrics_trial_frequency\": 1,\n",
    "    \"user_metrics_collector_fcn\": rmpx_metrics\n",
    "}\n",
    "\n",
    "# Start experiments\n",
    "NUM_EXPERIMENTS = 50\n",
    "USE_RAY = True\n",
    "\n",
    "rmpx_trials = 2 * 15_000  # explore-exploit-explore-...\n",
    "\n",
    "bins_v1 = 5\n",
    "bins_v2 = 6\n",
    "bins_v3 = 7\n",
    "\n",
    "def run_rmpx_biased_exploration(bins):\n",
    "    env_provider = lambda: rmpx_env_provider(bins)\n",
    "\n",
    "    eg = run_alternating_experiment(env_provider,\n",
    "                                    rmpx_trials,\n",
    "                                    **(rmpx_base_params | {'action_selector': EpsilonGreedy}))\n",
    "\n",
    "    ad = run_alternating_experiment(env_provider,\n",
    "                                    rmpx_trials,\n",
    "                                    **(rmpx_base_params | {'action_selector': ActionDelay,\n",
    "                                                           'biased_exploration_prob': 0.5}))\n",
    "\n",
    "    ka = run_alternating_experiment(env_provider,\n",
    "                                    rmpx_trials,\n",
    "                                    **(rmpx_base_params | {'action_selector': KnowledgeArray,\n",
    "                                                           'biased_exploration_prob': 0.5}))\n",
    "\n",
    "    oiq = run_alternating_experiment(env_provider,\n",
    "                                     rmpx_trials,\n",
    "                                     **(rmpx_base_params | {'action_selector': EpsilonGreedy,\n",
    "                                                            'biased_exploration_prob': 0.8}))\n",
    "\n",
    "    return eg, ad, ka, oiq\n",
    "\n",
    "@get_from_cache_or_run(cache_path=f'{cache_dir}/rmpx/bins_{bins_v1}.dill')\n",
    "@repeat(num_times=NUM_EXPERIMENTS, use_ray=USE_RAY)\n",
    "def rmpx_bins_v1():\n",
    "    return run_rmpx_biased_exploration(bins_v1)\n",
    "\n",
    "@get_from_cache_or_run(cache_path=f'{cache_dir}/rmpx/bins_{bins_v2}.dill')\n",
    "@repeat(num_times=NUM_EXPERIMENTS, use_ray=USE_RAY)\n",
    "def rmpx_bins_v2():\n",
    "    return run_rmpx_biased_exploration(bins_v2)\n",
    "\n",
    "@get_from_cache_or_run(cache_path=f'{cache_dir}/rmpx/bins_{bins_v3}.dill')\n",
    "@repeat(num_times=NUM_EXPERIMENTS, use_ray=USE_RAY)\n",
    "def rmpx_bins_v3():\n",
    "    return run_rmpx_biased_exploration(bins_v3)"
   ]
  },
  {
   "cell_type": "markdown",
   "metadata": {
    "pycharm": {
     "name": "#%% md\n"
    }
   },
   "source": [
    "## Results"
   ]
  },
  {
   "cell_type": "code",
   "execution_count": 3,
   "metadata": {
    "pycharm": {
     "name": "#%%\n"
    },
    "tags": [
     "hide-input"
    ]
   },
   "outputs": [],
   "source": [
    "def extract(experiment_runs):\n",
    "    eg_dfs, ad_dfs, ka_dfs, oiq_dfs = [], [], [], []\n",
    "\n",
    "    for eg_df, ad_df, ka_df, oiq_df in experiment_runs:\n",
    "        eg_dfs.append(eg_df)\n",
    "        ad_dfs.append(ad_df)\n",
    "        ka_dfs.append(ka_df)\n",
    "        oiq_dfs.append(oiq_df)\n",
    "\n",
    "    return eg_dfs, ad_dfs, ka_dfs, oiq_dfs\n",
    "\n",
    "\n",
    "# Run calculations\n",
    "rmpx_v1_eg_dfs, rmpx_v1_ad_dfs, rmpx_v1_ka_dfs, rmpx_v1_oiq_dfs = extract(rmpx_bins_v1())\n",
    "rmpx_v2_eg_dfs, rmpx_v2_ad_dfs, rmpx_v2_ka_dfs, rmpx_v2_oiq_dfs = extract(rmpx_bins_v2())\n",
    "rmpx_v3_eg_dfs, rmpx_v3_ad_dfs, rmpx_v3_ka_dfs, rmpx_v3_oiq_dfs = extract(rmpx_bins_v3())\n",
    "\n",
    "# Plot results\n",
    "plot_rmpx(\n",
    "    average_experiment_runs(rmpx_v1_eg_dfs),\n",
    "    average_experiment_runs(rmpx_v1_ad_dfs),\n",
    "    average_experiment_runs(rmpx_v1_ka_dfs),\n",
    "    average_experiment_runs(rmpx_v1_oiq_dfs),\n",
    "    env_name=rmpx_env_provider(bins_v1).unwrapped.spec.id,\n",
    "    bins=bins_v1\n",
    ")"
   ]
  },
  {
   "cell_type": "markdown",
   "metadata": {
    "pycharm": {
     "name": "#%% md\n"
    }
   },
   "source": [
    "Here will be tabbed performance plot"
   ]
  },
  {
   "cell_type": "markdown",
   "source": [
    "## Statistical verification\n",
    "\n",
    "```{admonition} Hypothesis testing\n",
    ":class: tip\n",
    "Novel idea would be to introduce a metric combining both average reward and number of classifiers (like _efficiency index_). Then such indicator might be used to plot the change when modifying number of bins. Otherwise a regular table might be used.\n",
    "```"
   ],
   "metadata": {
    "collapsed": false,
    "pycharm": {
     "name": "#%% md\n"
    }
   }
  },
  {
   "cell_type": "markdown",
   "source": [
    "## Observations\n",
    "..."
   ],
   "metadata": {
    "collapsed": false,
    "pycharm": {
     "name": "#%% md\n"
    }
   }
  },
  {
   "cell_type": "markdown",
   "metadata": {
    "pycharm": {
     "name": "#%% md\n"
    }
   },
   "source": [
    "---\n",
    "\n",
    "**Software packages used**"
   ]
  },
  {
   "cell_type": "code",
   "execution_count": null,
   "metadata": {
    "pycharm": {
     "name": "#%%\n"
    }
   },
   "outputs": [],
   "source": [
    "import session_info\n",
    "\n",
    "session_info.show()"
   ]
  }
 ],
 "metadata": {
  "celltoolbar": "Tags",
  "kernelspec": {
   "display_name": "Python 3 (ipykernel)",
   "language": "python",
   "name": "python3"
  },
  "language_info": {
   "codemirror_mode": {
    "name": "ipython",
    "version": 3
   },
   "file_extension": ".py",
   "mimetype": "text/x-python",
   "name": "python",
   "nbconvert_exporter": "python",
   "pygments_lexer": "ipython3",
   "version": "3.9.6"
  }
 },
 "nbformat": 4,
 "nbformat_minor": 1
}