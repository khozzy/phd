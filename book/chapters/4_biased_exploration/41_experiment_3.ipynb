{
 "cells": [
  {
   "cell_type": "code",
   "execution_count": 1,
   "metadata": {
    "pycharm": {
     "name": "#%%\n"
    },
    "tags": [
     "hide-input"
    ]
   },
   "outputs": [],
   "source": [
    "import pathlib\n",
    "from typing import List, Tuple\n",
    "\n",
    "import gym\n",
    "import matplotlib.pyplot as plt\n",
    "import pandas as pd\n",
    "from lcs.agents.acs2 import Configuration, ACS2\n",
    "from lcs.metrics import population_metrics\n",
    "from lcs.strategies.action_selection import EpsilonGreedy, ActionDelay, KnowledgeArray\n",
    "\n",
    "from src.decorators import repeat, get_from_cache_or_run\n",
    "from src.metrics import parse_experiments_results\n",
    "from src.visualization import biased_exploration_colors, PLOT_DPI\n",
    "\n",
    "COLORS = biased_exploration_colors()\n",
    "\n",
    "plt.ioff()  # turn off interactive plotting\n",
    "\n",
    "cache_dir = f'{pathlib.Path().absolute()}/cache'\n",
    "plot_dir = f'{pathlib.Path().absolute()}/plots'\n",
    "\n",
    "\n",
    "def run_experiment(env_provider, explore_trials, exploit_trials, **conf):\n",
    "    env = env_provider()\n",
    "    env.reset()\n",
    "\n",
    "    cfg = Configuration(**conf)\n",
    "\n",
    "    explorer = ACS2(cfg)\n",
    "    metrics_explore = explorer.explore(env, explore_trials)\n",
    "\n",
    "    exploiter = ACS2(cfg, explorer.population)\n",
    "    metrics_exploit = explorer.exploit(env, exploit_trials)\n",
    "\n",
    "    # Parse results into DataFrame\n",
    "    metrics_df = parse_experiments_results(metrics_explore, metrics_exploit, cfg.metrics_trial_frequency)\n",
    "\n",
    "    return metrics_df\n",
    "\n",
    "\n",
    "def average_experiment_runs(runs_dfs: List[pd.DataFrame]) -> pd.DataFrame:\n",
    "    return pd.concat(runs_dfs).groupby(['trial', 'phase']).mean().reset_index(level='phase')\n",
    "\n",
    "\n",
    "def plot_cp(epsilon_greedy_df, action_delay_df, knowledge_array_df, op_initial_df, explore_trials, buckets):\n",
    "    fig = plt.figure(figsize=(14, 10))\n",
    "\n",
    "    # Plots layout\n",
    "    gs = fig.add_gridspec(2, 1, hspace=.4)\n",
    "    ax1 = fig.add_subplot(gs[0])\n",
    "    ax2 = fig.add_subplot(gs[1])\n",
    "\n",
    "    # Global title\n",
    "    fig.suptitle(f'Performance of CartPole environment discretized with {buckets} buckets', fontsize=24)\n",
    "\n",
    "    # Each axis\n",
    "    ma_window = 5  # moving average window\n",
    "\n",
    "    # Steps in trial\n",
    "    epsilon_greedy_df['steps_in_trial'].rolling(window=ma_window).mean().plot(label='Epsilon Greedy', c=COLORS['eg'],\n",
    "                                                                              ax=ax1)\n",
    "    action_delay_df['steps_in_trial'].rolling(window=ma_window).mean().plot(label='Action Delay', c=COLORS['ad'],\n",
    "                                                                            ax=ax1)\n",
    "    knowledge_array_df['steps_in_trial'].rolling(window=ma_window).mean().plot(label='Knowledge Array', c=COLORS['ka'],\n",
    "                                                                               ax=ax1)\n",
    "    op_initial_df['steps_in_trial'].rolling(window=ma_window).mean().plot(label='Optimistic Initial Quality',\n",
    "                                                                          c=COLORS['oiq'], ax=ax1)\n",
    "\n",
    "    ax1.axvline(x=explore_trials, color='red', linewidth=1, linestyle=\"--\")\n",
    "    ax1.axhline(y=195, color='black', linewidth=1, linestyle=\"--\")\n",
    "\n",
    "    ax1.set_xlabel('Trial')\n",
    "    ax1.set_ylabel('Steps')\n",
    "    ax1.set_title(f'Steps in each trial')\n",
    "    ax1.set_ylim(0, 200)\n",
    "\n",
    "    # Population\n",
    "    epsilon_greedy_df['reliable'].rolling(window=ma_window).mean().plot(label='Epsilon Greedy', c=COLORS['eg'], ax=ax2)\n",
    "    action_delay_df['reliable'].rolling(window=ma_window).mean().plot(label='Action Delay', c=COLORS['ad'], ax=ax2)\n",
    "    knowledge_array_df['reliable'].rolling(window=ma_window).mean().plot(label='Knowledge Array', c=COLORS['ka'],\n",
    "                                                                         ax=ax2)\n",
    "    op_initial_df['reliable'].rolling(window=ma_window).mean().plot(label='Optimistic Initial Quality', c=COLORS['oiq'],\n",
    "                                                                    ax=ax2)\n",
    "\n",
    "    ax2.axvline(x=explore_trials, color='red', linewidth=1, linestyle=\"--\")\n",
    "\n",
    "    ax2.set_xlabel('Trial')\n",
    "    ax2.set_ylabel('Classifiers')\n",
    "    ax2.set_title(f'Reliable classifiers')\n",
    "\n",
    "    # Create legend\n",
    "    handles, labels = ax2.get_legend_handles_labels()\n",
    "    fig.legend(handles, labels, loc='lower center', ncol=4)\n",
    "\n",
    "    # Save plot to file\n",
    "    fig.savefig(f'{plot_dir}/cartpole-performance.png', dpi=PLOT_DPI)"
   ]
  },
  {
   "cell_type": "markdown",
   "metadata": {
    "pycharm": {
     "name": "#%% md\n"
    }
   },
   "source": [
    "# Experiment 3 - Balacing the pole"
   ]
  },
  {
   "cell_type": "markdown",
   "metadata": {
    "pycharm": {
     "name": "#%% md\n"
    }
   },
   "source": [
    "## Setup"
   ]
  },
  {
   "cell_type": "code",
   "execution_count": 2,
   "metadata": {
    "pycharm": {
     "name": "#%%\n"
    },
    "tags": [
     "hide-input"
    ]
   },
   "outputs": [],
   "source": [
    "class CartPoleObservationWrapper(gym.ObservationWrapper):\n",
    "    # https://medium.com/@tuzzer/cart-pole-balancing-with-q-learning-b54c6068d947\n",
    "    # _high = [env.observation_space.high[0], 0.5, env.observation_space.high[2], math.radians(50)]\n",
    "    # _low = [env.observation_space.low[0], -0.5, env.observation_space.low[2], -math.radians(50)]\n",
    "    def __init__(self, env, buckets):\n",
    "        super().__init__(env)\n",
    "        self._high = [env.observation_space.high[0], 0.5, env.observation_space.high[2], 3500]\n",
    "        self._low = [env.observation_space.low[0], -0.5, env.observation_space.low[2], -3500]\n",
    "        self._buckets = buckets\n",
    "\n",
    "    def observation(self, obs):\n",
    "        ratios = [(obs[i] + abs(self._low[i])) / (self._high[i] - self._low[i]) for i in range(len(obs))]\n",
    "        new_obs = [int(round((self._buckets[i] - 1) * ratios[i])) for i in range(len(obs))]\n",
    "        new_obs = [min(self._buckets[i] - 1, max(0, new_obs[i])) for i in range(len(obs))]\n",
    "        return [str(o) for o in new_obs]\n",
    "\n",
    "\n",
    "def cp_env_provider(buckets: Tuple[int]):\n",
    "    return CartPoleObservationWrapper(gym.make('CartPole-v0'), buckets)\n",
    "\n",
    "\n",
    "def cp_metrics(agent, env):\n",
    "    pop = agent.population\n",
    "    metrics = {}\n",
    "    metrics.update(population_metrics(pop, env))\n",
    "    return metrics\n",
    "\n",
    "\n",
    "cp_base_params = {\n",
    "    \"classifier_length\": 4,\n",
    "    \"number_of_possible_actions\": 2,\n",
    "    \"epsilon\": 0.9,\n",
    "    \"beta\": 0.01,\n",
    "    \"gamma\": 0.995,\n",
    "    \"initial_q\": 0.5,\n",
    "    \"theta_exp\": 50,\n",
    "    \"theta_ga\": 50,\n",
    "    \"do_ga\": True,\n",
    "    \"chi\": 0.0,\n",
    "    \"mu\": 0.03,\n",
    "    \"metrics_trial_frequency\": 1,\n",
    "    \"user_metrics_collector_fcn\": cp_metrics\n",
    "}\n",
    "\n",
    "NUM_EXPERIMENTS = 50\n",
    "USE_RAY = True\n",
    "\n",
    "explore_trials, exploit_trials = 500, 500\n",
    "\n",
    "# Bucket configurations\n",
    "buckets_v1 = (1, 1, 6, 6)\n",
    "buckets_v2 = (4, 4, 4, 4)\n",
    "buckets_v3 = (2, 2, 6, 6)\n",
    "buckets_v4 = (1, 2, 4, 4)\n",
    "buckets_v5 = (1, 1, 8, 8)\n",
    "\n",
    "buckets_to_str = lambda buckets: f'{\"_\".join(map(str, buckets))}'\n",
    "\n",
    "\n",
    "def run_cart_pole_biased_exploration(buckets):\n",
    "    env_provider = lambda: cp_env_provider(buckets)\n",
    "\n",
    "    eg = run_experiment(env_provider,\n",
    "                        explore_trials,\n",
    "                        exploit_trials,\n",
    "                        **(cp_base_params | {'action_selector': EpsilonGreedy}))\n",
    "\n",
    "    ad = run_experiment(env_provider,\n",
    "                        explore_trials,\n",
    "                        exploit_trials,\n",
    "                        **(cp_base_params | {'action_selector': ActionDelay, 'biased_exploration_prob': 0.5}))\n",
    "\n",
    "    ka = run_experiment(env_provider,\n",
    "                        explore_trials,\n",
    "                        exploit_trials,\n",
    "                        **(cp_base_params | {'action_selector': KnowledgeArray, 'biased_exploration_prob': 0.5}))\n",
    "\n",
    "    oiq = run_experiment(env_provider,\n",
    "                         explore_trials,\n",
    "                         exploit_trials,\n",
    "                         **(cp_base_params | {'action_selector': EpsilonGreedy, 'biased_exploration_prob': 0.8}))\n",
    "\n",
    "    return eg, ad, ka, oiq\n",
    "\n",
    "\n",
    "@get_from_cache_or_run(cache_path=f'{cache_dir}/cart_pole/{buckets_to_str(buckets_v1)}.dill')\n",
    "@repeat(num_times=NUM_EXPERIMENTS, use_ray=USE_RAY)\n",
    "def cp_buckets_v1():\n",
    "    return run_cart_pole_biased_exploration(buckets_v1)\n",
    "\n",
    "@get_from_cache_or_run(cache_path=f'{cache_dir}/cart_pole/{buckets_to_str(buckets_v2)}.dill')\n",
    "@repeat(num_times=NUM_EXPERIMENTS, use_ray=USE_RAY)\n",
    "def cp_buckets_v2():\n",
    "    return run_cart_pole_biased_exploration(buckets_v2)\n",
    "\n",
    "@get_from_cache_or_run(cache_path=f'{cache_dir}/cart_pole/{buckets_to_str(buckets_v3)}.dill')\n",
    "@repeat(num_times=NUM_EXPERIMENTS, use_ray=USE_RAY)\n",
    "def cp_buckets_v3():\n",
    "    return run_cart_pole_biased_exploration(buckets_v3)\n",
    "\n",
    "@get_from_cache_or_run(cache_path=f'{cache_dir}/cart_pole/{buckets_to_str(buckets_v4)}.dill')\n",
    "@repeat(num_times=NUM_EXPERIMENTS, use_ray=USE_RAY)\n",
    "def cp_buckets_v4():\n",
    "    return run_cart_pole_biased_exploration(buckets_v4)\n",
    "\n",
    "@get_from_cache_or_run(cache_path=f'{cache_dir}/cart_pole/{buckets_to_str(buckets_v5)}.dill')\n",
    "@repeat(num_times=NUM_EXPERIMENTS, use_ray=USE_RAY)\n",
    "def cp_buckets_v5():\n",
    "    return run_cart_pole_biased_exploration(buckets_v5)"
   ]
  },
  {
   "cell_type": "markdown",
   "metadata": {
    "pycharm": {
     "name": "#%% md\n"
    }
   },
   "source": [
    "## Results"
   ]
  },
  {
   "cell_type": "code",
   "execution_count": 3,
   "metadata": {
    "pycharm": {
     "name": "#%%\n"
    },
    "tags": [
     "hide-input"
    ]
   },
   "outputs": [],
   "source": [
    "def extract(experiment_runs):\n",
    "    eg_dfs, ad_dfs, ka_dfs, oiq_dfs = [], [], [], []\n",
    "\n",
    "    for eg_df, ad_df, ka_df, oiq_df in experiment_runs:\n",
    "        eg_dfs.append(eg_df)\n",
    "        ad_dfs.append(ad_df)\n",
    "        ka_dfs.append(ka_df)\n",
    "        oiq_dfs.append(oiq_df)\n",
    "\n",
    "    return eg_dfs, ad_dfs, ka_dfs, oiq_dfs\n",
    "\n",
    "# Run the calculations\n",
    "cp_bv1_eg_dfs, cp_bv1_ad_dfs, cp_bv1_ka_dfs, cp_bv1_oiq_dfs = extract(cp_buckets_v1())\n",
    "cp_bv2_eg_dfs, cp_bv2_ad_dfs, cp_bv2_ka_dfs, cp_bv2_oiq_dfs = extract(cp_buckets_v2())\n",
    "cp_bv3_eg_dfs, cp_bv3_ad_dfs, cp_bv3_ka_dfs, cp_bv3_oiq_dfs = extract(cp_buckets_v3())\n",
    "cp_bv4_eg_dfs, cp_bv4_ad_dfs, cp_bv4_ka_dfs, cp_bv4_oiq_dfs = extract(cp_buckets_v4())\n",
    "cp_bv5_eg_dfs, cp_bv5_ad_dfs, cp_bv5_ka_dfs, cp_bv5_oiq_dfs = extract(cp_buckets_v5())\n",
    "\n",
    "# Plot visualization\n",
    "plot_cp(\n",
    "    average_experiment_runs(cp_bv1_eg_dfs),\n",
    "    average_experiment_runs(cp_bv1_ad_dfs),\n",
    "    average_experiment_runs(cp_bv1_ka_dfs),\n",
    "    average_experiment_runs(cp_bv1_oiq_dfs),\n",
    "    explore_trials=explore_trials,\n",
    "    buckets=buckets_v1)"
   ]
  },
  {
   "cell_type": "markdown",
   "metadata": {
    "pycharm": {
     "name": "#%% md\n"
    }
   },
   "source": [
    ":::{figure-md} cp-fig\n",
    ":class: full-width\n",
    "<img src=\"plots/cartpole-performance.png\">\n",
    "\n",
    "Performance in CartPole environment\n",
    ":::"
   ]
  },
  {
   "cell_type": "markdown",
   "metadata": {
    "pycharm": {
     "name": "#%% md\n"
    }
   },
   "source": [
    "### Classifiers lookup"
   ]
  },
  {
   "cell_type": "code",
   "execution_count": 4,
   "metadata": {
    "pycharm": {
     "name": "#%%\n"
    },
    "tags": [
     "hide-input"
    ]
   },
   "outputs": [
    {
     "name": "stdout",
     "output_type": "stream",
     "text": [
      "[##23 0 ####]\t\tmark: 00##\tquality: 0.96\treward: 3.34\tnumerosity: 1\n",
      "[##32 1 ####]\t\tmark: 00##\tquality: 0.96\treward: 3.24\tnumerosity: 1\n",
      "[##22 1 ####]\t\tmark: 00##\tquality: 0.98\treward: 2.78\tnumerosity: 1\n",
      "[##33 0 ####]\t\tmark: 00##\tquality: 0.95\treward: 2.23\tnumerosity: 3\n",
      "[##12 0 ####]\t\tmark: 00##\tquality: 0.98\treward: 1.44\tnumerosity: 1\n",
      "[##12 1 ####]\t\tmark: empty\tquality: 1.00\treward: 1.36\tnumerosity: 20\n",
      "[##43 1 ####]\t\tmark: 00##\tquality: 0.97\treward: 1.32\tnumerosity: 6\n",
      "[##43 0 ####]\t\tmark: empty\tquality: 1.00\treward: 1.22\tnumerosity: 20\n"
     ]
    }
   ],
   "source": [
    "@get_from_cache_or_run(cache_path=f'{cache_dir}/cart_pole/epsilon_greedy_single_run.dill')\n",
    "def cp_single_run():\n",
    "    cfg = Configuration(**(cp_base_params | {'action_selector': EpsilonGreedy}))\n",
    "    agent = ACS2(cfg)\n",
    "    agent.explore(cp_env_provider(buckets_v1), explore_trials)\n",
    "    return agent  # only interested in resulting population\n",
    "\n",
    "\n",
    "# execute run\n",
    "cp_agent = cp_single_run()\n",
    "\n",
    "reliable = [cl for cl in cp_agent.population if cl.is_reliable()]\n",
    "for cl in sorted(reliable, key=lambda cl: -cl.fitness):\n",
    "    print(\n",
    "        f'[{cl.condition} {cl.action} {cl.effect}]\\t\\tmark: {cl.mark}\\tquality: {cl.q:.2f}\\treward: {cl.r:.2f}\\tnumerosity: {cl.num}')"
   ]
  },
  {
   "cell_type": "markdown",
   "source": [
    "## Statistical verification\n",
    "\n",
    "```{admonition} Hypothesis testing\n",
    ":class: tip\n",
    "Here the best idea in my opinion would be to evaluate different discretization buckets combinations. But this requires a research and experiments on it own. Suggestion is to propose 4-5 reasonable configurations and distributions for the number of steps and classifiers count in each situation.\n",
    "```"
   ],
   "metadata": {
    "collapsed": false,
    "pycharm": {
     "name": "#%% md\n"
    }
   }
  },
  {
   "cell_type": "markdown",
   "source": [
    "## Observations\n",
    "Why bucketing was chosen by hand (problem with hyperparameter tuning)"
   ],
   "metadata": {
    "collapsed": false,
    "pycharm": {
     "name": "#%% md\n"
    }
   }
  },
  {
   "cell_type": "markdown",
   "metadata": {
    "pycharm": {
     "name": "#%% md\n"
    }
   },
   "source": [
    "---\n",
    "\n",
    "**Software packages used**"
   ]
  },
  {
   "cell_type": "code",
   "execution_count": 5,
   "metadata": {
    "pycharm": {
     "name": "#%%\n"
    }
   },
   "outputs": [
    {
     "data": {
      "text/plain": "<IPython.core.display.HTML object>",
      "text/html": "<details>\n<summary>Click to view session information</summary>\n<pre>\n-----\ngym                 0.21.0\nlcs                 NA\nmatplotlib          3.5.1\npandas              1.4.0\nsession_info        1.0.0\nsrc                 (embedded book's utils module)\n-----\n</pre>\n<details>\n<summary>Click to view modules imported as dependencies</summary>\n<pre>\nPIL                         8.4.0\nasttokens                   NA\nbackcall                    0.2.0\nbrotli                      NA\ncertifi                     2021.10.08\ncffi                        1.15.0\ncharset_normalizer          2.0.10\nclick                       7.1.2\ncloudpickle                 2.0.0\ncolorama                    0.4.4\ncolorful                    0.5.4\ncolorful_orig               0.5.4\ncryptography                36.0.1\ncycler                      0.10.0\ncython_runtime              NA\ndatabricks_cli              NA\ndateutil                    2.8.2\ndebugpy                     1.5.1\ndecorator                   5.1.1\ndefusedxml                  0.7.1\ndill                        0.3.4\nentrypoints                 0.3\nexecuting                   0.8.2\nfilelock                    3.4.2\ngoogle                      NA\ngrpc                        1.43.0\nhiredis                     2.0.0\nidna                        3.3\nimportlib_metadata          NA\nipykernel                   6.7.0\nipython_genutils            0.2.0\njedi                        0.18.1\nkiwisolver                  1.3.2\nmatplotlib_inline           NA\nmlflow                      1.23.1\nmpl_toolkits                NA\nmsgpack                     1.0.3\nnumpy                       1.22.1\npackaging                   21.3\nparso                       0.8.3\npexpect                     4.8.0\npickleshare                 0.7.5\npkg_resources               NA\nprompt_toolkit              3.0.26\npsutil                      5.9.0\nptyprocess                  0.7.0\npure_eval                   0.2.2\npydev_ipython               NA\npydevconsole                NA\npydevd                      2.6.0\npydevd_concurrency_analyser NA\npydevd_file_utils           NA\npydevd_plugins              NA\npydevd_tracing              NA\npygments                    2.11.2\npylab                       NA\npyparsing                   3.0.7\npytz                        2021.3\nray                         1.9.2\nredis                       4.1.2\nrequests                    2.27.1\nscipy                       1.7.3\nsetproctitle                1.2.2\nsetuptools                  60.5.0\nsix                         1.16.0\nsocks                       1.7.1\nsphinxcontrib               NA\nstack_data                  0.1.4\ntornado                     6.1\ntqdm                        4.62.3\ntraitlets                   5.1.1\ntyping_extensions           NA\nunicodedata2                NA\nurllib3                     1.26.8\nwcwidth                     0.2.5\nyaml                        6.0\nzipp                        NA\nzmq                         22.3.0\n</pre>\n</details> <!-- seems like this ends pre, so might as well be explicit -->\n<pre>\n-----\nIPython             8.0.1\njupyter_client      7.1.2\njupyter_core        4.9.1\nnotebook            6.4.8\n-----\nPython 3.9.10 | packaged by conda-forge | (main, Jan 28 2022, 19:23:19) [GCC 9.4.0]\nLinux-5.13.0-27-generic-x86_64-with-glibc2.31\n-----\nSession information updated at 2022-01-29 11:22\n</pre>\n</details>"
     },
     "execution_count": 5,
     "metadata": {},
     "output_type": "execute_result"
    }
   ],
   "source": [
    "import session_info\n",
    "\n",
    "session_info.show()"
   ]
  }
 ],
 "metadata": {
  "celltoolbar": "Tags",
  "kernelspec": {
   "display_name": "Python 3 (ipykernel)",
   "language": "python",
   "name": "python3"
  },
  "language_info": {
   "codemirror_mode": {
    "name": "ipython",
    "version": 3
   },
   "file_extension": ".py",
   "mimetype": "text/x-python",
   "name": "python",
   "nbconvert_exporter": "python",
   "pygments_lexer": "ipython3",
   "version": "3.9.6"
  }
 },
 "nbformat": 4,
 "nbformat_minor": 1
}