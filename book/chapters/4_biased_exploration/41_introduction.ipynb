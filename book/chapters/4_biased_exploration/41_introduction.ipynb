{
 "cells": [
  {
   "cell_type": "code",
   "execution_count": 1,
   "outputs": [],
   "source": [
    "# put custom scripts to module path\n",
    "import sys\n",
    "sys.path.append('../../..')\n",
    "\n",
    "import pathlib\n",
    "from src.decorators import repeat, get_from_cache_or_run\n",
    "\n",
    "import logging\n",
    "logging.basicConfig(level=logging.DEBUG, format='%(relativeCreated)6d %(threadName)s %(message)s')\n",
    "\n",
    "cache_dir = f'{pathlib.Path().absolute()}/cache'"
   ],
   "metadata": {
    "collapsed": false,
    "pycharm": {
     "name": "#%%\n"
    }
   }
  },
  {
   "cell_type": "markdown",
   "metadata": {
    "collapsed": true,
    "pycharm": {
     "name": "#%% md\n"
    }
   },
   "source": [
    "# Biased exploration\n",
    "Chapter goes here. This one is the interactive notebook."
   ]
  },
  {
   "cell_type": "code",
   "execution_count": 4,
   "outputs": [
    {
     "name": "stderr",
     "output_type": "stream",
     "text": [
      " 40546 MainThread Recomputing function and saving the output to /home/arc/Projects/pwr/phd/book/chapters/4_biased_exploration/cache/out.dill\n",
      " 40547 MainThread Running function in parallel 10 times\n",
      " 40547 ThreadPoolExecutor-1_0 STARTED\n",
      " 40548 ThreadPoolExecutor-1_1 STARTED\n",
      " 40548 ThreadPoolExecutor-1_2 STARTED\n",
      " 40549 ThreadPoolExecutor-1_3 STARTED\n",
      " 40549 ThreadPoolExecutor-1_4 STARTED\n",
      " 40550 ThreadPoolExecutor-1_5 STARTED\n",
      " 40551 ThreadPoolExecutor-1_6 STARTED\n",
      " 40551 ThreadPoolExecutor-1_7 STARTED\n",
      " 40552 ThreadPoolExecutor-1_8 STARTED\n",
      " 40552 ThreadPoolExecutor-1_9 STARTED\n",
      " 45551 ThreadPoolExecutor-1_0 FINISHED\n",
      " 45555 ThreadPoolExecutor-1_2 FINISHED\n",
      " 45556 ThreadPoolExecutor-1_1 FINISHED\n",
      " 45556 ThreadPoolExecutor-1_3 FINISHED\n",
      " 45559 ThreadPoolExecutor-1_6 FINISHED\n",
      " 45559 ThreadPoolExecutor-1_4 FINISHED\n",
      " 45559 ThreadPoolExecutor-1_5 FINISHED\n",
      " 45559 ThreadPoolExecutor-1_7 FINISHED\n",
      " 45567 ThreadPoolExecutor-1_8 FINISHED\n",
      " 45567 ThreadPoolExecutor-1_9 FINISHED\n"
     ]
    },
    {
     "data": {
      "text/plain": "[0.2591167984771081,\n 0.6848738028756292,\n 0.9255296381535819,\n 0.5915210071759313,\n 0.9509865714572838,\n 0.8008222389197648,\n 0.11383808926729277,\n 0.6838417547939901,\n 0.7485882409774817,\n 0.5634915473462363]"
     },
     "execution_count": 4,
     "metadata": {},
     "output_type": "execute_result"
    }
   ],
   "source": [
    "@get_from_cache_or_run(cache_path=f'{cache_dir}/out.dill')\n",
    "@repeat(num_times=10)\n",
    "def perform_experiment():\n",
    "    # ... heavy computations here\n",
    "    import random, time\n",
    "    logging.info('STARTED')\n",
    "    time.sleep(5)\n",
    "    logging.info('FINISHED')\n",
    "    return random.random()\n",
    "\n",
    "perform_experiment()"
   ],
   "metadata": {
    "collapsed": false,
    "pycharm": {
     "name": "#%%\n"
    }
   }
  },
  {
   "cell_type": "code",
   "execution_count": null,
   "outputs": [],
   "source": [],
   "metadata": {
    "collapsed": false,
    "pycharm": {
     "name": "#%%\n"
    }
   }
  }
 ],
 "metadata": {
  "kernelspec": {
   "display_name": "Python 3",
   "language": "python",
   "name": "python3"
  },
  "language_info": {
   "codemirror_mode": {
    "name": "ipython",
    "version": 2
   },
   "file_extension": ".py",
   "mimetype": "text/x-python",
   "name": "python",
   "nbconvert_exporter": "python",
   "pygments_lexer": "ipython2",
   "version": "2.7.6"
  }
 },
 "nbformat": 4,
 "nbformat_minor": 0
}