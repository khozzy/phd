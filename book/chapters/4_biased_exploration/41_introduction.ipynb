{
 "cells": [
  {
   "cell_type": "code",
   "execution_count": 1,
   "metadata": {
    "pycharm": {
     "name": "#%%\n"
    },
    "tags": [
     "hide-input"
    ]
   },
   "outputs": [],
   "source": [
    "import sys\n",
    "\n",
    "# put custom scripts to module path\n",
    "sys.path.append('../../..')"
   ]
  },
  {
   "cell_type": "code",
   "execution_count": 2,
   "metadata": {
    "pycharm": {
     "name": "#%%\n"
    },
    "tags": [
     "hide-input"
    ]
   },
   "outputs": [],
   "source": [
    "import logging\n",
    "\n",
    "logging.basicConfig(level=logging.WARN, format='%(relativeCreated)6d %(threadName)s %(message)s')\n",
    "\n",
    "import gym\n",
    "from typing import List\n",
    "import pandas as pd\n",
    "import matplotlib.pyplot as plt\n",
    "import matplotlib.ticker as mtick\n",
    "\n",
    "import pathlib\n",
    "from src.decorators import repeat, get_from_cache_or_run\n",
    "from src.metrics import parse_experiments_results, corridor_transition_knowledge, grid_transition_knowledge\n",
    "\n",
    "from lcs.agents.acs2 import Configuration, ACS2\n",
    "from lcs.metrics import population_metrics\n",
    "from lcs.strategies.action_selection import EpsilonGreedy, ActionDelay, KnowledgeArray\n",
    "\n",
    "import gym_corridor  # noqa: F401\n",
    "import gym_grid  # noqa: F401\n",
    "import gym_multiplexer  # noqa: F401\n",
    "\n",
    "plt.ioff()  # turn off interactive plotting\n",
    "\n",
    "cache_dir = f'{pathlib.Path().absolute()}/cache'\n",
    "plot_dir = f'{pathlib.Path().absolute()}/plots'"
   ]
  },
  {
   "cell_type": "code",
   "execution_count": 43,
   "metadata": {
    "pycharm": {
     "name": "#%%\n"
    },
    "tags": [
     "hide-input"
    ]
   },
   "outputs": [],
   "source": [
    "NUM_EXPERIMENTS = 5\n",
    "PLOT_DPI = 200\n",
    "\n",
    "# Specify unique colors for each line\n",
    "cmap = plt.get_cmap('jet_r')\n",
    "norm = plt.Normalize(vmin=0, vmax=4)\n",
    "\n",
    "# ACTION SELECTION COLORS\n",
    "COLORS = {\n",
    "    \"eg\": cmap(norm(0)),\n",
    "    \"ad\": cmap(norm(1)),\n",
    "    \"ka\": cmap(norm(2)),\n",
    "    \"oiq\": cmap(norm(3))\n",
    "}\n",
    "\n",
    "\n",
    "def run_experiment(env_provider, explore_trials, exploit_trials, **conf):\n",
    "    env = env_provider()\n",
    "    env.reset()\n",
    "\n",
    "    cfg = Configuration(**conf)\n",
    "\n",
    "    explorer = ACS2(cfg)\n",
    "    metrics_explore = explorer.explore(env, explore_trials)\n",
    "\n",
    "    exploiter = ACS2(cfg, explorer.population)\n",
    "    metrics_exploit = explorer.exploit(env, exploit_trials)\n",
    "\n",
    "    # Parse results into DataFrame\n",
    "    metrics_df = parse_experiments_results(metrics_explore, metrics_exploit, cfg.metrics_trial_frequency)\n",
    "\n",
    "    return metrics_df\n",
    "\n",
    "\n",
    "def run_alternating_experiment(env_provider, trials, **conf):\n",
    "    env = env_provider()\n",
    "    env.reset()\n",
    "\n",
    "    cfg = Configuration(**conf)\n",
    "\n",
    "    agent = ACS2(cfg)\n",
    "    metrics = agent.explore_exploit(env, trials)\n",
    "\n",
    "    # parse metrics\n",
    "    lst = [[d['trial'], d['reward'], d['population'], d['reliable']] for d in metrics]\n",
    "    df = pd.DataFrame(lst, columns=['trial', 'reward', 'population', 'reliable'])\n",
    "\n",
    "    # df = df.set_index('trial')\n",
    "    df['phase'] = df.index.map(lambda t: \"explore\" if t % 2 == 0 else \"exploit\")\n",
    "\n",
    "    return df\n",
    "\n",
    "\n",
    "def average_experiment_runs(runs_dfs: List[pd.DataFrame]) -> pd.DataFrame:\n",
    "    return pd.concat(runs_dfs).groupby(['trial', 'phase']).mean().reset_index(level='phase')\n",
    "\n",
    "\n",
    "def plot(epsilon_greedy_df, action_delay_df, knowledge_array_df, op_initial_df,\n",
    "         env_name,\n",
    "         num_explore_trials,\n",
    "         first_knowledge_trials,\n",
    "         first_population_trials,\n",
    "         population_ylim,\n",
    "         text_box_loc,\n",
    "         plot_filename):\n",
    "    fig = plt.figure(figsize=(14, 8))\n",
    "\n",
    "    # Layout\n",
    "    gs = fig.add_gridspec(2, 2, wspace=.25, hspace=.4)\n",
    "    ax1 = fig.add_subplot(gs[0, 0])\n",
    "    ax2 = fig.add_subplot(gs[0, 1])\n",
    "    ax3 = fig.add_subplot(gs[1, :])\n",
    "\n",
    "    # Global title\n",
    "    fig.suptitle(f'Performance of [{env_name}] environment', fontsize=24)\n",
    "\n",
    "    # Knowledge\n",
    "    epsilon_greedy_df['knowledge'][:first_knowledge_trials].plot(label='Epsilon Greedy', c=COLORS['eg'], ax=ax1)\n",
    "    action_delay_df['knowledge'][:first_knowledge_trials].plot(label='Action Delay', c=COLORS['ad'], ax=ax1)\n",
    "    knowledge_array_df['knowledge'][:first_knowledge_trials].plot(label='Knowledge Array', c=COLORS['ka'], ax=ax1)\n",
    "    op_initial_df['knowledge'][:first_knowledge_trials].plot(label='Optimistic Initial Quality', c=COLORS['oiq'],\n",
    "                                                             ax=ax1)\n",
    "\n",
    "    ax1.spines['top'].set_visible(False)\n",
    "    ax1.spines['right'].set_visible(False)\n",
    "    ax1.set_title('Knowledge')\n",
    "    ax1.set_xlabel('Trial')\n",
    "    ax1.set_ylabel('Knowledge')\n",
    "    ax1.axhline(y=100, color='black', linewidth=1, linestyle=\"--\")\n",
    "    ax1.yaxis.set_major_formatter(mtick.PercentFormatter())\n",
    "\n",
    "    # Population\n",
    "    epsilon_greedy_df['population'][:first_population_trials].plot(label='Epsilon Greedy', c=COLORS['eg'], ax=ax2)\n",
    "    action_delay_df['population'][:first_population_trials].plot(label='Action Delay', c=COLORS['ad'], ax=ax2)\n",
    "    knowledge_array_df['population'][:first_population_trials].plot(label='Knowledge Array', c=COLORS['ka'], ax=ax2)\n",
    "    op_initial_df['population'][:first_population_trials].plot(label='Optimistic Initial Quality', c=COLORS['oiq'],\n",
    "                                                               ax=ax2)\n",
    "\n",
    "    ax2.spines['top'].set_visible(False)\n",
    "    ax2.spines['right'].set_visible(False)\n",
    "    ax2.set_xlabel('Trial')\n",
    "    ax2.set_ylabel('Classifiers')\n",
    "    ax2.set_title('Classifiers Population')\n",
    "    ax2.set_ylim(population_ylim)\n",
    "    ax2.xaxis.set_major_formatter(mtick.FormatStrFormatter('%.0f'))\n",
    "    ax2.yaxis.set_major_formatter(mtick.FormatStrFormatter('%.0f'))\n",
    "\n",
    "    # Steps in trial\n",
    "    window = 3  # window for moving average\n",
    "    epsilon_greedy_df['steps_in_trial'].rolling(window=window).mean().plot(label='Epsilon Greedy', c=COLORS['eg'],\n",
    "                                                                           ax=ax3)\n",
    "    action_delay_df['steps_in_trial'].rolling(window=window).mean().plot(label='Action Delay', c=COLORS['ad'], ax=ax3)\n",
    "    knowledge_array_df['steps_in_trial'].rolling(window=window).mean().plot(label='Knowledge Array', c=COLORS['ka'],\n",
    "                                                                            ax=ax3)\n",
    "    op_initial_df['steps_in_trial'].rolling(window=window).mean().plot(label='Optimistic Initial Quality',\n",
    "                                                                       c=COLORS['oiq'], ax=ax3)\n",
    "\n",
    "    ax3.spines['top'].set_visible(False)\n",
    "    ax3.spines['right'].set_visible(False)\n",
    "    ax3.set_xlabel('Trial')\n",
    "    ax3.set_ylabel('Steps')\n",
    "    ax3.set_title('Steps in trial')\n",
    "    ax3.axvline(x=num_explore_trials, color='black', linewidth=1, linestyle=\"--\")\n",
    "    ax3.text(**text_box_loc, s=f'Moving average of {window} samples', style='italic',\n",
    "             bbox={'facecolor': 'red', 'alpha': 0.2, 'pad': 10})\n",
    "\n",
    "    # Create legend\n",
    "    handles, labels = ax3.get_legend_handles_labels()\n",
    "    fig.legend(handles, labels, loc='lower center', ncol=4)\n",
    "\n",
    "    # Save plot to file\n",
    "    fig.savefig(plot_filename, dpi=PLOT_DPI)"
   ]
  },
  {
   "cell_type": "markdown",
   "metadata": {
    "collapsed": true,
    "pycharm": {
     "name": "#%% md\n"
    }
   },
   "source": [
    "# Biased exploration\n",
    "Chapter goes here. This one is the interactive notebook."
   ]
  },
  {
   "cell_type": "markdown",
   "metadata": {
    "pycharm": {
     "name": "#%% md\n"
    }
   },
   "source": [
    "## Corridor"
   ]
  },
  {
   "cell_type": "code",
   "execution_count": 13,
   "metadata": {
    "pycharm": {
     "name": "#%%\n"
    },
    "tags": [
     "hide-input"
    ]
   },
   "outputs": [],
   "source": [
    "from src.observation_wrappers import CorridorObservationWrapper\n",
    "\n",
    "\n",
    "# Function for calculating relevant metrics\n",
    "def corridor_metrics(agent, env):\n",
    "    pop = agent.population\n",
    "    metrics = {\n",
    "        'knowledge': corridor_transition_knowledge(pop, env)\n",
    "    }\n",
    "    metrics.update(population_metrics(pop, env))\n",
    "    return metrics\n",
    "\n",
    "\n",
    "def corridor_env_provider():\n",
    "    return CorridorObservationWrapper(gym.make(f'corridor-20-v0'))\n",
    "\n",
    "\n",
    "corridor_base_params = {\n",
    "    \"classifier_length\": 1,\n",
    "    \"number_of_possible_actions\": 2,\n",
    "    \"epsilon\": 0.8,\n",
    "    \"beta\": 0.2,\n",
    "    \"gamma\": 0.95,\n",
    "    \"initial_q\": 0.5,\n",
    "    \"theta_exp\": 50,\n",
    "    \"theta_ga\": 50,\n",
    "    \"do_ga\": True,\n",
    "    \"mu\": 0.03,\n",
    "    \"u_max\": 1,\n",
    "    \"metrics_trial_frequency\": 1,\n",
    "    \"user_metrics_collector_fcn\": corridor_metrics\n",
    "}\n",
    "\n",
    "# Start experiments\n",
    "corridor_explore_trials, corridor_exploit_trials = 60, 20\n",
    "\n",
    "\n",
    "@get_from_cache_or_run(cache_path=f'{cache_dir}/corridor_epsilon_greedy.dill')\n",
    "@repeat(num_times=NUM_EXPERIMENTS)\n",
    "def corridor_epsilon_greedy():\n",
    "    return run_experiment(corridor_env_provider,\n",
    "                          corridor_explore_trials,\n",
    "                          corridor_exploit_trials,\n",
    "                          **(corridor_base_params | {'action_selector': EpsilonGreedy}))\n",
    "\n",
    "\n",
    "@get_from_cache_or_run(cache_path=f'{cache_dir}/corridor_action_delay.dill')\n",
    "@repeat(num_times=NUM_EXPERIMENTS)\n",
    "def corridor_action_delay():\n",
    "    return run_experiment(corridor_env_provider,\n",
    "                          corridor_explore_trials,\n",
    "                          corridor_exploit_trials,\n",
    "                          **(corridor_base_params | {'action_selector': ActionDelay,\n",
    "                                                     'biased_exploration_prob': 0.5}))\n",
    "\n",
    "\n",
    "@get_from_cache_or_run(cache_path=f'{cache_dir}/corridor_knowledge_array.dill')\n",
    "@repeat(num_times=NUM_EXPERIMENTS)\n",
    "def corridor_knowledge_array():\n",
    "    return run_experiment(corridor_env_provider,\n",
    "                          corridor_explore_trials,\n",
    "                          corridor_exploit_trials,\n",
    "                          **(corridor_base_params | {'action_selector': KnowledgeArray,\n",
    "                                                     'biased_exploration_prob': 0.5}))\n",
    "\n",
    "\n",
    "@get_from_cache_or_run(cache_path=f'{cache_dir}/corridor_oiq.dill')\n",
    "@repeat(num_times=NUM_EXPERIMENTS)\n",
    "def corridor_oiq():\n",
    "    return run_experiment(corridor_env_provider,\n",
    "                          corridor_explore_trials,\n",
    "                          corridor_exploit_trials,\n",
    "                          **(corridor_base_params | {'action_selector': EpsilonGreedy,\n",
    "                                                     'biased_exploration_prob': 0.8}))\n",
    "\n",
    "\n",
    "# Get the NUM_EXPERIMENTS results\n",
    "corridor_epsilon_greedy_dfs = corridor_epsilon_greedy()\n",
    "corridor_action_delay_dfs = corridor_action_delay()\n",
    "corridor_knowledge_array_dfs = corridor_knowledge_array()\n",
    "corridor_oiq_dfs = corridor_oiq()"
   ]
  },
  {
   "cell_type": "code",
   "execution_count": 20,
   "metadata": {
    "pycharm": {
     "name": "#%%\n"
    },
    "tags": [
     "hide-input"
    ]
   },
   "outputs": [],
   "source": [
    "plot(\n",
    "    average_experiment_runs(corridor_epsilon_greedy_dfs),\n",
    "    average_experiment_runs(corridor_action_delay_dfs),\n",
    "    average_experiment_runs(corridor_knowledge_array_dfs),\n",
    "    average_experiment_runs(corridor_oiq_dfs),\n",
    "    env_name='Corridor-20',\n",
    "    num_explore_trials=corridor_explore_trials,\n",
    "    first_knowledge_trials=30,\n",
    "    first_population_trials=20,\n",
    "    population_ylim=(17, 40),\n",
    "    text_box_loc={\"x\": 63, \"y\": 120},\n",
    "    plot_filename=f'{plot_dir}/corridor-performance.png'\n",
    ")"
   ]
  },
  {
   "cell_type": "markdown",
   "metadata": {
    "pycharm": {
     "name": "#%% md\n"
    }
   },
   "source": [
    ":::{figure-md} corridor-fig\n",
    ":class: full-width\n",
    "<img src=\"plots/corridor-performance.png\">\n",
    "\n",
    "Performance in Corridor environment\n",
    ":::"
   ]
  },
  {
   "cell_type": "markdown",
   "metadata": {
    "pycharm": {
     "name": "#%% md\n"
    }
   },
   "source": [
    "to jest tekst"
   ]
  },
  {
   "cell_type": "markdown",
   "metadata": {
    "pycharm": {
     "name": "#%% md\n"
    }
   },
   "source": [
    "## Grid"
   ]
  },
  {
   "cell_type": "code",
   "execution_count": 23,
   "metadata": {
    "pycharm": {
     "name": "#%%\n"
    },
    "tags": [
     "hide-input"
    ]
   },
   "outputs": [],
   "source": [
    "# Function for calculating relevant metrics\n",
    "def grid_metrics(agent, env):\n",
    "    pop = agent.population\n",
    "    metrics = {\n",
    "        'knowledge': grid_transition_knowledge(pop, env)\n",
    "    }\n",
    "    metrics.update(population_metrics(pop, env))\n",
    "    return metrics\n",
    "\n",
    "\n",
    "def grid_env_provider():\n",
    "    return gym.make(f'grid-20-v0')\n",
    "\n",
    "\n",
    "grid_base_params = {\n",
    "    \"classifier_length\": 2,\n",
    "    \"number_of_possible_actions\": 4,\n",
    "    \"epsilon\": 0.8,\n",
    "    \"beta\": 0.2,\n",
    "    \"gamma\": 0.95,\n",
    "    \"initial_q\": 0.5,\n",
    "    \"theta_exp\": 50,\n",
    "    \"theta_ga\": 50,\n",
    "    \"do_ga\": True,\n",
    "    \"mu\": 0.03,\n",
    "    \"u_max\": 1,\n",
    "    \"metrics_trial_frequency\": 1,\n",
    "    \"user_metrics_collector_fcn\": grid_metrics\n",
    "}\n",
    "\n",
    "# Start experiments\n",
    "grid_explore_trials, grid_exploit_trials = 60, 20\n",
    "\n",
    "\n",
    "@get_from_cache_or_run(cache_path=f'{cache_dir}/grid_epsilon_greedy.dill')\n",
    "@repeat(num_times=NUM_EXPERIMENTS)\n",
    "def grid_epsilon_greedy():\n",
    "    return run_experiment(grid_env_provider,\n",
    "                          grid_explore_trials,\n",
    "                          grid_exploit_trials,\n",
    "                          **(grid_base_params | {'action_selector': EpsilonGreedy}))\n",
    "\n",
    "\n",
    "@get_from_cache_or_run(cache_path=f'{cache_dir}/grid_action_delay.dill')\n",
    "@repeat(num_times=NUM_EXPERIMENTS)\n",
    "def grid_action_delay():\n",
    "    return run_experiment(grid_env_provider,\n",
    "                          grid_explore_trials,\n",
    "                          grid_exploit_trials,\n",
    "                          **(grid_base_params | {'action_selector': ActionDelay, 'biased_exploration_prob': 0.5}))\n",
    "\n",
    "\n",
    "@get_from_cache_or_run(cache_path=f'{cache_dir}/grid_knowledge_array.dill')\n",
    "@repeat(num_times=NUM_EXPERIMENTS)\n",
    "def grid_knowledge_array():\n",
    "    return run_experiment(grid_env_provider,\n",
    "                          grid_explore_trials,\n",
    "                          grid_exploit_trials,\n",
    "                          **(grid_base_params | {'action_selector': KnowledgeArray, 'biased_exploration_prob': 0.5}))\n",
    "\n",
    "\n",
    "@get_from_cache_or_run(cache_path=f'{cache_dir}/grid_oiq.dill')\n",
    "@repeat(num_times=NUM_EXPERIMENTS)\n",
    "def grid_oiq():\n",
    "    return run_experiment(grid_env_provider,\n",
    "                          grid_explore_trials,\n",
    "                          grid_exploit_trials,\n",
    "                          **(grid_base_params | {'action_selector': EpsilonGreedy, 'biased_exploration_prob': 0.8}))\n",
    "\n",
    "\n",
    "grid_epsilon_greedy_dfs = grid_epsilon_greedy()\n",
    "grid_action_delay_dfs = grid_action_delay()\n",
    "grid_knowledge_array_dfs = grid_knowledge_array()\n",
    "grid_oiq_dfs = grid_oiq()"
   ]
  },
  {
   "cell_type": "code",
   "execution_count": 24,
   "metadata": {
    "pycharm": {
     "name": "#%%\n"
    },
    "tags": [
     "hide-input"
    ]
   },
   "outputs": [],
   "source": [
    "plot(\n",
    "    average_experiment_runs(grid_epsilon_greedy_dfs),\n",
    "    average_experiment_runs(grid_action_delay_dfs),\n",
    "    average_experiment_runs(grid_knowledge_array_dfs),\n",
    "    average_experiment_runs(grid_oiq_dfs),\n",
    "    env_name='Grid-20',\n",
    "    num_explore_trials=grid_explore_trials,\n",
    "    first_knowledge_trials=10,\n",
    "    first_population_trials=30,\n",
    "    population_ylim=(70, 105),\n",
    "    text_box_loc={\"x\": 63, \"y\": 700},\n",
    "    plot_filename=f'{plot_dir}/grid-performance.png'\n",
    ")"
   ]
  },
  {
   "cell_type": "markdown",
   "metadata": {
    "pycharm": {
     "name": "#%% md\n"
    }
   },
   "source": [
    ":::{figure-md} grid-fig\n",
    ":class: full-width\n",
    "<img src=\"plots/grid-performance.png\">\n",
    "\n",
    "Performance in Grid environment\n",
    ":::"
   ]
  },
  {
   "cell_type": "markdown",
   "metadata": {
    "pycharm": {
     "name": "#%% md\n"
    }
   },
   "source": [
    "to jest tekst2"
   ]
  },
  {
   "cell_type": "markdown",
   "metadata": {
    "pycharm": {
     "name": "#%% md\n"
    }
   },
   "source": [
    "## rMPX"
   ]
  },
  {
   "cell_type": "code",
   "execution_count": 39,
   "metadata": {
    "pycharm": {
     "name": "#%%\n"
    },
    "tags": [
     "hide-input"
    ]
   },
   "outputs": [],
   "source": [
    "from src.observation_wrappers import BinnedObservationWrapper\n",
    "\n",
    "rmpx_bits = 6  # available sizes: 3, 6\n",
    "rmpx_discretization_bins = 6\n",
    "\n",
    "\n",
    "def rmpx_metrics(agent, env):\n",
    "    pop = agent.population\n",
    "    metrics = {\n",
    "        'reliable': len([cl for cl in pop if cl.is_reliable()])\n",
    "    }\n",
    "    metrics.update(population_metrics(pop, env))\n",
    "    return metrics\n",
    "\n",
    "\n",
    "def rmpx_env_provider():\n",
    "    return BinnedObservationWrapper(gym.make(f'real-multiplexer-{rmpx_bits}bit-v0'), rmpx_discretization_bins)\n",
    "\n",
    "\n",
    "rmpx_base_params = {\n",
    "    \"classifier_length\": rmpx_bits + 1,\n",
    "    \"number_of_possible_actions\": 2,\n",
    "    \"epsilon\": 0.8,\n",
    "    \"beta\": 0.2,\n",
    "    \"gamma\": 0.95,\n",
    "    \"initial_q\": 0.5,\n",
    "    \"theta_exp\": 50,\n",
    "    \"theta_ga\": 50,\n",
    "    \"do_ga\": True,\n",
    "    \"chi\": 0.0,  # do not cross-over\n",
    "    \"mu\": 0.03,\n",
    "    \"u_max\": 4,\n",
    "    \"metrics_trial_frequency\": 1,\n",
    "    \"user_metrics_collector_fcn\": rmpx_metrics\n",
    "}\n",
    "\n",
    "# Start experiments\n",
    "rmpx_trials = 2 * 10000  # explore-exploit-explore-...\n",
    "\n",
    "\n",
    "@get_from_cache_or_run(cache_path=f'{cache_dir}/rmpx/epsilon_greedy.dill')\n",
    "@repeat(num_times=NUM_EXPERIMENTS)\n",
    "def rmpx_epsilon_greedy():\n",
    "    return run_alternating_experiment(rmpx_env_provider,\n",
    "                                      rmpx_trials,\n",
    "                                      **(rmpx_base_params | {'action_selector': EpsilonGreedy}))\n",
    "\n",
    "@get_from_cache_or_run(cache_path=f'{cache_dir}/rmpx/action_delay.dill')\n",
    "@repeat(num_times=NUM_EXPERIMENTS)\n",
    "def rmpx_action_delay():\n",
    "    return run_alternating_experiment(rmpx_env_provider,\n",
    "                          rmpx_trials,\n",
    "                          **(rmpx_base_params | {'action_selector': ActionDelay, 'biased_exploration_prob': 0.5}))\n",
    "\n",
    "@get_from_cache_or_run(cache_path=f'{cache_dir}/rmpx/knowledge_array.dill')\n",
    "@repeat(num_times=NUM_EXPERIMENTS)\n",
    "def rmpx_knowledge_array():\n",
    "    return run_alternating_experiment(rmpx_env_provider,\n",
    "                          rmpx_trials,\n",
    "                          **(rmpx_base_params | {'action_selector': KnowledgeArray, 'biased_exploration_prob': 0.5}))\n",
    "\n",
    "@get_from_cache_or_run(cache_path=f'{cache_dir}/rmpx/oiq.dill')\n",
    "@repeat(num_times=NUM_EXPERIMENTS)\n",
    "def rmpx_oiq():\n",
    "    return run_alternating_experiment(rmpx_env_provider,\n",
    "                          rmpx_trials,\n",
    "                          **(rmpx_base_params | {'action_selector': EpsilonGreedy, 'biased_exploration_prob': 0.8}))\n",
    "\n",
    "rmpx_epsilon_greedy_dfs = rmpx_epsilon_greedy()  # 360 sek / it\n",
    "rmpx_action_delay_dfs = rmpx_action_delay()\n",
    "rmpx_knowledge_array_dfs = rmpx_knowledge_array()\n",
    "rmpx_oiq_dfs = rmpx_oiq()"
   ]
  },
  {
   "cell_type": "code",
   "execution_count": 44,
   "metadata": {
    "pycharm": {
     "name": "#%%\n"
    },
    "tags": [
     "hide-input"
    ]
   },
   "outputs": [],
   "source": [
    "def plot_rmpx(epsilon_greedy_df, action_delay_df, knowledge_array_df, op_initial_df, env_name, bins):\n",
    "\n",
    "    def plot_by_phase(df, window, label, color, ax):\n",
    "        explore_df = df[df['phase'] == 'explore']\n",
    "        exploit_df = df[df['phase'] == 'exploit']\n",
    "\n",
    "        explore_df.reset_index(inplace=True)\n",
    "        exploit_df.reset_index(inplace=True)\n",
    "\n",
    "        explore_df['reward'].rolling(window=window).mean().plot(label=label, color=color, ls='--', alpha=0.2, ax=ax)\n",
    "        exploit_df['reward'].rolling(window=window).mean().plot(label=label, color=color, ax=ax)\n",
    "\n",
    "    fig = plt.figure(figsize=(14, 10))\n",
    "\n",
    "    # Plots layout\n",
    "    gs = fig.add_gridspec(2,1, hspace=.8)\n",
    "    ax1 = fig.add_subplot(gs[0])\n",
    "    ax2 = fig.add_subplot(gs[1])\n",
    "\n",
    "    # Global title\n",
    "    fig.suptitle(f'Performance of [{env_name}] environment discretized with {bins} bins', fontsize=24)\n",
    "\n",
    "    # Each axis\n",
    "    ma_window = 500  # moving average window\n",
    "\n",
    "    # Average reward\n",
    "    plot_by_phase(epsilon_greedy_df, ma_window, 'Epsilon Greedy', COLORS['eg'], ax1)\n",
    "    plot_by_phase(action_delay_df, ma_window, 'Action Delay', COLORS['ad'], ax1)\n",
    "    plot_by_phase(knowledge_array_df, ma_window, 'Knowledge Array', COLORS['ka'], ax1)\n",
    "    plot_by_phase(op_initial_df, ma_window, 'Optimistic Initial Quality', COLORS['oiq'], ax1)\n",
    "\n",
    "    ax1.spines['top'].set_visible(False)\n",
    "    ax1.spines['right'].set_visible(False)\n",
    "    ax1.set_title('Average Reward')\n",
    "    ax1.set_xlabel('Trial')\n",
    "    ax1.set_ylabel('Reward')\n",
    "    ax1.set_ylim(300, 1050)\n",
    "    ax1.axhline(y=1000, color='black', linewidth=1, linestyle=\"--\")\n",
    "\n",
    "    # Population\n",
    "    epsilon_greedy_df['reliable'].rolling(window=ma_window).mean().plot(label='Epsilon Greedy', c=COLORS['eg'], ax=ax2)\n",
    "    action_delay_df['reliable'].rolling(window=ma_window).mean().plot(label='Action Delay', c=COLORS['ad'], ax=ax2)\n",
    "    knowledge_array_df['reliable'].rolling(window=ma_window).mean().plot(label='Knowledge Array', c=COLORS['ka'], ax=ax2)\n",
    "    op_initial_df['reliable'].rolling(window=ma_window).mean().plot(label='Optimistic Initial Quality', c=COLORS['oiq'], ax=ax2)\n",
    "\n",
    "    ax2.spines['top'].set_visible(False)\n",
    "    ax2.spines['right'].set_visible(False)\n",
    "    ax2.set_xlabel('Trial')\n",
    "    ax2.set_ylabel('Classifiers count')\n",
    "    ax2.set_title('Reliable Classifiers')\n",
    "    ax2.xaxis.set_major_formatter(mtick.FormatStrFormatter('%.0f'))\n",
    "    ax2.yaxis.set_major_formatter(mtick.FormatStrFormatter('%.0f'))\n",
    "\n",
    "    # Create legend\n",
    "    handles, labels = ax2.get_legend_handles_labels()\n",
    "    fig.legend(handles, labels, loc='lower center', ncol=4)\n",
    "\n",
    "    # Save plot to file\n",
    "    fig.savefig(f'{plot_dir}/rmpx-performance.png', dpi=PLOT_DPI)\n",
    "\n",
    "plot_rmpx(\n",
    "    average_experiment_runs(rmpx_epsilon_greedy_dfs),\n",
    "    average_experiment_runs(rmpx_action_delay_dfs),\n",
    "    average_experiment_runs(rmpx_knowledge_array_dfs),\n",
    "    average_experiment_runs(rmpx_oiq_dfs),\n",
    "    env_name=rmpx_env_provider().unwrapped.spec.id,\n",
    "    bins=rmpx_discretization_bins\n",
    ")"
   ]
  },
  {
   "cell_type": "markdown",
   "metadata": {
    "pycharm": {
     "name": "#%% md\n"
    }
   },
   "source": [
    ":::{figure-md} rmpx-fig\n",
    ":class: full-width\n",
    "<img src=\"plots/rmpx-performance.png\">\n",
    "\n",
    "Performance in rMPX environment\n",
    ":::"
   ]
  }
 ],
 "metadata": {
  "celltoolbar": "Tags",
  "kernelspec": {
   "display_name": "Python 3 (ipykernel)",
   "language": "python",
   "name": "python3"
  },
  "language_info": {
   "codemirror_mode": {
    "name": "ipython",
    "version": 3
   },
   "file_extension": ".py",
   "mimetype": "text/x-python",
   "name": "python",
   "nbconvert_exporter": "python",
   "pygments_lexer": "ipython3",
   "version": "3.9.6"
  }
 },
 "nbformat": 4,
 "nbformat_minor": 1
}