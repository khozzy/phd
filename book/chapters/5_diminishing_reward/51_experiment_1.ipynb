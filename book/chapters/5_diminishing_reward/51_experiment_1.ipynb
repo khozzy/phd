{
 "cells": [
  {
   "cell_type": "code",
   "execution_count": 1,
   "metadata": {
    "pycharm": {
     "name": "#%%\n"
    },
    "tags": [
     "hide-input"
    ]
   },
   "outputs": [],
   "source": [
    "import sys\n",
    "\n",
    "# put custom scripts to module path\n",
    "sys.path.append('../../..')"
   ]
  },
  {
   "cell_type": "code",
   "execution_count": 2,
   "metadata": {
    "pycharm": {
     "name": "#%%\n"
    },
    "tags": [
     "hide-input"
    ]
   },
   "outputs": [],
   "source": [
    "import matplotlib.pyplot as plt\n",
    "from matplotlib.ticker import MultipleLocator, FormatStrFormatter\n",
    "\n",
    "import numpy as np\n",
    "import pandas as pd\n",
    "import pathlib\n",
    "import gym\n",
    "import gym_corridor  # noqa: F401\n",
    "\n",
    "from lcs import Perception\n",
    "from lcs.metrics import population_metrics\n",
    "\n",
    "from src.observation_wrappers import CorridorObservationWrapper\n",
    "from src.runner import run_experiments_alternating\n",
    "from src.decorators import repeat, get_from_cache_or_run\n",
    "from src.basic_rl import run_q_learning_alternating, run_r_learning_alternating, qlearning, rlearning\n",
    "from src.visualization import diminishing_reward_colors, PLOT_DPI\n",
    "from src.payoff_landscape import get_all_state_action, plot_payoff_landscape\n",
    "\n",
    "from typing import List, Dict\n",
    "\n",
    "plt.ioff()  # turn off interactive plotting\n",
    "plt.style.use('../../../src/phd.mplstyle')\n",
    "\n",
    "cache_dir = f'{pathlib.Path().absolute()}/cache'\n",
    "plot_dir = f'{pathlib.Path().absolute()}/plots'\n",
    "\n",
    "\n",
    "def common_metrics(agent, env):\n",
    "    metrics = {}\n",
    "\n",
    "    pop = agent.get_population()\n",
    "    agent_name = agent.__class__.__name__\n",
    "\n",
    "    if hasattr(agent, 'rho'):\n",
    "        metrics['rho'] = agent.rho\n",
    "        agent_name += \"_v\" + agent.cfg.rho_update_version\n",
    "    else:\n",
    "        metrics['rho'] = 0\n",
    "\n",
    "    metrics['agent'] = agent_name\n",
    "    metrics['reliable'] = len([cl for cl in pop if cl.is_reliable()])\n",
    "\n",
    "    metrics.update(population_metrics(pop, env))\n",
    "\n",
    "    return metrics\n",
    "\n",
    "\n",
    "def average_experiment_runs(run_df: pd.DataFrame) -> pd.DataFrame:\n",
    "    return run_df.groupby(['agent', 'trial', 'phase']).mean().reset_index(level='phase')"
   ]
  },
  {
   "cell_type": "markdown",
   "metadata": {
    "collapsed": true,
    "pycharm": {
     "name": "#%% md\n"
    }
   },
   "source": [
    "# Experiment 1 - Corridor environment"
   ]
  },
  {
   "cell_type": "code",
   "execution_count": 3,
   "metadata": {
    "pycharm": {
     "name": "#%%\n"
    },
    "tags": [
     "hide-input"
    ]
   },
   "outputs": [
    {
     "data": {
      "text/html": [
       "<div>\n",
       "<style scoped>\n",
       "    .dataframe tbody tr th:only-of-type {\n",
       "        vertical-align: middle;\n",
       "    }\n",
       "\n",
       "    .dataframe tbody tr th {\n",
       "        vertical-align: top;\n",
       "    }\n",
       "\n",
       "    .dataframe thead th {\n",
       "        text-align: right;\n",
       "    }\n",
       "</style>\n",
       "<table border=\"1\" class=\"dataframe\">\n",
       "  <thead>\n",
       "    <tr style=\"text-align: right;\">\n",
       "      <th></th>\n",
       "      <th></th>\n",
       "      <th>phase</th>\n",
       "      <th>steps_in_trial</th>\n",
       "      <th>rho</th>\n",
       "      <th>population</th>\n",
       "      <th>reliable</th>\n",
       "    </tr>\n",
       "    <tr>\n",
       "      <th>agent</th>\n",
       "      <th>trial</th>\n",
       "      <th></th>\n",
       "      <th></th>\n",
       "      <th></th>\n",
       "      <th></th>\n",
       "      <th></th>\n",
       "    </tr>\n",
       "  </thead>\n",
       "  <tbody>\n",
       "    <tr>\n",
       "      <th rowspan=\"5\" valign=\"top\">AACS2_v1</th>\n",
       "      <th>1</th>\n",
       "      <td>exploit</td>\n",
       "      <td>117.6</td>\n",
       "      <td>0.00</td>\n",
       "      <td>0.0</td>\n",
       "      <td>0.0</td>\n",
       "    </tr>\n",
       "    <tr>\n",
       "      <th>2</th>\n",
       "      <td>explore</td>\n",
       "      <td>199.9</td>\n",
       "      <td>0.00</td>\n",
       "      <td>16.0</td>\n",
       "      <td>13.9</td>\n",
       "    </tr>\n",
       "    <tr>\n",
       "      <th>3</th>\n",
       "      <td>exploit</td>\n",
       "      <td>136.1</td>\n",
       "      <td>0.00</td>\n",
       "      <td>16.0</td>\n",
       "      <td>13.9</td>\n",
       "    </tr>\n",
       "    <tr>\n",
       "      <th>4</th>\n",
       "      <td>explore</td>\n",
       "      <td>116.1</td>\n",
       "      <td>0.02</td>\n",
       "      <td>22.8</td>\n",
       "      <td>18.8</td>\n",
       "    </tr>\n",
       "    <tr>\n",
       "      <th>5</th>\n",
       "      <td>exploit</td>\n",
       "      <td>125.4</td>\n",
       "      <td>0.02</td>\n",
       "      <td>22.8</td>\n",
       "      <td>18.8</td>\n",
       "    </tr>\n",
       "  </tbody>\n",
       "</table>\n",
       "</div>"
      ],
      "text/plain": [
       "                  phase  steps_in_trial   rho  population  reliable\n",
       "agent    trial                                                     \n",
       "AACS2_v1 1      exploit           117.6  0.00         0.0       0.0\n",
       "         2      explore           199.9  0.00        16.0      13.9\n",
       "         3      exploit           136.1  0.00        16.0      13.9\n",
       "         4      explore           116.1  0.02        22.8      18.8\n",
       "         5      exploit           125.4  0.02        22.8      18.8"
      ]
     },
     "execution_count": 3,
     "metadata": {},
     "output_type": "execute_result"
    }
   ],
   "source": [
    "# Params\n",
    "learning_rate = 0.8\n",
    "discount_factor = 0.95\n",
    "epsilon = 0.2\n",
    "zeta = 0.0001\n",
    "\n",
    "\n",
    "def corridor_env_provider():\n",
    "    return CorridorObservationWrapper(gym.make(f'corridor-20-v0'))\n",
    "\n",
    "\n",
    "# Set ACS2/AACS2 configuration parameter dictionary\n",
    "basic_cfg = {\n",
    "    'perception_bits': 1,\n",
    "    'possible_actions': 2,\n",
    "    'do_ga': False,\n",
    "    'beta': learning_rate,\n",
    "    'epsilon': epsilon,\n",
    "    'gamma': discount_factor,\n",
    "    'zeta': zeta,\n",
    "    'user_metrics_collector_fcn': common_metrics,\n",
    "    'biased_exploration_prob': 0,\n",
    "    'metrics_trial_freq': 1\n",
    "}\n",
    "\n",
    "NUM_EXPERIMENTS = 10\n",
    "trials = 10_000\n",
    "\n",
    "\n",
    "@get_from_cache_or_run(cache_path=f'{cache_dir}/corridor/acs2.dill')\n",
    "@repeat(num_times=NUM_EXPERIMENTS)\n",
    "def run_acs2_in_corridor():\n",
    "    return run_experiments_alternating(corridor_env_provider, trials, basic_cfg)\n",
    "\n",
    "\n",
    "@get_from_cache_or_run(cache_path=f'{cache_dir}/corridor/qlearning.dill')\n",
    "def run_qlearning_in_corridor():\n",
    "    corridor_env = corridor_env_provider()\n",
    "    init_Q = np.zeros((corridor_env.observation_space.n, corridor_env.action_space.n))\n",
    "    return run_q_learning_alternating(NUM_EXPERIMENTS, trials, corridor_env, epsilon, learning_rate, discount_factor,\n",
    "                                      init_Q, perception_to_state_mapper=lambda p: int(p[0]))\n",
    "\n",
    "\n",
    "@get_from_cache_or_run(cache_path=f'{cache_dir}/corridor/rlearning.dill')\n",
    "def run_rlearning_in_corridor():\n",
    "    corridor_env = corridor_env_provider()\n",
    "    init_R = np.zeros((corridor_env.observation_space.n, corridor_env.action_space.n))\n",
    "    return run_r_learning_alternating(NUM_EXPERIMENTS, trials, corridor_env, epsilon, learning_rate, zeta, init_R,\n",
    "                                      perception_to_state_mapper=lambda p: int(p[0]))\n",
    "\n",
    "\n",
    "# run computations\n",
    "acs2_runs_details = run_acs2_in_corridor()\n",
    "q_learning_metrics = run_qlearning_in_corridor()\n",
    "r_learning_metrics = run_rlearning_in_corridor()\n",
    "\n",
    "# average runs and create aggregated metrics data frame\n",
    "acs2_metrics = [m_df for _, _, _, m_df in acs2_runs_details]\n",
    "\n",
    "agg_df = pd.concat([\n",
    "    average_experiment_runs(pd.concat(acs2_metrics)),\n",
    "    average_experiment_runs(pd.DataFrame(q_learning_metrics)),\n",
    "    average_experiment_runs(pd.DataFrame(r_learning_metrics))]\n",
    ")"
   ]
  },
  {
   "cell_type": "code",
   "execution_count": 4,
   "metadata": {
    "pycharm": {
     "name": "#%%\n"
    },
    "tags": [
     "hide-input"
    ]
   },
   "outputs": [],
   "source": [
    "def plot_pop_and_rho(df, plot_filename=None):\n",
    "    colors = diminishing_reward_colors()\n",
    "\n",
    "    expl_df = df[df['phase'] == 'exploit']\n",
    "\n",
    "    fig, axs = plt.subplots(2, 1, figsize=(18, 16), sharex=True)\n",
    "    xmax = trials / 2\n",
    "\n",
    "    # Steps in trial plot\n",
    "    for alg in ['ACS2', 'AACS2_v1', 'AACS2_v2', 'Q-Learning', 'R-Learning']:\n",
    "        alg_df = expl_df.loc[alg]\n",
    "        idx = pd.Index(name='exploit trial', data=np.arange(1, len(alg_df) + 1))\n",
    "        alg_df.set_index(idx, inplace=True)\n",
    "\n",
    "        alg_df['steps_in_trial'].rolling(window=250).mean().plot(ax=axs[0], label=alg, linewidth=2, color=colors[alg])\n",
    "\n",
    "    axs[0].set_xlim(0, xmax)\n",
    "    axs[0].set_xlabel(\"Exploit trial\")\n",
    "    axs[0].xaxis.set_major_locator(MultipleLocator(500))\n",
    "    axs[0].xaxis.set_minor_locator(MultipleLocator(100))\n",
    "    axs[0].xaxis.set_major_formatter(FormatStrFormatter('%1.0f'))\n",
    "    axs[0].xaxis.set_tick_params(which='major', size=10, width=2, direction='in')\n",
    "    axs[0].xaxis.set_tick_params(which='minor', size=5, width=1, direction='in')\n",
    "\n",
    "    axs[0].set_ylabel(\"Number of steps\")\n",
    "    axs[0].set_yscale('log')\n",
    "    axs[0].set_title('Steps in trial')\n",
    "    axs[0].legend(loc='upper right', frameon=False)\n",
    "\n",
    "    # Rho plot\n",
    "    for alg in ['AACS2_v1', 'AACS2_v2', 'R-Learning']:\n",
    "        alg_df = expl_df.loc[alg]\n",
    "        idx = pd.Index(name='exploit trial', data=np.arange(1, len(alg_df) + 1))\n",
    "        alg_df.set_index(idx, inplace=True)\n",
    "\n",
    "        alg_df['rho'].rolling(window=1).mean().plot(ax=axs[1], label=alg, linewidth=2, color=colors[alg])\n",
    "\n",
    "    axs[1].set_xlim(0, xmax)\n",
    "    axs[1].set_xlabel(\"Exploit trial\")\n",
    "    axs[1].xaxis.set_major_locator(MultipleLocator(500))\n",
    "    axs[1].xaxis.set_minor_locator(MultipleLocator(100))\n",
    "    axs[1].xaxis.set_major_formatter(FormatStrFormatter('%1.0f'))\n",
    "    axs[1].xaxis.set_tick_params(which='major', size=10, width=2, direction='in')\n",
    "    axs[1].xaxis.set_tick_params(which='minor', size=5, width=1, direction='in')\n",
    "\n",
    "    axs[1].set_ylabel(r\"$\\mathregular{\\rho}$\")\n",
    "    axs[1].yaxis.set_major_locator(MultipleLocator(25))\n",
    "    axs[1].yaxis.set_minor_locator(MultipleLocator(5))\n",
    "    axs[1].yaxis.set_tick_params(which='major', size=10, width=2, direction='in')\n",
    "    axs[1].yaxis.set_tick_params(which='minor', size=5, width=1, direction='in')\n",
    "    axs[1].set_ylim(0, 100)\n",
    "\n",
    "    axs[1].set_title(r'Estimated average $\\mathregular{\\rho}$')\n",
    "\n",
    "    if plot_filename:\n",
    "            fig.savefig(plot_filename, dpi=PLOT_DPI, bbox_inches='tight')\n",
    "\n",
    "plot_pop_and_rho(agg_df, plot_filename=f'{plot_dir}/corridor-performance.png')"
   ]
  },
  {
   "cell_type": "markdown",
   "metadata": {
    "pycharm": {
     "name": "#%% md\n"
    }
   },
   "source": [
    ":::{figure-md} 51-corridor-fig\n",
    ":class: full-width\n",
    "<img src=\"plots/corridor-performance.png\">\n",
    "\n",
    "Performance in Corridor environment\n",
    ":::"
   ]
  },
  {
   "cell_type": "markdown",
   "metadata": {
    "pycharm": {
     "name": "#%% md\n"
    }
   },
   "source": [
    "## Payoff landscape"
   ]
  },
  {
   "cell_type": "code",
   "execution_count": 7,
   "metadata": {
    "pycharm": {
     "name": "#%%\n"
    },
    "tags": [
     "hide-input"
    ]
   },
   "outputs": [
    {
     "name": "stdout",
     "output_type": "stream",
     "text": [
      "WARN: No ACS2 classifiers for perception: 0, action: 0\n",
      "WARN: No AACS2_v1 classifiers for perception: 0, action: 0\n",
      "WARN: No AACS2_v2 classifiers for perception: 0, action: 0\n"
     ]
    },
    {
     "name": "stderr",
     "output_type": "stream",
     "text": [
      "/home/arc/miniconda3/envs/real-valued-acs-system/lib/python3.9/site-packages/numpy/core/fromnumeric.py:3440: RuntimeWarning: Mean of empty slice.\n",
      "  return _methods._mean(a, axis=axis, dtype=dtype,\n",
      "/home/arc/miniconda3/envs/real-valued-acs-system/lib/python3.9/site-packages/numpy/core/_methods.py:189: RuntimeWarning: invalid value encountered in double_scalars\n",
      "  ret = ret.dtype.type(ret / rcount)\n"
     ]
    }
   ],
   "source": [
    "corridor_env = corridor_env_provider()\n",
    "state_action = get_all_state_action(corridor_env.unwrapped._state_action())\n",
    "\n",
    "\n",
    "def calculate_state_action_payoffs(state_actions: List, pop_acs2, pop_aacs2v1, pop_aacs2v2, Q, R) -> Dict:\n",
    "    payoffs = {}\n",
    "\n",
    "    for sa in state_actions:\n",
    "        p = Perception((sa.state,))\n",
    "\n",
    "        # ACS2\n",
    "        acs2_match_set = pop_acs2.form_match_set(p)\n",
    "        acs2_action_set = acs2_match_set.form_action_set(sa.action)\n",
    "\n",
    "        # AACS2_v1\n",
    "        aacs2v1_match_set = pop_aacs2v1.form_match_set(p)\n",
    "        aacs2v1_action_set = aacs2v1_match_set.form_action_set(sa.action)\n",
    "\n",
    "        # AACS2_v2\n",
    "        aacs2v2_match_set = pop_aacs2v2.form_match_set(p)\n",
    "        aacs2v2_action_set = aacs2v2_match_set.form_action_set(sa.action)\n",
    "\n",
    "        # Check if all states are covered\n",
    "        for alg, action_set in zip(['ACS2', 'AACS2_v1', 'AACS2_v2'],\n",
    "                                   [acs2_action_set, aacs2v1_action_set,\n",
    "                                    aacs2v2_action_set]):\n",
    "            if len(action_set) == 0:\n",
    "                print(f\"WARN: No {alg} classifiers for perception: {p}, action: {sa.action}\")\n",
    "\n",
    "        payoffs[sa] = {\n",
    "            'ACS2': np.mean(list(map(lambda cl: cl.r, acs2_action_set))),\n",
    "            'AACS2_v1': np.mean(list(map(lambda cl: cl.r, aacs2v1_action_set))),\n",
    "            'AACS2_v2': np.mean(list(map(lambda cl: cl.r, aacs2v2_action_set))),\n",
    "            'Q-Learning': Q[int(sa.state), sa.action],\n",
    "            'R-Learning': R[int(sa.state), sa.action]\n",
    "        }\n",
    "\n",
    "    return payoffs\n",
    "\n",
    "# Take first of each algorithm population pass for presenting payoff landscape\n",
    "pop_acs2, pop_aacs2v1, pop_aacs2v2, _ = acs2_runs_details[0]\n",
    "\n",
    "@get_from_cache_or_run(cache_path=f'{cache_dir}/corridor/qlearning-single.dill')\n",
    "def run_single_qlearning():\n",
    "    Q_init = np.zeros((corridor_env.observation_space.n, corridor_env.action_space.n))\n",
    "    Q, _ = qlearning(corridor_env, trials, Q_init, epsilon, learning_rate, discount_factor, perception_to_state_mapper=lambda p: int(p[0]))\n",
    "    return Q\n",
    "\n",
    "@get_from_cache_or_run(cache_path=f'{cache_dir}/corridor/rlearning-single.dill')\n",
    "def run_single_rlearning():\n",
    "    R_init = np.zeros((corridor_env.observation_space.n, corridor_env.action_space.n))\n",
    "    R, rho, _ = rlearning(corridor_env, trials, R_init, epsilon, learning_rate, zeta, perception_to_state_mapper=lambda p: int(p[0]))\n",
    "    return R, rho\n",
    "\n",
    "Q = run_single_qlearning()\n",
    "R, rho = run_single_rlearning()\n",
    "\n",
    "payoffs = calculate_state_action_payoffs(state_action, pop_acs2, pop_aacs2v1, pop_aacs2v2, Q, R)"
   ]
  },
  {
   "cell_type": "code",
   "execution_count": 1,
   "metadata": {
    "pycharm": {
     "name": "#%%\n"
    },
    "tags": [
     "hide-input"
    ]
   },
   "outputs": [
    {
     "ename": "NameError",
     "evalue": "name 'plot_payoff_landscape' is not defined",
     "output_type": "error",
     "traceback": [
      "\u001B[0;31m---------------------------------------------------------------------------\u001B[0m",
      "\u001B[0;31mNameError\u001B[0m                                 Traceback (most recent call last)",
      "\u001B[0;32m/tmp/ipykernel_570643/816139059.py\u001B[0m in \u001B[0;36m<module>\u001B[0;34m\u001B[0m\n\u001B[0;32m----> 1\u001B[0;31m \u001B[0mplot_payoff_landscape\u001B[0m\u001B[0;34m(\u001B[0m\u001B[0mpayoffs\u001B[0m\u001B[0;34m,\u001B[0m \u001B[0mrho\u001B[0m\u001B[0;34m=\u001B[0m\u001B[0mrho\u001B[0m\u001B[0;34m,\u001B[0m \u001B[0mrho_text_location\u001B[0m\u001B[0;34m=\u001B[0m\u001B[0;34m{\u001B[0m\u001B[0;34m'x'\u001B[0m\u001B[0;34m:\u001B[0m \u001B[0;36m18\u001B[0m\u001B[0;34m,\u001B[0m \u001B[0;34m'y'\u001B[0m\u001B[0;34m:\u001B[0m \u001B[0;36m250\u001B[0m\u001B[0;34m}\u001B[0m\u001B[0;34m,\u001B[0m \u001B[0mplot_filename\u001B[0m\u001B[0;34m=\u001B[0m\u001B[0;34mf'{plot_dir}/corridor-payoff-landscape.png'\u001B[0m\u001B[0;34m)\u001B[0m\u001B[0;34m\u001B[0m\u001B[0;34m\u001B[0m\u001B[0m\n\u001B[0m",
      "\u001B[0;31mNameError\u001B[0m: name 'plot_payoff_landscape' is not defined"
     ]
    }
   ],
   "source": [
    "plot_payoff_landscape(payoffs, rho=rho, rho_text_location={'x': 18, 'y': 250}, plot_filename=f'{plot_dir}/corridor-payoff-landscape.png')"
   ]
  },
  {
   "cell_type": "markdown",
   "metadata": {
    "pycharm": {
     "name": "#%% md\n"
    }
   },
   "source": [
    ":::{figure-md} 51-corridor-payoff-landscape-fig\n",
    ":class: full-width\n",
    "<img src=\"plots/corridor-payoff-landscape.png\">\n",
    "\n",
    "Corridor payoff landscape\n",
    ":::"
   ]
  }
 ],
 "metadata": {
  "celltoolbar": "Tags",
  "kernelspec": {
   "display_name": "Python 3 (ipykernel)",
   "language": "python",
   "name": "python3"
  },
  "language_info": {
   "codemirror_mode": {
    "name": "ipython",
    "version": 3
   },
   "file_extension": ".py",
   "mimetype": "text/x-python",
   "name": "python",
   "nbconvert_exporter": "python",
   "pygments_lexer": "ipython3",
   "version": "3.9.6"
  }
 },
 "nbformat": 4,
 "nbformat_minor": 1
}