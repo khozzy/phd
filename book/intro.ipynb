{
 "cells": [
  {
   "cell_type": "markdown",
   "metadata": {
    "collapsed": true,
    "pycharm": {
     "name": "#%% md\n"
    }
   },
   "source": [
    "# Real-valued Anticipatory Classifier System\n",
    "\n",
    "A thesis submitted in partial fulfillment for the degree of **Doctor of Philosophy**.\n",
    "\n",
    "## Table of Contents\n",
    "```{tableofcontents}\n",
    "```"
   ]
  },
  {
   "cell_type": "markdown",
   "source": [
    "---\n",
    "\n",
    "**Software packages used**"
   ],
   "metadata": {
    "collapsed": false,
    "pycharm": {
     "name": "#%% md\n"
    }
   }
  },
  {
   "cell_type": "code",
   "execution_count": 3,
   "outputs": [
    {
     "data": {
      "text/plain": "<IPython.core.display.HTML object>",
      "text/html": "<details>\n<summary>Click to view session information</summary>\n<pre>\n-----\npandas              1.3.1\npydev_jupyter_utils NA\npydev_jupyter_vars  NA\nsession_info        1.0.0\n-----\n</pre>\n<details>\n<summary>Click to view modules imported as dependencies</summary>\n<pre>\nbackcall            0.2.0\ncolorama            0.4.4\ncython_runtime      NA\ndateutil            2.8.2\ndebugpy             1.5.1\ndecorator           5.1.0\nentrypoints         0.3\ngoogle              NA\nipykernel           6.4.1\nipython_genutils    0.2.0\njedi                0.18.0\nmkl                 2.4.0\nmpl_toolkits        NA\nnumpy               1.21.2\nparso               0.8.3\npexpect             4.8.0\npickleshare         0.7.5\npkg_resources       NA\nprompt_toolkit      3.0.20\nptyprocess          0.7.0\npydevconsole        NA\npydevd_file_utils   NA\npydevd_plugins      NA\npyexpat             NA\npygments            2.10.0\npytz                2021.3\nsix                 1.16.0\nsphinxcontrib       NA\nstoremagic          NA\ntornado             6.1\ntraitlets           5.1.1\nwcwidth             0.2.5\nzmq                 22.3.0\n</pre>\n</details> <!-- seems like this ends pre, so might as well be explicit -->\n<pre>\n-----\nIPython             7.29.0\njupyter_client      7.1.0\njupyter_core        4.9.1\nnotebook            6.4.6\n-----\nPython 3.9.6 (default, Aug 18 2021, 19:38:01) [GCC 7.5.0]\nLinux-5.11.0-44-generic-x86_64-with-glibc2.31\n-----\nSession information updated at 2022-01-12 07:26\n</pre>\n</details>"
     },
     "execution_count": 3,
     "metadata": {},
     "output_type": "execute_result"
    }
   ],
   "source": [
    "import session_info\n",
    "session_info.show()"
   ],
   "metadata": {
    "collapsed": false,
    "pycharm": {
     "name": "#%%\n"
    }
   }
  }
 ],
 "metadata": {
  "kernelspec": {
   "display_name": "Python 3",
   "language": "python",
   "name": "python3"
  },
  "language_info": {
   "codemirror_mode": {
    "name": "ipython",
    "version": 2
   },
   "file_extension": ".py",
   "mimetype": "text/x-python",
   "name": "python",
   "nbconvert_exporter": "python",
   "pygments_lexer": "ipython2",
   "version": "2.7.6"
  }
 },
 "nbformat": 4,
 "nbformat_minor": 0
}